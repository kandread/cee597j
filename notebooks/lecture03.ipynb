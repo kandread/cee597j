{
 "cells": [
  {
   "cell_type": "markdown",
   "metadata": {
    "slideshow": {
     "slide_type": "slide"
    }
   },
   "source": [
    "<h1 align=\"center\">Computational Methods in Environmental Engineering</h1>\n",
    "<h2 align=\"center\">Lecture #3</h2>\n",
    "<h3 align=\"center\">14 Feb 2023</h3>\n",
    "\n"
   ]
  },
  {
   "cell_type": "markdown",
   "metadata": {
    "slideshow": {
     "slide_type": "slide"
    }
   },
   "source": [
    "## Lists\n",
    "\n"
   ]
  },
  {
   "cell_type": "markdown",
   "metadata": {
    "slideshow": {
     "slide_type": "subslide"
    }
   },
   "source": [
    "Can have elements of different types\n",
    "\n"
   ]
  },
  {
   "cell_type": "code",
   "execution_count": 1,
   "metadata": {},
   "outputs": [
    {
     "data": {
      "text/plain": [
       "[2, 3, 'foo', 4.5]"
      ]
     },
     "execution_count": 1,
     "metadata": {},
     "output_type": "execute_result"
    }
   ],
   "source": [
    "a = [2, 3, 'foo', 4.5]\n",
    "a"
   ]
  },
  {
   "cell_type": "markdown",
   "metadata": {
    "slideshow": {
     "slide_type": "subslide"
    }
   },
   "source": [
    "Operate on elements\n",
    "\n"
   ]
  },
  {
   "cell_type": "code",
   "execution_count": 2,
   "metadata": {},
   "outputs": [
    {
     "data": {
      "text/plain": [
       "[2, 5.6, 'foo', 4.5]"
      ]
     },
     "execution_count": 2,
     "metadata": {},
     "output_type": "execute_result"
    }
   ],
   "source": [
    "a[1] = 5.6\n",
    "a"
   ]
  },
  {
   "cell_type": "markdown",
   "metadata": {
    "slideshow": {
     "slide_type": "subslide"
    }
   },
   "source": [
    "Modifying the list\n",
    "\n"
   ]
  },
  {
   "cell_type": "code",
   "execution_count": 3,
   "metadata": {},
   "outputs": [
    {
     "data": {
      "text/plain": [
       "[2, 5.6, 'foo', 4.5, 'bar']"
      ]
     },
     "execution_count": 3,
     "metadata": {},
     "output_type": "execute_result"
    }
   ],
   "source": [
    "a.append('bar')\n",
    "a"
   ]
  },
  {
   "cell_type": "code",
   "execution_count": 4,
   "metadata": {
    "slideshow": {
     "slide_type": "fragment"
    }
   },
   "outputs": [
    {
     "data": {
      "text/plain": [
       "[2, 5.6, 4.5, 'bar']"
      ]
     },
     "execution_count": 4,
     "metadata": {},
     "output_type": "execute_result"
    }
   ],
   "source": [
    "a.pop(2)\n",
    "a"
   ]
  },
  {
   "cell_type": "markdown",
   "metadata": {
    "slideshow": {
     "slide_type": "subslide"
    }
   },
   "source": [
    "We can combine lists a couple of ways\n",
    "\n"
   ]
  },
  {
   "cell_type": "code",
   "execution_count": 5,
   "metadata": {},
   "outputs": [
    {
     "data": {
      "text/plain": [
       "[1, 2, 3, 4, 5]"
      ]
     },
     "execution_count": 5,
     "metadata": {},
     "output_type": "execute_result"
    }
   ],
   "source": [
    "x = [1, 2, 3]\n",
    "x + [4, 5]"
   ]
  },
  {
   "cell_type": "code",
   "execution_count": 6,
   "metadata": {
    "slideshow": {
     "slide_type": "fragment"
    }
   },
   "outputs": [
    {
     "data": {
      "text/plain": [
       "[1, 2, 3, 1, 2, 3]"
      ]
     },
     "execution_count": 6,
     "metadata": {},
     "output_type": "execute_result"
    }
   ],
   "source": [
    "x * 2"
   ]
  },
  {
   "cell_type": "markdown",
   "metadata": {
    "slideshow": {
     "slide_type": "slide"
    }
   },
   "source": [
    "## Slicing\n",
    "\n"
   ]
  },
  {
   "cell_type": "markdown",
   "metadata": {},
   "source": [
    "Selecting sections of most sequence types\n",
    "\n"
   ]
  },
  {
   "cell_type": "code",
   "execution_count": 7,
   "metadata": {},
   "outputs": [
    {
     "data": {
      "text/plain": [
       "[2, 3, 7, 5]"
      ]
     },
     "execution_count": 7,
     "metadata": {},
     "output_type": "execute_result"
    }
   ],
   "source": [
    "seq = [7, 2, 3, 7, 5, 6, 0, 1]\n",
    "seq[1:5]"
   ]
  },
  {
   "cell_type": "markdown",
   "metadata": {
    "slideshow": {
     "slide_type": "subslide"
    }
   },
   "source": [
    "Start and stop index\n",
    "\n"
   ]
  },
  {
   "cell_type": "code",
   "execution_count": 8,
   "metadata": {},
   "outputs": [
    {
     "data": {
      "text/plain": [
       "[7, 2, 3]"
      ]
     },
     "execution_count": 8,
     "metadata": {},
     "output_type": "execute_result"
    }
   ],
   "source": [
    "seq[:3]"
   ]
  },
  {
   "cell_type": "markdown",
   "metadata": {
    "slideshow": {
     "slide_type": "subslide"
    }
   },
   "source": [
    "Negative stride\n",
    "\n"
   ]
  },
  {
   "cell_type": "code",
   "execution_count": 9,
   "metadata": {},
   "outputs": [
    {
     "data": {
      "text/plain": [
       "[7, 3, 2, 7]"
      ]
     },
     "execution_count": 9,
     "metadata": {},
     "output_type": "execute_result"
    }
   ],
   "source": [
    "seq[3::-1]"
   ]
  },
  {
   "cell_type": "markdown",
   "metadata": {
    "slideshow": {
     "slide_type": "subslide"
    }
   },
   "source": [
    "Negative index\n",
    "\n"
   ]
  },
  {
   "cell_type": "code",
   "execution_count": 10,
   "metadata": {},
   "outputs": [
    {
     "data": {
      "text/plain": [
       "6"
      ]
     },
     "execution_count": 10,
     "metadata": {},
     "output_type": "execute_result"
    }
   ],
   "source": [
    "seq[-3]"
   ]
  },
  {
   "cell_type": "markdown",
   "metadata": {
    "slideshow": {
     "slide_type": "slide"
    }
   },
   "source": [
    "## 🖝 Hands-on exercise\n",
    "\n"
   ]
  },
  {
   "cell_type": "markdown",
   "metadata": {},
   "source": [
    "From the `seq` list, find three ways to extract a [7, 5, 6] list\n",
    "\n"
   ]
  },
  {
   "cell_type": "code",
   "execution_count": 11,
   "metadata": {},
   "outputs": [
    {
     "data": {
      "text/plain": [
       "[7, 2, 3, 7, 5, 6, 0, 1]"
      ]
     },
     "execution_count": 11,
     "metadata": {},
     "output_type": "execute_result"
    }
   ],
   "source": [
    "seq"
   ]
  },
  {
   "cell_type": "code",
   "execution_count": 19,
   "metadata": {},
   "outputs": [
    {
     "data": {
      "text/plain": [
       "[7, 5, 6, 0]"
      ]
     },
     "execution_count": 19,
     "metadata": {},
     "output_type": "execute_result"
    }
   ],
   "source": [
    "seq[3:7]"
   ]
  },
  {
   "cell_type": "code",
   "execution_count": 13,
   "metadata": {},
   "outputs": [
    {
     "data": {
      "text/plain": [
       "[7, 5, 6]"
      ]
     },
     "execution_count": 13,
     "metadata": {},
     "output_type": "execute_result"
    }
   ],
   "source": [
    "seq[-5:-2]"
   ]
  },
  {
   "cell_type": "code",
   "execution_count": 14,
   "metadata": {},
   "outputs": [
    {
     "data": {
      "text/plain": [
       "[7, 5, 6]"
      ]
     },
     "execution_count": 14,
     "metadata": {},
     "output_type": "execute_result"
    }
   ],
   "source": [
    "[seq[3], seq[4], seq[5]]"
   ]
  },
  {
   "cell_type": "code",
   "execution_count": 23,
   "metadata": {},
   "outputs": [
    {
     "data": {
      "text/plain": [
       "[6]"
      ]
     },
     "execution_count": 23,
     "metadata": {},
     "output_type": "execute_result"
    }
   ],
   "source": [
    "seq[5:2:-1][:1]"
   ]
  },
  {
   "cell_type": "markdown",
   "metadata": {
    "slideshow": {
     "slide_type": "slide"
    }
   },
   "source": [
    "## Control flow\n",
    "\n"
   ]
  },
  {
   "cell_type": "markdown",
   "metadata": {},
   "source": [
    "-   `for` loops\n",
    "-   `while` loops\n",
    "-   `if, elif, else`\n",
    "-   `break` statement\n",
    "-   `pass` operator\n",
    "\n"
   ]
  },
  {
   "cell_type": "markdown",
   "metadata": {
    "slideshow": {
     "slide_type": "subslide"
    }
   },
   "source": [
    "### For loops\n",
    "\n"
   ]
  },
  {
   "cell_type": "markdown",
   "metadata": {},
   "source": [
    "Iterate through a collection\n",
    "\n"
   ]
  },
  {
   "cell_type": "code",
   "execution_count": 1,
   "metadata": {},
   "outputs": [],
   "source": [
    "for val in [1, 2, 3]:\n",
    "    print(val)"
   ]
  },
  {
   "cell_type": "markdown",
   "metadata": {
    "slideshow": {
     "slide_type": "fragment"
    }
   },
   "source": [
    "Now let's use the `range` operator instead of a list\n",
    "\n"
   ]
  },
  {
   "cell_type": "code",
   "execution_count": 28,
   "metadata": {},
   "outputs": [
    {
     "data": {
      "text/plain": [
       "range(1, 4)"
      ]
     },
     "execution_count": 28,
     "metadata": {},
     "output_type": "execute_result"
    }
   ],
   "source": [
    "range(1, 4)"
   ]
  },
  {
   "cell_type": "code",
   "execution_count": 24,
   "metadata": {},
   "outputs": [
    {
     "name": "stdout",
     "output_type": "stream",
     "text": [
      "1\n",
      "2\n",
      "3\n"
     ]
    }
   ],
   "source": [
    "for val in range(1, 4):\n",
    "    print(val)"
   ]
  },
  {
   "cell_type": "markdown",
   "metadata": {
    "slideshow": {
     "slide_type": "subslide"
    }
   },
   "source": [
    "### If, elif, else\n",
    "\n"
   ]
  },
  {
   "cell_type": "code",
   "execution_count": 1,
   "metadata": {},
   "outputs": [],
   "source": [
    "x = -1\n",
    "if x < 0:\n",
    "    print('Negative')"
   ]
  },
  {
   "cell_type": "code",
   "execution_count": 1,
   "metadata": {
    "slideshow": {
     "slide_type": "fragment"
    }
   },
   "outputs": [],
   "source": [
    "x = -1\n",
    "if x > 0:\n",
    "    print('Positive')\n",
    "else:\n",
    "    print('Otherwise')"
   ]
  },
  {
   "cell_type": "code",
   "execution_count": 1,
   "metadata": {
    "slideshow": {
     "slide_type": "subslide"
    }
   },
   "outputs": [],
   "source": [
    "x = 0\n",
    "if x < 0:\n",
    "    print('Negative')\n",
    "elif x > 0:\n",
    "    print('Positive')\n",
    "else:\n",
    "    print('Zero')"
   ]
  },
  {
   "cell_type": "markdown",
   "metadata": {
    "slideshow": {
     "slide_type": "subslide"
    }
   },
   "source": [
    "### Break, continue and pass\n",
    "\n"
   ]
  },
  {
   "cell_type": "markdown",
   "metadata": {},
   "source": [
    "-   `break` statement is used to terminate loop\n",
    "-   Only terminates the inner loop!\n",
    "-   `continue` same as break but continues the loop\n",
    "-   `pass` is the no-operation statement\n",
    "\n"
   ]
  },
  {
   "cell_type": "code",
   "execution_count": 1,
   "metadata": {},
   "outputs": [],
   "source": [
    "seq = [1, 2, 3, 4, 5, None, 6, None, 7]\n",
    "total_until_5 = 0\n",
    "for val in seq:\n",
    "    if val == 5:\n",
    "        break\n",
    "    total_until_5 += val\n",
    "total_until_5"
   ]
  },
  {
   "cell_type": "code",
   "execution_count": 1,
   "metadata": {
    "slideshow": {
     "slide_type": "subslide"
    }
   },
   "outputs": [],
   "source": [
    "total = 0\n",
    "for val in seq:\n",
    "    if val is None:\n",
    "        continue\n",
    "    total += val\n",
    "total"
   ]
  },
  {
   "cell_type": "code",
   "execution_count": 1,
   "metadata": {
    "slideshow": {
     "slide_type": "subslide"
    }
   },
   "outputs": [],
   "source": [
    "x = -1\n",
    "if x < 0:\n",
    "    print('negative')\n",
    "elif x == 0:\n",
    "    pass\n",
    "else:\n",
    "    print('positive')"
   ]
  },
  {
   "cell_type": "markdown",
   "metadata": {
    "slideshow": {
     "slide_type": "subslide"
    }
   },
   "source": [
    "### While loops\n",
    "\n"
   ]
  },
  {
   "cell_type": "markdown",
   "metadata": {},
   "source": [
    "-   `while` condition then do\n",
    "-   Usually needs a `break` statement to avoid *infinite loops*\n",
    "\n"
   ]
  },
  {
   "cell_type": "code",
   "execution_count": 1,
   "metadata": {
    "slideshow": {
     "slide_type": "fragment"
    }
   },
   "outputs": [],
   "source": [
    "x = 256\n",
    "total = 0\n",
    "while x > 0:\n",
    "    total += x\n",
    "    x = x // 2\n",
    "    if total > 500:\n",
    "        break\n",
    "total"
   ]
  },
  {
   "cell_type": "markdown",
   "metadata": {
    "slideshow": {
     "slide_type": "subslide"
    }
   },
   "source": [
    "### For vs While loops\n",
    "\n"
   ]
  },
  {
   "cell_type": "markdown",
   "metadata": {},
   "source": [
    "| For loop|While loop|\n",
    "|---|---|\n",
    "| number of iterations <b>known</b>|<b>unbounded</b> number of iterations|\n",
    "| can end early via <code>break</code>|can end early via <code>break</code>|\n",
    "| uses an iterable|can use counter|\n",
    "| can convert to while loop|difficult to convert to for loop|\n",
    "\n"
   ]
  },
  {
   "cell_type": "markdown",
   "metadata": {
    "slideshow": {
     "slide_type": "slide"
    }
   },
   "source": [
    "## 🖝 Hands-on exercises\n",
    "\n"
   ]
  },
  {
   "cell_type": "markdown",
   "metadata": {},
   "source": [
    "Find the sum of the following list\n",
    "\n"
   ]
  },
  {
   "cell_type": "code",
   "execution_count": 1,
   "metadata": {},
   "outputs": [
    {
     "data": {
      "text/plain": [
       "[41, 21, 53, 3, 16, 59, 15, 72, 78, 82]"
      ]
     },
     "execution_count": 1,
     "metadata": {},
     "output_type": "execute_result"
    }
   ],
   "source": [
    "import random\n",
    "x = random.sample(range(100), 10)\n",
    "x"
   ]
  },
  {
   "cell_type": "code",
   "execution_count": 7,
   "metadata": {},
   "outputs": [
    {
     "data": {
      "text/plain": [
       "440"
      ]
     },
     "execution_count": 7,
     "metadata": {},
     "output_type": "execute_result"
    }
   ],
   "source": [
    "sum_val = 0\n",
    "for val in x:\n",
    "    sum_val += val\n",
    "sum_val"
   ]
  },
  {
   "cell_type": "code",
   "execution_count": 3,
   "metadata": {},
   "outputs": [
    {
     "data": {
      "text/plain": [
       "440"
      ]
     },
     "execution_count": 3,
     "metadata": {},
     "output_type": "execute_result"
    }
   ],
   "source": [
    "sum(x)"
   ]
  },
  {
   "cell_type": "markdown",
   "metadata": {
    "slideshow": {
     "slide_type": "subslide"
    }
   },
   "source": [
    "Find the maximum number of that list\n",
    "\n"
   ]
  },
  {
   "cell_type": "code",
   "execution_count": 8,
   "metadata": {},
   "outputs": [
    {
     "data": {
      "text/plain": [
       "82"
      ]
     },
     "execution_count": 8,
     "metadata": {},
     "output_type": "execute_result"
    }
   ],
   "source": [
    "max_val = x[0]\n",
    "for val in x[1:]:\n",
    "    if val > max_val:\n",
    "        max_val = val\n",
    "max_val"
   ]
  },
  {
   "cell_type": "markdown",
   "metadata": {
    "slideshow": {
     "slide_type": "subslide"
    }
   },
   "source": [
    "Create a list with the numbers between 1000 and 2200 that are divisible with 7 or 5\n",
    "\n"
   ]
  },
  {
   "cell_type": "code",
   "execution_count": 25,
   "metadata": {
    "collapsed": true
   },
   "outputs": [
    {
     "data": {
      "text/plain": [
       "[1000,\n",
       " 1001,\n",
       " 1005,\n",
       " 1008,\n",
       " 1010,\n",
       " 1015,\n",
       " 1020,\n",
       " 1022,\n",
       " 1025,\n",
       " 1029,\n",
       " 1030,\n",
       " 1035,\n",
       " 1036,\n",
       " 1040,\n",
       " 1043,\n",
       " 1045,\n",
       " 1050,\n",
       " 1055,\n",
       " 1057,\n",
       " 1060,\n",
       " 1064,\n",
       " 1065,\n",
       " 1070,\n",
       " 1071,\n",
       " 1075,\n",
       " 1078,\n",
       " 1080,\n",
       " 1085,\n",
       " 1090,\n",
       " 1092,\n",
       " 1095,\n",
       " 1099,\n",
       " 1100,\n",
       " 1105,\n",
       " 1106,\n",
       " 1110,\n",
       " 1113,\n",
       " 1115,\n",
       " 1120,\n",
       " 1125,\n",
       " 1127,\n",
       " 1130,\n",
       " 1134,\n",
       " 1135,\n",
       " 1140,\n",
       " 1141,\n",
       " 1145,\n",
       " 1148,\n",
       " 1150,\n",
       " 1155,\n",
       " 1160,\n",
       " 1162,\n",
       " 1165,\n",
       " 1169,\n",
       " 1170,\n",
       " 1175,\n",
       " 1176,\n",
       " 1180,\n",
       " 1183,\n",
       " 1185,\n",
       " 1190,\n",
       " 1195,\n",
       " 1197,\n",
       " 1200,\n",
       " 1204,\n",
       " 1205,\n",
       " 1210,\n",
       " 1211,\n",
       " 1215,\n",
       " 1218,\n",
       " 1220,\n",
       " 1225,\n",
       " 1230,\n",
       " 1232,\n",
       " 1235,\n",
       " 1239,\n",
       " 1240,\n",
       " 1245,\n",
       " 1246,\n",
       " 1250,\n",
       " 1253,\n",
       " 1255,\n",
       " 1260,\n",
       " 1265,\n",
       " 1267,\n",
       " 1270,\n",
       " 1274,\n",
       " 1275,\n",
       " 1280,\n",
       " 1281,\n",
       " 1285,\n",
       " 1288,\n",
       " 1290,\n",
       " 1295,\n",
       " 1300,\n",
       " 1302,\n",
       " 1305,\n",
       " 1309,\n",
       " 1310,\n",
       " 1315,\n",
       " 1316,\n",
       " 1320,\n",
       " 1323,\n",
       " 1325,\n",
       " 1330,\n",
       " 1335,\n",
       " 1337,\n",
       " 1340,\n",
       " 1344,\n",
       " 1345,\n",
       " 1350,\n",
       " 1351,\n",
       " 1355,\n",
       " 1358,\n",
       " 1360,\n",
       " 1365,\n",
       " 1370,\n",
       " 1372,\n",
       " 1375,\n",
       " 1379,\n",
       " 1380,\n",
       " 1385,\n",
       " 1386,\n",
       " 1390,\n",
       " 1393,\n",
       " 1395,\n",
       " 1400,\n",
       " 1405,\n",
       " 1407,\n",
       " 1410,\n",
       " 1414,\n",
       " 1415,\n",
       " 1420,\n",
       " 1421,\n",
       " 1425,\n",
       " 1428,\n",
       " 1430,\n",
       " 1435,\n",
       " 1440,\n",
       " 1442,\n",
       " 1445,\n",
       " 1449,\n",
       " 1450,\n",
       " 1455,\n",
       " 1456,\n",
       " 1460,\n",
       " 1463,\n",
       " 1465,\n",
       " 1470,\n",
       " 1475,\n",
       " 1477,\n",
       " 1480,\n",
       " 1484,\n",
       " 1485,\n",
       " 1490,\n",
       " 1491,\n",
       " 1495,\n",
       " 1498,\n",
       " 1500,\n",
       " 1505,\n",
       " 1510,\n",
       " 1512,\n",
       " 1515,\n",
       " 1519,\n",
       " 1520,\n",
       " 1525,\n",
       " 1526,\n",
       " 1530,\n",
       " 1533,\n",
       " 1535,\n",
       " 1540,\n",
       " 1545,\n",
       " 1547,\n",
       " 1550,\n",
       " 1554,\n",
       " 1555,\n",
       " 1560,\n",
       " 1561,\n",
       " 1565,\n",
       " 1568,\n",
       " 1570,\n",
       " 1575,\n",
       " 1580,\n",
       " 1582,\n",
       " 1585,\n",
       " 1589,\n",
       " 1590,\n",
       " 1595,\n",
       " 1596,\n",
       " 1600,\n",
       " 1603,\n",
       " 1605,\n",
       " 1610,\n",
       " 1615,\n",
       " 1617,\n",
       " 1620,\n",
       " 1624,\n",
       " 1625,\n",
       " 1630,\n",
       " 1631,\n",
       " 1635,\n",
       " 1638,\n",
       " 1640,\n",
       " 1645,\n",
       " 1650,\n",
       " 1652,\n",
       " 1655,\n",
       " 1659,\n",
       " 1660,\n",
       " 1665,\n",
       " 1666,\n",
       " 1670,\n",
       " 1673,\n",
       " 1675,\n",
       " 1680,\n",
       " 1685,\n",
       " 1687,\n",
       " 1690,\n",
       " 1694,\n",
       " 1695,\n",
       " 1700,\n",
       " 1701,\n",
       " 1705,\n",
       " 1708,\n",
       " 1710,\n",
       " 1715,\n",
       " 1720,\n",
       " 1722,\n",
       " 1725,\n",
       " 1729,\n",
       " 1730,\n",
       " 1735,\n",
       " 1736,\n",
       " 1740,\n",
       " 1743,\n",
       " 1745,\n",
       " 1750,\n",
       " 1755,\n",
       " 1757,\n",
       " 1760,\n",
       " 1764,\n",
       " 1765,\n",
       " 1770,\n",
       " 1771,\n",
       " 1775,\n",
       " 1778,\n",
       " 1780,\n",
       " 1785,\n",
       " 1790,\n",
       " 1792,\n",
       " 1795,\n",
       " 1799,\n",
       " 1800,\n",
       " 1805,\n",
       " 1806,\n",
       " 1810,\n",
       " 1813,\n",
       " 1815,\n",
       " 1820,\n",
       " 1825,\n",
       " 1827,\n",
       " 1830,\n",
       " 1834,\n",
       " 1835,\n",
       " 1840,\n",
       " 1841,\n",
       " 1845,\n",
       " 1848,\n",
       " 1850,\n",
       " 1855,\n",
       " 1860,\n",
       " 1862,\n",
       " 1865,\n",
       " 1869,\n",
       " 1870,\n",
       " 1875,\n",
       " 1876,\n",
       " 1880,\n",
       " 1883,\n",
       " 1885,\n",
       " 1890,\n",
       " 1895,\n",
       " 1897,\n",
       " 1900,\n",
       " 1904,\n",
       " 1905,\n",
       " 1910,\n",
       " 1911,\n",
       " 1915,\n",
       " 1918,\n",
       " 1920,\n",
       " 1925,\n",
       " 1930,\n",
       " 1932,\n",
       " 1935,\n",
       " 1939,\n",
       " 1940,\n",
       " 1945,\n",
       " 1946,\n",
       " 1950,\n",
       " 1953,\n",
       " 1955,\n",
       " 1960,\n",
       " 1965,\n",
       " 1967,\n",
       " 1970,\n",
       " 1974,\n",
       " 1975,\n",
       " 1980,\n",
       " 1981,\n",
       " 1985,\n",
       " 1988,\n",
       " 1990,\n",
       " 1995,\n",
       " 2000,\n",
       " 2002,\n",
       " 2005,\n",
       " 2009,\n",
       " 2010,\n",
       " 2015,\n",
       " 2016,\n",
       " 2020,\n",
       " 2023,\n",
       " 2025,\n",
       " 2030,\n",
       " 2035,\n",
       " 2037,\n",
       " 2040,\n",
       " 2044,\n",
       " 2045,\n",
       " 2050,\n",
       " 2051,\n",
       " 2055,\n",
       " 2058,\n",
       " 2060,\n",
       " 2065,\n",
       " 2070,\n",
       " 2072,\n",
       " 2075,\n",
       " 2079,\n",
       " 2080,\n",
       " 2085,\n",
       " 2086,\n",
       " 2090,\n",
       " 2093,\n",
       " 2095,\n",
       " 2100,\n",
       " 2105,\n",
       " 2107,\n",
       " 2110,\n",
       " 2114,\n",
       " 2115,\n",
       " 2120,\n",
       " 2121,\n",
       " 2125,\n",
       " 2128,\n",
       " 2130,\n",
       " 2135,\n",
       " 2140,\n",
       " 2142,\n",
       " 2145,\n",
       " 2149,\n",
       " 2150,\n",
       " 2155,\n",
       " 2156,\n",
       " 2160,\n",
       " 2163,\n",
       " 2165,\n",
       " 2170,\n",
       " 2175,\n",
       " 2177,\n",
       " 2180,\n",
       " 2184,\n",
       " 2185,\n",
       " 2190,\n",
       " 2191,\n",
       " 2195,\n",
       " 2198,\n",
       " 2200]"
      ]
     },
     "execution_count": 25,
     "metadata": {},
     "output_type": "execute_result"
    }
   ],
   "source": [
    "[v for v in range(1000, 2201) if v % 7 ==0 or v % 5 == 0]"
   ]
  },
  {
   "cell_type": "code",
   "execution_count": 24,
   "metadata": {},
   "outputs": [
    {
     "data": {
      "text/plain": [
       "[1000,\n",
       " 1001,\n",
       " 1005,\n",
       " 1008,\n",
       " 1010,\n",
       " 1015,\n",
       " 1020,\n",
       " 1022,\n",
       " 1025,\n",
       " 1029,\n",
       " 1030,\n",
       " 1035,\n",
       " 1036,\n",
       " 1040,\n",
       " 1043,\n",
       " 1045,\n",
       " 1050,\n",
       " 1055,\n",
       " 1057,\n",
       " 1060,\n",
       " 1064,\n",
       " 1065,\n",
       " 1070,\n",
       " 1071,\n",
       " 1075,\n",
       " 1078,\n",
       " 1080,\n",
       " 1085,\n",
       " 1090,\n",
       " 1092,\n",
       " 1095,\n",
       " 1099,\n",
       " 1100,\n",
       " 1105,\n",
       " 1106,\n",
       " 1110,\n",
       " 1113,\n",
       " 1115,\n",
       " 1120,\n",
       " 1125,\n",
       " 1127,\n",
       " 1130,\n",
       " 1134,\n",
       " 1135,\n",
       " 1140,\n",
       " 1141,\n",
       " 1145,\n",
       " 1148,\n",
       " 1150,\n",
       " 1155,\n",
       " 1160,\n",
       " 1162,\n",
       " 1165,\n",
       " 1169,\n",
       " 1170,\n",
       " 1175,\n",
       " 1176,\n",
       " 1180,\n",
       " 1183,\n",
       " 1185,\n",
       " 1190,\n",
       " 1195,\n",
       " 1197,\n",
       " 1200,\n",
       " 1204,\n",
       " 1205,\n",
       " 1210,\n",
       " 1211,\n",
       " 1215,\n",
       " 1218,\n",
       " 1220,\n",
       " 1225,\n",
       " 1230,\n",
       " 1232,\n",
       " 1235,\n",
       " 1239,\n",
       " 1240,\n",
       " 1245,\n",
       " 1246,\n",
       " 1250,\n",
       " 1253,\n",
       " 1255,\n",
       " 1260,\n",
       " 1265,\n",
       " 1267,\n",
       " 1270,\n",
       " 1274,\n",
       " 1275,\n",
       " 1280,\n",
       " 1281,\n",
       " 1285,\n",
       " 1288,\n",
       " 1290,\n",
       " 1295,\n",
       " 1300,\n",
       " 1302,\n",
       " 1305,\n",
       " 1309,\n",
       " 1310,\n",
       " 1315,\n",
       " 1316,\n",
       " 1320,\n",
       " 1323,\n",
       " 1325,\n",
       " 1330,\n",
       " 1335,\n",
       " 1337,\n",
       " 1340,\n",
       " 1344,\n",
       " 1345,\n",
       " 1350,\n",
       " 1351,\n",
       " 1355,\n",
       " 1358,\n",
       " 1360,\n",
       " 1365,\n",
       " 1370,\n",
       " 1372,\n",
       " 1375,\n",
       " 1379,\n",
       " 1380,\n",
       " 1385,\n",
       " 1386,\n",
       " 1390,\n",
       " 1393,\n",
       " 1395,\n",
       " 1400,\n",
       " 1405,\n",
       " 1407,\n",
       " 1410,\n",
       " 1414,\n",
       " 1415,\n",
       " 1420,\n",
       " 1421,\n",
       " 1425,\n",
       " 1428,\n",
       " 1430,\n",
       " 1435,\n",
       " 1440,\n",
       " 1442,\n",
       " 1445,\n",
       " 1449,\n",
       " 1450,\n",
       " 1455,\n",
       " 1456,\n",
       " 1460,\n",
       " 1463,\n",
       " 1465,\n",
       " 1470,\n",
       " 1475,\n",
       " 1477,\n",
       " 1480,\n",
       " 1484,\n",
       " 1485,\n",
       " 1490,\n",
       " 1491,\n",
       " 1495,\n",
       " 1498,\n",
       " 1500,\n",
       " 1505,\n",
       " 1510,\n",
       " 1512,\n",
       " 1515,\n",
       " 1519,\n",
       " 1520,\n",
       " 1525,\n",
       " 1526,\n",
       " 1530,\n",
       " 1533,\n",
       " 1535,\n",
       " 1540,\n",
       " 1545,\n",
       " 1547,\n",
       " 1550,\n",
       " 1554,\n",
       " 1555,\n",
       " 1560,\n",
       " 1561,\n",
       " 1565,\n",
       " 1568,\n",
       " 1570,\n",
       " 1575,\n",
       " 1580,\n",
       " 1582,\n",
       " 1585,\n",
       " 1589,\n",
       " 1590,\n",
       " 1595,\n",
       " 1596,\n",
       " 1600,\n",
       " 1603,\n",
       " 1605,\n",
       " 1610,\n",
       " 1615,\n",
       " 1617,\n",
       " 1620,\n",
       " 1624,\n",
       " 1625,\n",
       " 1630,\n",
       " 1631,\n",
       " 1635,\n",
       " 1638,\n",
       " 1640,\n",
       " 1645,\n",
       " 1650,\n",
       " 1652,\n",
       " 1655,\n",
       " 1659,\n",
       " 1660,\n",
       " 1665,\n",
       " 1666,\n",
       " 1670,\n",
       " 1673,\n",
       " 1675,\n",
       " 1680,\n",
       " 1685,\n",
       " 1687,\n",
       " 1690,\n",
       " 1694,\n",
       " 1695,\n",
       " 1700,\n",
       " 1701,\n",
       " 1705,\n",
       " 1708,\n",
       " 1710,\n",
       " 1715,\n",
       " 1720,\n",
       " 1722,\n",
       " 1725,\n",
       " 1729,\n",
       " 1730,\n",
       " 1735,\n",
       " 1736,\n",
       " 1740,\n",
       " 1743,\n",
       " 1745,\n",
       " 1750,\n",
       " 1755,\n",
       " 1757,\n",
       " 1760,\n",
       " 1764,\n",
       " 1765,\n",
       " 1770,\n",
       " 1771,\n",
       " 1775,\n",
       " 1778,\n",
       " 1780,\n",
       " 1785,\n",
       " 1790,\n",
       " 1792,\n",
       " 1795,\n",
       " 1799,\n",
       " 1800,\n",
       " 1805,\n",
       " 1806,\n",
       " 1810,\n",
       " 1813,\n",
       " 1815,\n",
       " 1820,\n",
       " 1825,\n",
       " 1827,\n",
       " 1830,\n",
       " 1834,\n",
       " 1835,\n",
       " 1840,\n",
       " 1841,\n",
       " 1845,\n",
       " 1848,\n",
       " 1850,\n",
       " 1855,\n",
       " 1860,\n",
       " 1862,\n",
       " 1865,\n",
       " 1869,\n",
       " 1870,\n",
       " 1875,\n",
       " 1876,\n",
       " 1880,\n",
       " 1883,\n",
       " 1885,\n",
       " 1890,\n",
       " 1895,\n",
       " 1897,\n",
       " 1900,\n",
       " 1904,\n",
       " 1905,\n",
       " 1910,\n",
       " 1911,\n",
       " 1915,\n",
       " 1918,\n",
       " 1920,\n",
       " 1925,\n",
       " 1930,\n",
       " 1932,\n",
       " 1935,\n",
       " 1939,\n",
       " 1940,\n",
       " 1945,\n",
       " 1946,\n",
       " 1950,\n",
       " 1953,\n",
       " 1955,\n",
       " 1960,\n",
       " 1965,\n",
       " 1967,\n",
       " 1970,\n",
       " 1974,\n",
       " 1975,\n",
       " 1980,\n",
       " 1981,\n",
       " 1985,\n",
       " 1988,\n",
       " 1990,\n",
       " 1995,\n",
       " 2000,\n",
       " 2002,\n",
       " 2005,\n",
       " 2009,\n",
       " 2010,\n",
       " 2015,\n",
       " 2016,\n",
       " 2020,\n",
       " 2023,\n",
       " 2025,\n",
       " 2030,\n",
       " 2035,\n",
       " 2037,\n",
       " 2040,\n",
       " 2044,\n",
       " 2045,\n",
       " 2050,\n",
       " 2051,\n",
       " 2055,\n",
       " 2058,\n",
       " 2060,\n",
       " 2065,\n",
       " 2070,\n",
       " 2072,\n",
       " 2075,\n",
       " 2079,\n",
       " 2080,\n",
       " 2085,\n",
       " 2086,\n",
       " 2090,\n",
       " 2093,\n",
       " 2095,\n",
       " 2100,\n",
       " 2105,\n",
       " 2107,\n",
       " 2110,\n",
       " 2114,\n",
       " 2115,\n",
       " 2120,\n",
       " 2121,\n",
       " 2125,\n",
       " 2128,\n",
       " 2130,\n",
       " 2135,\n",
       " 2140,\n",
       " 2142,\n",
       " 2145,\n",
       " 2149,\n",
       " 2150,\n",
       " 2155,\n",
       " 2156,\n",
       " 2160,\n",
       " 2163,\n",
       " 2165,\n",
       " 2170,\n",
       " 2175,\n",
       " 2177,\n",
       " 2180,\n",
       " 2184,\n",
       " 2185,\n",
       " 2190,\n",
       " 2191,\n",
       " 2195,\n",
       " 2198,\n",
       " 2200]"
      ]
     },
     "execution_count": 24,
     "metadata": {},
     "output_type": "execute_result"
    }
   ],
   "source": [
    "div_by_7_or_5 = []\n",
    "for v in range(1000, 2201):\n",
    "    if v % 7 == 0 or v % 5 == 0:\n",
    "        div_by_7_or_5.append(v)\n",
    "div_by_7_or_5"
   ]
  },
  {
   "cell_type": "markdown",
   "metadata": {
    "slideshow": {
     "slide_type": "subslide"
    }
   },
   "source": [
    "Use the `print` command to print the following pattern\n",
    "\n",
    "    1\n",
    "    1 2\n",
    "    1 2 3\n",
    "    1 2 3 4\n",
    "    1 2 3 4 5\n"
   ]
  },
  {
   "cell_type": "code",
   "execution_count": 23,
   "metadata": {},
   "outputs": [],
   "source": [
    "?print"
   ]
  },
  {
   "cell_type": "code",
   "execution_count": 22,
   "metadata": {},
   "outputs": [
    {
     "name": "stdout",
     "output_type": "stream",
     "text": [
      "1\n",
      "1 2\n",
      "1 2 3\n",
      "1 2 3 4\n",
      "1 2 3 4 5\n"
     ]
    }
   ],
   "source": [
    "lst = []\n",
    "for v in range(1, 6):\n",
    "    lst.append(str(v))\n",
    "    print(' '.join(lst))"
   ]
  },
  {
   "cell_type": "markdown",
   "metadata": {},
   "source": [
    "Find the cumulative sums of the random list we generated. For example, if the list was `[1, 2, 3]` the expected answer would be `[1, 3, 6]`."
   ]
  },
  {
   "cell_type": "code",
   "execution_count": 30,
   "metadata": {},
   "outputs": [
    {
     "data": {
      "text/plain": [
       "[41, 21]"
      ]
     },
     "execution_count": 30,
     "metadata": {},
     "output_type": "execute_result"
    }
   ],
   "source": [
    "i=1\n",
    "x[:i+1]"
   ]
  },
  {
   "cell_type": "code",
   "execution_count": 33,
   "metadata": {},
   "outputs": [
    {
     "data": {
      "text/plain": [
       "[41, 62, 115, 118, 134, 193, 208, 280, 358, 440]"
      ]
     },
     "execution_count": 33,
     "metadata": {},
     "output_type": "execute_result"
    }
   ],
   "source": [
    "[sum(x[:i+1]) for i in range(len(x))]"
   ]
  },
  {
   "cell_type": "code",
   "execution_count": 32,
   "metadata": {},
   "outputs": [
    {
     "data": {
      "text/plain": [
       "[41, 62, 115, 118, 134, 193, 208, 280, 358, 440]"
      ]
     },
     "execution_count": 32,
     "metadata": {},
     "output_type": "execute_result"
    }
   ],
   "source": [
    "csum = []\n",
    "for i in range(len(x)):\n",
    "    csum.append(sum(x[:i+1]))\n",
    "csum"
   ]
  },
  {
   "cell_type": "code",
   "execution_count": 27,
   "metadata": {},
   "outputs": [
    {
     "data": {
      "text/plain": [
       "[41, 62, 115, 118, 134, 193, 208, 280, 358, 440]"
      ]
     },
     "execution_count": 27,
     "metadata": {},
     "output_type": "execute_result"
    }
   ],
   "source": [
    "csum = []\n",
    "sval = 0\n",
    "for val in x:\n",
    "    sval += val\n",
    "    csum.append(sval)\n",
    "csum"
   ]
  },
  {
   "cell_type": "markdown",
   "metadata": {
    "slideshow": {
     "slide_type": "subslide"
    }
   },
   "source": [
    "Count the number of words with a string length is 2 or more and contain the letter `a`\n",
    "\n"
   ]
  },
  {
   "cell_type": "code",
   "execution_count": 1,
   "metadata": {},
   "outputs": [
    {
     "data": {
      "text/plain": [
       "6"
      ]
     },
     "execution_count": 1,
     "metadata": {},
     "output_type": "execute_result"
    }
   ],
   "source": [
    "s = \"a word\"\n",
    "len(s)"
   ]
  },
  {
   "cell_type": "code",
   "execution_count": 2,
   "metadata": {},
   "outputs": [],
   "source": [
    "words = ['abc', 'xyz', 'aba', '1221', 'foo', 'onomatopoeia']"
   ]
  },
  {
   "cell_type": "code",
   "execution_count": 4,
   "metadata": {},
   "outputs": [
    {
     "data": {
      "text/plain": [
       "6"
      ]
     },
     "execution_count": 4,
     "metadata": {},
     "output_type": "execute_result"
    }
   ],
   "source": [
    "counter = 0\n",
    "for w in words:\n",
    "    if len(w) >= 2 or w.find('a') >= 0:\n",
    "        counter += 1\n",
    "counter"
   ]
  },
  {
   "cell_type": "code",
   "execution_count": 3,
   "metadata": {},
   "outputs": [
    {
     "data": {
      "text/plain": [
       "6"
      ]
     },
     "execution_count": 3,
     "metadata": {},
     "output_type": "execute_result"
    }
   ],
   "source": [
    "len([w for w in words if len(w) >= 2 or w.find('a') >= 0])"
   ]
  },
  {
   "cell_type": "markdown",
   "metadata": {
    "slideshow": {
     "slide_type": "slide"
    }
   },
   "source": [
    "## Enumerations\n",
    "\n"
   ]
  },
  {
   "cell_type": "markdown",
   "metadata": {},
   "source": [
    "What if we want to use both the index and the value of a sequence when we are iterating through it?\n",
    "\n"
   ]
  },
  {
   "cell_type": "code",
   "execution_count": 34,
   "metadata": {},
   "outputs": [
    {
     "name": "stdout",
     "output_type": "stream",
     "text": [
      "0\n",
      "1\n",
      "2\n"
     ]
    }
   ],
   "source": [
    "i = 0\n",
    "for val in [1, 2, 3]:\n",
    "    print(i)\n",
    "    i += 1"
   ]
  },
  {
   "cell_type": "code",
   "execution_count": 49,
   "metadata": {},
   "outputs": [
    {
     "name": "stdout",
     "output_type": "stream",
     "text": [
      "6.5\n",
      "16.0\n",
      "71.5\n",
      "60.5\n",
      "41.5\n",
      "58.5\n",
      "49.0\n",
      "31.0\n"
     ]
    }
   ],
   "source": [
    "stock_prices = random.sample(range(100), 10)\n",
    "for i, val in enumerate(stock_prices[2:]):\n",
    "    print((val + stock_prices[i-2]) / 2)"
   ]
  },
  {
   "cell_type": "code",
   "execution_count": 40,
   "metadata": {},
   "outputs": [
    {
     "data": {
      "text/plain": [
       "[(0, 1), (1, 2), (2, 3)]"
      ]
     },
     "execution_count": 40,
     "metadata": {},
     "output_type": "execute_result"
    }
   ],
   "source": [
    "list(enumerate([1, 2, 3]))"
   ]
  },
  {
   "cell_type": "code",
   "execution_count": 38,
   "metadata": {
    "slideshow": {
     "slide_type": "subslide"
    }
   },
   "outputs": [
    {
     "name": "stdout",
     "output_type": "stream",
     "text": [
      "1\n",
      "2\n",
      "3\n"
     ]
    }
   ],
   "source": [
    "for i, val in enumerate([1, 2, 3]):\n",
    "    print(val)"
   ]
  },
  {
   "cell_type": "markdown",
   "metadata": {
    "slideshow": {
     "slide_type": "slide"
    }
   },
   "source": [
    "## 🖝 Hands-on assignment\n",
    "\n"
   ]
  },
  {
   "cell_type": "markdown",
   "metadata": {},
   "source": [
    "A simple flood frequency analysis method involves calculating the return period from annual peak flow using the following formula $$\\dfrac{n+1}{m}$$ where $n$ is the number of years, and $m$ is the rank of each flow value in descending order. Build a list of tuples, where each tuple contains the flow value and its rank. *Hint: Is there a sort method for lists?*\n",
    "\n"
   ]
  },
  {
   "cell_type": "code",
   "execution_count": 5,
   "metadata": {},
   "outputs": [],
   "source": [
    "flows = [ 3500, 2500, 1000, 1800, 200, 54300, 12000, 21250, 9835, 42600 ]"
   ]
  },
  {
   "cell_type": "code",
   "execution_count": 7,
   "metadata": {},
   "outputs": [
    {
     "data": {
      "text/plain": [
       "[200, 1000, 1800, 2500, 3500, 9835, 12000, 21250, 42600, 54300]"
      ]
     },
     "execution_count": 7,
     "metadata": {},
     "output_type": "execute_result"
    }
   ],
   "source": [
    "# sort the flow values so their index becomes their rank\n",
    "flows.sort()\n",
    "flows"
   ]
  },
  {
   "cell_type": "code",
   "execution_count": 9,
   "metadata": {},
   "outputs": [
    {
     "data": {
      "text/plain": [
       "[(54300, 1),\n",
       " (42600, 2),\n",
       " (21250, 3),\n",
       " (12000, 4),\n",
       " (9835, 5),\n",
       " (3500, 6),\n",
       " (2500, 7),\n",
       " (1800, 8),\n",
       " (1000, 9),\n",
       " (200, 10)]"
      ]
     },
     "execution_count": 9,
     "metadata": {},
     "output_type": "execute_result"
    }
   ],
   "source": [
    "# build the list of tuples but use the reverse to get the descending order required\n",
    "rank = []\n",
    "for i, val in enumerate(flows[::-1]):\n",
    "    rank.append((val, i+1))\n",
    "rank"
   ]
  }
 ],
 "metadata": {
  "kernelspec": {
   "display_name": "Python 3 (ipykernel)",
   "language": "python",
   "name": "python3"
  },
  "language_info": {
   "codemirror_mode": {
    "name": "ipython",
    "version": 3
   },
   "file_extension": ".py",
   "mimetype": "text/x-python",
   "name": "python",
   "nbconvert_exporter": "python",
   "pygments_lexer": "ipython3",
   "version": "3.10.4"
  },
  "org": null
 },
 "nbformat": 4,
 "nbformat_minor": 1
}
