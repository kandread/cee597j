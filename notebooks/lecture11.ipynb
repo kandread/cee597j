{
 "cells": [
  {
   "cell_type": "markdown",
   "metadata": {
    "slideshow": {
     "slide_type": "slide"
    }
   },
   "source": [
    "<h1 align=\"center\">Computational Methods in Environmental Engineering</h1>\n",
    "<h2 align=\"center\">Lecture #11</h2>\n",
    "<h3 align=\"center\">28 Mar 2023</h3>\n",
    "\n"
   ]
  },
  {
   "cell_type": "markdown",
   "metadata": {
    "slideshow": {
     "slide_type": "slide"
    }
   },
   "source": [
    "## Data wrangling\n",
    "\n"
   ]
  },
  {
   "cell_type": "markdown",
   "metadata": {},
   "source": [
    "Combine, join, and rearrange data!\n",
    "\n"
   ]
  },
  {
   "cell_type": "code",
   "execution_count": 1,
   "metadata": {},
   "outputs": [],
   "source": [
    "import pandas as pd\n",
    "import numpy as np"
   ]
  },
  {
   "cell_type": "markdown",
   "metadata": {
    "slideshow": {
     "slide_type": "subslide"
    }
   },
   "source": [
    "### Database-style joins\n",
    "\n"
   ]
  },
  {
   "cell_type": "markdown",
   "metadata": {},
   "source": [
    "Let's start with a simple example\n",
    "\n"
   ]
  },
  {
   "cell_type": "code",
   "execution_count": 2,
   "metadata": {},
   "outputs": [
    {
     "data": {
      "text/html": [
       "<div>\n",
       "<style scoped>\n",
       "    .dataframe tbody tr th:only-of-type {\n",
       "        vertical-align: middle;\n",
       "    }\n",
       "\n",
       "    .dataframe tbody tr th {\n",
       "        vertical-align: top;\n",
       "    }\n",
       "\n",
       "    .dataframe thead th {\n",
       "        text-align: right;\n",
       "    }\n",
       "</style>\n",
       "<table border=\"1\" class=\"dataframe\">\n",
       "  <thead>\n",
       "    <tr style=\"text-align: right;\">\n",
       "      <th></th>\n",
       "      <th>key</th>\n",
       "      <th>data1</th>\n",
       "    </tr>\n",
       "  </thead>\n",
       "  <tbody>\n",
       "    <tr>\n",
       "      <th>0</th>\n",
       "      <td>b</td>\n",
       "      <td>0</td>\n",
       "    </tr>\n",
       "    <tr>\n",
       "      <th>1</th>\n",
       "      <td>b</td>\n",
       "      <td>1</td>\n",
       "    </tr>\n",
       "    <tr>\n",
       "      <th>2</th>\n",
       "      <td>a</td>\n",
       "      <td>2</td>\n",
       "    </tr>\n",
       "    <tr>\n",
       "      <th>3</th>\n",
       "      <td>c</td>\n",
       "      <td>3</td>\n",
       "    </tr>\n",
       "    <tr>\n",
       "      <th>4</th>\n",
       "      <td>a</td>\n",
       "      <td>4</td>\n",
       "    </tr>\n",
       "    <tr>\n",
       "      <th>5</th>\n",
       "      <td>a</td>\n",
       "      <td>5</td>\n",
       "    </tr>\n",
       "    <tr>\n",
       "      <th>6</th>\n",
       "      <td>b</td>\n",
       "      <td>6</td>\n",
       "    </tr>\n",
       "  </tbody>\n",
       "</table>\n",
       "</div>"
      ],
      "text/plain": [
       "  key  data1\n",
       "0   b      0\n",
       "1   b      1\n",
       "2   a      2\n",
       "3   c      3\n",
       "4   a      4\n",
       "5   a      5\n",
       "6   b      6"
      ]
     },
     "execution_count": 2,
     "metadata": {},
     "output_type": "execute_result"
    }
   ],
   "source": [
    "df1 = pd.DataFrame({'key': ['b', 'b', 'a', 'c', 'a', 'a', 'b'],\n",
    "                    'data1': range(7)})\n",
    "df1"
   ]
  },
  {
   "cell_type": "code",
   "execution_count": 3,
   "metadata": {
    "slideshow": {
     "slide_type": "subslide"
    }
   },
   "outputs": [
    {
     "data": {
      "text/html": [
       "<div>\n",
       "<style scoped>\n",
       "    .dataframe tbody tr th:only-of-type {\n",
       "        vertical-align: middle;\n",
       "    }\n",
       "\n",
       "    .dataframe tbody tr th {\n",
       "        vertical-align: top;\n",
       "    }\n",
       "\n",
       "    .dataframe thead th {\n",
       "        text-align: right;\n",
       "    }\n",
       "</style>\n",
       "<table border=\"1\" class=\"dataframe\">\n",
       "  <thead>\n",
       "    <tr style=\"text-align: right;\">\n",
       "      <th></th>\n",
       "      <th>key</th>\n",
       "      <th>data2</th>\n",
       "    </tr>\n",
       "  </thead>\n",
       "  <tbody>\n",
       "    <tr>\n",
       "      <th>0</th>\n",
       "      <td>a</td>\n",
       "      <td>0</td>\n",
       "    </tr>\n",
       "    <tr>\n",
       "      <th>1</th>\n",
       "      <td>b</td>\n",
       "      <td>1</td>\n",
       "    </tr>\n",
       "    <tr>\n",
       "      <th>2</th>\n",
       "      <td>d</td>\n",
       "      <td>2</td>\n",
       "    </tr>\n",
       "  </tbody>\n",
       "</table>\n",
       "</div>"
      ],
      "text/plain": [
       "  key  data2\n",
       "0   a      0\n",
       "1   b      1\n",
       "2   d      2"
      ]
     },
     "execution_count": 3,
     "metadata": {},
     "output_type": "execute_result"
    }
   ],
   "source": [
    "df2 = pd.DataFrame({'key': ['a', 'b', 'd'],\n",
    "                    'data2': range(3)})\n",
    "df2"
   ]
  },
  {
   "cell_type": "markdown",
   "metadata": {
    "slideshow": {
     "slide_type": "subslide"
    }
   },
   "source": [
    "Let's merge these two `DataFrames`\n",
    "\n"
   ]
  },
  {
   "cell_type": "code",
   "execution_count": 14,
   "metadata": {},
   "outputs": [
    {
     "data": {
      "text/html": [
       "<div>\n",
       "<style scoped>\n",
       "    .dataframe tbody tr th:only-of-type {\n",
       "        vertical-align: middle;\n",
       "    }\n",
       "\n",
       "    .dataframe tbody tr th {\n",
       "        vertical-align: top;\n",
       "    }\n",
       "\n",
       "    .dataframe thead th {\n",
       "        text-align: right;\n",
       "    }\n",
       "</style>\n",
       "<table border=\"1\" class=\"dataframe\">\n",
       "  <thead>\n",
       "    <tr style=\"text-align: right;\">\n",
       "      <th></th>\n",
       "      <th>key_x</th>\n",
       "      <th>data1</th>\n",
       "      <th>key_y</th>\n",
       "      <th>data2</th>\n",
       "    </tr>\n",
       "  </thead>\n",
       "  <tbody>\n",
       "    <tr>\n",
       "      <th>0</th>\n",
       "      <td>b</td>\n",
       "      <td>0</td>\n",
       "      <td>a</td>\n",
       "      <td>0.0</td>\n",
       "    </tr>\n",
       "    <tr>\n",
       "      <th>1</th>\n",
       "      <td>b</td>\n",
       "      <td>1</td>\n",
       "      <td>b</td>\n",
       "      <td>1.0</td>\n",
       "    </tr>\n",
       "    <tr>\n",
       "      <th>2</th>\n",
       "      <td>a</td>\n",
       "      <td>2</td>\n",
       "      <td>d</td>\n",
       "      <td>2.0</td>\n",
       "    </tr>\n",
       "    <tr>\n",
       "      <th>3</th>\n",
       "      <td>c</td>\n",
       "      <td>3</td>\n",
       "      <td>NaN</td>\n",
       "      <td>NaN</td>\n",
       "    </tr>\n",
       "    <tr>\n",
       "      <th>4</th>\n",
       "      <td>a</td>\n",
       "      <td>4</td>\n",
       "      <td>NaN</td>\n",
       "      <td>NaN</td>\n",
       "    </tr>\n",
       "    <tr>\n",
       "      <th>5</th>\n",
       "      <td>a</td>\n",
       "      <td>5</td>\n",
       "      <td>NaN</td>\n",
       "      <td>NaN</td>\n",
       "    </tr>\n",
       "    <tr>\n",
       "      <th>6</th>\n",
       "      <td>b</td>\n",
       "      <td>6</td>\n",
       "      <td>NaN</td>\n",
       "      <td>NaN</td>\n",
       "    </tr>\n",
       "  </tbody>\n",
       "</table>\n",
       "</div>"
      ],
      "text/plain": [
       "  key_x  data1 key_y  data2\n",
       "0     b      0     a    0.0\n",
       "1     b      1     b    1.0\n",
       "2     a      2     d    2.0\n",
       "3     c      3   NaN    NaN\n",
       "4     a      4   NaN    NaN\n",
       "5     a      5   NaN    NaN\n",
       "6     b      6   NaN    NaN"
      ]
     },
     "execution_count": 14,
     "metadata": {},
     "output_type": "execute_result"
    }
   ],
   "source": [
    "df = pd.merge(df1, df2, left_index=True, right_index=True, how='outer')\n",
    "df"
   ]
  },
  {
   "cell_type": "markdown",
   "metadata": {
    "slideshow": {
     "slide_type": "subslide"
    }
   },
   "source": [
    "### Concatenating pandas objects\n",
    "\n"
   ]
  },
  {
   "cell_type": "markdown",
   "metadata": {},
   "source": [
    "The `pd.concat` function provides a consistent way of stacking data\n",
    "\n"
   ]
  },
  {
   "cell_type": "code",
   "execution_count": 15,
   "metadata": {},
   "outputs": [],
   "source": [
    "s1 = pd.Series([0, 1], index=['a', 'b'])\n",
    "s2 = pd.Series([2, 3, 4], index=['c', 'd', 'e'])\n",
    "s3 = pd.Series([5, 6], index=['f', 'g'])"
   ]
  },
  {
   "cell_type": "markdown",
   "metadata": {
    "slideshow": {
     "slide_type": "subslide"
    }
   },
   "source": [
    "The default operation is to just \"glue\" together the values and indexes\n",
    "\n"
   ]
  },
  {
   "cell_type": "code",
   "execution_count": 16,
   "metadata": {},
   "outputs": [
    {
     "data": {
      "text/plain": [
       "a    0\n",
       "b    1\n",
       "c    2\n",
       "d    3\n",
       "e    4\n",
       "f    5\n",
       "g    6\n",
       "dtype: int64"
      ]
     },
     "execution_count": 16,
     "metadata": {},
     "output_type": "execute_result"
    }
   ],
   "source": [
    "pd.concat([s1, s2, s3])"
   ]
  },
  {
   "cell_type": "markdown",
   "metadata": {
    "slideshow": {
     "slide_type": "subslide"
    }
   },
   "source": [
    "Can also be done along columns\n",
    "\n"
   ]
  },
  {
   "cell_type": "code",
   "execution_count": 17,
   "metadata": {},
   "outputs": [
    {
     "data": {
      "text/html": [
       "<div>\n",
       "<style scoped>\n",
       "    .dataframe tbody tr th:only-of-type {\n",
       "        vertical-align: middle;\n",
       "    }\n",
       "\n",
       "    .dataframe tbody tr th {\n",
       "        vertical-align: top;\n",
       "    }\n",
       "\n",
       "    .dataframe thead th {\n",
       "        text-align: right;\n",
       "    }\n",
       "</style>\n",
       "<table border=\"1\" class=\"dataframe\">\n",
       "  <thead>\n",
       "    <tr style=\"text-align: right;\">\n",
       "      <th></th>\n",
       "      <th>0</th>\n",
       "      <th>1</th>\n",
       "      <th>2</th>\n",
       "    </tr>\n",
       "  </thead>\n",
       "  <tbody>\n",
       "    <tr>\n",
       "      <th>a</th>\n",
       "      <td>0.0</td>\n",
       "      <td>NaN</td>\n",
       "      <td>NaN</td>\n",
       "    </tr>\n",
       "    <tr>\n",
       "      <th>b</th>\n",
       "      <td>1.0</td>\n",
       "      <td>NaN</td>\n",
       "      <td>NaN</td>\n",
       "    </tr>\n",
       "    <tr>\n",
       "      <th>c</th>\n",
       "      <td>NaN</td>\n",
       "      <td>2.0</td>\n",
       "      <td>NaN</td>\n",
       "    </tr>\n",
       "    <tr>\n",
       "      <th>d</th>\n",
       "      <td>NaN</td>\n",
       "      <td>3.0</td>\n",
       "      <td>NaN</td>\n",
       "    </tr>\n",
       "    <tr>\n",
       "      <th>e</th>\n",
       "      <td>NaN</td>\n",
       "      <td>4.0</td>\n",
       "      <td>NaN</td>\n",
       "    </tr>\n",
       "    <tr>\n",
       "      <th>f</th>\n",
       "      <td>NaN</td>\n",
       "      <td>NaN</td>\n",
       "      <td>5.0</td>\n",
       "    </tr>\n",
       "    <tr>\n",
       "      <th>g</th>\n",
       "      <td>NaN</td>\n",
       "      <td>NaN</td>\n",
       "      <td>6.0</td>\n",
       "    </tr>\n",
       "  </tbody>\n",
       "</table>\n",
       "</div>"
      ],
      "text/plain": [
       "     0    1    2\n",
       "a  0.0  NaN  NaN\n",
       "b  1.0  NaN  NaN\n",
       "c  NaN  2.0  NaN\n",
       "d  NaN  3.0  NaN\n",
       "e  NaN  4.0  NaN\n",
       "f  NaN  NaN  5.0\n",
       "g  NaN  NaN  6.0"
      ]
     },
     "execution_count": 17,
     "metadata": {},
     "output_type": "execute_result"
    }
   ],
   "source": [
    "pd.concat([s1, s2, s3], axis=1, sort=False)"
   ]
  },
  {
   "cell_type": "markdown",
   "metadata": {
    "slideshow": {
     "slide_type": "subslide"
    }
   },
   "source": [
    "## Data aggregation\n",
    "\n"
   ]
  },
  {
   "cell_type": "markdown",
   "metadata": {},
   "source": [
    "-   After loading, cleaning and merging a dataset, we may need to compute group statistics or *pivot* tables\n",
    "-   pandas provides a flexible `groupby` interface that allows us to manipulate datasets in a natural way\n",
    "\n"
   ]
  },
  {
   "cell_type": "markdown",
   "metadata": {
    "slideshow": {
     "slide_type": "subslide"
    }
   },
   "source": [
    "### Groupby mechanics\n",
    "\n"
   ]
  },
  {
   "cell_type": "markdown",
   "metadata": {},
   "source": [
    "`split-apply-combine` is at the core of these operations\n",
    "<center><img src=\"https://i.imgur.com/XcT5tzn.png\"></center>\n",
    "\n"
   ]
  },
  {
   "cell_type": "code",
   "execution_count": 18,
   "metadata": {
    "slideshow": {
     "slide_type": "subslide"
    }
   },
   "outputs": [
    {
     "data": {
      "text/html": [
       "<div>\n",
       "<style scoped>\n",
       "    .dataframe tbody tr th:only-of-type {\n",
       "        vertical-align: middle;\n",
       "    }\n",
       "\n",
       "    .dataframe tbody tr th {\n",
       "        vertical-align: top;\n",
       "    }\n",
       "\n",
       "    .dataframe thead th {\n",
       "        text-align: right;\n",
       "    }\n",
       "</style>\n",
       "<table border=\"1\" class=\"dataframe\">\n",
       "  <thead>\n",
       "    <tr style=\"text-align: right;\">\n",
       "      <th></th>\n",
       "      <th>key1</th>\n",
       "      <th>key2</th>\n",
       "      <th>data1</th>\n",
       "      <th>data2</th>\n",
       "    </tr>\n",
       "  </thead>\n",
       "  <tbody>\n",
       "    <tr>\n",
       "      <th>0</th>\n",
       "      <td>a</td>\n",
       "      <td>one</td>\n",
       "      <td>1.629778</td>\n",
       "      <td>-0.619567</td>\n",
       "    </tr>\n",
       "    <tr>\n",
       "      <th>1</th>\n",
       "      <td>a</td>\n",
       "      <td>two</td>\n",
       "      <td>-0.140052</td>\n",
       "      <td>-1.230424</td>\n",
       "    </tr>\n",
       "    <tr>\n",
       "      <th>2</th>\n",
       "      <td>b</td>\n",
       "      <td>one</td>\n",
       "      <td>1.143538</td>\n",
       "      <td>-1.063835</td>\n",
       "    </tr>\n",
       "    <tr>\n",
       "      <th>3</th>\n",
       "      <td>b</td>\n",
       "      <td>two</td>\n",
       "      <td>-0.679126</td>\n",
       "      <td>-0.371721</td>\n",
       "    </tr>\n",
       "    <tr>\n",
       "      <th>4</th>\n",
       "      <td>a</td>\n",
       "      <td>one</td>\n",
       "      <td>0.248610</td>\n",
       "      <td>1.412321</td>\n",
       "    </tr>\n",
       "  </tbody>\n",
       "</table>\n",
       "</div>"
      ],
      "text/plain": [
       "  key1 key2     data1     data2\n",
       "0    a  one  1.629778 -0.619567\n",
       "1    a  two -0.140052 -1.230424\n",
       "2    b  one  1.143538 -1.063835\n",
       "3    b  two -0.679126 -0.371721\n",
       "4    a  one  0.248610  1.412321"
      ]
     },
     "execution_count": 18,
     "metadata": {},
     "output_type": "execute_result"
    }
   ],
   "source": [
    "df = pd.DataFrame({'key1' : ['a', 'a', 'b', 'b', 'a'],\n",
    "                     'key2' : ['one', 'two', 'one', 'two', 'one'],\n",
    "                     'data1' : np.random.randn(5),\n",
    "                     'data2' : np.random.randn(5)})\n",
    "df"
   ]
  },
  {
   "cell_type": "markdown",
   "metadata": {
    "slideshow": {
     "slide_type": "subslide"
    }
   },
   "source": [
    "Suppose we wanted to calculate the means of the *data1* column grouping by the *key1* labels\n",
    "\n"
   ]
  },
  {
   "cell_type": "code",
   "execution_count": 20,
   "metadata": {},
   "outputs": [
    {
     "data": {
      "text/plain": [
       "[('a',\n",
       "  0    1.629778\n",
       "  1   -0.140052\n",
       "  4    0.248610\n",
       "  Name: data1, dtype: float64),\n",
       " ('b',\n",
       "  2    1.143538\n",
       "  3   -0.679126\n",
       "  Name: data1, dtype: float64)]"
      ]
     },
     "execution_count": 20,
     "metadata": {},
     "output_type": "execute_result"
    }
   ],
   "source": [
    "grouped = df['data1'].groupby(df['key1'])\n",
    "list(grouped)"
   ]
  },
  {
   "cell_type": "markdown",
   "metadata": {
    "slideshow": {
     "slide_type": "subslide"
    }
   },
   "source": [
    "What is this object? How can we calculate the means?\n",
    "\n"
   ]
  },
  {
   "cell_type": "code",
   "execution_count": 22,
   "metadata": {
    "slideshow": {
     "slide_type": "fragment"
    }
   },
   "outputs": [
    {
     "data": {
      "text/plain": [
       "key1\n",
       "a    1.738336\n",
       "b    0.464412\n",
       "Name: data1, dtype: float64"
      ]
     },
     "execution_count": 22,
     "metadata": {},
     "output_type": "execute_result"
    }
   ],
   "source": [
    "grouped.sum()"
   ]
  },
  {
   "cell_type": "markdown",
   "metadata": {
    "slideshow": {
     "slide_type": "subslide"
    }
   },
   "source": [
    "What if we passed multiple arrays as a list?\n",
    "\n"
   ]
  },
  {
   "cell_type": "code",
   "execution_count": 23,
   "metadata": {},
   "outputs": [
    {
     "data": {
      "text/plain": [
       "key1  key2\n",
       "a     one     0.939194\n",
       "      two    -0.140052\n",
       "b     one     1.143538\n",
       "      two    -0.679126\n",
       "Name: data1, dtype: float64"
      ]
     },
     "execution_count": 23,
     "metadata": {},
     "output_type": "execute_result"
    }
   ],
   "source": [
    "means = df['data1'].groupby([df['key1'], df['key2']]).mean()\n",
    "means"
   ]
  },
  {
   "cell_type": "markdown",
   "metadata": {
    "slideshow": {
     "slide_type": "subslide"
    }
   },
   "source": [
    "The grouping keys can be any sequence\n",
    "\n"
   ]
  },
  {
   "cell_type": "code",
   "execution_count": 25,
   "metadata": {},
   "outputs": [
    {
     "data": {
      "text/html": [
       "<div>\n",
       "<style scoped>\n",
       "    .dataframe tbody tr th:only-of-type {\n",
       "        vertical-align: middle;\n",
       "    }\n",
       "\n",
       "    .dataframe tbody tr th {\n",
       "        vertical-align: top;\n",
       "    }\n",
       "\n",
       "    .dataframe thead th {\n",
       "        text-align: right;\n",
       "    }\n",
       "</style>\n",
       "<table border=\"1\" class=\"dataframe\">\n",
       "  <thead>\n",
       "    <tr style=\"text-align: right;\">\n",
       "      <th></th>\n",
       "      <th></th>\n",
       "      <th>data1</th>\n",
       "      <th>data2</th>\n",
       "    </tr>\n",
       "  </thead>\n",
       "  <tbody>\n",
       "    <tr>\n",
       "      <th rowspan=\"2\" valign=\"top\">California</th>\n",
       "      <th>2005</th>\n",
       "      <td>-0.140052</td>\n",
       "      <td>-1.230424</td>\n",
       "    </tr>\n",
       "    <tr>\n",
       "      <th>2006</th>\n",
       "      <td>1.143538</td>\n",
       "      <td>-1.063835</td>\n",
       "    </tr>\n",
       "    <tr>\n",
       "      <th rowspan=\"2\" valign=\"top\">Ohio</th>\n",
       "      <th>2005</th>\n",
       "      <td>0.475326</td>\n",
       "      <td>-0.495644</td>\n",
       "    </tr>\n",
       "    <tr>\n",
       "      <th>2006</th>\n",
       "      <td>0.248610</td>\n",
       "      <td>1.412321</td>\n",
       "    </tr>\n",
       "  </tbody>\n",
       "</table>\n",
       "</div>"
      ],
      "text/plain": [
       "                    data1     data2\n",
       "California 2005 -0.140052 -1.230424\n",
       "           2006  1.143538 -1.063835\n",
       "Ohio       2005  0.475326 -0.495644\n",
       "           2006  0.248610  1.412321"
      ]
     },
     "execution_count": 25,
     "metadata": {},
     "output_type": "execute_result"
    }
   ],
   "source": [
    "states = np.array(['Ohio', 'California', 'California', 'Ohio', 'Ohio'])\n",
    "years = np.array([2005, 2005, 2006, 2005, 2006])\n",
    "df.groupby([states, years]).mean()"
   ]
  },
  {
   "cell_type": "markdown",
   "metadata": {
    "slideshow": {
     "slide_type": "subslide"
    }
   },
   "source": [
    "### Grouping with Dictionaries and Series\n",
    "\n"
   ]
  },
  {
   "cell_type": "markdown",
   "metadata": {},
   "source": [
    "Grouping can be performed with different forms of sequences\n",
    "\n"
   ]
  },
  {
   "cell_type": "code",
   "execution_count": 26,
   "metadata": {},
   "outputs": [
    {
     "data": {
      "text/html": [
       "<div>\n",
       "<style scoped>\n",
       "    .dataframe tbody tr th:only-of-type {\n",
       "        vertical-align: middle;\n",
       "    }\n",
       "\n",
       "    .dataframe tbody tr th {\n",
       "        vertical-align: top;\n",
       "    }\n",
       "\n",
       "    .dataframe thead th {\n",
       "        text-align: right;\n",
       "    }\n",
       "</style>\n",
       "<table border=\"1\" class=\"dataframe\">\n",
       "  <thead>\n",
       "    <tr style=\"text-align: right;\">\n",
       "      <th></th>\n",
       "      <th>a</th>\n",
       "      <th>b</th>\n",
       "      <th>c</th>\n",
       "      <th>d</th>\n",
       "      <th>e</th>\n",
       "    </tr>\n",
       "  </thead>\n",
       "  <tbody>\n",
       "    <tr>\n",
       "      <th>Joe</th>\n",
       "      <td>1.705930</td>\n",
       "      <td>-0.088241</td>\n",
       "      <td>1.026084</td>\n",
       "      <td>-1.019407</td>\n",
       "      <td>-1.955695</td>\n",
       "    </tr>\n",
       "    <tr>\n",
       "      <th>Steve</th>\n",
       "      <td>1.271621</td>\n",
       "      <td>-1.626389</td>\n",
       "      <td>0.382606</td>\n",
       "      <td>-0.435049</td>\n",
       "      <td>-0.613271</td>\n",
       "    </tr>\n",
       "    <tr>\n",
       "      <th>Wes</th>\n",
       "      <td>0.000378</td>\n",
       "      <td>NaN</td>\n",
       "      <td>NaN</td>\n",
       "      <td>1.030621</td>\n",
       "      <td>-0.936614</td>\n",
       "    </tr>\n",
       "    <tr>\n",
       "      <th>Jim</th>\n",
       "      <td>-0.787553</td>\n",
       "      <td>-0.569958</td>\n",
       "      <td>-0.643981</td>\n",
       "      <td>2.113622</td>\n",
       "      <td>0.408619</td>\n",
       "    </tr>\n",
       "    <tr>\n",
       "      <th>Travis</th>\n",
       "      <td>1.597619</td>\n",
       "      <td>-0.345932</td>\n",
       "      <td>0.406381</td>\n",
       "      <td>0.639431</td>\n",
       "      <td>1.343710</td>\n",
       "    </tr>\n",
       "  </tbody>\n",
       "</table>\n",
       "</div>"
      ],
      "text/plain": [
       "               a         b         c         d         e\n",
       "Joe     1.705930 -0.088241  1.026084 -1.019407 -1.955695\n",
       "Steve   1.271621 -1.626389  0.382606 -0.435049 -0.613271\n",
       "Wes     0.000378       NaN       NaN  1.030621 -0.936614\n",
       "Jim    -0.787553 -0.569958 -0.643981  2.113622  0.408619\n",
       "Travis  1.597619 -0.345932  0.406381  0.639431  1.343710"
      ]
     },
     "execution_count": 26,
     "metadata": {},
     "output_type": "execute_result"
    }
   ],
   "source": [
    "people = pd.DataFrame(np.random.randn(5, 5),\n",
    "                        columns=['a', 'b', 'c', 'd', 'e'],\n",
    "                        index=['Joe', 'Steve', 'Wes', 'Jim', 'Travis'])\n",
    "people.iloc[2:3, [1, 2]] = np.nan\n",
    "people"
   ]
  },
  {
   "cell_type": "markdown",
   "metadata": {
    "slideshow": {
     "slide_type": "subslide"
    }
   },
   "source": [
    "If we have a color corresponding to each letter a-f, we can calculate the sum for each name grouped by color\n",
    "\n"
   ]
  },
  {
   "cell_type": "code",
   "execution_count": 30,
   "metadata": {},
   "outputs": [
    {
     "data": {
      "text/html": [
       "<div>\n",
       "<style scoped>\n",
       "    .dataframe tbody tr th:only-of-type {\n",
       "        vertical-align: middle;\n",
       "    }\n",
       "\n",
       "    .dataframe tbody tr th {\n",
       "        vertical-align: top;\n",
       "    }\n",
       "\n",
       "    .dataframe thead th {\n",
       "        text-align: right;\n",
       "    }\n",
       "</style>\n",
       "<table border=\"1\" class=\"dataframe\">\n",
       "  <thead>\n",
       "    <tr style=\"text-align: right;\">\n",
       "      <th></th>\n",
       "      <th>blue</th>\n",
       "      <th>red</th>\n",
       "    </tr>\n",
       "  </thead>\n",
       "  <tbody>\n",
       "    <tr>\n",
       "      <th>Joe</th>\n",
       "      <td>1.446381</td>\n",
       "      <td>1.830934</td>\n",
       "    </tr>\n",
       "    <tr>\n",
       "      <th>Steve</th>\n",
       "      <td>0.578169</td>\n",
       "      <td>1.470697</td>\n",
       "    </tr>\n",
       "    <tr>\n",
       "      <th>Wes</th>\n",
       "      <td>NaN</td>\n",
       "      <td>0.662553</td>\n",
       "    </tr>\n",
       "    <tr>\n",
       "      <th>Jim</th>\n",
       "      <td>1.949919</td>\n",
       "      <td>0.637154</td>\n",
       "    </tr>\n",
       "    <tr>\n",
       "      <th>Travis</th>\n",
       "      <td>0.164792</td>\n",
       "      <td>1.056468</td>\n",
       "    </tr>\n",
       "  </tbody>\n",
       "</table>\n",
       "</div>"
      ],
      "text/plain": [
       "            blue       red\n",
       "Joe     1.446381  1.830934\n",
       "Steve   0.578169  1.470697\n",
       "Wes          NaN  0.662553\n",
       "Jim     1.949919  0.637154\n",
       "Travis  0.164792  1.056468"
      ]
     },
     "execution_count": 30,
     "metadata": {},
     "output_type": "execute_result"
    }
   ],
   "source": [
    "mapping = {'a': 'red', 'b': 'red', 'c': 'blue', 'd': 'blue', 'e': 'red', 'f' : 'orange'}\n",
    "by_column = people.groupby(mapping, axis=1)\n",
    "by_column.std()"
   ]
  },
  {
   "cell_type": "markdown",
   "metadata": {
    "slideshow": {
     "slide_type": "subslide"
    }
   },
   "source": [
    "Same functionality holds for Series. Can you convert the mapping into a Series and then calculate the number of values for each name and color?\n",
    "\n"
   ]
  },
  {
   "cell_type": "code",
   "execution_count": 35,
   "metadata": {},
   "outputs": [
    {
     "data": {
      "text/html": [
       "<div>\n",
       "<style scoped>\n",
       "    .dataframe tbody tr th:only-of-type {\n",
       "        vertical-align: middle;\n",
       "    }\n",
       "\n",
       "    .dataframe tbody tr th {\n",
       "        vertical-align: top;\n",
       "    }\n",
       "\n",
       "    .dataframe thead th {\n",
       "        text-align: right;\n",
       "    }\n",
       "</style>\n",
       "<table border=\"1\" class=\"dataframe\">\n",
       "  <thead>\n",
       "    <tr style=\"text-align: right;\">\n",
       "      <th></th>\n",
       "      <th>blue</th>\n",
       "      <th>red</th>\n",
       "    </tr>\n",
       "  </thead>\n",
       "  <tbody>\n",
       "    <tr>\n",
       "      <th>Joe</th>\n",
       "      <td>0.006677</td>\n",
       "      <td>-0.338006</td>\n",
       "    </tr>\n",
       "    <tr>\n",
       "      <th>Steve</th>\n",
       "      <td>-0.052442</td>\n",
       "      <td>-0.968038</td>\n",
       "    </tr>\n",
       "    <tr>\n",
       "      <th>Wes</th>\n",
       "      <td>1.030621</td>\n",
       "      <td>-0.936236</td>\n",
       "    </tr>\n",
       "    <tr>\n",
       "      <th>Jim</th>\n",
       "      <td>1.469641</td>\n",
       "      <td>-0.948893</td>\n",
       "    </tr>\n",
       "    <tr>\n",
       "      <th>Travis</th>\n",
       "      <td>1.045812</td>\n",
       "      <td>2.595398</td>\n",
       "    </tr>\n",
       "  </tbody>\n",
       "</table>\n",
       "</div>"
      ],
      "text/plain": [
       "            blue       red\n",
       "Joe     0.006677 -0.338006\n",
       "Steve  -0.052442 -0.968038\n",
       "Wes     1.030621 -0.936236\n",
       "Jim     1.469641 -0.948893\n",
       "Travis  1.045812  2.595398"
      ]
     },
     "execution_count": 35,
     "metadata": {},
     "output_type": "execute_result"
    }
   ],
   "source": [
    "people.groupby(pd.Series(mapping), axis=1).sum()"
   ]
  },
  {
   "cell_type": "markdown",
   "metadata": {
    "slideshow": {
     "slide_type": "subslide"
    }
   },
   "source": [
    "### Grouping with functions\n",
    "\n"
   ]
  },
  {
   "cell_type": "markdown",
   "metadata": {},
   "source": [
    "Using Python functions is a more generic way of defining a group mapping compared\n",
    "with a dict or Series\n",
    "\n"
   ]
  },
  {
   "cell_type": "code",
   "execution_count": 36,
   "metadata": {},
   "outputs": [
    {
     "data": {
      "text/html": [
       "<div>\n",
       "<style scoped>\n",
       "    .dataframe tbody tr th:only-of-type {\n",
       "        vertical-align: middle;\n",
       "    }\n",
       "\n",
       "    .dataframe tbody tr th {\n",
       "        vertical-align: top;\n",
       "    }\n",
       "\n",
       "    .dataframe thead th {\n",
       "        text-align: right;\n",
       "    }\n",
       "</style>\n",
       "<table border=\"1\" class=\"dataframe\">\n",
       "  <thead>\n",
       "    <tr style=\"text-align: right;\">\n",
       "      <th></th>\n",
       "      <th>a</th>\n",
       "      <th>b</th>\n",
       "      <th>c</th>\n",
       "      <th>d</th>\n",
       "      <th>e</th>\n",
       "    </tr>\n",
       "  </thead>\n",
       "  <tbody>\n",
       "    <tr>\n",
       "      <th>Joe</th>\n",
       "      <td>1.705930</td>\n",
       "      <td>-0.088241</td>\n",
       "      <td>1.026084</td>\n",
       "      <td>-1.019407</td>\n",
       "      <td>-1.955695</td>\n",
       "    </tr>\n",
       "    <tr>\n",
       "      <th>Steve</th>\n",
       "      <td>1.271621</td>\n",
       "      <td>-1.626389</td>\n",
       "      <td>0.382606</td>\n",
       "      <td>-0.435049</td>\n",
       "      <td>-0.613271</td>\n",
       "    </tr>\n",
       "    <tr>\n",
       "      <th>Wes</th>\n",
       "      <td>0.000378</td>\n",
       "      <td>NaN</td>\n",
       "      <td>NaN</td>\n",
       "      <td>1.030621</td>\n",
       "      <td>-0.936614</td>\n",
       "    </tr>\n",
       "    <tr>\n",
       "      <th>Jim</th>\n",
       "      <td>-0.787553</td>\n",
       "      <td>-0.569958</td>\n",
       "      <td>-0.643981</td>\n",
       "      <td>2.113622</td>\n",
       "      <td>0.408619</td>\n",
       "    </tr>\n",
       "    <tr>\n",
       "      <th>Travis</th>\n",
       "      <td>1.597619</td>\n",
       "      <td>-0.345932</td>\n",
       "      <td>0.406381</td>\n",
       "      <td>0.639431</td>\n",
       "      <td>1.343710</td>\n",
       "    </tr>\n",
       "  </tbody>\n",
       "</table>\n",
       "</div>"
      ],
      "text/plain": [
       "               a         b         c         d         e\n",
       "Joe     1.705930 -0.088241  1.026084 -1.019407 -1.955695\n",
       "Steve   1.271621 -1.626389  0.382606 -0.435049 -0.613271\n",
       "Wes     0.000378       NaN       NaN  1.030621 -0.936614\n",
       "Jim    -0.787553 -0.569958 -0.643981  2.113622  0.408619\n",
       "Travis  1.597619 -0.345932  0.406381  0.639431  1.343710"
      ]
     },
     "execution_count": 36,
     "metadata": {},
     "output_type": "execute_result"
    }
   ],
   "source": [
    "people"
   ]
  },
  {
   "cell_type": "markdown",
   "metadata": {
    "slideshow": {
     "slide_type": "subslide"
    }
   },
   "source": [
    "Suppose we wanted to group by the length of each name and calculate the sum\n",
    "\n"
   ]
  },
  {
   "cell_type": "code",
   "execution_count": 44,
   "metadata": {},
   "outputs": [
    {
     "data": {
      "text/html": [
       "<div>\n",
       "<style scoped>\n",
       "    .dataframe tbody tr th:only-of-type {\n",
       "        vertical-align: middle;\n",
       "    }\n",
       "\n",
       "    .dataframe tbody tr th {\n",
       "        vertical-align: top;\n",
       "    }\n",
       "\n",
       "    .dataframe thead th {\n",
       "        text-align: right;\n",
       "    }\n",
       "</style>\n",
       "<table border=\"1\" class=\"dataframe\">\n",
       "  <thead>\n",
       "    <tr style=\"text-align: right;\">\n",
       "      <th></th>\n",
       "      <th>a</th>\n",
       "      <th>b</th>\n",
       "      <th>c</th>\n",
       "      <th>d</th>\n",
       "      <th>e</th>\n",
       "    </tr>\n",
       "  </thead>\n",
       "  <tbody>\n",
       "    <tr>\n",
       "      <th>3</th>\n",
       "      <td>-1.693749</td>\n",
       "      <td>-2.329100</td>\n",
       "      <td>-1.808948</td>\n",
       "      <td>-1.291722</td>\n",
       "      <td>-2.827897</td>\n",
       "    </tr>\n",
       "    <tr>\n",
       "      <th>5</th>\n",
       "      <td>-0.728379</td>\n",
       "      <td>-3.626389</td>\n",
       "      <td>-1.617394</td>\n",
       "      <td>-2.435049</td>\n",
       "      <td>-2.613271</td>\n",
       "    </tr>\n",
       "    <tr>\n",
       "      <th>6</th>\n",
       "      <td>-0.402381</td>\n",
       "      <td>-2.345932</td>\n",
       "      <td>-1.593619</td>\n",
       "      <td>-1.360569</td>\n",
       "      <td>-0.656290</td>\n",
       "    </tr>\n",
       "  </tbody>\n",
       "</table>\n",
       "</div>"
      ],
      "text/plain": [
       "          a         b         c         d         e\n",
       "3 -1.693749 -2.329100 -1.808948 -1.291722 -2.827897\n",
       "5 -0.728379 -3.626389 -1.617394 -2.435049 -2.613271\n",
       "6 -0.402381 -2.345932 -1.593619 -1.360569 -0.656290"
      ]
     },
     "execution_count": 44,
     "metadata": {},
     "output_type": "execute_result"
    }
   ],
   "source": [
    "people.groupby(len).apply(lambda x: x.mean()-2)"
   ]
  },
  {
   "cell_type": "markdown",
   "metadata": {
    "slideshow": {
     "slide_type": "subslide"
    }
   },
   "source": [
    "We can also mix functions with any other grouping instance\n",
    "\n"
   ]
  },
  {
   "cell_type": "code",
   "execution_count": 46,
   "metadata": {},
   "outputs": [
    {
     "data": {
      "text/html": [
       "<div>\n",
       "<style scoped>\n",
       "    .dataframe tbody tr th:only-of-type {\n",
       "        vertical-align: middle;\n",
       "    }\n",
       "\n",
       "    .dataframe tbody tr th {\n",
       "        vertical-align: top;\n",
       "    }\n",
       "\n",
       "    .dataframe thead th {\n",
       "        text-align: right;\n",
       "    }\n",
       "</style>\n",
       "<table border=\"1\" class=\"dataframe\">\n",
       "  <thead>\n",
       "    <tr style=\"text-align: right;\">\n",
       "      <th></th>\n",
       "      <th></th>\n",
       "      <th>a</th>\n",
       "      <th>b</th>\n",
       "      <th>c</th>\n",
       "      <th>d</th>\n",
       "      <th>e</th>\n",
       "    </tr>\n",
       "  </thead>\n",
       "  <tbody>\n",
       "    <tr>\n",
       "      <th rowspan=\"2\" valign=\"top\">3</th>\n",
       "      <th>one</th>\n",
       "      <td>0.853154</td>\n",
       "      <td>-0.088241</td>\n",
       "      <td>1.026084</td>\n",
       "      <td>0.005607</td>\n",
       "      <td>-1.446154</td>\n",
       "    </tr>\n",
       "    <tr>\n",
       "      <th>two</th>\n",
       "      <td>-0.787553</td>\n",
       "      <td>-0.569958</td>\n",
       "      <td>-0.643981</td>\n",
       "      <td>2.113622</td>\n",
       "      <td>0.408619</td>\n",
       "    </tr>\n",
       "    <tr>\n",
       "      <th>5</th>\n",
       "      <th>one</th>\n",
       "      <td>1.271621</td>\n",
       "      <td>-1.626389</td>\n",
       "      <td>0.382606</td>\n",
       "      <td>-0.435049</td>\n",
       "      <td>-0.613271</td>\n",
       "    </tr>\n",
       "    <tr>\n",
       "      <th>6</th>\n",
       "      <th>two</th>\n",
       "      <td>1.597619</td>\n",
       "      <td>-0.345932</td>\n",
       "      <td>0.406381</td>\n",
       "      <td>0.639431</td>\n",
       "      <td>1.343710</td>\n",
       "    </tr>\n",
       "  </tbody>\n",
       "</table>\n",
       "</div>"
      ],
      "text/plain": [
       "              a         b         c         d         e\n",
       "3 one  0.853154 -0.088241  1.026084  0.005607 -1.446154\n",
       "  two -0.787553 -0.569958 -0.643981  2.113622  0.408619\n",
       "5 one  1.271621 -1.626389  0.382606 -0.435049 -0.613271\n",
       "6 two  1.597619 -0.345932  0.406381  0.639431  1.343710"
      ]
     },
     "execution_count": 46,
     "metadata": {},
     "output_type": "execute_result"
    }
   ],
   "source": [
    "key_list = ['one', 'one', 'one', 'two', 'two']\n",
    "people.groupby([len, key_list]).mean()"
   ]
  },
  {
   "cell_type": "markdown",
   "metadata": {
    "slideshow": {
     "slide_type": "slide"
    }
   },
   "source": [
    "## Time series\n",
    "\n"
   ]
  },
  {
   "cell_type": "markdown",
   "metadata": {
    "slideshow": {
     "slide_type": "subslide"
    }
   },
   "source": [
    "-   Important form of structured data\n",
    "    \n",
    "    -   *Fixed* frequency or *Irregular* intervals\n",
    "    -   `pandas` provides many built-in time series tools and algorithms\n",
    "    \n",
    "    Let's grab some data\n",
    "\n"
   ]
  },
  {
   "cell_type": "code",
   "execution_count": 6,
   "metadata": {},
   "outputs": [
    {
     "data": {
      "text/html": [
       "<div>\n",
       "<style scoped>\n",
       "    .dataframe tbody tr th:only-of-type {\n",
       "        vertical-align: middle;\n",
       "    }\n",
       "\n",
       "    .dataframe tbody tr th {\n",
       "        vertical-align: top;\n",
       "    }\n",
       "\n",
       "    .dataframe thead th {\n",
       "        text-align: right;\n",
       "    }\n",
       "</style>\n",
       "<table border=\"1\" class=\"dataframe\">\n",
       "  <thead>\n",
       "    <tr style=\"text-align: right;\">\n",
       "      <th></th>\n",
       "      <th>CHILOQUIN 12 NW (FORT KLAMATH)</th>\n",
       "      <th>SELDOM CREEK OREGON</th>\n",
       "      <th>FOURMILE LAKE</th>\n",
       "      <th>BILLIE CREEK DIVIDE</th>\n",
       "      <th>COLD SPRINGS CAMP</th>\n",
       "      <th>SEVENMILE MARSH</th>\n",
       "      <th>ANNIE SPRINGS</th>\n",
       "      <th>CRATER LAKE NPS HQ</th>\n",
       "    </tr>\n",
       "  </thead>\n",
       "  <tbody>\n",
       "    <tr>\n",
       "      <th>2019-01-01</th>\n",
       "      <td>19.0</td>\n",
       "      <td>25.5</td>\n",
       "      <td>24.5</td>\n",
       "      <td>24.0</td>\n",
       "      <td>25.0</td>\n",
       "      <td>25.0</td>\n",
       "      <td>24.0</td>\n",
       "      <td>16.5</td>\n",
       "    </tr>\n",
       "    <tr>\n",
       "      <th>2019-01-02</th>\n",
       "      <td>24.5</td>\n",
       "      <td>31.5</td>\n",
       "      <td>36.5</td>\n",
       "      <td>32.0</td>\n",
       "      <td>36.0</td>\n",
       "      <td>30.5</td>\n",
       "      <td>32.0</td>\n",
       "      <td>27.0</td>\n",
       "    </tr>\n",
       "    <tr>\n",
       "      <th>2019-01-03</th>\n",
       "      <td>27.5</td>\n",
       "      <td>31.0</td>\n",
       "      <td>37.5</td>\n",
       "      <td>32.5</td>\n",
       "      <td>36.5</td>\n",
       "      <td>33.0</td>\n",
       "      <td>34.0</td>\n",
       "      <td>31.5</td>\n",
       "    </tr>\n",
       "    <tr>\n",
       "      <th>2019-01-04</th>\n",
       "      <td>26.0</td>\n",
       "      <td>33.0</td>\n",
       "      <td>35.5</td>\n",
       "      <td>34.0</td>\n",
       "      <td>36.5</td>\n",
       "      <td>32.5</td>\n",
       "      <td>32.0</td>\n",
       "      <td>31.0</td>\n",
       "    </tr>\n",
       "    <tr>\n",
       "      <th>2019-01-05</th>\n",
       "      <td>30.5</td>\n",
       "      <td>33.0</td>\n",
       "      <td>31.0</td>\n",
       "      <td>33.0</td>\n",
       "      <td>32.5</td>\n",
       "      <td>32.0</td>\n",
       "      <td>30.5</td>\n",
       "      <td>29.5</td>\n",
       "    </tr>\n",
       "  </tbody>\n",
       "</table>\n",
       "</div>"
      ],
      "text/plain": [
       "           CHILOQUIN 12 NW (FORT KLAMATH)  SELDOM CREEK OREGON  FOURMILE LAKE  \\\n",
       "2019-01-01                           19.0                 25.5           24.5   \n",
       "2019-01-02                           24.5                 31.5           36.5   \n",
       "2019-01-03                           27.5                 31.0           37.5   \n",
       "2019-01-04                           26.0                 33.0           35.5   \n",
       "2019-01-05                           30.5                 33.0           31.0   \n",
       "\n",
       "            BILLIE CREEK DIVIDE  COLD SPRINGS CAMP  SEVENMILE MARSH  \\\n",
       "2019-01-01                 24.0               25.0             25.0   \n",
       "2019-01-02                 32.0               36.0             30.5   \n",
       "2019-01-03                 32.5               36.5             33.0   \n",
       "2019-01-04                 34.0               36.5             32.5   \n",
       "2019-01-05                 33.0               32.5             32.0   \n",
       "\n",
       "            ANNIE SPRINGS CRATER LAKE NPS HQ  \n",
       "2019-01-01           24.0               16.5  \n",
       "2019-01-02           32.0               27.0  \n",
       "2019-01-03           34.0               31.5  \n",
       "2019-01-04           32.0               31.0  \n",
       "2019-01-05           30.5               29.5  "
      ]
     },
     "execution_count": 6,
     "metadata": {},
     "output_type": "execute_result"
    }
   ],
   "source": [
    "avgt = pd.read_csv(\"data/avgt.csv\", index_col=0, parse_dates=True)\n",
    "avgt.head()"
   ]
  },
  {
   "cell_type": "markdown",
   "metadata": {
    "slideshow": {
     "slide_type": "slide"
    }
   },
   "source": [
    "## ☛ Hands-on exercises\n",
    "\n"
   ]
  },
  {
   "cell_type": "markdown",
   "metadata": {
    "slideshow": {
     "slide_type": "subslide"
    }
   },
   "source": [
    "### Indexing and selection\n",
    "\n"
   ]
  },
  {
   "cell_type": "markdown",
   "metadata": {},
   "source": [
    "Time series behaves like any other pandas.Series when you are indexing and selecting data based on label. Examine the index of the `avgt`\n",
    "\n"
   ]
  },
  {
   "cell_type": "code",
   "execution_count": 3,
   "metadata": {},
   "outputs": [
    {
     "data": {
      "text/html": [
       "<div>\n",
       "<style scoped>\n",
       "    .dataframe tbody tr th:only-of-type {\n",
       "        vertical-align: middle;\n",
       "    }\n",
       "\n",
       "    .dataframe tbody tr th {\n",
       "        vertical-align: top;\n",
       "    }\n",
       "\n",
       "    .dataframe thead th {\n",
       "        text-align: right;\n",
       "    }\n",
       "</style>\n",
       "<table border=\"1\" class=\"dataframe\">\n",
       "  <thead>\n",
       "    <tr style=\"text-align: right;\">\n",
       "      <th></th>\n",
       "      <th>CHILOQUIN 12 NW (FORT KLAMATH)</th>\n",
       "      <th>SELDOM CREEK OREGON</th>\n",
       "      <th>FOURMILE LAKE</th>\n",
       "      <th>BILLIE CREEK DIVIDE</th>\n",
       "      <th>COLD SPRINGS CAMP</th>\n",
       "      <th>SEVENMILE MARSH</th>\n",
       "      <th>ANNIE SPRINGS</th>\n",
       "      <th>CRATER LAKE NPS HQ</th>\n",
       "    </tr>\n",
       "  </thead>\n",
       "  <tbody>\n",
       "    <tr>\n",
       "      <th>2019-01-01</th>\n",
       "      <td>19.0</td>\n",
       "      <td>25.5</td>\n",
       "      <td>24.5</td>\n",
       "      <td>24.0</td>\n",
       "      <td>25.0</td>\n",
       "      <td>25.0</td>\n",
       "      <td>24.0</td>\n",
       "      <td>16.5</td>\n",
       "    </tr>\n",
       "    <tr>\n",
       "      <th>2019-01-02</th>\n",
       "      <td>24.5</td>\n",
       "      <td>31.5</td>\n",
       "      <td>36.5</td>\n",
       "      <td>32.0</td>\n",
       "      <td>36.0</td>\n",
       "      <td>30.5</td>\n",
       "      <td>32.0</td>\n",
       "      <td>27.0</td>\n",
       "    </tr>\n",
       "    <tr>\n",
       "      <th>2019-01-03</th>\n",
       "      <td>27.5</td>\n",
       "      <td>31.0</td>\n",
       "      <td>37.5</td>\n",
       "      <td>32.5</td>\n",
       "      <td>36.5</td>\n",
       "      <td>33.0</td>\n",
       "      <td>34.0</td>\n",
       "      <td>31.5</td>\n",
       "    </tr>\n",
       "    <tr>\n",
       "      <th>2019-01-04</th>\n",
       "      <td>26.0</td>\n",
       "      <td>33.0</td>\n",
       "      <td>35.5</td>\n",
       "      <td>34.0</td>\n",
       "      <td>36.5</td>\n",
       "      <td>32.5</td>\n",
       "      <td>32.0</td>\n",
       "      <td>31.0</td>\n",
       "    </tr>\n",
       "    <tr>\n",
       "      <th>2019-01-05</th>\n",
       "      <td>30.5</td>\n",
       "      <td>33.0</td>\n",
       "      <td>31.0</td>\n",
       "      <td>33.0</td>\n",
       "      <td>32.5</td>\n",
       "      <td>32.0</td>\n",
       "      <td>30.5</td>\n",
       "      <td>29.5</td>\n",
       "    </tr>\n",
       "    <tr>\n",
       "      <th>...</th>\n",
       "      <td>...</td>\n",
       "      <td>...</td>\n",
       "      <td>...</td>\n",
       "      <td>...</td>\n",
       "      <td>...</td>\n",
       "      <td>...</td>\n",
       "      <td>...</td>\n",
       "      <td>...</td>\n",
       "    </tr>\n",
       "    <tr>\n",
       "      <th>2019-03-27</th>\n",
       "      <td>41.0</td>\n",
       "      <td>36.5</td>\n",
       "      <td>34.0</td>\n",
       "      <td>36.5</td>\n",
       "      <td>34.0</td>\n",
       "      <td>35.0</td>\n",
       "      <td>32.5</td>\n",
       "      <td>26.0</td>\n",
       "    </tr>\n",
       "    <tr>\n",
       "      <th>2019-03-28</th>\n",
       "      <td>39.0</td>\n",
       "      <td>38.0</td>\n",
       "      <td>34.0</td>\n",
       "      <td>37.0</td>\n",
       "      <td>34.5</td>\n",
       "      <td>33.0</td>\n",
       "      <td>30.5</td>\n",
       "      <td>24.0</td>\n",
       "    </tr>\n",
       "    <tr>\n",
       "      <th>2019-03-29</th>\n",
       "      <td>36.5</td>\n",
       "      <td>37.0</td>\n",
       "      <td>31.5</td>\n",
       "      <td>35.5</td>\n",
       "      <td>33.0</td>\n",
       "      <td>32.5</td>\n",
       "      <td>30.5</td>\n",
       "      <td>24.5</td>\n",
       "    </tr>\n",
       "    <tr>\n",
       "      <th>2019-03-30</th>\n",
       "      <td>33.0</td>\n",
       "      <td>39.0</td>\n",
       "      <td>34.5</td>\n",
       "      <td>37.0</td>\n",
       "      <td>36.0</td>\n",
       "      <td>37.0</td>\n",
       "      <td>31.0</td>\n",
       "      <td>26.5</td>\n",
       "    </tr>\n",
       "    <tr>\n",
       "      <th>2019-03-31</th>\n",
       "      <td>38.0</td>\n",
       "      <td>42.0</td>\n",
       "      <td>41.5</td>\n",
       "      <td>42.0</td>\n",
       "      <td>42.0</td>\n",
       "      <td>42.5</td>\n",
       "      <td>36.5</td>\n",
       "      <td>29.5</td>\n",
       "    </tr>\n",
       "  </tbody>\n",
       "</table>\n",
       "<p>90 rows × 8 columns</p>\n",
       "</div>"
      ],
      "text/plain": [
       "           CHILOQUIN 12 NW (FORT KLAMATH)  SELDOM CREEK OREGON  FOURMILE LAKE  \\\n",
       "2019-01-01                           19.0                 25.5           24.5   \n",
       "2019-01-02                           24.5                 31.5           36.5   \n",
       "2019-01-03                           27.5                 31.0           37.5   \n",
       "2019-01-04                           26.0                 33.0           35.5   \n",
       "2019-01-05                           30.5                 33.0           31.0   \n",
       "...                                   ...                  ...            ...   \n",
       "2019-03-27                           41.0                 36.5           34.0   \n",
       "2019-03-28                           39.0                 38.0           34.0   \n",
       "2019-03-29                           36.5                 37.0           31.5   \n",
       "2019-03-30                           33.0                 39.0           34.5   \n",
       "2019-03-31                           38.0                 42.0           41.5   \n",
       "\n",
       "            BILLIE CREEK DIVIDE  COLD SPRINGS CAMP  SEVENMILE MARSH  \\\n",
       "2019-01-01                 24.0               25.0             25.0   \n",
       "2019-01-02                 32.0               36.0             30.5   \n",
       "2019-01-03                 32.5               36.5             33.0   \n",
       "2019-01-04                 34.0               36.5             32.5   \n",
       "2019-01-05                 33.0               32.5             32.0   \n",
       "...                         ...                ...              ...   \n",
       "2019-03-27                 36.5               34.0             35.0   \n",
       "2019-03-28                 37.0               34.5             33.0   \n",
       "2019-03-29                 35.5               33.0             32.5   \n",
       "2019-03-30                 37.0               36.0             37.0   \n",
       "2019-03-31                 42.0               42.0             42.5   \n",
       "\n",
       "            ANNIE SPRINGS CRATER LAKE NPS HQ  \n",
       "2019-01-01           24.0               16.5  \n",
       "2019-01-02           32.0               27.0  \n",
       "2019-01-03           34.0               31.5  \n",
       "2019-01-04           32.0               31.0  \n",
       "2019-01-05           30.5               29.5  \n",
       "...                   ...                ...  \n",
       "2019-03-27           32.5               26.0  \n",
       "2019-03-28           30.5               24.0  \n",
       "2019-03-29           30.5               24.5  \n",
       "2019-03-30           31.0               26.5  \n",
       "2019-03-31           36.5               29.5  \n",
       "\n",
       "[90 rows x 8 columns]"
      ]
     },
     "execution_count": 3,
     "metadata": {},
     "output_type": "execute_result"
    }
   ],
   "source": [
    "# avgt = avgt.set_index('Unnamed: 0')\n",
    "# avgt.head()\n",
    "avgt"
   ]
  },
  {
   "cell_type": "markdown",
   "metadata": {
    "slideshow": {
     "slide_type": "subslide"
    }
   },
   "source": [
    "Can you use a string to select a specific row?\n",
    "\n"
   ]
  },
  {
   "cell_type": "code",
   "execution_count": 14,
   "metadata": {},
   "outputs": [
    {
     "data": {
      "text/plain": [
       "CHILOQUIN 12 NW (FORT KLAMATH)    36.5\n",
       "SELDOM CREEK OREGON               34.0\n",
       "FOURMILE LAKE                     30.5\n",
       "BILLIE CREEK DIVIDE               34.0\n",
       "COLD SPRINGS CAMP                 31.0\n",
       "SEVENMILE MARSH                   31.5\n",
       "ANNIE SPRINGS                     30.0\n",
       "CRATER LAKE NPS HQ                28.0\n",
       "Name: 2019-01-17 00:00:00, dtype: object"
      ]
     },
     "execution_count": 14,
     "metadata": {},
     "output_type": "execute_result"
    }
   ],
   "source": [
    "avgt.loc[\"2019-01-17\"]"
   ]
  },
  {
   "cell_type": "markdown",
   "metadata": {
    "slideshow": {
     "slide_type": "subslide"
    }
   },
   "source": [
    "Can you use part of the string to select a specific month?\n",
    "\n"
   ]
  },
  {
   "cell_type": "code",
   "execution_count": 19,
   "metadata": {},
   "outputs": [
    {
     "data": {
      "text/html": [
       "<div>\n",
       "<style scoped>\n",
       "    .dataframe tbody tr th:only-of-type {\n",
       "        vertical-align: middle;\n",
       "    }\n",
       "\n",
       "    .dataframe tbody tr th {\n",
       "        vertical-align: top;\n",
       "    }\n",
       "\n",
       "    .dataframe thead th {\n",
       "        text-align: right;\n",
       "    }\n",
       "</style>\n",
       "<table border=\"1\" class=\"dataframe\">\n",
       "  <thead>\n",
       "    <tr style=\"text-align: right;\">\n",
       "      <th></th>\n",
       "      <th>CHILOQUIN 12 NW (FORT KLAMATH)</th>\n",
       "      <th>SELDOM CREEK OREGON</th>\n",
       "      <th>FOURMILE LAKE</th>\n",
       "      <th>BILLIE CREEK DIVIDE</th>\n",
       "      <th>COLD SPRINGS CAMP</th>\n",
       "      <th>SEVENMILE MARSH</th>\n",
       "      <th>ANNIE SPRINGS</th>\n",
       "      <th>CRATER LAKE NPS HQ</th>\n",
       "    </tr>\n",
       "  </thead>\n",
       "  <tbody>\n",
       "    <tr>\n",
       "      <th>2019-01-01</th>\n",
       "      <td>19.0</td>\n",
       "      <td>25.5</td>\n",
       "      <td>24.5</td>\n",
       "      <td>24.0</td>\n",
       "      <td>25.0</td>\n",
       "      <td>25.0</td>\n",
       "      <td>24.0</td>\n",
       "      <td>16.5</td>\n",
       "    </tr>\n",
       "    <tr>\n",
       "      <th>2019-01-02</th>\n",
       "      <td>24.5</td>\n",
       "      <td>31.5</td>\n",
       "      <td>36.5</td>\n",
       "      <td>32.0</td>\n",
       "      <td>36.0</td>\n",
       "      <td>30.5</td>\n",
       "      <td>32.0</td>\n",
       "      <td>27.0</td>\n",
       "    </tr>\n",
       "    <tr>\n",
       "      <th>2019-01-03</th>\n",
       "      <td>27.5</td>\n",
       "      <td>31.0</td>\n",
       "      <td>37.5</td>\n",
       "      <td>32.5</td>\n",
       "      <td>36.5</td>\n",
       "      <td>33.0</td>\n",
       "      <td>34.0</td>\n",
       "      <td>31.5</td>\n",
       "    </tr>\n",
       "    <tr>\n",
       "      <th>2019-01-04</th>\n",
       "      <td>26.0</td>\n",
       "      <td>33.0</td>\n",
       "      <td>35.5</td>\n",
       "      <td>34.0</td>\n",
       "      <td>36.5</td>\n",
       "      <td>32.5</td>\n",
       "      <td>32.0</td>\n",
       "      <td>31.0</td>\n",
       "    </tr>\n",
       "    <tr>\n",
       "      <th>2019-01-05</th>\n",
       "      <td>30.5</td>\n",
       "      <td>33.0</td>\n",
       "      <td>31.0</td>\n",
       "      <td>33.0</td>\n",
       "      <td>32.5</td>\n",
       "      <td>32.0</td>\n",
       "      <td>30.5</td>\n",
       "      <td>29.5</td>\n",
       "    </tr>\n",
       "    <tr>\n",
       "      <th>...</th>\n",
       "      <td>...</td>\n",
       "      <td>...</td>\n",
       "      <td>...</td>\n",
       "      <td>...</td>\n",
       "      <td>...</td>\n",
       "      <td>...</td>\n",
       "      <td>...</td>\n",
       "      <td>...</td>\n",
       "    </tr>\n",
       "    <tr>\n",
       "      <th>2019-03-27</th>\n",
       "      <td>41.0</td>\n",
       "      <td>36.5</td>\n",
       "      <td>34.0</td>\n",
       "      <td>36.5</td>\n",
       "      <td>34.0</td>\n",
       "      <td>35.0</td>\n",
       "      <td>32.5</td>\n",
       "      <td>26.0</td>\n",
       "    </tr>\n",
       "    <tr>\n",
       "      <th>2019-03-28</th>\n",
       "      <td>39.0</td>\n",
       "      <td>38.0</td>\n",
       "      <td>34.0</td>\n",
       "      <td>37.0</td>\n",
       "      <td>34.5</td>\n",
       "      <td>33.0</td>\n",
       "      <td>30.5</td>\n",
       "      <td>24.0</td>\n",
       "    </tr>\n",
       "    <tr>\n",
       "      <th>2019-03-29</th>\n",
       "      <td>36.5</td>\n",
       "      <td>37.0</td>\n",
       "      <td>31.5</td>\n",
       "      <td>35.5</td>\n",
       "      <td>33.0</td>\n",
       "      <td>32.5</td>\n",
       "      <td>30.5</td>\n",
       "      <td>24.5</td>\n",
       "    </tr>\n",
       "    <tr>\n",
       "      <th>2019-03-30</th>\n",
       "      <td>33.0</td>\n",
       "      <td>39.0</td>\n",
       "      <td>34.5</td>\n",
       "      <td>37.0</td>\n",
       "      <td>36.0</td>\n",
       "      <td>37.0</td>\n",
       "      <td>31.0</td>\n",
       "      <td>26.5</td>\n",
       "    </tr>\n",
       "    <tr>\n",
       "      <th>2019-03-31</th>\n",
       "      <td>38.0</td>\n",
       "      <td>42.0</td>\n",
       "      <td>41.5</td>\n",
       "      <td>42.0</td>\n",
       "      <td>42.0</td>\n",
       "      <td>42.5</td>\n",
       "      <td>36.5</td>\n",
       "      <td>29.5</td>\n",
       "    </tr>\n",
       "  </tbody>\n",
       "</table>\n",
       "<p>90 rows × 8 columns</p>\n",
       "</div>"
      ],
      "text/plain": [
       "           CHILOQUIN 12 NW (FORT KLAMATH)  SELDOM CREEK OREGON  FOURMILE LAKE  \\\n",
       "2019-01-01                           19.0                 25.5           24.5   \n",
       "2019-01-02                           24.5                 31.5           36.5   \n",
       "2019-01-03                           27.5                 31.0           37.5   \n",
       "2019-01-04                           26.0                 33.0           35.5   \n",
       "2019-01-05                           30.5                 33.0           31.0   \n",
       "...                                   ...                  ...            ...   \n",
       "2019-03-27                           41.0                 36.5           34.0   \n",
       "2019-03-28                           39.0                 38.0           34.0   \n",
       "2019-03-29                           36.5                 37.0           31.5   \n",
       "2019-03-30                           33.0                 39.0           34.5   \n",
       "2019-03-31                           38.0                 42.0           41.5   \n",
       "\n",
       "            BILLIE CREEK DIVIDE  COLD SPRINGS CAMP  SEVENMILE MARSH  \\\n",
       "2019-01-01                 24.0               25.0             25.0   \n",
       "2019-01-02                 32.0               36.0             30.5   \n",
       "2019-01-03                 32.5               36.5             33.0   \n",
       "2019-01-04                 34.0               36.5             32.5   \n",
       "2019-01-05                 33.0               32.5             32.0   \n",
       "...                         ...                ...              ...   \n",
       "2019-03-27                 36.5               34.0             35.0   \n",
       "2019-03-28                 37.0               34.5             33.0   \n",
       "2019-03-29                 35.5               33.0             32.5   \n",
       "2019-03-30                 37.0               36.0             37.0   \n",
       "2019-03-31                 42.0               42.0             42.5   \n",
       "\n",
       "            ANNIE SPRINGS CRATER LAKE NPS HQ  \n",
       "2019-01-01           24.0               16.5  \n",
       "2019-01-02           32.0               27.0  \n",
       "2019-01-03           34.0               31.5  \n",
       "2019-01-04           32.0               31.0  \n",
       "2019-01-05           30.5               29.5  \n",
       "...                   ...                ...  \n",
       "2019-03-27           32.5               26.0  \n",
       "2019-03-28           30.5               24.0  \n",
       "2019-03-29           30.5               24.5  \n",
       "2019-03-30           31.0               26.5  \n",
       "2019-03-31           36.5               29.5  \n",
       "\n",
       "[90 rows x 8 columns]"
      ]
     },
     "execution_count": 19,
     "metadata": {},
     "output_type": "execute_result"
    }
   ],
   "source": [
    "avgt.loc[\"2019\"]"
   ]
  },
  {
   "cell_type": "markdown",
   "metadata": {
    "slideshow": {
     "slide_type": "subslide"
    }
   },
   "source": [
    "What if you used the string syntax to select a range of dates? For example, select the data from 1/5/2019 to 1/21/2019\n",
    "\n"
   ]
  },
  {
   "cell_type": "code",
   "execution_count": 20,
   "metadata": {},
   "outputs": [
    {
     "data": {
      "text/html": [
       "<div>\n",
       "<style scoped>\n",
       "    .dataframe tbody tr th:only-of-type {\n",
       "        vertical-align: middle;\n",
       "    }\n",
       "\n",
       "    .dataframe tbody tr th {\n",
       "        vertical-align: top;\n",
       "    }\n",
       "\n",
       "    .dataframe thead th {\n",
       "        text-align: right;\n",
       "    }\n",
       "</style>\n",
       "<table border=\"1\" class=\"dataframe\">\n",
       "  <thead>\n",
       "    <tr style=\"text-align: right;\">\n",
       "      <th></th>\n",
       "      <th>CHILOQUIN 12 NW (FORT KLAMATH)</th>\n",
       "      <th>SELDOM CREEK OREGON</th>\n",
       "      <th>FOURMILE LAKE</th>\n",
       "      <th>BILLIE CREEK DIVIDE</th>\n",
       "      <th>COLD SPRINGS CAMP</th>\n",
       "      <th>SEVENMILE MARSH</th>\n",
       "      <th>ANNIE SPRINGS</th>\n",
       "      <th>CRATER LAKE NPS HQ</th>\n",
       "    </tr>\n",
       "  </thead>\n",
       "  <tbody>\n",
       "    <tr>\n",
       "      <th>2019-01-02</th>\n",
       "      <td>24.5</td>\n",
       "      <td>31.5</td>\n",
       "      <td>36.5</td>\n",
       "      <td>32.0</td>\n",
       "      <td>36.0</td>\n",
       "      <td>30.5</td>\n",
       "      <td>32.0</td>\n",
       "      <td>27.0</td>\n",
       "    </tr>\n",
       "    <tr>\n",
       "      <th>2019-01-03</th>\n",
       "      <td>27.5</td>\n",
       "      <td>31.0</td>\n",
       "      <td>37.5</td>\n",
       "      <td>32.5</td>\n",
       "      <td>36.5</td>\n",
       "      <td>33.0</td>\n",
       "      <td>34.0</td>\n",
       "      <td>31.5</td>\n",
       "    </tr>\n",
       "    <tr>\n",
       "      <th>2019-01-04</th>\n",
       "      <td>26.0</td>\n",
       "      <td>33.0</td>\n",
       "      <td>35.5</td>\n",
       "      <td>34.0</td>\n",
       "      <td>36.5</td>\n",
       "      <td>32.5</td>\n",
       "      <td>32.0</td>\n",
       "      <td>31.0</td>\n",
       "    </tr>\n",
       "    <tr>\n",
       "      <th>2019-01-05</th>\n",
       "      <td>30.5</td>\n",
       "      <td>33.0</td>\n",
       "      <td>31.0</td>\n",
       "      <td>33.0</td>\n",
       "      <td>32.5</td>\n",
       "      <td>32.0</td>\n",
       "      <td>30.5</td>\n",
       "      <td>29.5</td>\n",
       "    </tr>\n",
       "  </tbody>\n",
       "</table>\n",
       "</div>"
      ],
      "text/plain": [
       "           CHILOQUIN 12 NW (FORT KLAMATH)  SELDOM CREEK OREGON  FOURMILE LAKE  \\\n",
       "2019-01-02                           24.5                 31.5           36.5   \n",
       "2019-01-03                           27.5                 31.0           37.5   \n",
       "2019-01-04                           26.0                 33.0           35.5   \n",
       "2019-01-05                           30.5                 33.0           31.0   \n",
       "\n",
       "            BILLIE CREEK DIVIDE  COLD SPRINGS CAMP  SEVENMILE MARSH  \\\n",
       "2019-01-02                 32.0               36.0             30.5   \n",
       "2019-01-03                 32.5               36.5             33.0   \n",
       "2019-01-04                 34.0               36.5             32.5   \n",
       "2019-01-05                 33.0               32.5             32.0   \n",
       "\n",
       "            ANNIE SPRINGS CRATER LAKE NPS HQ  \n",
       "2019-01-02           32.0               27.0  \n",
       "2019-01-03           34.0               31.5  \n",
       "2019-01-04           32.0               31.0  \n",
       "2019-01-05           30.5               29.5  "
      ]
     },
     "execution_count": 20,
     "metadata": {},
     "output_type": "execute_result"
    }
   ],
   "source": [
    "avgt.loc[\"2019-01-02\":\"2019-01-05\"]"
   ]
  },
  {
   "cell_type": "markdown",
   "metadata": {
    "slideshow": {
     "slide_type": "subslide"
    }
   },
   "source": [
    "Use the `pandas` function `date_range` to create the same range as above and use it to select the data\n",
    "\n"
   ]
  },
  {
   "cell_type": "code",
   "execution_count": 27,
   "metadata": {},
   "outputs": [
    {
     "data": {
      "text/html": [
       "<div>\n",
       "<style scoped>\n",
       "    .dataframe tbody tr th:only-of-type {\n",
       "        vertical-align: middle;\n",
       "    }\n",
       "\n",
       "    .dataframe tbody tr th {\n",
       "        vertical-align: top;\n",
       "    }\n",
       "\n",
       "    .dataframe thead th {\n",
       "        text-align: right;\n",
       "    }\n",
       "</style>\n",
       "<table border=\"1\" class=\"dataframe\">\n",
       "  <thead>\n",
       "    <tr style=\"text-align: right;\">\n",
       "      <th></th>\n",
       "      <th>CHILOQUIN 12 NW (FORT KLAMATH)</th>\n",
       "      <th>SELDOM CREEK OREGON</th>\n",
       "      <th>FOURMILE LAKE</th>\n",
       "      <th>BILLIE CREEK DIVIDE</th>\n",
       "      <th>COLD SPRINGS CAMP</th>\n",
       "      <th>SEVENMILE MARSH</th>\n",
       "      <th>ANNIE SPRINGS</th>\n",
       "      <th>CRATER LAKE NPS HQ</th>\n",
       "    </tr>\n",
       "  </thead>\n",
       "  <tbody>\n",
       "    <tr>\n",
       "      <th>2019-01-02</th>\n",
       "      <td>24.5</td>\n",
       "      <td>31.5</td>\n",
       "      <td>36.5</td>\n",
       "      <td>32.0</td>\n",
       "      <td>36.0</td>\n",
       "      <td>30.5</td>\n",
       "      <td>32.0</td>\n",
       "      <td>27.0</td>\n",
       "    </tr>\n",
       "    <tr>\n",
       "      <th>2019-01-03</th>\n",
       "      <td>27.5</td>\n",
       "      <td>31.0</td>\n",
       "      <td>37.5</td>\n",
       "      <td>32.5</td>\n",
       "      <td>36.5</td>\n",
       "      <td>33.0</td>\n",
       "      <td>34.0</td>\n",
       "      <td>31.5</td>\n",
       "    </tr>\n",
       "    <tr>\n",
       "      <th>2019-01-04</th>\n",
       "      <td>26.0</td>\n",
       "      <td>33.0</td>\n",
       "      <td>35.5</td>\n",
       "      <td>34.0</td>\n",
       "      <td>36.5</td>\n",
       "      <td>32.5</td>\n",
       "      <td>32.0</td>\n",
       "      <td>31.0</td>\n",
       "    </tr>\n",
       "    <tr>\n",
       "      <th>2019-01-05</th>\n",
       "      <td>30.5</td>\n",
       "      <td>33.0</td>\n",
       "      <td>31.0</td>\n",
       "      <td>33.0</td>\n",
       "      <td>32.5</td>\n",
       "      <td>32.0</td>\n",
       "      <td>30.5</td>\n",
       "      <td>29.5</td>\n",
       "    </tr>\n",
       "  </tbody>\n",
       "</table>\n",
       "</div>"
      ],
      "text/plain": [
       "           CHILOQUIN 12 NW (FORT KLAMATH)  SELDOM CREEK OREGON  FOURMILE LAKE  \\\n",
       "2019-01-02                           24.5                 31.5           36.5   \n",
       "2019-01-03                           27.5                 31.0           37.5   \n",
       "2019-01-04                           26.0                 33.0           35.5   \n",
       "2019-01-05                           30.5                 33.0           31.0   \n",
       "\n",
       "            BILLIE CREEK DIVIDE  COLD SPRINGS CAMP  SEVENMILE MARSH  \\\n",
       "2019-01-02                 32.0               36.0             30.5   \n",
       "2019-01-03                 32.5               36.5             33.0   \n",
       "2019-01-04                 34.0               36.5             32.5   \n",
       "2019-01-05                 33.0               32.5             32.0   \n",
       "\n",
       "            ANNIE SPRINGS CRATER LAKE NPS HQ  \n",
       "2019-01-02           32.0               27.0  \n",
       "2019-01-03           34.0               31.5  \n",
       "2019-01-04           32.0               31.0  \n",
       "2019-01-05           30.5               29.5  "
      ]
     },
     "execution_count": 27,
     "metadata": {},
     "output_type": "execute_result"
    }
   ],
   "source": [
    "dt = pd.date_range(\"2019-01-02\", \"2019-01-05\")\n",
    "avgt.loc[dt]"
   ]
  },
  {
   "cell_type": "markdown",
   "metadata": {
    "slideshow": {
     "slide_type": "subslide"
    }
   },
   "source": [
    "Now can you use the `date_range` function to select the first day of the week from the `avgt` data?\n",
    "\n"
   ]
  },
  {
   "cell_type": "code",
   "execution_count": 36,
   "metadata": {},
   "outputs": [
    {
     "data": {
      "text/html": [
       "<div>\n",
       "<style scoped>\n",
       "    .dataframe tbody tr th:only-of-type {\n",
       "        vertical-align: middle;\n",
       "    }\n",
       "\n",
       "    .dataframe tbody tr th {\n",
       "        vertical-align: top;\n",
       "    }\n",
       "\n",
       "    .dataframe thead th {\n",
       "        text-align: right;\n",
       "    }\n",
       "</style>\n",
       "<table border=\"1\" class=\"dataframe\">\n",
       "  <thead>\n",
       "    <tr style=\"text-align: right;\">\n",
       "      <th></th>\n",
       "      <th>CHILOQUIN 12 NW (FORT KLAMATH)</th>\n",
       "      <th>SELDOM CREEK OREGON</th>\n",
       "      <th>FOURMILE LAKE</th>\n",
       "      <th>BILLIE CREEK DIVIDE</th>\n",
       "      <th>COLD SPRINGS CAMP</th>\n",
       "      <th>SEVENMILE MARSH</th>\n",
       "      <th>ANNIE SPRINGS</th>\n",
       "      <th>CRATER LAKE NPS HQ</th>\n",
       "    </tr>\n",
       "  </thead>\n",
       "  <tbody>\n",
       "    <tr>\n",
       "      <th>2019-01-01 00:00:00</th>\n",
       "      <td>19.0</td>\n",
       "      <td>25.5</td>\n",
       "      <td>24.5</td>\n",
       "      <td>24.0</td>\n",
       "      <td>25.0</td>\n",
       "      <td>25.0</td>\n",
       "      <td>24.0</td>\n",
       "      <td>16.5</td>\n",
       "    </tr>\n",
       "    <tr>\n",
       "      <th>2019-01-01 03:00:00</th>\n",
       "      <td>19.0</td>\n",
       "      <td>25.5</td>\n",
       "      <td>24.5</td>\n",
       "      <td>24.0</td>\n",
       "      <td>25.0</td>\n",
       "      <td>25.0</td>\n",
       "      <td>24.0</td>\n",
       "      <td>16.5</td>\n",
       "    </tr>\n",
       "    <tr>\n",
       "      <th>2019-01-01 06:00:00</th>\n",
       "      <td>19.0</td>\n",
       "      <td>25.5</td>\n",
       "      <td>24.5</td>\n",
       "      <td>24.0</td>\n",
       "      <td>25.0</td>\n",
       "      <td>25.0</td>\n",
       "      <td>24.0</td>\n",
       "      <td>16.5</td>\n",
       "    </tr>\n",
       "    <tr>\n",
       "      <th>2019-01-01 09:00:00</th>\n",
       "      <td>19.0</td>\n",
       "      <td>25.5</td>\n",
       "      <td>24.5</td>\n",
       "      <td>24.0</td>\n",
       "      <td>25.0</td>\n",
       "      <td>25.0</td>\n",
       "      <td>24.0</td>\n",
       "      <td>16.5</td>\n",
       "    </tr>\n",
       "    <tr>\n",
       "      <th>2019-01-01 12:00:00</th>\n",
       "      <td>24.5</td>\n",
       "      <td>31.5</td>\n",
       "      <td>36.5</td>\n",
       "      <td>32.0</td>\n",
       "      <td>36.0</td>\n",
       "      <td>30.5</td>\n",
       "      <td>32.0</td>\n",
       "      <td>27.0</td>\n",
       "    </tr>\n",
       "    <tr>\n",
       "      <th>...</th>\n",
       "      <td>...</td>\n",
       "      <td>...</td>\n",
       "      <td>...</td>\n",
       "      <td>...</td>\n",
       "      <td>...</td>\n",
       "      <td>...</td>\n",
       "      <td>...</td>\n",
       "      <td>...</td>\n",
       "    </tr>\n",
       "    <tr>\n",
       "      <th>2019-03-30 12:00:00</th>\n",
       "      <td>38.0</td>\n",
       "      <td>42.0</td>\n",
       "      <td>41.5</td>\n",
       "      <td>42.0</td>\n",
       "      <td>42.0</td>\n",
       "      <td>42.5</td>\n",
       "      <td>36.5</td>\n",
       "      <td>29.5</td>\n",
       "    </tr>\n",
       "    <tr>\n",
       "      <th>2019-03-30 15:00:00</th>\n",
       "      <td>38.0</td>\n",
       "      <td>42.0</td>\n",
       "      <td>41.5</td>\n",
       "      <td>42.0</td>\n",
       "      <td>42.0</td>\n",
       "      <td>42.5</td>\n",
       "      <td>36.5</td>\n",
       "      <td>29.5</td>\n",
       "    </tr>\n",
       "    <tr>\n",
       "      <th>2019-03-30 18:00:00</th>\n",
       "      <td>38.0</td>\n",
       "      <td>42.0</td>\n",
       "      <td>41.5</td>\n",
       "      <td>42.0</td>\n",
       "      <td>42.0</td>\n",
       "      <td>42.5</td>\n",
       "      <td>36.5</td>\n",
       "      <td>29.5</td>\n",
       "    </tr>\n",
       "    <tr>\n",
       "      <th>2019-03-30 21:00:00</th>\n",
       "      <td>38.0</td>\n",
       "      <td>42.0</td>\n",
       "      <td>41.5</td>\n",
       "      <td>42.0</td>\n",
       "      <td>42.0</td>\n",
       "      <td>42.5</td>\n",
       "      <td>36.5</td>\n",
       "      <td>29.5</td>\n",
       "    </tr>\n",
       "    <tr>\n",
       "      <th>2019-03-31 00:00:00</th>\n",
       "      <td>38.0</td>\n",
       "      <td>42.0</td>\n",
       "      <td>41.5</td>\n",
       "      <td>42.0</td>\n",
       "      <td>42.0</td>\n",
       "      <td>42.5</td>\n",
       "      <td>36.5</td>\n",
       "      <td>29.5</td>\n",
       "    </tr>\n",
       "  </tbody>\n",
       "</table>\n",
       "<p>713 rows × 8 columns</p>\n",
       "</div>"
      ],
      "text/plain": [
       "                    CHILOQUIN 12 NW (FORT KLAMATH)  SELDOM CREEK OREGON  \\\n",
       "2019-01-01 00:00:00                           19.0                 25.5   \n",
       "2019-01-01 03:00:00                           19.0                 25.5   \n",
       "2019-01-01 06:00:00                           19.0                 25.5   \n",
       "2019-01-01 09:00:00                           19.0                 25.5   \n",
       "2019-01-01 12:00:00                           24.5                 31.5   \n",
       "...                                            ...                  ...   \n",
       "2019-03-30 12:00:00                           38.0                 42.0   \n",
       "2019-03-30 15:00:00                           38.0                 42.0   \n",
       "2019-03-30 18:00:00                           38.0                 42.0   \n",
       "2019-03-30 21:00:00                           38.0                 42.0   \n",
       "2019-03-31 00:00:00                           38.0                 42.0   \n",
       "\n",
       "                     FOURMILE LAKE  BILLIE CREEK DIVIDE  COLD SPRINGS CAMP  \\\n",
       "2019-01-01 00:00:00           24.5                 24.0               25.0   \n",
       "2019-01-01 03:00:00           24.5                 24.0               25.0   \n",
       "2019-01-01 06:00:00           24.5                 24.0               25.0   \n",
       "2019-01-01 09:00:00           24.5                 24.0               25.0   \n",
       "2019-01-01 12:00:00           36.5                 32.0               36.0   \n",
       "...                            ...                  ...                ...   \n",
       "2019-03-30 12:00:00           41.5                 42.0               42.0   \n",
       "2019-03-30 15:00:00           41.5                 42.0               42.0   \n",
       "2019-03-30 18:00:00           41.5                 42.0               42.0   \n",
       "2019-03-30 21:00:00           41.5                 42.0               42.0   \n",
       "2019-03-31 00:00:00           41.5                 42.0               42.0   \n",
       "\n",
       "                     SEVENMILE MARSH  ANNIE SPRINGS CRATER LAKE NPS HQ  \n",
       "2019-01-01 00:00:00             25.0           24.0               16.5  \n",
       "2019-01-01 03:00:00             25.0           24.0               16.5  \n",
       "2019-01-01 06:00:00             25.0           24.0               16.5  \n",
       "2019-01-01 09:00:00             25.0           24.0               16.5  \n",
       "2019-01-01 12:00:00             30.5           32.0               27.0  \n",
       "...                              ...            ...                ...  \n",
       "2019-03-30 12:00:00             42.5           36.5               29.5  \n",
       "2019-03-30 15:00:00             42.5           36.5               29.5  \n",
       "2019-03-30 18:00:00             42.5           36.5               29.5  \n",
       "2019-03-30 21:00:00             42.5           36.5               29.5  \n",
       "2019-03-31 00:00:00             42.5           36.5               29.5  \n",
       "\n",
       "[713 rows x 8 columns]"
      ]
     },
     "execution_count": 36,
     "metadata": {},
     "output_type": "execute_result"
    }
   ],
   "source": [
    "dt = pd.date_range(\"20190101\", \"20190331\", freq='3H')\n",
    "avgt.reindex(dt, method='nearest')"
   ]
  },
  {
   "cell_type": "code",
   "execution_count": 9,
   "metadata": {},
   "outputs": [
    {
     "data": {
      "text/plain": [
       "CHILOQUIN 12 NW (FORT KLAMATH)    float64\n",
       "SELDOM CREEK OREGON               float64\n",
       "FOURMILE LAKE                     float64\n",
       "BILLIE CREEK DIVIDE               float64\n",
       "COLD SPRINGS CAMP                 float64\n",
       "SEVENMILE MARSH                   float64\n",
       "ANNIE SPRINGS                     float64\n",
       "CRATER LAKE NPS HQ                float64\n",
       "dtype: object"
      ]
     },
     "execution_count": 9,
     "metadata": {},
     "output_type": "execute_result"
    }
   ],
   "source": [
    "avgt.dtypes"
   ]
  },
  {
   "cell_type": "code",
   "execution_count": 8,
   "metadata": {},
   "outputs": [],
   "source": [
    "avgt = avgt.replace({'M': np.nan}).astype('float64')"
   ]
  },
  {
   "cell_type": "markdown",
   "metadata": {
    "slideshow": {
     "slide_type": "subslide"
    }
   },
   "source": [
    "Sometimes we want to lag our time series, what happens if you use the `shift` function?\n",
    "\n"
   ]
  },
  {
   "cell_type": "code",
   "execution_count": 93,
   "metadata": {},
   "outputs": [
    {
     "data": {
      "text/html": [
       "<div>\n",
       "<style scoped>\n",
       "    .dataframe tbody tr th:only-of-type {\n",
       "        vertical-align: middle;\n",
       "    }\n",
       "\n",
       "    .dataframe tbody tr th {\n",
       "        vertical-align: top;\n",
       "    }\n",
       "\n",
       "    .dataframe thead th {\n",
       "        text-align: right;\n",
       "    }\n",
       "</style>\n",
       "<table border=\"1\" class=\"dataframe\">\n",
       "  <thead>\n",
       "    <tr style=\"text-align: right;\">\n",
       "      <th></th>\n",
       "      <th>CHILOQUIN 12 NW (FORT KLAMATH)</th>\n",
       "      <th>SELDOM CREEK OREGON</th>\n",
       "      <th>FOURMILE LAKE</th>\n",
       "      <th>BILLIE CREEK DIVIDE</th>\n",
       "      <th>COLD SPRINGS CAMP</th>\n",
       "      <th>SEVENMILE MARSH</th>\n",
       "      <th>ANNIE SPRINGS</th>\n",
       "      <th>CRATER LAKE NPS HQ</th>\n",
       "    </tr>\n",
       "  </thead>\n",
       "  <tbody>\n",
       "    <tr>\n",
       "      <th>2019-01-01</th>\n",
       "      <td>NaN</td>\n",
       "      <td>NaN</td>\n",
       "      <td>NaN</td>\n",
       "      <td>NaN</td>\n",
       "      <td>NaN</td>\n",
       "      <td>NaN</td>\n",
       "      <td>NaN</td>\n",
       "      <td>NaN</td>\n",
       "    </tr>\n",
       "    <tr>\n",
       "      <th>2019-01-02</th>\n",
       "      <td>19.0</td>\n",
       "      <td>25.5</td>\n",
       "      <td>24.5</td>\n",
       "      <td>24.0</td>\n",
       "      <td>25.0</td>\n",
       "      <td>25.0</td>\n",
       "      <td>24.0</td>\n",
       "      <td>16.5</td>\n",
       "    </tr>\n",
       "    <tr>\n",
       "      <th>2019-01-03</th>\n",
       "      <td>24.5</td>\n",
       "      <td>31.5</td>\n",
       "      <td>36.5</td>\n",
       "      <td>32.0</td>\n",
       "      <td>36.0</td>\n",
       "      <td>30.5</td>\n",
       "      <td>32.0</td>\n",
       "      <td>27.0</td>\n",
       "    </tr>\n",
       "    <tr>\n",
       "      <th>2019-01-04</th>\n",
       "      <td>27.5</td>\n",
       "      <td>31.0</td>\n",
       "      <td>37.5</td>\n",
       "      <td>32.5</td>\n",
       "      <td>36.5</td>\n",
       "      <td>33.0</td>\n",
       "      <td>34.0</td>\n",
       "      <td>31.5</td>\n",
       "    </tr>\n",
       "    <tr>\n",
       "      <th>2019-01-05</th>\n",
       "      <td>26.0</td>\n",
       "      <td>33.0</td>\n",
       "      <td>35.5</td>\n",
       "      <td>34.0</td>\n",
       "      <td>36.5</td>\n",
       "      <td>32.5</td>\n",
       "      <td>32.0</td>\n",
       "      <td>31.0</td>\n",
       "    </tr>\n",
       "  </tbody>\n",
       "</table>\n",
       "</div>"
      ],
      "text/plain": [
       "            CHILOQUIN 12 NW (FORT KLAMATH)  SELDOM CREEK OREGON  \\\n",
       "2019-01-01                             NaN                  NaN   \n",
       "2019-01-02                            19.0                 25.5   \n",
       "2019-01-03                            24.5                 31.5   \n",
       "2019-01-04                            27.5                 31.0   \n",
       "2019-01-05                            26.0                 33.0   \n",
       "\n",
       "            FOURMILE LAKE  BILLIE CREEK DIVIDE  COLD SPRINGS CAMP  \\\n",
       "2019-01-01            NaN                  NaN                NaN   \n",
       "2019-01-02           24.5                 24.0               25.0   \n",
       "2019-01-03           36.5                 32.0               36.0   \n",
       "2019-01-04           37.5                 32.5               36.5   \n",
       "2019-01-05           35.5                 34.0               36.5   \n",
       "\n",
       "            SEVENMILE MARSH  ANNIE SPRINGS  CRATER LAKE NPS HQ  \n",
       "2019-01-01              NaN            NaN                 NaN  \n",
       "2019-01-02             25.0           24.0                16.5  \n",
       "2019-01-03             30.5           32.0                27.0  \n",
       "2019-01-04             33.0           34.0                31.5  \n",
       "2019-01-05             32.5           32.0                31.0  "
      ]
     },
     "execution_count": 93,
     "metadata": {},
     "output_type": "execute_result"
    }
   ],
   "source": [
    "avgt.shift(1).head()"
   ]
  },
  {
   "cell_type": "code",
   "execution_count": 92,
   "metadata": {},
   "outputs": [
    {
     "data": {
      "text/plain": [
       "CHILOQUIN 12 NW (FORT KLAMATH)    0.661962\n",
       "SELDOM CREEK OREGON               0.774069\n",
       "FOURMILE LAKE                     0.820072\n",
       "BILLIE CREEK DIVIDE               0.803320\n",
       "COLD SPRINGS CAMP                 0.830199\n",
       "SEVENMILE MARSH                   0.827461\n",
       "ANNIE SPRINGS                     0.795698\n",
       "CRATER LAKE NPS HQ                0.836904\n",
       "dtype: float64"
      ]
     },
     "execution_count": 92,
     "metadata": {},
     "output_type": "execute_result"
    }
   ],
   "source": [
    "avgt.corrwith(avgt.shift(1))"
   ]
  },
  {
   "cell_type": "markdown",
   "metadata": {
    "slideshow": {
     "slide_type": "subslide"
    }
   },
   "source": [
    "Can you use the `groupby` functionality to calculate the number of days that had a temperature less than 10° and above 12°?\n",
    "\n"
   ]
  },
  {
   "cell_type": "code",
   "execution_count": 10,
   "metadata": {},
   "outputs": [],
   "source": [
    "def check_temp(T):\n",
    "    if T < 10:\n",
    "        return \"<10\"\n",
    "    elif T > 12:\n",
    "        return \">12\"\n",
    "    else:\n",
    "        return \"Other\""
   ]
  },
  {
   "cell_type": "code",
   "execution_count": 15,
   "metadata": {},
   "outputs": [
    {
     "data": {
      "text/plain": [
       "CHILOQUIN 12 NW (FORT KLAMATH)\n",
       ">12      89\n",
       "Other     0\n",
       "Name: CHILOQUIN 12 NW (FORT KLAMATH), dtype: int64"
      ]
     },
     "execution_count": 15,
     "metadata": {},
     "output_type": "execute_result"
    }
   ],
   "source": [
    "x = avgt['CHILOQUIN 12 NW (FORT KLAMATH)']\n",
    "x.groupby(x.apply(check_temp)).count()"
   ]
  },
  {
   "cell_type": "code",
   "execution_count": 16,
   "metadata": {
    "scrolled": true
   },
   "outputs": [
    {
     "data": {
      "text/html": [
       "<div>\n",
       "<style scoped>\n",
       "    .dataframe tbody tr th:only-of-type {\n",
       "        vertical-align: middle;\n",
       "    }\n",
       "\n",
       "    .dataframe tbody tr th {\n",
       "        vertical-align: top;\n",
       "    }\n",
       "\n",
       "    .dataframe thead th {\n",
       "        text-align: right;\n",
       "    }\n",
       "</style>\n",
       "<table border=\"1\" class=\"dataframe\">\n",
       "  <thead>\n",
       "    <tr style=\"text-align: right;\">\n",
       "      <th></th>\n",
       "      <th>CHILOQUIN 12 NW (FORT KLAMATH)</th>\n",
       "      <th>SELDOM CREEK OREGON</th>\n",
       "      <th>FOURMILE LAKE</th>\n",
       "      <th>BILLIE CREEK DIVIDE</th>\n",
       "      <th>COLD SPRINGS CAMP</th>\n",
       "      <th>SEVENMILE MARSH</th>\n",
       "      <th>ANNIE SPRINGS</th>\n",
       "      <th>CRATER LAKE NPS HQ</th>\n",
       "    </tr>\n",
       "  </thead>\n",
       "  <tbody>\n",
       "    <tr>\n",
       "      <th>&lt;10</th>\n",
       "      <td>NaN</td>\n",
       "      <td>NaN</td>\n",
       "      <td>NaN</td>\n",
       "      <td>NaN</td>\n",
       "      <td>NaN</td>\n",
       "      <td>NaN</td>\n",
       "      <td>NaN</td>\n",
       "      <td>1</td>\n",
       "    </tr>\n",
       "    <tr>\n",
       "      <th>&gt;12</th>\n",
       "      <td>89.0</td>\n",
       "      <td>90.0</td>\n",
       "      <td>90.0</td>\n",
       "      <td>90.0</td>\n",
       "      <td>90.0</td>\n",
       "      <td>90.0</td>\n",
       "      <td>90.0</td>\n",
       "      <td>85</td>\n",
       "    </tr>\n",
       "    <tr>\n",
       "      <th>Other</th>\n",
       "      <td>0.0</td>\n",
       "      <td>NaN</td>\n",
       "      <td>NaN</td>\n",
       "      <td>NaN</td>\n",
       "      <td>NaN</td>\n",
       "      <td>NaN</td>\n",
       "      <td>NaN</td>\n",
       "      <td>3</td>\n",
       "    </tr>\n",
       "  </tbody>\n",
       "</table>\n",
       "</div>"
      ],
      "text/plain": [
       "       CHILOQUIN 12 NW (FORT KLAMATH)  SELDOM CREEK OREGON  FOURMILE LAKE  \\\n",
       "<10                               NaN                  NaN            NaN   \n",
       ">12                              89.0                 90.0           90.0   \n",
       "Other                             0.0                  NaN            NaN   \n",
       "\n",
       "       BILLIE CREEK DIVIDE  COLD SPRINGS CAMP  SEVENMILE MARSH  ANNIE SPRINGS  \\\n",
       "<10                    NaN                NaN              NaN            NaN   \n",
       ">12                   90.0               90.0             90.0           90.0   \n",
       "Other                  NaN                NaN              NaN            NaN   \n",
       "\n",
       "       CRATER LAKE NPS HQ  \n",
       "<10                     1  \n",
       ">12                    85  \n",
       "Other                   3  "
      ]
     },
     "execution_count": 16,
     "metadata": {},
     "output_type": "execute_result"
    }
   ],
   "source": [
    "avgt.apply(lambda s: s.groupby(s.apply(check_temp)).count())"
   ]
  },
  {
   "cell_type": "markdown",
   "metadata": {
    "slideshow": {
     "slide_type": "subslide"
    }
   },
   "source": [
    "Now using the `groupby` functionality, calculate the average monthly temperature\n",
    "\n"
   ]
  },
  {
   "cell_type": "code",
   "execution_count": 95,
   "metadata": {},
   "outputs": [
    {
     "data": {
      "text/html": [
       "<div>\n",
       "<style scoped>\n",
       "    .dataframe tbody tr th:only-of-type {\n",
       "        vertical-align: middle;\n",
       "    }\n",
       "\n",
       "    .dataframe tbody tr th {\n",
       "        vertical-align: top;\n",
       "    }\n",
       "\n",
       "    .dataframe thead th {\n",
       "        text-align: right;\n",
       "    }\n",
       "</style>\n",
       "<table border=\"1\" class=\"dataframe\">\n",
       "  <thead>\n",
       "    <tr style=\"text-align: right;\">\n",
       "      <th></th>\n",
       "      <th>CHILOQUIN 12 NW (FORT KLAMATH)</th>\n",
       "      <th>SELDOM CREEK OREGON</th>\n",
       "      <th>FOURMILE LAKE</th>\n",
       "      <th>BILLIE CREEK DIVIDE</th>\n",
       "      <th>COLD SPRINGS CAMP</th>\n",
       "      <th>SEVENMILE MARSH</th>\n",
       "      <th>ANNIE SPRINGS</th>\n",
       "      <th>CRATER LAKE NPS HQ</th>\n",
       "    </tr>\n",
       "  </thead>\n",
       "  <tbody>\n",
       "    <tr>\n",
       "      <th>1</th>\n",
       "      <td>31.645161</td>\n",
       "      <td>33.935484</td>\n",
       "      <td>33.290323</td>\n",
       "      <td>34.451613</td>\n",
       "      <td>34.951613</td>\n",
       "      <td>33.145161</td>\n",
       "      <td>32.145161</td>\n",
       "      <td>29.096774</td>\n",
       "    </tr>\n",
       "    <tr>\n",
       "      <th>2</th>\n",
       "      <td>28.648148</td>\n",
       "      <td>26.250000</td>\n",
       "      <td>24.625000</td>\n",
       "      <td>26.678571</td>\n",
       "      <td>25.178571</td>\n",
       "      <td>25.464286</td>\n",
       "      <td>22.696429</td>\n",
       "      <td>19.089286</td>\n",
       "    </tr>\n",
       "    <tr>\n",
       "      <th>3</th>\n",
       "      <td>34.016129</td>\n",
       "      <td>34.370968</td>\n",
       "      <td>32.225806</td>\n",
       "      <td>34.274194</td>\n",
       "      <td>33.612903</td>\n",
       "      <td>33.693548</td>\n",
       "      <td>30.177419</td>\n",
       "      <td>25.550000</td>\n",
       "    </tr>\n",
       "  </tbody>\n",
       "</table>\n",
       "</div>"
      ],
      "text/plain": [
       "   CHILOQUIN 12 NW (FORT KLAMATH)  SELDOM CREEK OREGON  FOURMILE LAKE  \\\n",
       "1                       31.645161            33.935484      33.290323   \n",
       "2                       28.648148            26.250000      24.625000   \n",
       "3                       34.016129            34.370968      32.225806   \n",
       "\n",
       "   BILLIE CREEK DIVIDE  COLD SPRINGS CAMP  SEVENMILE MARSH  ANNIE SPRINGS  \\\n",
       "1            34.451613          34.951613        33.145161      32.145161   \n",
       "2            26.678571          25.178571        25.464286      22.696429   \n",
       "3            34.274194          33.612903        33.693548      30.177419   \n",
       "\n",
       "   CRATER LAKE NPS HQ  \n",
       "1           29.096774  \n",
       "2           19.089286  \n",
       "3           25.550000  "
      ]
     },
     "execution_count": 95,
     "metadata": {},
     "output_type": "execute_result"
    }
   ],
   "source": [
    "avgt.groupby(lambda t: t.month).mean()"
   ]
  },
  {
   "cell_type": "markdown",
   "metadata": {
    "slideshow": {
     "slide_type": "subslide"
    }
   },
   "source": [
    "Aggregate statistics are very commonly used, so `pandas` MUST have something, right? Discover the function that will allow you to calculate aggregate statistics, and calculate the weekly minimum temperature\n",
    "\n"
   ]
  },
  {
   "cell_type": "code",
   "execution_count": 96,
   "metadata": {},
   "outputs": [
    {
     "data": {
      "text/html": [
       "<div>\n",
       "<style scoped>\n",
       "    .dataframe tbody tr th:only-of-type {\n",
       "        vertical-align: middle;\n",
       "    }\n",
       "\n",
       "    .dataframe tbody tr th {\n",
       "        vertical-align: top;\n",
       "    }\n",
       "\n",
       "    .dataframe thead th {\n",
       "        text-align: right;\n",
       "    }\n",
       "</style>\n",
       "<table border=\"1\" class=\"dataframe\">\n",
       "  <thead>\n",
       "    <tr style=\"text-align: right;\">\n",
       "      <th></th>\n",
       "      <th>CHILOQUIN 12 NW (FORT KLAMATH)</th>\n",
       "      <th>SELDOM CREEK OREGON</th>\n",
       "      <th>FOURMILE LAKE</th>\n",
       "      <th>BILLIE CREEK DIVIDE</th>\n",
       "      <th>COLD SPRINGS CAMP</th>\n",
       "      <th>SEVENMILE MARSH</th>\n",
       "      <th>ANNIE SPRINGS</th>\n",
       "      <th>CRATER LAKE NPS HQ</th>\n",
       "    </tr>\n",
       "  </thead>\n",
       "  <tbody>\n",
       "    <tr>\n",
       "      <th>2019-01-06</th>\n",
       "      <td>19.0</td>\n",
       "      <td>25.5</td>\n",
       "      <td>24.5</td>\n",
       "      <td>24.0</td>\n",
       "      <td>25.0</td>\n",
       "      <td>25.0</td>\n",
       "      <td>24.0</td>\n",
       "      <td>16.5</td>\n",
       "    </tr>\n",
       "    <tr>\n",
       "      <th>2019-01-13</th>\n",
       "      <td>22.5</td>\n",
       "      <td>29.0</td>\n",
       "      <td>25.0</td>\n",
       "      <td>29.0</td>\n",
       "      <td>25.5</td>\n",
       "      <td>23.5</td>\n",
       "      <td>25.5</td>\n",
       "      <td>19.5</td>\n",
       "    </tr>\n",
       "    <tr>\n",
       "      <th>2019-01-20</th>\n",
       "      <td>28.5</td>\n",
       "      <td>26.5</td>\n",
       "      <td>25.5</td>\n",
       "      <td>28.0</td>\n",
       "      <td>29.5</td>\n",
       "      <td>28.0</td>\n",
       "      <td>26.5</td>\n",
       "      <td>25.0</td>\n",
       "    </tr>\n",
       "    <tr>\n",
       "      <th>2019-01-27</th>\n",
       "      <td>28.5</td>\n",
       "      <td>30.0</td>\n",
       "      <td>25.0</td>\n",
       "      <td>29.5</td>\n",
       "      <td>26.5</td>\n",
       "      <td>25.0</td>\n",
       "      <td>24.0</td>\n",
       "      <td>18.0</td>\n",
       "    </tr>\n",
       "    <tr>\n",
       "      <th>2019-02-03</th>\n",
       "      <td>32.5</td>\n",
       "      <td>32.0</td>\n",
       "      <td>29.0</td>\n",
       "      <td>32.0</td>\n",
       "      <td>29.0</td>\n",
       "      <td>30.0</td>\n",
       "      <td>29.0</td>\n",
       "      <td>30.0</td>\n",
       "    </tr>\n",
       "    <tr>\n",
       "      <th>2019-02-10</th>\n",
       "      <td>19.5</td>\n",
       "      <td>18.0</td>\n",
       "      <td>18.0</td>\n",
       "      <td>19.5</td>\n",
       "      <td>17.5</td>\n",
       "      <td>18.5</td>\n",
       "      <td>14.5</td>\n",
       "      <td>11.0</td>\n",
       "    </tr>\n",
       "    <tr>\n",
       "      <th>2019-02-17</th>\n",
       "      <td>20.0</td>\n",
       "      <td>22.0</td>\n",
       "      <td>21.5</td>\n",
       "      <td>23.5</td>\n",
       "      <td>22.0</td>\n",
       "      <td>23.5</td>\n",
       "      <td>19.5</td>\n",
       "      <td>12.5</td>\n",
       "    </tr>\n",
       "    <tr>\n",
       "      <th>2019-02-24</th>\n",
       "      <td>15.5</td>\n",
       "      <td>18.0</td>\n",
       "      <td>18.5</td>\n",
       "      <td>19.5</td>\n",
       "      <td>19.5</td>\n",
       "      <td>21.5</td>\n",
       "      <td>15.0</td>\n",
       "      <td>9.5</td>\n",
       "    </tr>\n",
       "    <tr>\n",
       "      <th>2019-03-03</th>\n",
       "      <td>23.5</td>\n",
       "      <td>22.5</td>\n",
       "      <td>21.0</td>\n",
       "      <td>23.0</td>\n",
       "      <td>21.5</td>\n",
       "      <td>21.5</td>\n",
       "      <td>16.5</td>\n",
       "      <td>12.5</td>\n",
       "    </tr>\n",
       "    <tr>\n",
       "      <th>2019-03-10</th>\n",
       "      <td>24.5</td>\n",
       "      <td>23.5</td>\n",
       "      <td>23.0</td>\n",
       "      <td>22.5</td>\n",
       "      <td>25.0</td>\n",
       "      <td>24.5</td>\n",
       "      <td>22.5</td>\n",
       "      <td>16.0</td>\n",
       "    </tr>\n",
       "    <tr>\n",
       "      <th>2019-03-17</th>\n",
       "      <td>26.5</td>\n",
       "      <td>29.5</td>\n",
       "      <td>27.5</td>\n",
       "      <td>28.0</td>\n",
       "      <td>28.0</td>\n",
       "      <td>28.0</td>\n",
       "      <td>24.0</td>\n",
       "      <td>19.0</td>\n",
       "    </tr>\n",
       "    <tr>\n",
       "      <th>2019-03-24</th>\n",
       "      <td>32.0</td>\n",
       "      <td>34.0</td>\n",
       "      <td>31.5</td>\n",
       "      <td>34.0</td>\n",
       "      <td>32.0</td>\n",
       "      <td>33.0</td>\n",
       "      <td>27.0</td>\n",
       "      <td>22.0</td>\n",
       "    </tr>\n",
       "    <tr>\n",
       "      <th>2019-03-31</th>\n",
       "      <td>32.0</td>\n",
       "      <td>34.5</td>\n",
       "      <td>31.5</td>\n",
       "      <td>35.0</td>\n",
       "      <td>33.0</td>\n",
       "      <td>32.5</td>\n",
       "      <td>28.5</td>\n",
       "      <td>24.0</td>\n",
       "    </tr>\n",
       "  </tbody>\n",
       "</table>\n",
       "</div>"
      ],
      "text/plain": [
       "            CHILOQUIN 12 NW (FORT KLAMATH)  SELDOM CREEK OREGON  \\\n",
       "2019-01-06                            19.0                 25.5   \n",
       "2019-01-13                            22.5                 29.0   \n",
       "2019-01-20                            28.5                 26.5   \n",
       "2019-01-27                            28.5                 30.0   \n",
       "2019-02-03                            32.5                 32.0   \n",
       "2019-02-10                            19.5                 18.0   \n",
       "2019-02-17                            20.0                 22.0   \n",
       "2019-02-24                            15.5                 18.0   \n",
       "2019-03-03                            23.5                 22.5   \n",
       "2019-03-10                            24.5                 23.5   \n",
       "2019-03-17                            26.5                 29.5   \n",
       "2019-03-24                            32.0                 34.0   \n",
       "2019-03-31                            32.0                 34.5   \n",
       "\n",
       "            FOURMILE LAKE  BILLIE CREEK DIVIDE  COLD SPRINGS CAMP  \\\n",
       "2019-01-06           24.5                 24.0               25.0   \n",
       "2019-01-13           25.0                 29.0               25.5   \n",
       "2019-01-20           25.5                 28.0               29.5   \n",
       "2019-01-27           25.0                 29.5               26.5   \n",
       "2019-02-03           29.0                 32.0               29.0   \n",
       "2019-02-10           18.0                 19.5               17.5   \n",
       "2019-02-17           21.5                 23.5               22.0   \n",
       "2019-02-24           18.5                 19.5               19.5   \n",
       "2019-03-03           21.0                 23.0               21.5   \n",
       "2019-03-10           23.0                 22.5               25.0   \n",
       "2019-03-17           27.5                 28.0               28.0   \n",
       "2019-03-24           31.5                 34.0               32.0   \n",
       "2019-03-31           31.5                 35.0               33.0   \n",
       "\n",
       "            SEVENMILE MARSH  ANNIE SPRINGS  CRATER LAKE NPS HQ  \n",
       "2019-01-06             25.0           24.0                16.5  \n",
       "2019-01-13             23.5           25.5                19.5  \n",
       "2019-01-20             28.0           26.5                25.0  \n",
       "2019-01-27             25.0           24.0                18.0  \n",
       "2019-02-03             30.0           29.0                30.0  \n",
       "2019-02-10             18.5           14.5                11.0  \n",
       "2019-02-17             23.5           19.5                12.5  \n",
       "2019-02-24             21.5           15.0                 9.5  \n",
       "2019-03-03             21.5           16.5                12.5  \n",
       "2019-03-10             24.5           22.5                16.0  \n",
       "2019-03-17             28.0           24.0                19.0  \n",
       "2019-03-24             33.0           27.0                22.0  \n",
       "2019-03-31             32.5           28.5                24.0  "
      ]
     },
     "execution_count": 96,
     "metadata": {},
     "output_type": "execute_result"
    }
   ],
   "source": [
    "avgt.resample('W').min()"
   ]
  },
  {
   "cell_type": "markdown",
   "metadata": {
    "slideshow": {
     "slide_type": "subslide"
    }
   },
   "source": [
    "Another common estimation is the rolling window statistics. Calculate the 5-day moving average of temperature\n",
    "\n"
   ]
  },
  {
   "cell_type": "code",
   "execution_count": 97,
   "metadata": {},
   "outputs": [
    {
     "data": {
      "text/html": [
       "<div>\n",
       "<style scoped>\n",
       "    .dataframe tbody tr th:only-of-type {\n",
       "        vertical-align: middle;\n",
       "    }\n",
       "\n",
       "    .dataframe tbody tr th {\n",
       "        vertical-align: top;\n",
       "    }\n",
       "\n",
       "    .dataframe thead th {\n",
       "        text-align: right;\n",
       "    }\n",
       "</style>\n",
       "<table border=\"1\" class=\"dataframe\">\n",
       "  <thead>\n",
       "    <tr style=\"text-align: right;\">\n",
       "      <th></th>\n",
       "      <th>CHILOQUIN 12 NW (FORT KLAMATH)</th>\n",
       "      <th>SELDOM CREEK OREGON</th>\n",
       "      <th>FOURMILE LAKE</th>\n",
       "      <th>BILLIE CREEK DIVIDE</th>\n",
       "      <th>COLD SPRINGS CAMP</th>\n",
       "      <th>SEVENMILE MARSH</th>\n",
       "      <th>ANNIE SPRINGS</th>\n",
       "      <th>CRATER LAKE NPS HQ</th>\n",
       "    </tr>\n",
       "  </thead>\n",
       "  <tbody>\n",
       "    <tr>\n",
       "      <th>2019-01-01</th>\n",
       "      <td>NaN</td>\n",
       "      <td>NaN</td>\n",
       "      <td>NaN</td>\n",
       "      <td>NaN</td>\n",
       "      <td>NaN</td>\n",
       "      <td>NaN</td>\n",
       "      <td>NaN</td>\n",
       "      <td>NaN</td>\n",
       "    </tr>\n",
       "    <tr>\n",
       "      <th>2019-01-02</th>\n",
       "      <td>NaN</td>\n",
       "      <td>NaN</td>\n",
       "      <td>NaN</td>\n",
       "      <td>NaN</td>\n",
       "      <td>NaN</td>\n",
       "      <td>NaN</td>\n",
       "      <td>NaN</td>\n",
       "      <td>NaN</td>\n",
       "    </tr>\n",
       "    <tr>\n",
       "      <th>2019-01-03</th>\n",
       "      <td>NaN</td>\n",
       "      <td>NaN</td>\n",
       "      <td>NaN</td>\n",
       "      <td>NaN</td>\n",
       "      <td>NaN</td>\n",
       "      <td>NaN</td>\n",
       "      <td>NaN</td>\n",
       "      <td>NaN</td>\n",
       "    </tr>\n",
       "    <tr>\n",
       "      <th>2019-01-04</th>\n",
       "      <td>NaN</td>\n",
       "      <td>NaN</td>\n",
       "      <td>NaN</td>\n",
       "      <td>NaN</td>\n",
       "      <td>NaN</td>\n",
       "      <td>NaN</td>\n",
       "      <td>NaN</td>\n",
       "      <td>NaN</td>\n",
       "    </tr>\n",
       "    <tr>\n",
       "      <th>2019-01-05</th>\n",
       "      <td>25.5</td>\n",
       "      <td>30.8</td>\n",
       "      <td>33.0</td>\n",
       "      <td>31.1</td>\n",
       "      <td>33.3</td>\n",
       "      <td>30.6</td>\n",
       "      <td>30.5</td>\n",
       "      <td>27.1</td>\n",
       "    </tr>\n",
       "    <tr>\n",
       "      <th>...</th>\n",
       "      <td>...</td>\n",
       "      <td>...</td>\n",
       "      <td>...</td>\n",
       "      <td>...</td>\n",
       "      <td>...</td>\n",
       "      <td>...</td>\n",
       "      <td>...</td>\n",
       "      <td>...</td>\n",
       "    </tr>\n",
       "    <tr>\n",
       "      <th>2019-03-27</th>\n",
       "      <td>35.6</td>\n",
       "      <td>35.7</td>\n",
       "      <td>32.4</td>\n",
       "      <td>35.7</td>\n",
       "      <td>33.3</td>\n",
       "      <td>33.6</td>\n",
       "      <td>29.8</td>\n",
       "      <td>25.0</td>\n",
       "    </tr>\n",
       "    <tr>\n",
       "      <th>2019-03-28</th>\n",
       "      <td>36.2</td>\n",
       "      <td>35.8</td>\n",
       "      <td>32.9</td>\n",
       "      <td>35.8</td>\n",
       "      <td>33.8</td>\n",
       "      <td>33.6</td>\n",
       "      <td>30.1</td>\n",
       "      <td>24.3</td>\n",
       "    </tr>\n",
       "    <tr>\n",
       "      <th>2019-03-29</th>\n",
       "      <td>37.1</td>\n",
       "      <td>36.3</td>\n",
       "      <td>32.9</td>\n",
       "      <td>35.9</td>\n",
       "      <td>33.6</td>\n",
       "      <td>33.5</td>\n",
       "      <td>30.8</td>\n",
       "      <td>24.8</td>\n",
       "    </tr>\n",
       "    <tr>\n",
       "      <th>2019-03-30</th>\n",
       "      <td>36.3</td>\n",
       "      <td>37.2</td>\n",
       "      <td>33.4</td>\n",
       "      <td>36.2</td>\n",
       "      <td>34.2</td>\n",
       "      <td>34.3</td>\n",
       "      <td>30.6</td>\n",
       "      <td>25.2</td>\n",
       "    </tr>\n",
       "    <tr>\n",
       "      <th>2019-03-31</th>\n",
       "      <td>37.5</td>\n",
       "      <td>38.5</td>\n",
       "      <td>35.1</td>\n",
       "      <td>37.6</td>\n",
       "      <td>35.9</td>\n",
       "      <td>36.0</td>\n",
       "      <td>32.2</td>\n",
       "      <td>26.1</td>\n",
       "    </tr>\n",
       "  </tbody>\n",
       "</table>\n",
       "<p>90 rows × 8 columns</p>\n",
       "</div>"
      ],
      "text/plain": [
       "            CHILOQUIN 12 NW (FORT KLAMATH)  SELDOM CREEK OREGON  \\\n",
       "2019-01-01                             NaN                  NaN   \n",
       "2019-01-02                             NaN                  NaN   \n",
       "2019-01-03                             NaN                  NaN   \n",
       "2019-01-04                             NaN                  NaN   \n",
       "2019-01-05                            25.5                 30.8   \n",
       "...                                    ...                  ...   \n",
       "2019-03-27                            35.6                 35.7   \n",
       "2019-03-28                            36.2                 35.8   \n",
       "2019-03-29                            37.1                 36.3   \n",
       "2019-03-30                            36.3                 37.2   \n",
       "2019-03-31                            37.5                 38.5   \n",
       "\n",
       "            FOURMILE LAKE  BILLIE CREEK DIVIDE  COLD SPRINGS CAMP  \\\n",
       "2019-01-01            NaN                  NaN                NaN   \n",
       "2019-01-02            NaN                  NaN                NaN   \n",
       "2019-01-03            NaN                  NaN                NaN   \n",
       "2019-01-04            NaN                  NaN                NaN   \n",
       "2019-01-05           33.0                 31.1               33.3   \n",
       "...                   ...                  ...                ...   \n",
       "2019-03-27           32.4                 35.7               33.3   \n",
       "2019-03-28           32.9                 35.8               33.8   \n",
       "2019-03-29           32.9                 35.9               33.6   \n",
       "2019-03-30           33.4                 36.2               34.2   \n",
       "2019-03-31           35.1                 37.6               35.9   \n",
       "\n",
       "            SEVENMILE MARSH  ANNIE SPRINGS  CRATER LAKE NPS HQ  \n",
       "2019-01-01              NaN            NaN                 NaN  \n",
       "2019-01-02              NaN            NaN                 NaN  \n",
       "2019-01-03              NaN            NaN                 NaN  \n",
       "2019-01-04              NaN            NaN                 NaN  \n",
       "2019-01-05             30.6           30.5                27.1  \n",
       "...                     ...            ...                 ...  \n",
       "2019-03-27             33.6           29.8                25.0  \n",
       "2019-03-28             33.6           30.1                24.3  \n",
       "2019-03-29             33.5           30.8                24.8  \n",
       "2019-03-30             34.3           30.6                25.2  \n",
       "2019-03-31             36.0           32.2                26.1  \n",
       "\n",
       "[90 rows x 8 columns]"
      ]
     },
     "execution_count": 97,
     "metadata": {},
     "output_type": "execute_result"
    }
   ],
   "source": [
    "avgt.rolling(5).mean()"
   ]
  },
  {
   "cell_type": "markdown",
   "metadata": {
    "slideshow": {
     "slide_type": "subslide"
    }
   },
   "source": [
    "**Bonus** for next time: calculate the 10-day minimum temperature and plot it, using the `.plot` function of the resulting `DataFrame`\n",
    "\n"
   ]
  },
  {
   "cell_type": "code",
   "execution_count": 98,
   "metadata": {},
   "outputs": [
    {
     "data": {
      "text/plain": [
       "<AxesSubplot:>"
      ]
     },
     "execution_count": 98,
     "metadata": {},
     "output_type": "execute_result"
    },
    {
     "data": {
      "image/png": "[encoded data removed]",
      "text/plain": [
       "<Figure size 432x288 with 1 Axes>"
      ]
     },
     "metadata": {
      "needs_background": "light"
     },
     "output_type": "display_data"
    }
   ],
   "source": [
    "avgt.resample('10D').min().plot()"
   ]
  }
 ],
 "metadata": {
  "kernelspec": {
   "display_name": "Python 3 (ipykernel)",
   "language": "python",
   "name": "python3"
  },
  "language_info": {
   "codemirror_mode": {
    "name": "ipython",
    "version": 3
   },
   "file_extension": ".py",
   "mimetype": "text/x-python",
   "name": "python",
   "nbconvert_exporter": "python",
   "pygments_lexer": "ipython3",
   "version": "3.10.4"
  },
  "org": null
 },
 "nbformat": 4,
 "nbformat_minor": 1
}
