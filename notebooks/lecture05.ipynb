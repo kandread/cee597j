{
 "cells": [
  {
   "cell_type": "markdown",
   "metadata": {
    "slideshow": {
     "slide_type": "slide"
    }
   },
   "source": [
    "<h1 align=\"center\">Computational Methods in Environmental Engineering</h1>\n",
    "<h2 align=\"center\">Lecture #5</h2>\n",
    "<h3 align=\"center\">21 Feb 2023</h3>\n",
    "\n"
   ]
  },
  {
   "cell_type": "markdown",
   "metadata": {
    "slideshow": {
     "slide_type": "slide"
    }
   },
   "source": [
    "## Clean code\n",
    "\n"
   ]
  },
  {
   "cell_type": "markdown",
   "metadata": {},
   "source": [
    "> I like my code to be elegant and efficient&#x2026; The logic should be straightforward to make it hard for bugs to hide&#x2026; performance close to optimal so as not to tempt people to make the code messy with unprincipled optimizations. Clean code does one thing well.\n",
    "\n"
   ]
  },
  {
   "cell_type": "markdown",
   "metadata": {
    "slideshow": {
     "slide_type": "slide"
    }
   },
   "source": [
    "## Meaningful names\n",
    "\n"
   ]
  },
  {
   "cell_type": "markdown",
   "metadata": {},
   "source": [
    "-   Name of variable or function should reveal *why it exists*\n",
    "-   If name requires a comment then it does not reveal intent\n",
    "-   Use searchable names\n",
    "-   Use pronounceable names\n",
    "\n"
   ]
  },
  {
   "cell_type": "code",
   "execution_count": 1,
   "metadata": {
    "slideshow": {
     "slide_type": "subslide"
    }
   },
   "outputs": [],
   "source": [
    "def get(q, t):\n",
    "    x = []\n",
    "    for i in range(len(q)):\n",
    "        if q[i] > 0:\n",
    "            x.append(t[i])\n",
    "    return x"
   ]
  },
  {
   "cell_type": "code",
   "execution_count": 1,
   "metadata": {
    "slideshow": {
     "slide_type": "subslide"
    }
   },
   "outputs": [],
   "source": [
    "def getValidQtimes(Q, times):\n",
    "    validTimes = []\n",
    "    for i in range(len(times)):\n",
    "        if Q[i] > 0:\n",
    "            validTimes.append(times[i])\n",
    "    return validTimes"
   ]
  },
  {
   "cell_type": "markdown",
   "metadata": {
    "slideshow": {
     "slide_type": "slide"
    }
   },
   "source": [
    "## Functions\n",
    "\n"
   ]
  },
  {
   "cell_type": "markdown",
   "metadata": {},
   "source": [
    "[https://github.com/sobolevn/python-code-disasters/blob/master/python/genpassword.py](https://github.com/sobolevn/python-code-disasters/blob/master/python/genpassword.py)\n",
    "\n"
   ]
  },
  {
   "cell_type": "markdown",
   "metadata": {
    "slideshow": {
     "slide_type": "subslide"
    }
   },
   "source": [
    "### Small!\n",
    "\n"
   ]
  },
  {
   "cell_type": "markdown",
   "metadata": {
    "slideshow": {
     "slide_type": "fragment"
    }
   },
   "source": [
    "-   Functions should be small\n",
    "    \n",
    "    -   *Functions should be smaller than that!*\n",
    "\n"
   ]
  },
  {
   "cell_type": "markdown",
   "metadata": {
    "slideshow": {
     "slide_type": "subslide"
    }
   },
   "source": [
    "### Do one thing!\n",
    "\n"
   ]
  },
  {
   "cell_type": "markdown",
   "metadata": {},
   "source": [
    "-   Functions should one thing, do it well, and do it only\n",
    "    -   What is \"one thing\"?\n",
    "    -   If you can extract a function from parts of the original function, then it does more than one thing\n",
    "\n"
   ]
  },
  {
   "cell_type": "code",
   "execution_count": 1,
   "metadata": {
    "slideshow": {
     "slide_type": "subslide"
    }
   },
   "outputs": [],
   "source": [
    "def findNearestLocation(filename, loc_lat, loc_lon):\n",
    "    ds = netcdf.Dataset(filename)\n",
    "    lat = ds.variables['lat'][:]\n",
    "    lon = ds.variables['lon'][:]\n",
    "    dist = np.sqrt((lat - loc_lat)**2 + (lon - loc_lon)**2)\n",
    "    min_dist_i = np.argmin(dist)\n",
    "    return lat[min_dist_i], lon[min_dist_i]"
   ]
  },
  {
   "cell_type": "markdown",
   "metadata": {
    "slideshow": {
     "slide_type": "subslide"
    }
   },
   "source": [
    "### Function arguments\n",
    "\n"
   ]
  },
  {
   "cell_type": "code",
   "execution_count": 1,
   "metadata": {},
   "outputs": [],
   "source": [
    "writeParameters(depth, DO, pH, temp, turbidity, color, TDS, TSS,\n",
    "                Cl, Chlorophyl-a, Chlorophyl-b)"
   ]
  },
  {
   "cell_type": "code",
   "execution_count": 1,
   "metadata": {
    "slideshow": {
     "slide_type": "fragment"
    }
   },
   "outputs": [],
   "source": [
    "params = {'DO': 8.3}\n",
    "writeParameters(params)"
   ]
  },
  {
   "cell_type": "markdown",
   "metadata": {
    "slideshow": {
     "slide_type": "slide"
    }
   },
   "source": [
    "## Comments\n",
    "\n"
   ]
  },
  {
   "cell_type": "markdown",
   "metadata": {},
   "source": [
    ">   Good code is self-documenting  - Does not mean you should never comment your code\n",
    "\n",
    "-   Maintaining comments when code changes\n",
    "-   Comment *why* code is there, not *what* it is doing\n",
    "\n"
   ]
  },
  {
   "cell_type": "markdown",
   "metadata": {
    "slideshow": {
     "slide_type": "subslide"
    }
   },
   "source": [
    "### Good comments\n",
    "\n"
   ]
  },
  {
   "cell_type": "markdown",
   "metadata": {},
   "source": [
    "Clarification\n",
    "\n"
   ]
  },
  {
   "cell_type": "code",
   "execution_count": 1,
   "metadata": {},
   "outputs": [],
   "source": [
    "def dayFromString(s):\n",
    "    # expects date string to be year-month-day\n",
    "    parts = s.split(\"-\")\n",
    "    day = parts[2]\n",
    "    return day"
   ]
  },
  {
   "cell_type": "markdown",
   "metadata": {
    "slideshow": {
     "slide_type": "subslide"
    }
   },
   "source": [
    "Warnings\n",
    "\n"
   ]
  },
  {
   "cell_type": "code",
   "execution_count": 1,
   "metadata": {},
   "outputs": [],
   "source": [
    "# longitude needs to be between -180 and 180\n",
    "subset = data[lon > -30]"
   ]
  },
  {
   "cell_type": "markdown",
   "metadata": {
    "slideshow": {
     "slide_type": "subslide"
    }
   },
   "source": [
    "TODO comments\n",
    "\n"
   ]
  },
  {
   "cell_type": "code",
   "execution_count": 1,
   "metadata": {},
   "outputs": [],
   "source": [
    "# FIXME add a check for longitude being between -180 and 180\n",
    "subset = data[lon > -30]"
   ]
  },
  {
   "cell_type": "markdown",
   "metadata": {
    "slideshow": {
     "slide_type": "subslide"
    }
   },
   "source": [
    "### Bad comments\n",
    "\n"
   ]
  },
  {
   "cell_type": "markdown",
   "metadata": {},
   "source": [
    "Mumbling\n",
    "\n"
   ]
  },
  {
   "cell_type": "code",
   "execution_count": 1,
   "metadata": {},
   "outputs": [],
   "source": [
    "def add_positive_numbers(x, csum):\n",
    "    if x > 0:\n",
    "        csum += x\n",
    "    else:\n",
    "        # keep default value\n",
    "        pass\n",
    "    return csum"
   ]
  },
  {
   "cell_type": "markdown",
   "metadata": {
    "slideshow": {
     "slide_type": "subslide"
    }
   },
   "source": [
    "Redundant comments\n",
    "\n"
   ]
  },
  {
   "cell_type": "code",
   "execution_count": 1,
   "metadata": {},
   "outputs": [],
   "source": [
    "def getTemperature(data):\n",
    "    # extract temperature\n",
    "    return data['temperature']"
   ]
  },
  {
   "cell_type": "markdown",
   "metadata": {
    "slideshow": {
     "slide_type": "subslide"
    }
   },
   "source": [
    "Commented-out code\n",
    "\n"
   ]
  },
  {
   "cell_type": "code",
   "execution_count": 1,
   "metadata": {},
   "outputs": [],
   "source": [
    "def errorMetric(mod, obs):\n",
    "    # n = obs\n",
    "    err = np.sqrt(((x - y) / n)**2)\n",
    "    return err"
   ]
  },
  {
   "cell_type": "markdown",
   "metadata": {
    "slideshow": {
     "slide_type": "slide"
    }
   },
   "source": [
    "## Formatting\n",
    "\n"
   ]
  },
  {
   "cell_type": "markdown",
   "metadata": {},
   "source": [
    "Vertical\n",
    "\n"
   ]
  },
  {
   "cell_type": "code",
   "execution_count": 2,
   "metadata": {},
   "outputs": [],
   "source": [
    "def mult(x, y):\n",
    "    return x*y\n",
    "\n",
    "def add(x, y):\n",
    "    return x+y\n",
    "\n",
    "def multi_add(x, y, z):\n",
    "    part = mult(x, y)\n",
    "    out = add(part, z)\n",
    "    return out"
   ]
  },
  {
   "cell_type": "markdown",
   "metadata": {
    "slideshow": {
     "slide_type": "subslide"
    }
   },
   "source": [
    "Horizontal\n",
    "\n"
   ]
  },
  {
   "cell_type": "code",
   "execution_count": 3,
   "metadata": {},
   "outputs": [],
   "source": [
    "def polynomial(x, coeffs):\n",
    "    a, b, c, _ = coeffs\n",
    "    p = a * x**2 + b * x + c * (x - a * b)\n",
    "    return p"
   ]
  },
  {
   "cell_type": "markdown",
   "metadata": {
    "slideshow": {
     "slide_type": "slide"
    }
   },
   "source": [
    "## Version control\n",
    "\n"
   ]
  },
  {
   "cell_type": "markdown",
   "metadata": {},
   "source": [
    "-   System that records changes to files.\n",
    "    \n",
    "    -   Revert to previous state\n",
    "    -   Compare changes\n",
    "    \n",
    "    <center><img src=\"http://verificationexcellence.in/wp-content/uploads/2018/07/versioncontrol.jpg\"></center>\n",
    "\n"
   ]
  },
  {
   "cell_type": "markdown",
   "metadata": {
    "slideshow": {
     "slide_type": "slide"
    }
   },
   "source": [
    "## Types of version control\n",
    "\n"
   ]
  },
  {
   "cell_type": "markdown",
   "metadata": {
    "slideshow": {
     "slide_type": "subslide"
    }
   },
   "source": [
    "-   Local\n",
    "    \n",
    "    -   Central\n",
    "    -   Distributed\n",
    "    \n",
    "    <center><img src=\"http://verificationexcellence.in/wp-content/uploads/2018/07/reposetory.jpg\"></center>\n",
    "\n"
   ]
  },
  {
   "cell_type": "markdown",
   "metadata": {
    "slideshow": {
     "slide_type": "slide"
    }
   },
   "source": [
    "## Git\n",
    "\n"
   ]
  },
  {
   "cell_type": "markdown",
   "metadata": {},
   "source": [
    "<center><img src=\"https://imgs.xkcd.com/comics/git.png\"></center>\n",
    "\n"
   ]
  },
  {
   "cell_type": "markdown",
   "metadata": {
    "slideshow": {
     "slide_type": "slide"
    }
   },
   "source": [
    "## Some basic concepts\n",
    "\n"
   ]
  },
  {
   "cell_type": "markdown",
   "metadata": {},
   "source": [
    "-   **Repository**: your project files and the `git` information\n",
    "    -   **Local** and **Remote** repositories\n",
    "    -   `clone`: copy the remote repository locally\n",
    "    -   **Tracked** and **Untracked** files\n",
    "    -   `add`: put a file under revision control\n",
    "    -   **Staging**\n",
    "\n"
   ]
  },
  {
   "cell_type": "markdown",
   "metadata": {
    "slideshow": {
     "slide_type": "subslide"
    }
   },
   "source": [
    "-   `commit`: commit the changes to the local repository\n",
    "-   Commit message associated with change\n",
    "-   `push`: send your changes to the remote repository\n",
    "-   `fetch`: download any changes from remote (*but don't commit*)\n",
    "-   `pull`: download any changes from remote (*and commit*)\n",
    "\n"
   ]
  },
  {
   "cell_type": "markdown",
   "metadata": {
    "slideshow": {
     "slide_type": "subslide"
    }
   },
   "source": [
    "-   `log`: see a log of changes\n",
    "-   **Branches**: an independent copy of your repository\n",
    "-   `branch`: create, delete, rename branches\n",
    "-   `checkout`: switch to a specific branch\n",
    "-   `merge`: combine multiple sequences of commits into unified history\n",
    "\n"
   ]
  },
  {
   "cell_type": "markdown",
   "metadata": {
    "slideshow": {
     "slide_type": "subslide"
    }
   },
   "source": [
    "<center><img src=\"https://wac-cdn.atlassian.com/dam/jcr:83323200-3c57-4c29-9b7e-e67e98745427/Branch-1.png?cdnVersion=1467\"></enter>\n",
    "\n"
   ]
  },
  {
   "cell_type": "markdown",
   "metadata": {
    "slideshow": {
     "slide_type": "slide"
    }
   },
   "source": [
    "## Git frontends\n",
    "\n"
   ]
  },
  {
   "cell_type": "markdown",
   "metadata": {
    "slideshow": {
     "slide_type": "subslide"
    }
   },
   "source": [
    "![img](https://i.imgur.com/sudNUlk.png)\n",
    "\n",
    "-   Sourcetree ([https://www.sourcetreeapp.com/](https://www.sourcetreeapp.com/))\n",
    "-   Github Desktop ([https://desktop.github.com/](https://desktop.github.com/))\n",
    "-   TortoiseGit ([https://tortoisegit.org/](https://tortoisegit.org/))\n",
    "\n"
   ]
  },
  {
   "cell_type": "markdown",
   "metadata": {
    "slideshow": {
     "slide_type": "slide"
    }
   },
   "source": [
    "## ☛ Hands-on exercise\n",
    "\n"
   ]
  },
  {
   "cell_type": "markdown",
   "metadata": {},
   "source": [
    "Part 1\n",
    "\n",
    "1.  Create a remote repository for the group\n",
    "2.  Clone it on each of your machines\n",
    "3.  Write a function that adds two numbers and save it in a file `calc.py`\n",
    "4.  Commit `calc.py` with a descriptive message\n",
    "5.  Push the changes to the remote repository\n",
    "\n"
   ]
  },
  {
   "cell_type": "markdown",
   "metadata": {
    "slideshow": {
     "slide_type": "subslide"
    }
   },
   "source": [
    "Part 2\n",
    "\n",
    "1.  Another member of the group will pull the changes to their machine\n",
    "2.  Create a new branch called `multiply`\n",
    "3.  Write a function that multiplies two numbers and save it into the file `calc.py`\n",
    "4.  Examine the differences between commits\n",
    "5.  Commit and push the changes\n",
    "\n"
   ]
  },
  {
   "cell_type": "markdown",
   "metadata": {
    "slideshow": {
     "slide_type": "subslide"
    }
   },
   "source": [
    "Part 3\n",
    "\n",
    "1.  A different member of the group will fetch and pull from the remote\n",
    "2.  Switch to the `multiply` branch\n",
    "3.  Add a docstring to the functions\n",
    "4.  Commit the changes\n",
    "5.  Switch back to the `master` branch and merge the changes from the other branch\n",
    "6.  Push the changes\n",
    "\n"
   ]
  },
  {
   "cell_type": "markdown",
   "metadata": {},
   "source": [
    "Bonus part\n",
    "\n",
    "1.  Pull the most up-to-date changes\n",
    "2.  Modify the addition function and replace the `+` with `-`\n",
    "3.  Commit the changes\n",
    "4.  Revert your code to the previous commit with the `+` symbol (using `git reset` or right-clicking on the commit you want to revert to)\n",
    "\n"
   ]
  }
 ],
 "metadata": {
  "kernelspec": {
   "display_name": "Python 3 (ipykernel)",
   "language": "python",
   "name": "python3"
  },
  "language_info": {
   "codemirror_mode": {
    "name": "ipython",
    "version": 3
   },
   "file_extension": ".py",
   "mimetype": "text/x-python",
   "name": "python",
   "nbconvert_exporter": "python",
   "pygments_lexer": "ipython3",
   "version": "3.10.4"
  },
  "org": null
 },
 "nbformat": 4,
 "nbformat_minor": 1
}
