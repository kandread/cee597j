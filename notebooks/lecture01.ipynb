{
 "cells": [
  {
   "cell_type": "markdown",
   "metadata": {
    "slideshow": {
     "slide_type": "slide"
    }
   },
   "source": [
    "<h1 align=\"center\">Computational Methods in Environmental Engineering</h1>\n",
    "<h2 align=\"center\">Lecture #1</h2>\n",
    "<h3 align=\"center\">7 Feb 2023</h3>\n",
    "\n"
   ]
  },
  {
   "cell_type": "markdown",
   "metadata": {
    "slideshow": {
     "slide_type": "slide"
    }
   },
   "source": [
    "<img style='height: auto; width: 100%' src='https://media.giphy.com/media/QQkyLVLAbQRKU/giphy.gif'/>\n",
    "\n"
   ]
  },
  {
   "cell_type": "markdown",
   "metadata": {
    "slideshow": {
     "slide_type": "slide"
    }
   },
   "source": [
    "## Course logistics\n",
    "\n"
   ]
  },
  {
   "cell_type": "markdown",
   "metadata": {},
   "source": [
    "-   Office hours\n",
    "    \n",
    "    **Thu 11:30-13:30**\n",
    "    \n",
    "    18C Marston Hall\n",
    "    \n",
    "    (or by appointment, [kandread@umass.edu](mailto:kandread@umass.edu))\n",
    "\n",
    "-   No textbook\n",
    "\n",
    "-   Grading\n",
    "\n",
    "| ||\n",
    "|---|---|\n",
    "| Homework|40%|\n",
    "| Final project|60%|\n",
    "\n"
   ]
  },
  {
   "cell_type": "markdown",
   "metadata": {
    "slideshow": {
     "slide_type": "subslide"
    }
   },
   "source": [
    "### Class project\n",
    "\n"
   ]
  },
  {
   "cell_type": "markdown",
   "metadata": {},
   "source": [
    "-   Topic of interest or related to existing research project\n",
    "-   Week 2-3: formulated topic and produce outline\n",
    "-   Week 7-13: check-ins to resolve any issues\n",
    "-   Report due and brief presentation during scheduled final exam\n",
    "\n"
   ]
  },
  {
   "cell_type": "markdown",
   "metadata": {
    "slideshow": {
     "slide_type": "subslide"
    }
   },
   "source": [
    "Report will be in Jupyter notebook format with 4-5 visuals and ~3000 words:\n",
    "\n",
    "-   Introduction/Background/Motivation\n",
    "-   Project\n",
    "    -   Approach overview\n",
    "    -   Methods\n",
    "    -   Results\n",
    "-   Future work\n",
    "\n"
   ]
  },
  {
   "cell_type": "markdown",
   "metadata": {
    "slideshow": {
     "slide_type": "slide"
    }
   },
   "source": [
    "## Course objectives\n",
    "\n"
   ]
  },
  {
   "cell_type": "markdown",
   "metadata": {},
   "source": [
    "<ul>\n",
    "<li class=\"fragment\"> Understand basic programming abstractions and data structures</li>\n",
    "<li class=\"fragment\"> Load, parse, process, and store various scientific datasets</li>\n",
    "<li class=\"fragment\"> Produce publication-quality plots and visualizations</li>\n",
    "<li class=\"fragment\"> Implement statistical and algorithms for engineering problems</li>\n",
    "<li class=\"fragment\"> Understand basic parallelization techniques</li>\n",
    "<li class=\"fragment\"> Deploy algorithms on cloud architectures</li>\n",
    "<li class=\"fragment\"> Learn good software engineering practices</li>\n",
    "</ul>\n",
    "\n"
   ]
  },
  {
   "cell_type": "markdown",
   "metadata": {
    "slideshow": {
     "slide_type": "slide"
    }
   },
   "source": [
    "## Course topics\n",
    "\n"
   ]
  },
  {
   "cell_type": "markdown",
   "metadata": {},
   "source": [
    "1.  Coding practices\n",
    "2.  Programming basics\n",
    "3.  Data structures\n",
    "4.  Numerical programming\n",
    "5.  Plotting and visualizations\n",
    "6.  Data parsing and analysis\n",
    "\n"
   ]
  },
  {
   "cell_type": "markdown",
   "metadata": {
    "slideshow": {
     "slide_type": "subslide"
    }
   },
   "source": [
    "7.  Time series\n",
    "8.  Statistical modeling and machine learning\n",
    "9.  N-dimensional data\n",
    "10. Spatial analysis\n",
    "11. Parallel computing\n",
    "12. Cloud computing\n",
    "\n"
   ]
  },
  {
   "cell_type": "markdown",
   "metadata": {
    "slideshow": {
     "slide_type": "subslide"
    }
   },
   "source": [
    "![img](https://i.imgur.com/asPSupR.png)\n",
    "\n"
   ]
  },
  {
   "cell_type": "markdown",
   "metadata": {
    "slideshow": {
     "slide_type": "slide"
    }
   },
   "source": [
    "## Machine architecture\n",
    "\n"
   ]
  },
  {
   "cell_type": "markdown",
   "metadata": {},
   "source": [
    "![img](https://i.imgur.com/8VZWqVp.png)\n",
    "\n"
   ]
  },
  {
   "cell_type": "markdown",
   "metadata": {
    "slideshow": {
     "slide_type": "slide"
    }
   },
   "source": [
    "## Computer programming\n",
    "\n"
   ]
  },
  {
   "cell_type": "markdown",
   "metadata": {},
   "source": [
    "-   Sequence of instructions built from set of predefined <font color=\"blue\">primitives</font>\n",
    "-   Interpreter executes each instruction in order and completes program\n",
    "-   **Programming languages** can abstract methods to create new primitives\n",
    "-   Set of instructions forms the program's source code\n",
    "\n"
   ]
  },
  {
   "cell_type": "markdown",
   "metadata": {
    "slideshow": {
     "slide_type": "slide"
    }
   },
   "source": [
    "## Choosing a programming language\n",
    "\n"
   ]
  },
  {
   "cell_type": "markdown",
   "metadata": {},
   "source": [
    "| <b>Mainstream PL</b>|<b>Technical Computing</b>|\n",
    "|---|---|\n",
    "| static checking|experimental computation|\n",
    "| classes, single dispatch|complex operators|\n",
    "| data hiding|manipulation of data|\n",
    "| parametric polymorphism|ad hoc polymorphism|\n",
    "\n"
   ]
  },
  {
   "cell_type": "markdown",
   "metadata": {
    "slideshow": {
     "slide_type": "subslide"
    }
   },
   "source": [
    "<style>\n",
    "img {\n",
    "  display: block;\n",
    "  margin-left: auto;\n",
    "  margin-right: auto;\n",
    "}\n",
    "</style>\n",
    "<img src=\"https://www.ibm.com/ibm/history/ibm100/images/icp/C854721S34852J03/us__en_us__ibm100__punched_card__hand_cards__940x727.jpg\"\n",
    "  alt=\"cards\" style=\"width:80%;\">\n",
    "\n"
   ]
  },
  {
   "cell_type": "markdown",
   "metadata": {
    "slideshow": {
     "slide_type": "slide"
    }
   },
   "source": [
    "## Expressiveness vs Performance\n",
    "\n"
   ]
  },
  {
   "cell_type": "markdown",
   "metadata": {},
   "source": [
    "![img](https://pbs.twimg.com/media/Dv8k-qpWwAAHRtg.jpg)\n",
    "\n"
   ]
  },
  {
   "cell_type": "markdown",
   "metadata": {
    "slideshow": {
     "slide_type": "slide"
    }
   },
   "source": [
    "## And the winner is&#x2026;\n",
    "\n"
   ]
  },
  {
   "cell_type": "markdown",
   "metadata": {},
   "source": [
    "<img src=\"https://upload.wikimedia.org/wikipedia/commons/thumb/c/c3/Python-logo-notext.svg/1280px-Python-logo-notext.svg.png\" width=50%>\n",
    "\n"
   ]
  },
  {
   "cell_type": "markdown",
   "metadata": {
    "slideshow": {
     "slide_type": "subslide"
    }
   },
   "source": [
    "Java\n",
    "\n",
    "```java\n",
    "    public class Main {\n",
    "          public static void main(String[] args) {\n",
    "              System.out.println(\"hello umass\");\n",
    "          }\n",
    "      }\n",
    "```"
   ]
  },
  {
   "cell_type": "markdown",
   "metadata": {
    "slideshow": {
     "slide_type": "subslide"
    }
   },
   "source": [
    "Python\n",
    "\n"
   ]
  },
  {
   "cell_type": "code",
   "execution_count": 2,
   "metadata": {},
   "outputs": [
    {
     "name": "stdout",
     "output_type": "stream",
     "text": [
      "hello umass!\n"
     ]
    }
   ],
   "source": [
    "print(\"hello umass!\")"
   ]
  },
  {
   "cell_type": "markdown",
   "metadata": {
    "slideshow": {
     "slide_type": "slide"
    }
   },
   "source": [
    "## What can go wrong?\n",
    "\n"
   ]
  },
  {
   "cell_type": "markdown",
   "metadata": {},
   "source": [
    "Syntactic errors\n",
    "\n"
   ]
  },
  {
   "cell_type": "code",
   "execution_count": 3,
   "metadata": {},
   "outputs": [
    {
     "ename": "NameError",
     "evalue": "name 'printfd' is not defined",
     "output_type": "error",
     "traceback": [
      "\u001b[0;31m---------------------------------------------------------------------------\u001b[0m",
      "\u001b[0;31mNameError\u001b[0m                                 Traceback (most recent call last)",
      "Input \u001b[0;32mIn [3]\u001b[0m, in \u001b[0;36m<cell line: 1>\u001b[0;34m()\u001b[0m\n\u001b[0;32m----> 1\u001b[0m printfd(\u001b[38;5;124m\"\u001b[39m\u001b[38;5;124mhello\u001b[39m\u001b[38;5;124m\"\u001b[39m)\n",
      "\u001b[0;31mNameError\u001b[0m: name 'printfd' is not defined"
     ]
    }
   ],
   "source": [
    "printfd(\"hello\")"
   ]
  },
  {
   "cell_type": "markdown",
   "metadata": {
    "slideshow": {
     "slide_type": "subslide"
    }
   },
   "source": [
    "Semantic errors\n",
    "\n"
   ]
  },
  {
   "cell_type": "code",
   "execution_count": 4,
   "metadata": {},
   "outputs": [
    {
     "ename": "TypeError",
     "evalue": "can only concatenate str (not \"int\") to str",
     "output_type": "error",
     "traceback": [
      "\u001b[0;31m---------------------------------------------------------------------------\u001b[0m",
      "\u001b[0;31mTypeError\u001b[0m                                 Traceback (most recent call last)",
      "Input \u001b[0;32mIn [4]\u001b[0m, in \u001b[0;36m<cell line: 1>\u001b[0;34m()\u001b[0m\n\u001b[0;32m----> 1\u001b[0m \u001b[38;5;28mprint\u001b[39m(\u001b[38;5;124m\"\u001b[39m\u001b[38;5;124mhello\u001b[39m\u001b[38;5;124m\"\u001b[39m \u001b[38;5;241m+\u001b[39m \u001b[38;5;241m3\u001b[39m)\n",
      "\u001b[0;31mTypeError\u001b[0m: can only concatenate str (not \"int\") to str"
     ]
    }
   ],
   "source": [
    "print(\"hello\" + 3)"
   ]
  },
  {
   "cell_type": "markdown",
   "metadata": {
    "slideshow": {
     "slide_type": "subslide"
    }
   },
   "source": [
    "Algorithmic errors\n",
    "\n"
   ]
  },
  {
   "cell_type": "code",
   "execution_count": 5,
   "metadata": {},
   "outputs": [
    {
     "data": {
      "text/plain": [
       "1.61676215952e+21"
      ]
     },
     "execution_count": 5,
     "metadata": {},
     "output_type": "execute_result"
    }
   ],
   "source": [
    "c = 2.998e6\n",
    "m = 60\n",
    "E = m * c**3\n",
    "E"
   ]
  },
  {
   "cell_type": "markdown",
   "metadata": {
    "slideshow": {
     "slide_type": "slide"
    }
   },
   "source": [
    "## Libraries\n",
    "\n"
   ]
  },
  {
   "cell_type": "markdown",
   "metadata": {},
   "source": [
    "-   **Numpy**\n",
    "-   **Scipy**\n",
    "-   **Pandas**\n",
    "-   **Xarray**\n",
    "-   **Scikit-Learn**\n",
    "-   **Matplotlib**\n",
    "-   **Statsmodels**\n",
    "\n"
   ]
  },
  {
   "cell_type": "markdown",
   "metadata": {
    "slideshow": {
     "slide_type": "subslide"
    }
   },
   "source": [
    "Wealth of Python libraries allow us to be productive with complex tasks\n",
    "\n"
   ]
  },
  {
   "cell_type": "markdown",
   "metadata": {
    "slideshow": {
     "slide_type": "subslide"
    }
   },
   "source": [
    "Let's look at an example!\n",
    "\n"
   ]
  },
  {
   "cell_type": "code",
   "execution_count": 1,
   "metadata": {},
   "outputs": [
    {
     "data": {
      "text/plain": [
       "<folium.map.Marker at 0x1282a3b50>"
      ]
     },
     "execution_count": 1,
     "metadata": {},
     "output_type": "execute_result"
    }
   ],
   "source": [
    "import folium\n",
    "import vincent\n",
    "import pandas as pd\n",
    "from climata.usgs import DailyValueIO\n",
    "from datetime import datetime\n",
    "\n",
    "datelist = pd.date_range(end=datetime(2021, 12, 31), periods=365)\n",
    "data = DailyValueIO(start_date=datelist[0], end_date=datelist[-1],\n",
    "                    station=\"01175500\", parameter=\"00060\")\n",
    "flow = pd.DataFrame({'flow': [r[1] for r in data[0].data]}, index=datelist)\n",
    "\n",
    "m = folium.Map(location=[42.4, -72.3], zoom_start=7, tiles='Stamen Terrain')\n",
    "vis = vincent.Line(flow, width=550, height=250).axis_titles(x='Date', y='Flow')\n",
    "folium.Marker(\n",
    "    location=[42.267778, -72.333056],\n",
    "    popup=folium.Popup(max_width=vis.width+75).add_child(\n",
    "        folium.Vega(vis, width=\"100%\", height=\"100%\"))\n",
    ").add_to(m)"
   ]
  },
  {
   "cell_type": "code",
   "execution_count": 2,
   "metadata": {
    "slideshow": {
     "slide_type": "subslide"
    }
   },
   "outputs": [
    {
     "data": {
      "text/html": [
       "<div style=\"width:100%;\"><div style=\"position:relative;width:100%;height:0;padding-bottom:60%;\"><span style=\"color:#565656\">Make this Notebook Trusted to load map: File -> Trust Notebook</span><iframe src=\"about:blank\" style=\"position:absolute;width:100%;height:100%;left:0;top:0;border:none !important;\" data-html=%3C%21DOCTYPE%20html%3E%0A%3Chead%3E%20%20%20%20%0A%20%20%20%20%3Cmeta%20http-equiv%3D%22content-type%22%20content%3D%22text/html%3B%20charset%3DUTF-8%22%20/%3E%0A%20%20%20%20%0A%20%20%20%20%20%20%20%20%3Cscript%3E%0A%20%20%20%20%20%20%20%20%20%20%20%20L_NO_TOUCH%20%3D%20false%3B%0A%20%20%20%20%20%20%20%20%20%20%20%20L_DISABLE_3D%20%3D%20false%3B%0A%20%20%20%20%20%20%20%20%3C/script%3E%0A%20%20%20%20%0A%20%20%20%20%3Cstyle%3Ehtml%2C%20body%20%7Bwidth%3A%20100%25%3Bheight%3A%20100%25%3Bmargin%3A%200%3Bpadding%3A%200%3B%7D%3C/style%3E%0A%20%20%20%20%3Cstyle%3E%23map%20%7Bposition%3Aabsolute%3Btop%3A0%3Bbottom%3A0%3Bright%3A0%3Bleft%3A0%3B%7D%3C/style%3E%0A%20%20%20%20%3Cscript%20src%3D%22https%3A//cdn.jsdelivr.net/npm/leaflet%401.6.0/dist/leaflet.js%22%3E%3C/script%3E%0A%20%20%20%20%3Cscript%20src%3D%22https%3A//code.jquery.com/jquery-2.1.0.min.js%22%3E%3C/script%3E%0A%20%20%20%20%3Cscript%20src%3D%22https%3A//maxcdn.bootstrapcdn.com/bootstrap/3.2.0/js/bootstrap.min.js%22%3E%3C/script%3E%0A%20%20%20%20%3Cscript%20src%3D%22https%3A//cdnjs.cloudflare.com/ajax/libs/Leaflet.awesome-markers/2.0.2/leaflet.awesome-markers.js%22%3E%3C/script%3E%0A%20%20%20%20%3Clink%20rel%3D%22stylesheet%22%20href%3D%22https%3A//cdn.jsdelivr.net/npm/leaflet%401.6.0/dist/leaflet.css%22/%3E%0A%20%20%20%20%3Clink%20rel%3D%22stylesheet%22%20href%3D%22https%3A//maxcdn.bootstrapcdn.com/bootstrap/3.2.0/css/bootstrap.min.css%22/%3E%0A%20%20%20%20%3Clink%20rel%3D%22stylesheet%22%20href%3D%22https%3A//maxcdn.bootstrapcdn.com/bootstrap/3.2.0/css/bootstrap-theme.min.css%22/%3E%0A%20%20%20%20%3Clink%20rel%3D%22stylesheet%22%20href%3D%22https%3A//maxcdn.bootstrapcdn.com/font-awesome/4.6.3/css/font-awesome.min.css%22/%3E%0A%20%20%20%20%3Clink%20rel%3D%22stylesheet%22%20href%3D%22https%3A//cdnjs.cloudflare.com/ajax/libs/Leaflet.awesome-markers/2.0.2/leaflet.awesome-markers.css%22/%3E%0A%20%20%20%20%3Clink%20rel%3D%22stylesheet%22%20href%3D%22https%3A//cdn.jsdelivr.net/gh/python-visualization/folium/folium/templates/leaflet.awesome.rotate.min.css%22/%3E%0A%20%20%20%20%0A%20%20%20%20%20%20%20%20%20%20%20%20%3Cmeta%20name%3D%22viewport%22%20content%3D%22width%3Ddevice-width%2C%0A%20%20%20%20%20%20%20%20%20%20%20%20%20%20%20%20initial-scale%3D1.0%2C%20maximum-scale%3D1.0%2C%20user-scalable%3Dno%22%20/%3E%0A%20%20%20%20%20%20%20%20%20%20%20%20%3Cstyle%3E%0A%20%20%20%20%20%20%20%20%20%20%20%20%20%20%20%20%23map_cd1ef053530b44318f992fcd32a664ac%20%7B%0A%20%20%20%20%20%20%20%20%20%20%20%20%20%20%20%20%20%20%20%20position%3A%20relative%3B%0A%20%20%20%20%20%20%20%20%20%20%20%20%20%20%20%20%20%20%20%20width%3A%20100.0%25%3B%0A%20%20%20%20%20%20%20%20%20%20%20%20%20%20%20%20%20%20%20%20height%3A%20100.0%25%3B%0A%20%20%20%20%20%20%20%20%20%20%20%20%20%20%20%20%20%20%20%20left%3A%200.0%25%3B%0A%20%20%20%20%20%20%20%20%20%20%20%20%20%20%20%20%20%20%20%20top%3A%200.0%25%3B%0A%20%20%20%20%20%20%20%20%20%20%20%20%20%20%20%20%7D%0A%20%20%20%20%20%20%20%20%20%20%20%20%3C/style%3E%0A%20%20%20%20%20%20%20%20%0A%20%20%20%20%3Cscript%20src%3D%22https%3A//cdnjs.cloudflare.com/ajax/libs/d3/3.5.5/d3.min.js%22%3E%3C/script%3E%0A%20%20%20%20%3Cscript%20src%3D%22https%3A//cdnjs.cloudflare.com/ajax/libs/vega/1.4.3/vega.min.js%22%3E%3C/script%3E%0A%20%20%20%20%0A%20%20%20%20%20%20%20%20%20%20%20%20%3Cstyle%3E%20%23vega_1ef645cfc43046d49373e525bd91a359%20%7B%0A%20%20%20%20%20%20%20%20%20%20%20%20%20%20%20%20position%20%3A%20relative%3B%0A%20%20%20%20%20%20%20%20%20%20%20%20%20%20%20%20width%20%3A%20100.0%25%3B%0A%20%20%20%20%20%20%20%20%20%20%20%20%20%20%20%20height%3A%20100.0%25%3B%0A%20%20%20%20%20%20%20%20%20%20%20%20%20%20%20%20left%3A%200.0%25%3B%0A%20%20%20%20%20%20%20%20%20%20%20%20%20%20%20%20top%3A%200.0%25%3B%0A%20%20%20%20%20%20%20%20%20%20%20%20%3C/style%3E%0A%20%20%20%20%20%20%20%20%20%20%20%20%0A%3C/head%3E%0A%3Cbody%3E%20%20%20%20%0A%20%20%20%20%0A%20%20%20%20%20%20%20%20%20%20%20%20%3Cdiv%20class%3D%22folium-map%22%20id%3D%22map_cd1ef053530b44318f992fcd32a664ac%22%20%3E%3C/div%3E%0A%20%20%20%20%20%20%20%20%0A%3C/body%3E%0A%3Cscript%3E%20%20%20%20%0A%20%20%20%20%0A%20%20%20%20%20%20%20%20%20%20%20%20var%20map_cd1ef053530b44318f992fcd32a664ac%20%3D%20L.map%28%0A%20%20%20%20%20%20%20%20%20%20%20%20%20%20%20%20%22map_cd1ef053530b44318f992fcd32a664ac%22%2C%0A%20%20%20%20%20%20%20%20%20%20%20%20%20%20%20%20%7B%0A%20%20%20%20%20%20%20%20%20%20%20%20%20%20%20%20%20%20%20%20center%3A%20%5B42.4%2C%20-72.3%5D%2C%0A%20%20%20%20%20%20%20%20%20%20%20%20%20%20%20%20%20%20%20%20crs%3A%20L.CRS.EPSG3857%2C%0A%20%20%20%20%20%20%20%20%20%20%20%20%20%20%20%20%20%20%20%20zoom%3A%207%2C%0A%20%20%20%20%20%20%20%20%20%20%20%20%20%20%20%20%20%20%20%20zoomControl%3A%20true%2C%0A%20%20%20%20%20%20%20%20%20%20%20%20%20%20%20%20%20%20%20%20preferCanvas%3A%20false%2C%0A%20%20%20%20%20%20%20%20%20%20%20%20%20%20%20%20%7D%0A%20%20%20%20%20%20%20%20%20%20%20%20%29%3B%0A%0A%20%20%20%20%20%20%20%20%20%20%20%20%0A%0A%20%20%20%20%20%20%20%20%0A%20%20%20%20%0A%20%20%20%20%20%20%20%20%20%20%20%20var%20tile_layer_923306e693234e0c8c693bb593a590ed%20%3D%20L.tileLayer%28%0A%20%20%20%20%20%20%20%20%20%20%20%20%20%20%20%20%22https%3A//stamen-tiles-%7Bs%7D.a.ssl.fastly.net/terrain/%7Bz%7D/%7Bx%7D/%7By%7D.jpg%22%2C%0A%20%20%20%20%20%20%20%20%20%20%20%20%20%20%20%20%7B%22attribution%22%3A%20%22Map%20tiles%20by%20%5Cu003ca%20href%3D%5C%22http%3A//stamen.com%5C%22%5Cu003eStamen%20Design%5Cu003c/a%5Cu003e%2C%20under%20%5Cu003ca%20href%3D%5C%22http%3A//creativecommons.org/licenses/by/3.0%5C%22%5Cu003eCC%20BY%203.0%5Cu003c/a%5Cu003e.%20Data%20by%20%5Cu0026copy%3B%20%5Cu003ca%20href%3D%5C%22http%3A//openstreetmap.org%5C%22%5Cu003eOpenStreetMap%5Cu003c/a%5Cu003e%2C%20under%20%5Cu003ca%20href%3D%5C%22http%3A//creativecommons.org/licenses/by-sa/3.0%5C%22%5Cu003eCC%20BY%20SA%5Cu003c/a%5Cu003e.%22%2C%20%22detectRetina%22%3A%20false%2C%20%22maxNativeZoom%22%3A%2018%2C%20%22maxZoom%22%3A%2018%2C%20%22minZoom%22%3A%200%2C%20%22noWrap%22%3A%20false%2C%20%22opacity%22%3A%201%2C%20%22subdomains%22%3A%20%22abc%22%2C%20%22tms%22%3A%20false%7D%0A%20%20%20%20%20%20%20%20%20%20%20%20%29.addTo%28map_cd1ef053530b44318f992fcd32a664ac%29%3B%0A%20%20%20%20%20%20%20%20%0A%20%20%20%20%0A%20%20%20%20%20%20%20%20%20%20%20%20var%20marker_317de344616e40fbb217877a8997ed5b%20%3D%20L.marker%28%0A%20%20%20%20%20%20%20%20%20%20%20%20%20%20%20%20%5B42.267778%2C%20-72.333056%5D%2C%0A%20%20%20%20%20%20%20%20%20%20%20%20%20%20%20%20%7B%7D%0A%20%20%20%20%20%20%20%20%20%20%20%20%29.addTo%28map_cd1ef053530b44318f992fcd32a664ac%29%3B%0A%20%20%20%20%20%20%20%20%0A%20%20%20%20function%20vega_parse%28spec%2C%20div%29%20%7B%0A%20%20%20%20%20%20%20%20%20%20%20%20vg.parse.spec%28spec%2C%20function%28chart%29%20%7B%20chart%28%7Bel%3Adiv%7D%29.update%28%29%3B%20%7D%29%3B%7D%0A%20%20%20%20%0A%20%20%20%20%20%20%20%20var%20popup_4c25db89a52d4de393bc743b49b6060f%20%3D%20L.popup%28%7B%22maxWidth%22%3A%20625%7D%29%3B%0A%0A%20%20%20%20%20%20%20%20%0A%20%20%20%20%20%20%20%20%20%20%20%20var%20vega_1ef645cfc43046d49373e525bd91a359%20%3D%20%24%28%60%20%20%20%20%20%20%20%20%20%20%20%20%20%3Cdiv%20id%3D%22vega_1ef645cfc43046d49373e525bd91a359%22%3E%3C/div%3E%20%20%20%20%20%20%20%20%20%20%20%20%20%60%29%5B0%5D%3B%0A%20%20%20%20%20%20%20%20%20%20%20%20popup_4c25db89a52d4de393bc743b49b6060f.setContent%28vega_1ef645cfc43046d49373e525bd91a359%29%3B%0A%20%20%20%20%20%20%20%20%0A%0A%20%20%20%20%20%20%20%20marker_317de344616e40fbb217877a8997ed5b.bindPopup%28popup_4c25db89a52d4de393bc743b49b6060f%29%0A%20%20%20%20%20%20%20%20%3B%0A%0A%20%20%20%20%20%20%20%20%0A%20%20%20%20%20%20%20%20%20%20%20%20%0A%20%20%20%20%20%20%20%20%20%20%20%20vega_parse%28%7B%22axes%22%3A%20%5B%7B%22scale%22%3A%20%22x%22%2C%20%22title%22%3A%20%22Date%22%2C%20%22type%22%3A%20%22x%22%7D%2C%20%7B%22scale%22%3A%20%22y%22%2C%20%22title%22%3A%20%22Flow%22%2C%20%22type%22%3A%20%22y%22%7D%5D%2C%20%22data%22%3A%20%5B%7B%22name%22%3A%20%22table%22%2C%20%22values%22%3A%20%5B%7B%22col%22%3A%20%22flow%22%2C%20%22idx%22%3A%201609477200000%2C%20%22val%22%3A%2045.9%7D%2C%20%7B%22col%22%3A%20%22flow%22%2C%20%22idx%22%3A%201609563600000%2C%20%22val%22%3A%2047.9%7D%2C%20%7B%22col%22%3A%20%22flow%22%2C%20%22idx%22%3A%201609650000000%2C%20%22val%22%3A%2046.7%7D%2C%20%7B%22col%22%3A%20%22flow%22%2C%20%22idx%22%3A%201609736400000%2C%20%22val%22%3A%2046.2%7D%2C%20%7B%22col%22%3A%20%22flow%22%2C%20%22idx%22%3A%201609822800000%2C%20%22val%22%3A%2045.8%7D%2C%20%7B%22col%22%3A%20%22flow%22%2C%20%22idx%22%3A%201609909200000%2C%20%22val%22%3A%2045.8%7D%2C%20%7B%22col%22%3A%20%22flow%22%2C%20%22idx%22%3A%201609995600000%2C%20%22val%22%3A%2045.8%7D%2C%20%7B%22col%22%3A%20%22flow%22%2C%20%22idx%22%3A%201610082000000%2C%20%22val%22%3A%2045.5%7D%2C%20%7B%22col%22%3A%20%22flow%22%2C%20%22idx%22%3A%201610168400000%2C%20%22val%22%3A%2045.0%7D%2C%20%7B%22col%22%3A%20%22flow%22%2C%20%22idx%22%3A%201610254800000%2C%20%22val%22%3A%2044.9%7D%2C%20%7B%22col%22%3A%20%22flow%22%2C%20%22idx%22%3A%201610341200000%2C%20%22val%22%3A%2045.0%7D%2C%20%7B%22col%22%3A%20%22flow%22%2C%20%22idx%22%3A%201610427600000%2C%20%22val%22%3A%2045.0%7D%2C%20%7B%22col%22%3A%20%22flow%22%2C%20%22idx%22%3A%201610514000000%2C%20%22val%22%3A%2045.0%7D%2C%20%7B%22col%22%3A%20%22flow%22%2C%20%22idx%22%3A%201610600400000%2C%20%22val%22%3A%2045.0%7D%2C%20%7B%22col%22%3A%20%22flow%22%2C%20%22idx%22%3A%201610686800000%2C%20%22val%22%3A%2045.3%7D%2C%20%7B%22col%22%3A%20%22flow%22%2C%20%22idx%22%3A%201610773200000%2C%20%22val%22%3A%2052.4%7D%2C%20%7B%22col%22%3A%20%22flow%22%2C%20%22idx%22%3A%201610859600000%2C%20%22val%22%3A%2047.7%7D%2C%20%7B%22col%22%3A%20%22flow%22%2C%20%22idx%22%3A%201610946000000%2C%20%22val%22%3A%2046.7%7D%2C%20%7B%22col%22%3A%20%22flow%22%2C%20%22idx%22%3A%201611032400000%2C%20%22val%22%3A%2046.0%7D%2C%20%7B%22col%22%3A%20%22flow%22%2C%20%22idx%22%3A%201611118800000%2C%20%22val%22%3A%2046.0%7D%2C%20%7B%22col%22%3A%20%22flow%22%2C%20%22idx%22%3A%201611205200000%2C%20%22val%22%3A%2045.6%7D%2C%20%7B%22col%22%3A%20%22flow%22%2C%20%22idx%22%3A%201611291600000%2C%20%22val%22%3A%2045.3%7D%2C%20%7B%22col%22%3A%20%22flow%22%2C%20%22idx%22%3A%201611378000000%2C%20%22val%22%3A%2045.1%7D%2C%20%7B%22col%22%3A%20%22flow%22%2C%20%22idx%22%3A%201611464400000%2C%20%22val%22%3A%2045.1%7D%2C%20%7B%22col%22%3A%20%22flow%22%2C%20%22idx%22%3A%201611550800000%2C%20%22val%22%3A%2044.8%7D%2C%20%7B%22col%22%3A%20%22flow%22%2C%20%22idx%22%3A%201611637200000%2C%20%22val%22%3A%2045.0%7D%2C%20%7B%22col%22%3A%20%22flow%22%2C%20%22idx%22%3A%201611723600000%2C%20%22val%22%3A%2045.2%7D%2C%20%7B%22col%22%3A%20%22flow%22%2C%20%22idx%22%3A%201611810000000%2C%20%22val%22%3A%2045.3%7D%2C%20%7B%22col%22%3A%20%22flow%22%2C%20%22idx%22%3A%201611896400000%2C%20%22val%22%3A%2045.2%7D%2C%20%7B%22col%22%3A%20%22flow%22%2C%20%22idx%22%3A%201611982800000%2C%20%22val%22%3A%2044.8%7D%2C%20%7B%22col%22%3A%20%22flow%22%2C%20%22idx%22%3A%201612069200000%2C%20%22val%22%3A%2044.8%7D%2C%20%7B%22col%22%3A%20%22flow%22%2C%20%22idx%22%3A%201612155600000%2C%20%22val%22%3A%2045.3%7D%2C%20%7B%22col%22%3A%20%22flow%22%2C%20%22idx%22%3A%201612242000000%2C%20%22val%22%3A%2045.3%7D%2C%20%7B%22col%22%3A%20%22flow%22%2C%20%22idx%22%3A%201612328400000%2C%20%22val%22%3A%2045.3%7D%2C%20%7B%22col%22%3A%20%22flow%22%2C%20%22idx%22%3A%201612414800000%2C%20%22val%22%3A%2045.3%7D%2C%20%7B%22col%22%3A%20%22flow%22%2C%20%22idx%22%3A%201612501200000%2C%20%22val%22%3A%2045.2%7D%2C%20%7B%22col%22%3A%20%22flow%22%2C%20%22idx%22%3A%201612587600000%2C%20%22val%22%3A%2044.8%7D%2C%20%7B%22col%22%3A%20%22flow%22%2C%20%22idx%22%3A%201612674000000%2C%20%22val%22%3A%2044.9%7D%2C%20%7B%22col%22%3A%20%22flow%22%2C%20%22idx%22%3A%201612760400000%2C%20%22val%22%3A%2044.5%7D%2C%20%7B%22col%22%3A%20%22flow%22%2C%20%22idx%22%3A%201612846800000%2C%20%22val%22%3A%2044.5%7D%2C%20%7B%22col%22%3A%20%22flow%22%2C%20%22idx%22%3A%201612933200000%2C%20%22val%22%3A%2044.5%7D%2C%20%7B%22col%22%3A%20%22flow%22%2C%20%22idx%22%3A%201613019600000%2C%20%22val%22%3A%2044.5%7D%2C%20%7B%22col%22%3A%20%22flow%22%2C%20%22idx%22%3A%201613106000000%2C%20%22val%22%3A%2044.5%7D%2C%20%7B%22col%22%3A%20%22flow%22%2C%20%22idx%22%3A%201613192400000%2C%20%22val%22%3A%2044.5%7D%2C%20%7B%22col%22%3A%20%22flow%22%2C%20%22idx%22%3A%201613278800000%2C%20%22val%22%3A%2044.5%7D%2C%20%7B%22col%22%3A%20%22flow%22%2C%20%22idx%22%3A%201613365200000%2C%20%22val%22%3A%2044.6%7D%2C%20%7B%22col%22%3A%20%22flow%22%2C%20%22idx%22%3A%201613451600000%2C%20%22val%22%3A%2047.3%7D%2C%20%7B%22col%22%3A%20%22flow%22%2C%20%22idx%22%3A%201613538000000%2C%20%22val%22%3A%2045.9%7D%2C%20%7B%22col%22%3A%20%22flow%22%2C%20%22idx%22%3A%201613624400000%2C%20%22val%22%3A%2045.4%7D%2C%20%7B%22col%22%3A%20%22flow%22%2C%20%22idx%22%3A%201613710800000%2C%20%22val%22%3A%2045.1%7D%2C%20%7B%22col%22%3A%20%22flow%22%2C%20%22idx%22%3A%201613797200000%2C%20%22val%22%3A%2044.7%7D%2C%20%7B%22col%22%3A%20%22flow%22%2C%20%22idx%22%3A%201613883600000%2C%20%22val%22%3A%2044.7%7D%2C%20%7B%22col%22%3A%20%22flow%22%2C%20%22idx%22%3A%201613970000000%2C%20%22val%22%3A%2045.0%7D%2C%20%7B%22col%22%3A%20%22flow%22%2C%20%22idx%22%3A%201614056400000%2C%20%22val%22%3A%2045.1%7D%2C%20%7B%22col%22%3A%20%22flow%22%2C%20%22idx%22%3A%201614142800000%2C%20%22val%22%3A%2045.3%7D%2C%20%7B%22col%22%3A%20%22flow%22%2C%20%22idx%22%3A%201614229200000%2C%20%22val%22%3A%2046.1%7D%2C%20%7B%22col%22%3A%20%22flow%22%2C%20%22idx%22%3A%201614315600000%2C%20%22val%22%3A%2045.6%7D%2C%20%7B%22col%22%3A%20%22flow%22%2C%20%22idx%22%3A%201614402000000%2C%20%22val%22%3A%2045.6%7D%2C%20%7B%22col%22%3A%20%22flow%22%2C%20%22idx%22%3A%201614488400000%2C%20%22val%22%3A%2045.6%7D%2C%20%7B%22col%22%3A%20%22flow%22%2C%20%22idx%22%3A%201614574800000%2C%20%22val%22%3A%2047.1%7D%2C%20%7B%22col%22%3A%20%22flow%22%2C%20%22idx%22%3A%201614661200000%2C%20%22val%22%3A%2045.7%7D%2C%20%7B%22col%22%3A%20%22flow%22%2C%20%22idx%22%3A%201614747600000%2C%20%22val%22%3A%2045.3%7D%2C%20%7B%22col%22%3A%20%22flow%22%2C%20%22idx%22%3A%201614834000000%2C%20%22val%22%3A%2045.6%7D%2C%20%7B%22col%22%3A%20%22flow%22%2C%20%22idx%22%3A%201614920400000%2C%20%22val%22%3A%2045.0%7D%2C%20%7B%22col%22%3A%20%22flow%22%2C%20%22idx%22%3A%201615006800000%2C%20%22val%22%3A%2044.7%7D%2C%20%7B%22col%22%3A%20%22flow%22%2C%20%22idx%22%3A%201615093200000%2C%20%22val%22%3A%2044.6%7D%2C%20%7B%22col%22%3A%20%22flow%22%2C%20%22idx%22%3A%201615179600000%2C%20%22val%22%3A%2044.7%7D%2C%20%7B%22col%22%3A%20%22flow%22%2C%20%22idx%22%3A%201615266000000%2C%20%22val%22%3A%2045.1%7D%2C%20%7B%22col%22%3A%20%22flow%22%2C%20%22idx%22%3A%201615352400000%2C%20%22val%22%3A%2045.4%7D%2C%20%7B%22col%22%3A%20%22flow%22%2C%20%22idx%22%3A%201615438800000%2C%20%22val%22%3A%2045.9%7D%2C%20%7B%22col%22%3A%20%22flow%22%2C%20%22idx%22%3A%201615525200000%2C%20%22val%22%3A%2046.4%7D%2C%20%7B%22col%22%3A%20%22flow%22%2C%20%22idx%22%3A%201615611600000%2C%20%22val%22%3A%2045.6%7D%2C%20%7B%22col%22%3A%20%22flow%22%2C%20%22idx%22%3A%201615698000000%2C%20%22val%22%3A%2045.5%7D%2C%20%7B%22col%22%3A%20%22flow%22%2C%20%22idx%22%3A%201615780800000%2C%20%22val%22%3A%2045.3%7D%2C%20%7B%22col%22%3A%20%22flow%22%2C%20%22idx%22%3A%201615867200000%2C%20%22val%22%3A%2045.2%7D%2C%20%7B%22col%22%3A%20%22flow%22%2C%20%22idx%22%3A%201615953600000%2C%20%22val%22%3A%2045.4%7D%2C%20%7B%22col%22%3A%20%22flow%22%2C%20%22idx%22%3A%201616040000000%2C%20%22val%22%3A%2046.9%7D%2C%20%7B%22col%22%3A%20%22flow%22%2C%20%22idx%22%3A%201616126400000%2C%20%22val%22%3A%2046.6%7D%2C%20%7B%22col%22%3A%20%22flow%22%2C%20%22idx%22%3A%201616212800000%2C%20%22val%22%3A%2045.8%7D%2C%20%7B%22col%22%3A%20%22flow%22%2C%20%22idx%22%3A%201616299200000%2C%20%22val%22%3A%2045.9%7D%2C%20%7B%22col%22%3A%20%22flow%22%2C%20%22idx%22%3A%201616385600000%2C%20%22val%22%3A%2046.0%7D%2C%20%7B%22col%22%3A%20%22flow%22%2C%20%22idx%22%3A%201616472000000%2C%20%22val%22%3A%2046.0%7D%2C%20%7B%22col%22%3A%20%22flow%22%2C%20%22idx%22%3A%201616558400000%2C%20%22val%22%3A%2046.2%7D%2C%20%7B%22col%22%3A%20%22flow%22%2C%20%22idx%22%3A%201616644800000%2C%20%22val%22%3A%2046.4%7D%2C%20%7B%22col%22%3A%20%22flow%22%2C%20%22idx%22%3A%201616731200000%2C%20%22val%22%3A%2046.9%7D%2C%20%7B%22col%22%3A%20%22flow%22%2C%20%22idx%22%3A%201616817600000%2C%20%22val%22%3A%2046.2%7D%2C%20%7B%22col%22%3A%20%22flow%22%2C%20%22idx%22%3A%201616904000000%2C%20%22val%22%3A%2048.6%7D%2C%20%7B%22col%22%3A%20%22flow%22%2C%20%22idx%22%3A%201616990400000%2C%20%22val%22%3A%2048.1%7D%2C%20%7B%22col%22%3A%20%22flow%22%2C%20%22idx%22%3A%201617076800000%2C%20%22val%22%3A%2046.2%7D%2C%20%7B%22col%22%3A%20%22flow%22%2C%20%22idx%22%3A%201617163200000%2C%20%22val%22%3A%2046.3%7D%2C%20%7B%22col%22%3A%20%22flow%22%2C%20%22idx%22%3A%201617249600000%2C%20%22val%22%3A%2046.9%7D%2C%20%7B%22col%22%3A%20%22flow%22%2C%20%22idx%22%3A%201617336000000%2C%20%22val%22%3A%2045.9%7D%2C%20%7B%22col%22%3A%20%22flow%22%2C%20%22idx%22%3A%201617422400000%2C%20%22val%22%3A%2045.7%7D%2C%20%7B%22col%22%3A%20%22flow%22%2C%20%22idx%22%3A%201617508800000%2C%20%22val%22%3A%2045.8%7D%2C%20%7B%22col%22%3A%20%22flow%22%2C%20%22idx%22%3A%201617595200000%2C%20%22val%22%3A%2046.0%7D%2C%20%7B%22col%22%3A%20%22flow%22%2C%20%22idx%22%3A%201617681600000%2C%20%22val%22%3A%2046.1%7D%2C%20%7B%22col%22%3A%20%22flow%22%2C%20%22idx%22%3A%201617768000000%2C%20%22val%22%3A%2046.0%7D%2C%20%7B%22col%22%3A%20%22flow%22%2C%20%22idx%22%3A%201617854400000%2C%20%22val%22%3A%2046.0%7D%2C%20%7B%22col%22%3A%20%22flow%22%2C%20%22idx%22%3A%201617940800000%2C%20%22val%22%3A%2046.0%7D%2C%20%7B%22col%22%3A%20%22flow%22%2C%20%22idx%22%3A%201618027200000%2C%20%22val%22%3A%2046.1%7D%2C%20%7B%22col%22%3A%20%22flow%22%2C%20%22idx%22%3A%201618113600000%2C%20%22val%22%3A%2046.0%7D%2C%20%7B%22col%22%3A%20%22flow%22%2C%20%22idx%22%3A%201618200000000%2C%20%22val%22%3A%2045.9%7D%2C%20%7B%22col%22%3A%20%22flow%22%2C%20%22idx%22%3A%201618286400000%2C%20%22val%22%3A%2045.5%7D%2C%20%7B%22col%22%3A%20%22flow%22%2C%20%22idx%22%3A%201618372800000%2C%20%22val%22%3A%2045.6%7D%2C%20%7B%22col%22%3A%20%22flow%22%2C%20%22idx%22%3A%201618459200000%2C%20%22val%22%3A%2046.6%7D%2C%20%7B%22col%22%3A%20%22flow%22%2C%20%22idx%22%3A%201618545600000%2C%20%22val%22%3A%2051.4%7D%2C%20%7B%22col%22%3A%20%22flow%22%2C%20%22idx%22%3A%201618632000000%2C%20%22val%22%3A%2047.7%7D%2C%20%7B%22col%22%3A%20%22flow%22%2C%20%22idx%22%3A%201618718400000%2C%20%22val%22%3A%2046.3%7D%2C%20%7B%22col%22%3A%20%22flow%22%2C%20%22idx%22%3A%201618804800000%2C%20%22val%22%3A%2045.9%7D%2C%20%7B%22col%22%3A%20%22flow%22%2C%20%22idx%22%3A%201618891200000%2C%20%22val%22%3A%2045.9%7D%2C%20%7B%22col%22%3A%20%22flow%22%2C%20%22idx%22%3A%201618977600000%2C%20%22val%22%3A%2046.7%7D%2C%20%7B%22col%22%3A%20%22flow%22%2C%20%22idx%22%3A%201619064000000%2C%20%22val%22%3A%2045.9%7D%2C%20%7B%22col%22%3A%20%22flow%22%2C%20%22idx%22%3A%201619150400000%2C%20%22val%22%3A%2045.3%7D%2C%20%7B%22col%22%3A%20%22flow%22%2C%20%22idx%22%3A%201619236800000%2C%20%22val%22%3A%2045.5%7D%2C%20%7B%22col%22%3A%20%22flow%22%2C%20%22idx%22%3A%201619323200000%2C%20%22val%22%3A%2045.8%7D%2C%20%7B%22col%22%3A%20%22flow%22%2C%20%22idx%22%3A%201619409600000%2C%20%22val%22%3A%2045.2%7D%2C%20%7B%22col%22%3A%20%22flow%22%2C%20%22idx%22%3A%201619496000000%2C%20%22val%22%3A%2044.9%7D%2C%20%7B%22col%22%3A%20%22flow%22%2C%20%22idx%22%3A%201619582400000%2C%20%22val%22%3A%2045.5%7D%2C%20%7B%22col%22%3A%20%22flow%22%2C%20%22idx%22%3A%201619668800000%2C%20%22val%22%3A%2049.2%7D%2C%20%7B%22col%22%3A%20%22flow%22%2C%20%22idx%22%3A%201619755200000%2C%20%22val%22%3A%2048.5%7D%2C%20%7B%22col%22%3A%20%22flow%22%2C%20%22idx%22%3A%201619841600000%2C%20%22val%22%3A%2046.1%7D%2C%20%7B%22col%22%3A%20%22flow%22%2C%20%22idx%22%3A%201619928000000%2C%20%22val%22%3A%2046.3%7D%2C%20%7B%22col%22%3A%20%22flow%22%2C%20%22idx%22%3A%201620014400000%2C%20%22val%22%3A%2046.7%7D%2C%20%7B%22col%22%3A%20%22flow%22%2C%20%22idx%22%3A%201620100800000%2C%20%22val%22%3A%2049.0%7D%2C%20%7B%22col%22%3A%20%22flow%22%2C%20%22idx%22%3A%201620187200000%2C%20%22val%22%3A%2050.3%7D%2C%20%7B%22col%22%3A%20%22flow%22%2C%20%22idx%22%3A%201620273600000%2C%20%22val%22%3A%2047.2%7D%2C%20%7B%22col%22%3A%20%22flow%22%2C%20%22idx%22%3A%201620360000000%2C%20%22val%22%3A%2046.4%7D%2C%20%7B%22col%22%3A%20%22flow%22%2C%20%22idx%22%3A%201620446400000%2C%20%22val%22%3A%2045.8%7D%2C%20%7B%22col%22%3A%20%22flow%22%2C%20%22idx%22%3A%201620532800000%2C%20%22val%22%3A%2045.8%7D%2C%20%7B%22col%22%3A%20%22flow%22%2C%20%22idx%22%3A%201620619200000%2C%20%22val%22%3A%2048.1%7D%2C%20%7B%22col%22%3A%20%22flow%22%2C%20%22idx%22%3A%201620705600000%2C%20%22val%22%3A%2046.5%7D%2C%20%7B%22col%22%3A%20%22flow%22%2C%20%22idx%22%3A%201620792000000%2C%20%22val%22%3A%2045.9%7D%2C%20%7B%22col%22%3A%20%22flow%22%2C%20%22idx%22%3A%201620878400000%2C%20%22val%22%3A%2045.9%7D%2C%20%7B%22col%22%3A%20%22flow%22%2C%20%22idx%22%3A%201620964800000%2C%20%22val%22%3A%2045.9%7D%2C%20%7B%22col%22%3A%20%22flow%22%2C%20%22idx%22%3A%201621051200000%2C%20%22val%22%3A%2046.0%7D%2C%20%7B%22col%22%3A%20%22flow%22%2C%20%22idx%22%3A%201621137600000%2C%20%22val%22%3A%2046.0%7D%2C%20%7B%22col%22%3A%20%22flow%22%2C%20%22idx%22%3A%201621224000000%2C%20%22val%22%3A%2046.0%7D%2C%20%7B%22col%22%3A%20%22flow%22%2C%20%22idx%22%3A%201621310400000%2C%20%22val%22%3A%2045.8%7D%2C%20%7B%22col%22%3A%20%22flow%22%2C%20%22idx%22%3A%201621396800000%2C%20%22val%22%3A%2045.7%7D%2C%20%7B%22col%22%3A%20%22flow%22%2C%20%22idx%22%3A%201621483200000%2C%20%22val%22%3A%2045.6%7D%2C%20%7B%22col%22%3A%20%22flow%22%2C%20%22idx%22%3A%201621569600000%2C%20%22val%22%3A%2045.6%7D%2C%20%7B%22col%22%3A%20%22flow%22%2C%20%22idx%22%3A%201621656000000%2C%20%22val%22%3A%2045.7%7D%2C%20%7B%22col%22%3A%20%22flow%22%2C%20%22idx%22%3A%201621742400000%2C%20%22val%22%3A%2046.0%7D%2C%20%7B%22col%22%3A%20%22flow%22%2C%20%22idx%22%3A%201621828800000%2C%20%22val%22%3A%2045.3%7D%2C%20%7B%22col%22%3A%20%22flow%22%2C%20%22idx%22%3A%201621915200000%2C%20%22val%22%3A%2045.3%7D%2C%20%7B%22col%22%3A%20%22flow%22%2C%20%22idx%22%3A%201622001600000%2C%20%22val%22%3A%2047.1%7D%2C%20%7B%22col%22%3A%20%22flow%22%2C%20%22idx%22%3A%201622088000000%2C%20%22val%22%3A%2047.1%7D%2C%20%7B%22col%22%3A%20%22flow%22%2C%20%22idx%22%3A%201622174400000%2C%20%22val%22%3A%2047.3%7D%2C%20%7B%22col%22%3A%20%22flow%22%2C%20%22idx%22%3A%201622260800000%2C%20%22val%22%3A%2055.5%7D%2C%20%7B%22col%22%3A%20%22flow%22%2C%20%22idx%22%3A%201622347200000%2C%20%22val%22%3A%2052.6%7D%2C%20%7B%22col%22%3A%20%22flow%22%2C%20%22idx%22%3A%201622433600000%2C%20%22val%22%3A%2054.1%7D%2C%20%7B%22col%22%3A%20%22flow%22%2C%20%22idx%22%3A%201622520000000%2C%20%22val%22%3A%2051.1%7D%2C%20%7B%22col%22%3A%20%22flow%22%2C%20%22idx%22%3A%201622606400000%2C%20%22val%22%3A%2050.4%7D%2C%20%7B%22col%22%3A%20%22flow%22%2C%20%22idx%22%3A%201622692800000%2C%20%22val%22%3A%2050.4%7D%2C%20%7B%22col%22%3A%20%22flow%22%2C%20%22idx%22%3A%201622779200000%2C%20%22val%22%3A%2050.5%7D%2C%20%7B%22col%22%3A%20%22flow%22%2C%20%22idx%22%3A%201622865600000%2C%20%22val%22%3A%2050.5%7D%2C%20%7B%22col%22%3A%20%22flow%22%2C%20%22idx%22%3A%201622952000000%2C%20%22val%22%3A%2050.7%7D%2C%20%7B%22col%22%3A%20%22flow%22%2C%20%22idx%22%3A%201623038400000%2C%20%22val%22%3A%2050.5%7D%2C%20%7B%22col%22%3A%20%22flow%22%2C%20%22idx%22%3A%201623124800000%2C%20%22val%22%3A%2050.6%7D%2C%20%7B%22col%22%3A%20%22flow%22%2C%20%22idx%22%3A%201623211200000%2C%20%22val%22%3A%2049.6%7D%2C%20%7B%22col%22%3A%20%22flow%22%2C%20%22idx%22%3A%201623297600000%2C%20%22val%22%3A%2049.5%7D%2C%20%7B%22col%22%3A%20%22flow%22%2C%20%22idx%22%3A%201623384000000%2C%20%22val%22%3A%2048.9%7D%2C%20%7B%22col%22%3A%20%22flow%22%2C%20%22idx%22%3A%201623470400000%2C%20%22val%22%3A%2049.0%7D%2C%20%7B%22col%22%3A%20%22flow%22%2C%20%22idx%22%3A%201623556800000%2C%20%22val%22%3A%2048.6%7D%2C%20%7B%22col%22%3A%20%22flow%22%2C%20%22idx%22%3A%201623643200000%2C%20%22val%22%3A%2086.3%7D%2C%20%7B%22col%22%3A%20%22flow%22%2C%20%22idx%22%3A%201623729600000%2C%20%22val%22%3A%20114.0%7D%2C%20%7B%22col%22%3A%20%22flow%22%2C%20%22idx%22%3A%201623816000000%2C%20%22val%22%3A%20113.0%7D%2C%20%7B%22col%22%3A%20%22flow%22%2C%20%22idx%22%3A%201623902400000%2C%20%22val%22%3A%20113.0%7D%2C%20%7B%22col%22%3A%20%22flow%22%2C%20%22idx%22%3A%201623988800000%2C%20%22val%22%3A%20113.0%7D%2C%20%7B%22col%22%3A%20%22flow%22%2C%20%22idx%22%3A%201624075200000%2C%20%22val%22%3A%20114.0%7D%2C%20%7B%22col%22%3A%20%22flow%22%2C%20%22idx%22%3A%201624161600000%2C%20%22val%22%3A%20114.0%7D%2C%20%7B%22col%22%3A%20%22flow%22%2C%20%22idx%22%3A%201624248000000%2C%20%22val%22%3A%20114.0%7D%2C%20%7B%22col%22%3A%20%22flow%22%2C%20%22idx%22%3A%201624334400000%2C%20%22val%22%3A%20114.0%7D%2C%20%7B%22col%22%3A%20%22flow%22%2C%20%22idx%22%3A%201624420800000%2C%20%22val%22%3A%20114.0%7D%2C%20%7B%22col%22%3A%20%22flow%22%2C%20%22idx%22%3A%201624507200000%2C%20%22val%22%3A%20113.0%7D%2C%20%7B%22col%22%3A%20%22flow%22%2C%20%22idx%22%3A%201624593600000%2C%20%22val%22%3A%20113.0%7D%2C%20%7B%22col%22%3A%20%22flow%22%2C%20%22idx%22%3A%201624680000000%2C%20%22val%22%3A%20114.0%7D%2C%20%7B%22col%22%3A%20%22flow%22%2C%20%22idx%22%3A%201624766400000%2C%20%22val%22%3A%20114.0%7D%2C%20%7B%22col%22%3A%20%22flow%22%2C%20%22idx%22%3A%201624852800000%2C%20%22val%22%3A%20114.0%7D%2C%20%7B%22col%22%3A%20%22flow%22%2C%20%22idx%22%3A%201624939200000%2C%20%22val%22%3A%20114.0%7D%2C%20%7B%22col%22%3A%20%22flow%22%2C%20%22idx%22%3A%201625025600000%2C%20%22val%22%3A%20114.0%7D%2C%20%7B%22col%22%3A%20%22flow%22%2C%20%22idx%22%3A%201625112000000%2C%20%22val%22%3A%20115.0%7D%2C%20%7B%22col%22%3A%20%22flow%22%2C%20%22idx%22%3A%201625198400000%2C%20%22val%22%3A%20117.0%7D%2C%20%7B%22col%22%3A%20%22flow%22%2C%20%22idx%22%3A%201625284800000%2C%20%22val%22%3A%20115.0%7D%2C%20%7B%22col%22%3A%20%22flow%22%2C%20%22idx%22%3A%201625371200000%2C%20%22val%22%3A%20114.0%7D%2C%20%7B%22col%22%3A%20%22flow%22%2C%20%22idx%22%3A%201625457600000%2C%20%22val%22%3A%20114.0%7D%2C%20%7B%22col%22%3A%20%22flow%22%2C%20%22idx%22%3A%201625544000000%2C%20%22val%22%3A%20114.0%7D%2C%20%7B%22col%22%3A%20%22flow%22%2C%20%22idx%22%3A%201625630400000%2C%20%22val%22%3A%20101.0%7D%2C%20%7B%22col%22%3A%20%22flow%22%2C%20%22idx%22%3A%201625716800000%2C%20%22val%22%3A%2095.1%7D%2C%20%7B%22col%22%3A%20%22flow%22%2C%20%22idx%22%3A%201625803200000%2C%20%22val%22%3A%2098.7%7D%2C%20%7B%22col%22%3A%20%22flow%22%2C%20%22idx%22%3A%201625889600000%2C%20%22val%22%3A%2094.8%7D%2C%20%7B%22col%22%3A%20%22flow%22%2C%20%22idx%22%3A%201625976000000%2C%20%22val%22%3A%2094.5%7D%2C%20%7B%22col%22%3A%20%22flow%22%2C%20%22idx%22%3A%201626062400000%2C%20%22val%22%3A%20102.0%7D%2C%20%7B%22col%22%3A%20%22flow%22%2C%20%22idx%22%3A%201626148800000%2C%20%22val%22%3A%2097.3%7D%2C%20%7B%22col%22%3A%20%22flow%22%2C%20%22idx%22%3A%201626235200000%2C%20%22val%22%3A%2098.5%7D%2C%20%7B%22col%22%3A%20%22flow%22%2C%20%22idx%22%3A%201626321600000%2C%20%22val%22%3A%2098.1%7D%2C%20%7B%22col%22%3A%20%22flow%22%2C%20%22idx%22%3A%201626408000000%2C%20%22val%22%3A%2096.3%7D%2C%20%7B%22col%22%3A%20%22flow%22%2C%20%22idx%22%3A%201626494400000%2C%20%22val%22%3A%2098.9%7D%2C%20%7B%22col%22%3A%20%22flow%22%2C%20%22idx%22%3A%201626580800000%2C%20%22val%22%3A%20119.0%7D%2C%20%7B%22col%22%3A%20%22flow%22%2C%20%22idx%22%3A%201626667200000%2C%20%22val%22%3A%20102.0%7D%2C%20%7B%22col%22%3A%20%22flow%22%2C%20%22idx%22%3A%201626753600000%2C%20%22val%22%3A%2099.8%7D%2C%20%7B%22col%22%3A%20%22flow%22%2C%20%22idx%22%3A%201626840000000%2C%20%22val%22%3A%2077.5%7D%2C%20%7B%22col%22%3A%20%22flow%22%2C%20%22idx%22%3A%201626926400000%2C%20%22val%22%3A%2055.8%7D%2C%20%7B%22col%22%3A%20%22flow%22%2C%20%22idx%22%3A%201627012800000%2C%20%22val%22%3A%2055.9%7D%2C%20%7B%22col%22%3A%20%22flow%22%2C%20%22idx%22%3A%201627099200000%2C%20%22val%22%3A%2055.3%7D%2C%20%7B%22col%22%3A%20%22flow%22%2C%20%22idx%22%3A%201627185600000%2C%20%22val%22%3A%2054.0%7D%2C%20%7B%22col%22%3A%20%22flow%22%2C%20%22idx%22%3A%201627272000000%2C%20%22val%22%3A%2054.5%7D%2C%20%7B%22col%22%3A%20%22flow%22%2C%20%22idx%22%3A%201627358400000%2C%20%22val%22%3A%2055.0%7D%2C%20%7B%22col%22%3A%20%22flow%22%2C%20%22idx%22%3A%201627444800000%2C%20%22val%22%3A%2057.5%7D%2C%20%7B%22col%22%3A%20%22flow%22%2C%20%22idx%22%3A%201627531200000%2C%20%22val%22%3A%2055.8%7D%2C%20%7B%22col%22%3A%20%22flow%22%2C%20%22idx%22%3A%201627617600000%2C%20%22val%22%3A%2057.3%7D%2C%20%7B%22col%22%3A%20%22flow%22%2C%20%22idx%22%3A%201627704000000%2C%20%22val%22%3A%2055.4%7D%2C%20%7B%22col%22%3A%20%22flow%22%2C%20%22idx%22%3A%201627790400000%2C%20%22val%22%3A%2053.6%7D%2C%20%7B%22col%22%3A%20%22flow%22%2C%20%22idx%22%3A%201627876800000%2C%20%22val%22%3A%2053.3%7D%2C%20%7B%22col%22%3A%20%22flow%22%2C%20%22idx%22%3A%201627963200000%2C%20%22val%22%3A%2052.1%7D%2C%20%7B%22col%22%3A%20%22flow%22%2C%20%22idx%22%3A%201628049600000%2C%20%22val%22%3A%2051.3%7D%2C%20%7B%22col%22%3A%20%22flow%22%2C%20%22idx%22%3A%201628136000000%2C%20%22val%22%3A%2051.2%7D%2C%20%7B%22col%22%3A%20%22flow%22%2C%20%22idx%22%3A%201628222400000%2C%20%22val%22%3A%2050.6%7D%2C%20%7B%22col%22%3A%20%22flow%22%2C%20%22idx%22%3A%201628308800000%2C%20%22val%22%3A%2050.6%7D%2C%20%7B%22col%22%3A%20%22flow%22%2C%20%22idx%22%3A%201628395200000%2C%20%22val%22%3A%2050.6%7D%2C%20%7B%22col%22%3A%20%22flow%22%2C%20%22idx%22%3A%201628481600000%2C%20%22val%22%3A%2050.6%7D%2C%20%7B%22col%22%3A%20%22flow%22%2C%20%22idx%22%3A%201628568000000%2C%20%22val%22%3A%2050.6%7D%2C%20%7B%22col%22%3A%20%22flow%22%2C%20%22idx%22%3A%201628654400000%2C%20%22val%22%3A%2050.6%7D%2C%20%7B%22col%22%3A%20%22flow%22%2C%20%22idx%22%3A%201628740800000%2C%20%22val%22%3A%2051.6%7D%2C%20%7B%22col%22%3A%20%22flow%22%2C%20%22idx%22%3A%201628827200000%2C%20%22val%22%3A%2050.8%7D%2C%20%7B%22col%22%3A%20%22flow%22%2C%20%22idx%22%3A%201628913600000%2C%20%22val%22%3A%2050.6%7D%2C%20%7B%22col%22%3A%20%22flow%22%2C%20%22idx%22%3A%201629000000000%2C%20%22val%22%3A%2050.5%7D%2C%20%7B%22col%22%3A%20%22flow%22%2C%20%22idx%22%3A%201629086400000%2C%20%22val%22%3A%2049.9%7D%2C%20%7B%22col%22%3A%20%22flow%22%2C%20%22idx%22%3A%201629172800000%2C%20%22val%22%3A%2050.0%7D%2C%20%7B%22col%22%3A%20%22flow%22%2C%20%22idx%22%3A%201629259200000%2C%20%22val%22%3A%2050.5%7D%2C%20%7B%22col%22%3A%20%22flow%22%2C%20%22idx%22%3A%201629345600000%2C%20%22val%22%3A%2054.0%7D%2C%20%7B%22col%22%3A%20%22flow%22%2C%20%22idx%22%3A%201629432000000%2C%20%22val%22%3A%2051.5%7D%2C%20%7B%22col%22%3A%20%22flow%22%2C%20%22idx%22%3A%201629518400000%2C%20%22val%22%3A%2050.6%7D%2C%20%7B%22col%22%3A%20%22flow%22%2C%20%22idx%22%3A%201629604800000%2C%20%22val%22%3A%2052.5%7D%2C%20%7B%22col%22%3A%20%22flow%22%2C%20%22idx%22%3A%201629691200000%2C%20%22val%22%3A%2054.4%7D%2C%20%7B%22col%22%3A%20%22flow%22%2C%20%22idx%22%3A%201629777600000%2C%20%22val%22%3A%2053.2%7D%2C%20%7B%22col%22%3A%20%22flow%22%2C%20%22idx%22%3A%201629864000000%2C%20%22val%22%3A%2051.7%7D%2C%20%7B%22col%22%3A%20%22flow%22%2C%20%22idx%22%3A%201629950400000%2C%20%22val%22%3A%2051.6%7D%2C%20%7B%22col%22%3A%20%22flow%22%2C%20%22idx%22%3A%201630036800000%2C%20%22val%22%3A%2051.6%7D%2C%20%7B%22col%22%3A%20%22flow%22%2C%20%22idx%22%3A%201630123200000%2C%20%22val%22%3A%2051.6%7D%2C%20%7B%22col%22%3A%20%22flow%22%2C%20%22idx%22%3A%201630209600000%2C%20%22val%22%3A%2051.0%7D%2C%20%7B%22col%22%3A%20%22flow%22%2C%20%22idx%22%3A%201630296000000%2C%20%22val%22%3A%2051.3%7D%2C%20%7B%22col%22%3A%20%22flow%22%2C%20%22idx%22%3A%201630382400000%2C%20%22val%22%3A%2051.2%7D%2C%20%7B%22col%22%3A%20%22flow%22%2C%20%22idx%22%3A%201630468800000%2C%20%22val%22%3A%2055.3%7D%2C%20%7B%22col%22%3A%20%22flow%22%2C%20%22idx%22%3A%201630555200000%2C%20%22val%22%3A%2074.1%7D%2C%20%7B%22col%22%3A%20%22flow%22%2C%20%22idx%22%3A%201630641600000%2C%20%22val%22%3A%2054.7%7D%2C%20%7B%22col%22%3A%20%22flow%22%2C%20%22idx%22%3A%201630728000000%2C%20%22val%22%3A%2053.7%7D%2C%20%7B%22col%22%3A%20%22flow%22%2C%20%22idx%22%3A%201630814400000%2C%20%22val%22%3A%2053.6%7D%2C%20%7B%22col%22%3A%20%22flow%22%2C%20%22idx%22%3A%201630900800000%2C%20%22val%22%3A%2052.9%7D%2C%20%7B%22col%22%3A%20%22flow%22%2C%20%22idx%22%3A%201630987200000%2C%20%22val%22%3A%2052.5%7D%2C%20%7B%22col%22%3A%20%22flow%22%2C%20%22idx%22%3A%201631073600000%2C%20%22val%22%3A%2052.2%7D%2C%20%7B%22col%22%3A%20%22flow%22%2C%20%22idx%22%3A%201631160000000%2C%20%22val%22%3A%2054.3%7D%2C%20%7B%22col%22%3A%20%22flow%22%2C%20%22idx%22%3A%201631246400000%2C%20%22val%22%3A%2053.4%7D%2C%20%7B%22col%22%3A%20%22flow%22%2C%20%22idx%22%3A%201631332800000%2C%20%22val%22%3A%2051.8%7D%2C%20%7B%22col%22%3A%20%22flow%22%2C%20%22idx%22%3A%201631419200000%2C%20%22val%22%3A%2051.6%7D%2C%20%7B%22col%22%3A%20%22flow%22%2C%20%22idx%22%3A%201631505600000%2C%20%22val%22%3A%2052.1%7D%2C%20%7B%22col%22%3A%20%22flow%22%2C%20%22idx%22%3A%201631592000000%2C%20%22val%22%3A%2051.6%7D%2C%20%7B%22col%22%3A%20%22flow%22%2C%20%22idx%22%3A%201631678400000%2C%20%22val%22%3A%2051.9%7D%2C%20%7B%22col%22%3A%20%22flow%22%2C%20%22idx%22%3A%201631764800000%2C%20%22val%22%3A%2052.6%7D%2C%20%7B%22col%22%3A%20%22flow%22%2C%20%22idx%22%3A%201631851200000%2C%20%22val%22%3A%2051.6%7D%2C%20%7B%22col%22%3A%20%22flow%22%2C%20%22idx%22%3A%201631937600000%2C%20%22val%22%3A%2051.6%7D%2C%20%7B%22col%22%3A%20%22flow%22%2C%20%22idx%22%3A%201632024000000%2C%20%22val%22%3A%2051.6%7D%2C%20%7B%22col%22%3A%20%22flow%22%2C%20%22idx%22%3A%201632110400000%2C%20%22val%22%3A%2051.2%7D%2C%20%7B%22col%22%3A%20%22flow%22%2C%20%22idx%22%3A%201632196800000%2C%20%22val%22%3A%2050.7%7D%2C%20%7B%22col%22%3A%20%22flow%22%2C%20%22idx%22%3A%201632283200000%2C%20%22val%22%3A%2051.3%7D%2C%20%7B%22col%22%3A%20%22flow%22%2C%20%22idx%22%3A%201632369600000%2C%20%22val%22%3A%2051.6%7D%2C%20%7B%22col%22%3A%20%22flow%22%2C%20%22idx%22%3A%201632456000000%2C%20%22val%22%3A%2052.9%7D%2C%20%7B%22col%22%3A%20%22flow%22%2C%20%22idx%22%3A%201632542400000%2C%20%22val%22%3A%2051.6%7D%2C%20%7B%22col%22%3A%20%22flow%22%2C%20%22idx%22%3A%201632628800000%2C%20%22val%22%3A%2051.1%7D%2C%20%7B%22col%22%3A%20%22flow%22%2C%20%22idx%22%3A%201632715200000%2C%20%22val%22%3A%2050.6%7D%2C%20%7B%22col%22%3A%20%22flow%22%2C%20%22idx%22%3A%201632801600000%2C%20%22val%22%3A%2050.7%7D%2C%20%7B%22col%22%3A%20%22flow%22%2C%20%22idx%22%3A%201632888000000%2C%20%22val%22%3A%2050.6%7D%2C%20%7B%22col%22%3A%20%22flow%22%2C%20%22idx%22%3A%201632974400000%2C%20%22val%22%3A%2050.6%7D%2C%20%7B%22col%22%3A%20%22flow%22%2C%20%22idx%22%3A%201633060800000%2C%20%22val%22%3A%2050.6%7D%2C%20%7B%22col%22%3A%20%22flow%22%2C%20%22idx%22%3A%201633147200000%2C%20%22val%22%3A%2050.6%7D%2C%20%7B%22col%22%3A%20%22flow%22%2C%20%22idx%22%3A%201633233600000%2C%20%22val%22%3A%2050.8%7D%2C%20%7B%22col%22%3A%20%22flow%22%2C%20%22idx%22%3A%201633320000000%2C%20%22val%22%3A%2056.5%7D%2C%20%7B%22col%22%3A%20%22flow%22%2C%20%22idx%22%3A%201633406400000%2C%20%22val%22%3A%2053.7%7D%2C%20%7B%22col%22%3A%20%22flow%22%2C%20%22idx%22%3A%201633492800000%2C%20%22val%22%3A%2052.3%7D%2C%20%7B%22col%22%3A%20%22flow%22%2C%20%22idx%22%3A%201633579200000%2C%20%22val%22%3A%2051.6%7D%2C%20%7B%22col%22%3A%20%22flow%22%2C%20%22idx%22%3A%201633665600000%2C%20%22val%22%3A%2051.5%7D%2C%20%7B%22col%22%3A%20%22flow%22%2C%20%22idx%22%3A%201633752000000%2C%20%22val%22%3A%2051.4%7D%2C%20%7B%22col%22%3A%20%22flow%22%2C%20%22idx%22%3A%201633838400000%2C%20%22val%22%3A%2051.5%7D%2C%20%7B%22col%22%3A%20%22flow%22%2C%20%22idx%22%3A%201633924800000%2C%20%22val%22%3A%2051.6%7D%2C%20%7B%22col%22%3A%20%22flow%22%2C%20%22idx%22%3A%201634011200000%2C%20%22val%22%3A%2051.5%7D%2C%20%7B%22col%22%3A%20%22flow%22%2C%20%22idx%22%3A%201634097600000%2C%20%22val%22%3A%2051.0%7D%2C%20%7B%22col%22%3A%20%22flow%22%2C%20%22idx%22%3A%201634184000000%2C%20%22val%22%3A%2051.0%7D%2C%20%7B%22col%22%3A%20%22flow%22%2C%20%22idx%22%3A%201634270400000%2C%20%22val%22%3A%2051.3%7D%2C%20%7B%22col%22%3A%20%22flow%22%2C%20%22idx%22%3A%201634356800000%2C%20%22val%22%3A%2051.8%7D%2C%20%7B%22col%22%3A%20%22flow%22%2C%20%22idx%22%3A%201634443200000%2C%20%22val%22%3A%2051.8%7D%2C%20%7B%22col%22%3A%20%22flow%22%2C%20%22idx%22%3A%201634529600000%2C%20%22val%22%3A%2051.1%7D%2C%20%7B%22col%22%3A%20%22flow%22%2C%20%22idx%22%3A%201634616000000%2C%20%22val%22%3A%2050.6%7D%2C%20%7B%22col%22%3A%20%22flow%22%2C%20%22idx%22%3A%201634702400000%2C%20%22val%22%3A%2050.6%7D%2C%20%7B%22col%22%3A%20%22flow%22%2C%20%22idx%22%3A%201634788800000%2C%20%22val%22%3A%2050.7%7D%2C%20%7B%22col%22%3A%20%22flow%22%2C%20%22idx%22%3A%201634875200000%2C%20%22val%22%3A%2050.9%7D%2C%20%7B%22col%22%3A%20%22flow%22%2C%20%22idx%22%3A%201634961600000%2C%20%22val%22%3A%2050.6%7D%2C%20%7B%22col%22%3A%20%22flow%22%2C%20%22idx%22%3A%201635048000000%2C%20%22val%22%3A%2050.6%7D%2C%20%7B%22col%22%3A%20%22flow%22%2C%20%22idx%22%3A%201635134400000%2C%20%22val%22%3A%2052.0%7D%2C%20%7B%22col%22%3A%20%22flow%22%2C%20%22idx%22%3A%201635220800000%2C%20%22val%22%3A%2053.3%7D%2C%20%7B%22col%22%3A%20%22flow%22%2C%20%22idx%22%3A%201635307200000%2C%20%22val%22%3A%2052.8%7D%2C%20%7B%22col%22%3A%20%22flow%22%2C%20%22idx%22%3A%201635393600000%2C%20%22val%22%3A%2051.4%7D%2C%20%7B%22col%22%3A%20%22flow%22%2C%20%22idx%22%3A%201635480000000%2C%20%22val%22%3A%2050.6%7D%2C%20%7B%22col%22%3A%20%22flow%22%2C%20%22idx%22%3A%201635566400000%2C%20%22val%22%3A%2052.8%7D%2C%20%7B%22col%22%3A%20%22flow%22%2C%20%22idx%22%3A%201635652800000%2C%20%22val%22%3A%2055.3%7D%2C%20%7B%22col%22%3A%20%22flow%22%2C%20%22idx%22%3A%201635739200000%2C%20%22val%22%3A%2052.3%7D%2C%20%7B%22col%22%3A%20%22flow%22%2C%20%22idx%22%3A%201635825600000%2C%20%22val%22%3A%2051.6%7D%2C%20%7B%22col%22%3A%20%22flow%22%2C%20%22idx%22%3A%201635912000000%2C%20%22val%22%3A%2051.5%7D%2C%20%7B%22col%22%3A%20%22flow%22%2C%20%22idx%22%3A%201635998400000%2C%20%22val%22%3A%2050.6%7D%2C%20%7B%22col%22%3A%20%22flow%22%2C%20%22idx%22%3A%201636084800000%2C%20%22val%22%3A%2050.6%7D%2C%20%7B%22col%22%3A%20%22flow%22%2C%20%22idx%22%3A%201636171200000%2C%20%22val%22%3A%2050.6%7D%2C%20%7B%22col%22%3A%20%22flow%22%2C%20%22idx%22%3A%201636257600000%2C%20%22val%22%3A%2050.6%7D%2C%20%7B%22col%22%3A%20%22flow%22%2C%20%22idx%22%3A%201636347600000%2C%20%22val%22%3A%2050.6%7D%2C%20%7B%22col%22%3A%20%22flow%22%2C%20%22idx%22%3A%201636434000000%2C%20%22val%22%3A%2050.6%7D%2C%20%7B%22col%22%3A%20%22flow%22%2C%20%22idx%22%3A%201636520400000%2C%20%22val%22%3A%2051.4%7D%2C%20%7B%22col%22%3A%20%22flow%22%2C%20%22idx%22%3A%201636606800000%2C%20%22val%22%3A%2051.6%7D%2C%20%7B%22col%22%3A%20%22flow%22%2C%20%22idx%22%3A%201636693200000%2C%20%22val%22%3A%2057.6%7D%2C%20%7B%22col%22%3A%20%22flow%22%2C%20%22idx%22%3A%201636779600000%2C%20%22val%22%3A%2054.7%7D%2C%20%7B%22col%22%3A%20%22flow%22%2C%20%22idx%22%3A%201636866000000%2C%20%22val%22%3A%2053.3%7D%2C%20%7B%22col%22%3A%20%22flow%22%2C%20%22idx%22%3A%201636952400000%2C%20%22val%22%3A%2052.6%7D%2C%20%7B%22col%22%3A%20%22flow%22%2C%20%22idx%22%3A%201637038800000%2C%20%22val%22%3A%2052.4%7D%2C%20%7B%22col%22%3A%20%22flow%22%2C%20%22idx%22%3A%201637125200000%2C%20%22val%22%3A%2052.5%7D%2C%20%7B%22col%22%3A%20%22flow%22%2C%20%22idx%22%3A%201637211600000%2C%20%22val%22%3A%2052.5%7D%2C%20%7B%22col%22%3A%20%22flow%22%2C%20%22idx%22%3A%201637298000000%2C%20%22val%22%3A%2052.8%7D%2C%20%7B%22col%22%3A%20%22flow%22%2C%20%22idx%22%3A%201637384400000%2C%20%22val%22%3A%2052.3%7D%2C%20%7B%22col%22%3A%20%22flow%22%2C%20%22idx%22%3A%201637470800000%2C%20%22val%22%3A%2052.1%7D%2C%20%7B%22col%22%3A%20%22flow%22%2C%20%22idx%22%3A%201637557200000%2C%20%22val%22%3A%2052.3%7D%2C%20%7B%22col%22%3A%20%22flow%22%2C%20%22idx%22%3A%201637643600000%2C%20%22val%22%3A%2051.6%7D%2C%20%7B%22col%22%3A%20%22flow%22%2C%20%22idx%22%3A%201637730000000%2C%20%22val%22%3A%2051.2%7D%2C%20%7B%22col%22%3A%20%22flow%22%2C%20%22idx%22%3A%201637816400000%2C%20%22val%22%3A%2051.1%7D%2C%20%7B%22col%22%3A%20%22flow%22%2C%20%22idx%22%3A%201637902800000%2C%20%22val%22%3A%2051.6%7D%2C%20%7B%22col%22%3A%20%22flow%22%2C%20%22idx%22%3A%201637989200000%2C%20%22val%22%3A%2051.2%7D%2C%20%7B%22col%22%3A%20%22flow%22%2C%20%22idx%22%3A%201638075600000%2C%20%22val%22%3A%2050.9%7D%2C%20%7B%22col%22%3A%20%22flow%22%2C%20%22idx%22%3A%201638162000000%2C%20%22val%22%3A%2050.8%7D%2C%20%7B%22col%22%3A%20%22flow%22%2C%20%22idx%22%3A%201638248400000%2C%20%22val%22%3A%2050.8%7D%2C%20%7B%22col%22%3A%20%22flow%22%2C%20%22idx%22%3A%201638334800000%2C%20%22val%22%3A%2050.7%7D%2C%20%7B%22col%22%3A%20%22flow%22%2C%20%22idx%22%3A%201638421200000%2C%20%22val%22%3A%2050.9%7D%2C%20%7B%22col%22%3A%20%22flow%22%2C%20%22idx%22%3A%201638507600000%2C%20%22val%22%3A%2051.2%7D%2C%20%7B%22col%22%3A%20%22flow%22%2C%20%22idx%22%3A%201638594000000%2C%20%22val%22%3A%2050.5%7D%2C%20%7B%22col%22%3A%20%22flow%22%2C%20%22idx%22%3A%201638680400000%2C%20%22val%22%3A%2050.5%7D%2C%20%7B%22col%22%3A%20%22flow%22%2C%20%22idx%22%3A%201638766800000%2C%20%22val%22%3A%2051.4%7D%2C%20%7B%22col%22%3A%20%22flow%22%2C%20%22idx%22%3A%201638853200000%2C%20%22val%22%3A%2051.3%7D%2C%20%7B%22col%22%3A%20%22flow%22%2C%20%22idx%22%3A%201638939600000%2C%20%22val%22%3A%2050.4%7D%2C%20%7B%22col%22%3A%20%22flow%22%2C%20%22idx%22%3A%201639026000000%2C%20%22val%22%3A%2050.3%7D%2C%20%7B%22col%22%3A%20%22flow%22%2C%20%22idx%22%3A%201639112400000%2C%20%22val%22%3A%2050.2%7D%2C%20%7B%22col%22%3A%20%22flow%22%2C%20%22idx%22%3A%201639198800000%2C%20%22val%22%3A%2051.7%7D%2C%20%7B%22col%22%3A%20%22flow%22%2C%20%22idx%22%3A%201639285200000%2C%20%22val%22%3A%2051.5%7D%2C%20%7B%22col%22%3A%20%22flow%22%2C%20%22idx%22%3A%201639371600000%2C%20%22val%22%3A%2050.9%7D%2C%20%7B%22col%22%3A%20%22flow%22%2C%20%22idx%22%3A%201639458000000%2C%20%22val%22%3A%2050.1%7D%2C%20%7B%22col%22%3A%20%22flow%22%2C%20%22idx%22%3A%201639544400000%2C%20%22val%22%3A%2050.3%7D%2C%20%7B%22col%22%3A%20%22flow%22%2C%20%22idx%22%3A%201639630800000%2C%20%22val%22%3A%2052.7%7D%2C%20%7B%22col%22%3A%20%22flow%22%2C%20%22idx%22%3A%201639717200000%2C%20%22val%22%3A%2051.2%7D%2C%20%7B%22col%22%3A%20%22flow%22%2C%20%22idx%22%3A%201639803600000%2C%20%22val%22%3A%2051.5%7D%2C%20%7B%22col%22%3A%20%22flow%22%2C%20%22idx%22%3A%201639890000000%2C%20%22val%22%3A%2052.6%7D%2C%20%7B%22col%22%3A%20%22flow%22%2C%20%22idx%22%3A%201639976400000%2C%20%22val%22%3A%2050.6%7D%2C%20%7B%22col%22%3A%20%22flow%22%2C%20%22idx%22%3A%201640062800000%2C%20%22val%22%3A%2050.5%7D%2C%20%7B%22col%22%3A%20%22flow%22%2C%20%22idx%22%3A%201640149200000%2C%20%22val%22%3A%2052.0%7D%2C%20%7B%22col%22%3A%20%22flow%22%2C%20%22idx%22%3A%201640235600000%2C%20%22val%22%3A%2050.7%7D%2C%20%7B%22col%22%3A%20%22flow%22%2C%20%22idx%22%3A%201640322000000%2C%20%22val%22%3A%2050.7%7D%2C%20%7B%22col%22%3A%20%22flow%22%2C%20%22idx%22%3A%201640408400000%2C%20%22val%22%3A%2052.2%7D%2C%20%7B%22col%22%3A%20%22flow%22%2C%20%22idx%22%3A%201640494800000%2C%20%22val%22%3A%2053.0%7D%2C%20%7B%22col%22%3A%20%22flow%22%2C%20%22idx%22%3A%201640581200000%2C%20%22val%22%3A%2051.8%7D%2C%20%7B%22col%22%3A%20%22flow%22%2C%20%22idx%22%3A%201640667600000%2C%20%22val%22%3A%2051.8%7D%2C%20%7B%22col%22%3A%20%22flow%22%2C%20%22idx%22%3A%201640754000000%2C%20%22val%22%3A%2051.9%7D%2C%20%7B%22col%22%3A%20%22flow%22%2C%20%22idx%22%3A%201640840400000%2C%20%22val%22%3A%2051.9%7D%2C%20%7B%22col%22%3A%20%22flow%22%2C%20%22idx%22%3A%201640926800000%2C%20%22val%22%3A%2051.9%7D%5D%7D%5D%2C%20%22height%22%3A%20250%2C%20%22legends%22%3A%20%5B%5D%2C%20%22marks%22%3A%20%5B%7B%22from%22%3A%20%7B%22data%22%3A%20%22table%22%2C%20%22transform%22%3A%20%5B%7B%22keys%22%3A%20%5B%22data.col%22%5D%2C%20%22type%22%3A%20%22facet%22%7D%5D%7D%2C%20%22marks%22%3A%20%5B%7B%22properties%22%3A%20%7B%22enter%22%3A%20%7B%22stroke%22%3A%20%7B%22field%22%3A%20%22data.col%22%2C%20%22scale%22%3A%20%22color%22%7D%2C%20%22strokeWidth%22%3A%20%7B%22value%22%3A%202%7D%2C%20%22x%22%3A%20%7B%22field%22%3A%20%22data.idx%22%2C%20%22scale%22%3A%20%22x%22%7D%2C%20%22y%22%3A%20%7B%22field%22%3A%20%22data.val%22%2C%20%22scale%22%3A%20%22y%22%7D%7D%7D%2C%20%22type%22%3A%20%22line%22%7D%5D%2C%20%22type%22%3A%20%22group%22%7D%5D%2C%20%22padding%22%3A%20%22auto%22%2C%20%22scales%22%3A%20%5B%7B%22domain%22%3A%20%7B%22data%22%3A%20%22table%22%2C%20%22field%22%3A%20%22data.idx%22%7D%2C%20%22name%22%3A%20%22x%22%2C%20%22range%22%3A%20%22width%22%2C%20%22type%22%3A%20%22time%22%7D%2C%20%7B%22domain%22%3A%20%7B%22data%22%3A%20%22table%22%2C%20%22field%22%3A%20%22data.val%22%7D%2C%20%22name%22%3A%20%22y%22%2C%20%22nice%22%3A%20true%2C%20%22range%22%3A%20%22height%22%7D%2C%20%7B%22domain%22%3A%20%7B%22data%22%3A%20%22table%22%2C%20%22field%22%3A%20%22data.col%22%7D%2C%20%22name%22%3A%20%22color%22%2C%20%22range%22%3A%20%22category20%22%2C%20%22type%22%3A%20%22ordinal%22%7D%5D%2C%20%22width%22%3A%20550%7D%2Cvega_1ef645cfc43046d49373e525bd91a359%29%3B%0A%20%20%20%20%20%20%20%20%20%20%20%20%0A%20%20%20%20%20%20%20%20%0A%20%20%20%20%0A%3C/script%3E onload=\"this.contentDocument.open();this.contentDocument.write(    decodeURIComponent(this.getAttribute('data-html')));this.contentDocument.close();\" allowfullscreen webkitallowfullscreen mozallowfullscreen></iframe></div></div>"
      ],
      "text/plain": [
       "<folium.folium.Map at 0x103dd9670>"
      ]
     },
     "execution_count": 2,
     "metadata": {},
     "output_type": "execute_result"
    }
   ],
   "source": [
    "m"
   ]
  },
  {
   "cell_type": "markdown",
   "metadata": {
    "slideshow": {
     "slide_type": "subslide"
    }
   },
   "source": [
    "<h1 align=\"center\">Let's install Python!</h1>\n",
    "\n"
   ]
  }
 ],
 "metadata": {
  "kernelspec": {
   "display_name": "Python 3 (ipykernel)",
   "language": "python",
   "name": "python3"
  },
  "language_info": {
   "codemirror_mode": {
    "name": "ipython",
    "version": 3
   },
   "file_extension": ".py",
   "mimetype": "text/x-python",
   "name": "python",
   "nbconvert_exporter": "python",
   "pygments_lexer": "ipython3",
   "version": "3.9.9"
  },
  "org": null
 },
 "nbformat": 4,
 "nbformat_minor": 1
}
