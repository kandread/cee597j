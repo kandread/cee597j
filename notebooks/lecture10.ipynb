{
 "cells": [
  {
   "cell_type": "markdown",
   "metadata": {
    "slideshow": {
     "slide_type": "slide"
    }
   },
   "source": [
    "<h1 align=\"center\">Computational Methods in Environmental Engineering</h1>\n",
    "<h2 align=\"center\">Lecture #10</h2>\n",
    "<h3 align=\"center\">23 Mar 2023</h3>\n",
    "\n"
   ]
  },
  {
   "cell_type": "markdown",
   "metadata": {
    "slideshow": {
     "slide_type": "slide"
    }
   },
   "source": [
    "## Reading and writing data\n",
    "\n"
   ]
  },
  {
   "cell_type": "markdown",
   "metadata": {
    "slideshow": {
     "slide_type": "subslide"
    }
   },
   "source": [
    "Although `read_csv` and `read_table` are the most commonly used, a number of other functions are available\n",
    "\n",
    "-   `read_fwf`\n",
    "-   `read_parquet`\n",
    "-   `read_excel`\n",
    "-   `read_hdf`\n",
    "-   `read_html`\n",
    "-   `read_json`\n",
    "-   `read_pickle`\n",
    "-   `read_sql`\n",
    "\n",
    "Optional arguments for these functions fall into categories:\n",
    "\n",
    "-   Indexing\n",
    "-   Type inference and data conversion\n",
    "-   Datetime parsing\n",
    "-   Iterating\n",
    "-   Unclean data\n",
    "\n"
   ]
  },
  {
   "cell_type": "markdown",
   "metadata": {
    "slideshow": {
     "slide_type": "slide"
    }
   },
   "source": [
    "## Web scraping\n",
    "\n"
   ]
  },
  {
   "cell_type": "markdown",
   "metadata": {
    "slideshow": {
     "slide_type": "subslide"
    }
   },
   "source": [
    "-   Python has many libraries to read HTML and XML formats\n",
    "-   Examples include `lxml`, `Beautiful Soup`, and `html5lib`\n",
    "-   `lxml` is usually faster but the other libraries can better handle malformed files\n",
    "    \n",
    "    Let's install the necessary libraries\n",
    "\n"
   ]
  },
  {
   "cell_type": "code",
   "execution_count": 87,
   "metadata": {},
   "outputs": [
    {
     "name": "stdout",
     "output_type": "stream",
     "text": [
      "Collecting package metadata (current_repodata.json): done\n",
      "Solving environment: failed with initial frozen solve. Retrying with flexible solve.\n",
      "Solving environment: failed with repodata from current_repodata.json, will retry with next repodata source.\n",
      "Collecting package metadata (repodata.json): done\n",
      "Solving environment: failed with initial frozen solve. Retrying with flexible solve.\n",
      "Solving environment: \\ ^C\n",
      "\n",
      "Note: you may need to restart the kernel to use updated packages.\n"
     ]
    }
   ],
   "source": [
    "%conda install -y lxml beautifulsoup4"
   ]
  },
  {
   "cell_type": "code",
   "execution_count": 2,
   "metadata": {},
   "outputs": [],
   "source": [
    "import pandas as pd"
   ]
  },
  {
   "cell_type": "markdown",
   "metadata": {
    "slideshow": {
     "slide_type": "slide"
    }
   },
   "source": [
    "## ☛ Hands-on exercises\n",
    "\n"
   ]
  },
  {
   "cell_type": "markdown",
   "metadata": {
    "slideshow": {
     "slide_type": "subslide"
    }
   },
   "source": [
    "### Downloading and parsing water quality data\n",
    "\n"
   ]
  },
  {
   "cell_type": "markdown",
   "metadata": {},
   "source": [
    "Head over to the National Water Information System ([https://waterdata.usgs.gov/nwis/rt](https://waterdata.usgs.gov/nwis/rt)) and find a station with available water temperature and turbidity data\n",
    "\n"
   ]
  },
  {
   "cell_type": "code",
   "execution_count": 88,
   "metadata": {},
   "outputs": [],
   "source": [
    "url = \"https://nwis.waterdata.usgs.gov/nwis/uv?cb_00010=on&cb_00060=on&cb_00065=on&cb_00300=on&format=html&site_no=01161280&legacy=&period=&begin_date=2022-03-01&end_date=2023-03-28\""
   ]
  },
  {
   "cell_type": "markdown",
   "metadata": {
    "slideshow": {
     "slide_type": "subslide"
    }
   },
   "source": [
    "Is there a function to read the data? What is the result?\n",
    "\n"
   ]
  },
  {
   "cell_type": "code",
   "execution_count": 89,
   "metadata": {},
   "outputs": [
    {
     "data": {
      "text/plain": [
       "[                                                   0\n",
       " 0  This gage is monitored in cooperation with the...,\n",
       "                             0   1\n",
       " 0  Click for Time-lapse Video NaN,\n",
       "                      0\n",
       " 0  Boating safety tips,\n",
       "     Unnamed: 0                             Available Parameters  \\\n",
       " 0          NaN        All 11 Available Parameters for this site   \n",
       " 1          NaN                         00010 Temperature, water   \n",
       " 2          NaN  00060 Discharge [Discharge from Index Velocity]   \n",
       " 3          NaN                                00065 Gage height   \n",
       " 4          NaN                       00095 Specific cond at 25C   \n",
       " 5          NaN                           00300 Dissolved oxygen   \n",
       " 6          NaN                 00301 Diss oxygen,%saturtn [(2)]   \n",
       " 7          NaN                                         00400 pH   \n",
       " 8          NaN                       32295 fDOM, water, in situ   \n",
       " 9          NaN                       63680 Turbidity, Form Neph   \n",
       " 10         NaN                        72255 Mean water velocity   \n",
       " 11         NaN       99133 NO3+NO2,water,insitu, Nitrate Sensor   \n",
       " \n",
       "    Available Period Available Period.1  \n",
       " 0               NaN                NaN  \n",
       " 1        2018-06-21         2022-02-23  \n",
       " 2        2018-07-19         2023-03-28  \n",
       " 3        2018-07-19         2023-03-28  \n",
       " 4        2018-06-21         2022-02-23  \n",
       " 5        2018-06-21         2022-02-23  \n",
       " 6        2018-06-21         2022-02-23  \n",
       " 7        2018-06-21         2022-02-23  \n",
       " 8        2018-06-21         2022-02-23  \n",
       " 9        2018-06-21         2022-02-23  \n",
       " 10       2018-07-19         2023-03-28  \n",
       " 11       2020-09-01         2022-02-23  ,\n",
       "                 Date / Time Gageheight, feet,  \\\n",
       " 0      03/01/2022 00:00 EST            13.42P   \n",
       " 1      03/01/2022 00:05 EST            13.43P   \n",
       " 2      03/01/2022 00:10 EST            13.44P   \n",
       " 3      03/01/2022 00:15 EST            13.44P   \n",
       " 4      03/01/2022 00:20 EST            13.45P   \n",
       " ...                     ...               ...   \n",
       " 90701  03/28/2023 08:00 EDT            12.93P   \n",
       " 90702  03/28/2023 08:15 EDT            12.96P   \n",
       " 90703  03/28/2023 08:30 EDT            12.98P   \n",
       " 90704  03/28/2023 08:45 EDT            13.00P   \n",
       " 90705  03/28/2023 09:00 EDT            13.02P   \n",
       " \n",
       "       Dis-charge, ft3/s,[DischargefromIndexVelocity]  \n",
       " 0                                            15,700P  \n",
       " 1                                                NaN  \n",
       " 2                                                NaN  \n",
       " 3                                            15,900P  \n",
       " 4                                                NaN  \n",
       " ...                                              ...  \n",
       " 90701                                        19,100P  \n",
       " 90702                                        19,300P  \n",
       " 90703                                        18,900P  \n",
       " 90704                                        18,800P  \n",
       " 90705                                        19,000P  \n",
       " \n",
       " [90706 rows x 3 columns],\n",
       "    0                                      1\n",
       " 0  P  Provisional data subject to revision.\n",
       " 1  e              Value has been estimated.]"
      ]
     },
     "execution_count": 89,
     "metadata": {},
     "output_type": "execute_result"
    }
   ],
   "source": [
    "data = pd.read_html(url)\n",
    "data"
   ]
  },
  {
   "cell_type": "code",
   "execution_count": 90,
   "metadata": {},
   "outputs": [
    {
     "data": {
      "text/plain": [
       "6"
      ]
     },
     "execution_count": 90,
     "metadata": {},
     "output_type": "execute_result"
    }
   ],
   "source": [
    "len(data)"
   ]
  },
  {
   "cell_type": "markdown",
   "metadata": {
    "slideshow": {
     "slide_type": "subslide"
    }
   },
   "source": [
    "Can you extract a `DataFrame`?\n",
    "\n"
   ]
  },
  {
   "cell_type": "code",
   "execution_count": 91,
   "metadata": {},
   "outputs": [
    {
     "data": {
      "text/html": [
       "<div>\n",
       "<style scoped>\n",
       "    .dataframe tbody tr th:only-of-type {\n",
       "        vertical-align: middle;\n",
       "    }\n",
       "\n",
       "    .dataframe tbody tr th {\n",
       "        vertical-align: top;\n",
       "    }\n",
       "\n",
       "    .dataframe thead th {\n",
       "        text-align: right;\n",
       "    }\n",
       "</style>\n",
       "<table border=\"1\" class=\"dataframe\">\n",
       "  <thead>\n",
       "    <tr style=\"text-align: right;\">\n",
       "      <th></th>\n",
       "      <th>Date / Time</th>\n",
       "      <th>Gageheight, feet,</th>\n",
       "      <th>Dis-charge, ft3/s,[DischargefromIndexVelocity]</th>\n",
       "    </tr>\n",
       "  </thead>\n",
       "  <tbody>\n",
       "    <tr>\n",
       "      <th>0</th>\n",
       "      <td>03/01/2022 00:00 EST</td>\n",
       "      <td>13.42P</td>\n",
       "      <td>15,700P</td>\n",
       "    </tr>\n",
       "    <tr>\n",
       "      <th>1</th>\n",
       "      <td>03/01/2022 00:05 EST</td>\n",
       "      <td>13.43P</td>\n",
       "      <td>NaN</td>\n",
       "    </tr>\n",
       "    <tr>\n",
       "      <th>2</th>\n",
       "      <td>03/01/2022 00:10 EST</td>\n",
       "      <td>13.44P</td>\n",
       "      <td>NaN</td>\n",
       "    </tr>\n",
       "    <tr>\n",
       "      <th>3</th>\n",
       "      <td>03/01/2022 00:15 EST</td>\n",
       "      <td>13.44P</td>\n",
       "      <td>15,900P</td>\n",
       "    </tr>\n",
       "    <tr>\n",
       "      <th>4</th>\n",
       "      <td>03/01/2022 00:20 EST</td>\n",
       "      <td>13.45P</td>\n",
       "      <td>NaN</td>\n",
       "    </tr>\n",
       "  </tbody>\n",
       "</table>\n",
       "</div>"
      ],
      "text/plain": [
       "            Date / Time Gageheight, feet,  \\\n",
       "0  03/01/2022 00:00 EST            13.42P   \n",
       "1  03/01/2022 00:05 EST            13.43P   \n",
       "2  03/01/2022 00:10 EST            13.44P   \n",
       "3  03/01/2022 00:15 EST            13.44P   \n",
       "4  03/01/2022 00:20 EST            13.45P   \n",
       "\n",
       "  Dis-charge, ft3/s,[DischargefromIndexVelocity]  \n",
       "0                                        15,700P  \n",
       "1                                            NaN  \n",
       "2                                            NaN  \n",
       "3                                        15,900P  \n",
       "4                                            NaN  "
      ]
     },
     "execution_count": 91,
     "metadata": {},
     "output_type": "execute_result"
    }
   ],
   "source": [
    "data = data[4]\n",
    "data.head()"
   ]
  },
  {
   "cell_type": "markdown",
   "metadata": {
    "slideshow": {
     "slide_type": "subslide"
    }
   },
   "source": [
    "What is the index of this `DataFrame`?\n",
    "\n"
   ]
  },
  {
   "cell_type": "code",
   "execution_count": 92,
   "metadata": {},
   "outputs": [
    {
     "data": {
      "text/plain": [
       "RangeIndex(start=0, stop=90706, step=1)"
      ]
     },
     "execution_count": 92,
     "metadata": {},
     "output_type": "execute_result"
    }
   ],
   "source": [
    "data.index"
   ]
  },
  {
   "cell_type": "markdown",
   "metadata": {
    "slideshow": {
     "slide_type": "subslide"
    }
   },
   "source": [
    "Pick an appropriate index for your data\n",
    "\n"
   ]
  },
  {
   "cell_type": "code",
   "execution_count": 53,
   "metadata": {},
   "outputs": [
    {
     "data": {
      "text/html": [
       "<div>\n",
       "<style scoped>\n",
       "    .dataframe tbody tr th:only-of-type {\n",
       "        vertical-align: middle;\n",
       "    }\n",
       "\n",
       "    .dataframe tbody tr th {\n",
       "        vertical-align: top;\n",
       "    }\n",
       "\n",
       "    .dataframe thead th {\n",
       "        text-align: right;\n",
       "    }\n",
       "</style>\n",
       "<table border=\"1\" class=\"dataframe\">\n",
       "  <thead>\n",
       "    <tr style=\"text-align: right;\">\n",
       "      <th></th>\n",
       "      <th>Gageheight, feet,</th>\n",
       "      <th>Dis-charge, ft3/s,[DischargefromIndexVelocity]</th>\n",
       "    </tr>\n",
       "    <tr>\n",
       "      <th>Date / Time</th>\n",
       "      <th></th>\n",
       "      <th></th>\n",
       "    </tr>\n",
       "  </thead>\n",
       "  <tbody>\n",
       "    <tr>\n",
       "      <th>03/01/2022 00:00 EST</th>\n",
       "      <td>13.42P</td>\n",
       "      <td>15,700P</td>\n",
       "    </tr>\n",
       "    <tr>\n",
       "      <th>03/01/2022 00:05 EST</th>\n",
       "      <td>13.43P</td>\n",
       "      <td>NaN</td>\n",
       "    </tr>\n",
       "    <tr>\n",
       "      <th>03/01/2022 00:10 EST</th>\n",
       "      <td>13.44P</td>\n",
       "      <td>NaN</td>\n",
       "    </tr>\n",
       "    <tr>\n",
       "      <th>03/01/2022 00:15 EST</th>\n",
       "      <td>13.44P</td>\n",
       "      <td>15,900P</td>\n",
       "    </tr>\n",
       "    <tr>\n",
       "      <th>03/01/2022 00:20 EST</th>\n",
       "      <td>13.45P</td>\n",
       "      <td>NaN</td>\n",
       "    </tr>\n",
       "    <tr>\n",
       "      <th>...</th>\n",
       "      <td>...</td>\n",
       "      <td>...</td>\n",
       "    </tr>\n",
       "    <tr>\n",
       "      <th>03/28/2023 08:00 EDT</th>\n",
       "      <td>12.93P</td>\n",
       "      <td>19,100P</td>\n",
       "    </tr>\n",
       "    <tr>\n",
       "      <th>03/28/2023 08:15 EDT</th>\n",
       "      <td>12.96P</td>\n",
       "      <td>19,300P</td>\n",
       "    </tr>\n",
       "    <tr>\n",
       "      <th>03/28/2023 08:30 EDT</th>\n",
       "      <td>12.98P</td>\n",
       "      <td>18,900P</td>\n",
       "    </tr>\n",
       "    <tr>\n",
       "      <th>03/28/2023 08:45 EDT</th>\n",
       "      <td>13.00P</td>\n",
       "      <td>18,800P</td>\n",
       "    </tr>\n",
       "    <tr>\n",
       "      <th>03/28/2023 09:00 EDT</th>\n",
       "      <td>13.02P</td>\n",
       "      <td>19,000P</td>\n",
       "    </tr>\n",
       "  </tbody>\n",
       "</table>\n",
       "<p>90706 rows × 2 columns</p>\n",
       "</div>"
      ],
      "text/plain": [
       "                     Gageheight, feet,  \\\n",
       "Date / Time                              \n",
       "03/01/2022 00:00 EST            13.42P   \n",
       "03/01/2022 00:05 EST            13.43P   \n",
       "03/01/2022 00:10 EST            13.44P   \n",
       "03/01/2022 00:15 EST            13.44P   \n",
       "03/01/2022 00:20 EST            13.45P   \n",
       "...                                ...   \n",
       "03/28/2023 08:00 EDT            12.93P   \n",
       "03/28/2023 08:15 EDT            12.96P   \n",
       "03/28/2023 08:30 EDT            12.98P   \n",
       "03/28/2023 08:45 EDT            13.00P   \n",
       "03/28/2023 09:00 EDT            13.02P   \n",
       "\n",
       "                     Dis-charge, ft3/s,[DischargefromIndexVelocity]  \n",
       "Date / Time                                                          \n",
       "03/01/2022 00:00 EST                                        15,700P  \n",
       "03/01/2022 00:05 EST                                            NaN  \n",
       "03/01/2022 00:10 EST                                            NaN  \n",
       "03/01/2022 00:15 EST                                        15,900P  \n",
       "03/01/2022 00:20 EST                                            NaN  \n",
       "...                                                             ...  \n",
       "03/28/2023 08:00 EDT                                        19,100P  \n",
       "03/28/2023 08:15 EDT                                        19,300P  \n",
       "03/28/2023 08:30 EDT                                        18,900P  \n",
       "03/28/2023 08:45 EDT                                        18,800P  \n",
       "03/28/2023 09:00 EDT                                        19,000P  \n",
       "\n",
       "[90706 rows x 2 columns]"
      ]
     },
     "execution_count": 53,
     "metadata": {},
     "output_type": "execute_result"
    }
   ],
   "source": [
    "data.set_index('Date / Time')"
   ]
  },
  {
   "cell_type": "markdown",
   "metadata": {
    "slideshow": {
     "slide_type": "subslide"
    }
   },
   "source": [
    "Look at the documentation for `read_html`. Are there any arguments that you can use to ease the indexing etc.?\n",
    "\n"
   ]
  },
  {
   "cell_type": "code",
   "execution_count": 93,
   "metadata": {},
   "outputs": [
    {
     "data": {
      "text/html": [
       "<div>\n",
       "<style scoped>\n",
       "    .dataframe tbody tr th:only-of-type {\n",
       "        vertical-align: middle;\n",
       "    }\n",
       "\n",
       "    .dataframe tbody tr th {\n",
       "        vertical-align: top;\n",
       "    }\n",
       "\n",
       "    .dataframe thead th {\n",
       "        text-align: right;\n",
       "    }\n",
       "</style>\n",
       "<table border=\"1\" class=\"dataframe\">\n",
       "  <thead>\n",
       "    <tr style=\"text-align: right;\">\n",
       "      <th></th>\n",
       "      <th>Gageheight, feet,</th>\n",
       "      <th>Dis-charge, ft3/s,[DischargefromIndexVelocity]</th>\n",
       "    </tr>\n",
       "    <tr>\n",
       "      <th>Date / Time</th>\n",
       "      <th></th>\n",
       "      <th></th>\n",
       "    </tr>\n",
       "  </thead>\n",
       "  <tbody>\n",
       "    <tr>\n",
       "      <th>2022-03-01 00:00:00-05:00</th>\n",
       "      <td>13.42P</td>\n",
       "      <td>15,700P</td>\n",
       "    </tr>\n",
       "    <tr>\n",
       "      <th>2022-03-01 00:05:00-05:00</th>\n",
       "      <td>13.43P</td>\n",
       "      <td>NaN</td>\n",
       "    </tr>\n",
       "    <tr>\n",
       "      <th>2022-03-01 00:10:00-05:00</th>\n",
       "      <td>13.44P</td>\n",
       "      <td>NaN</td>\n",
       "    </tr>\n",
       "    <tr>\n",
       "      <th>2022-03-01 00:15:00-05:00</th>\n",
       "      <td>13.44P</td>\n",
       "      <td>15,900P</td>\n",
       "    </tr>\n",
       "    <tr>\n",
       "      <th>2022-03-01 00:20:00-05:00</th>\n",
       "      <td>13.45P</td>\n",
       "      <td>NaN</td>\n",
       "    </tr>\n",
       "  </tbody>\n",
       "</table>\n",
       "</div>"
      ],
      "text/plain": [
       "                          Gageheight, feet,  \\\n",
       "Date / Time                                   \n",
       "2022-03-01 00:00:00-05:00            13.42P   \n",
       "2022-03-01 00:05:00-05:00            13.43P   \n",
       "2022-03-01 00:10:00-05:00            13.44P   \n",
       "2022-03-01 00:15:00-05:00            13.44P   \n",
       "2022-03-01 00:20:00-05:00            13.45P   \n",
       "\n",
       "                          Dis-charge, ft3/s,[DischargefromIndexVelocity]  \n",
       "Date / Time                                                               \n",
       "2022-03-01 00:00:00-05:00                                        15,700P  \n",
       "2022-03-01 00:05:00-05:00                                            NaN  \n",
       "2022-03-01 00:10:00-05:00                                            NaN  \n",
       "2022-03-01 00:15:00-05:00                                        15,900P  \n",
       "2022-03-01 00:20:00-05:00                                            NaN  "
      ]
     },
     "execution_count": 93,
     "metadata": {},
     "output_type": "execute_result"
    }
   ],
   "source": [
    "data = pd.read_html(url, match='Date', index_col=0, parse_dates=True)[0]\n",
    "data.head()"
   ]
  },
  {
   "cell_type": "markdown",
   "metadata": {
    "slideshow": {
     "slide_type": "subslide"
    }
   },
   "source": [
    "Notice the column headers are hyphenated. Let's get rid of the `-`!\n",
    "\n"
   ]
  },
  {
   "cell_type": "code",
   "execution_count": 94,
   "metadata": {},
   "outputs": [
    {
     "data": {
      "text/plain": [
       "Index(['Gageheight, feet,', 'Dis-charge, ft3/s,[DischargefromIndexVelocity]'], dtype='object')"
      ]
     },
     "execution_count": 94,
     "metadata": {},
     "output_type": "execute_result"
    }
   ],
   "source": [
    "data.columns"
   ]
  },
  {
   "cell_type": "code",
   "execution_count": 95,
   "metadata": {},
   "outputs": [],
   "source": [
    "col = data.columns[1]\n",
    "data.rename(columns={col: col.replace(\"-\", \"\")}, inplace=True)"
   ]
  },
  {
   "cell_type": "code",
   "execution_count": 96,
   "metadata": {},
   "outputs": [
    {
     "data": {
      "text/html": [
       "<div>\n",
       "<style scoped>\n",
       "    .dataframe tbody tr th:only-of-type {\n",
       "        vertical-align: middle;\n",
       "    }\n",
       "\n",
       "    .dataframe tbody tr th {\n",
       "        vertical-align: top;\n",
       "    }\n",
       "\n",
       "    .dataframe thead th {\n",
       "        text-align: right;\n",
       "    }\n",
       "</style>\n",
       "<table border=\"1\" class=\"dataframe\">\n",
       "  <thead>\n",
       "    <tr style=\"text-align: right;\">\n",
       "      <th></th>\n",
       "      <th>Gageheight, feet,</th>\n",
       "      <th>Discharge, ft3/s,[DischargefromIndexVelocity]</th>\n",
       "    </tr>\n",
       "    <tr>\n",
       "      <th>Date / Time</th>\n",
       "      <th></th>\n",
       "      <th></th>\n",
       "    </tr>\n",
       "  </thead>\n",
       "  <tbody>\n",
       "    <tr>\n",
       "      <th>2022-03-01 00:00:00-05:00</th>\n",
       "      <td>13.42P</td>\n",
       "      <td>15,700P</td>\n",
       "    </tr>\n",
       "    <tr>\n",
       "      <th>2022-03-01 00:05:00-05:00</th>\n",
       "      <td>13.43P</td>\n",
       "      <td>NaN</td>\n",
       "    </tr>\n",
       "    <tr>\n",
       "      <th>2022-03-01 00:10:00-05:00</th>\n",
       "      <td>13.44P</td>\n",
       "      <td>NaN</td>\n",
       "    </tr>\n",
       "    <tr>\n",
       "      <th>2022-03-01 00:15:00-05:00</th>\n",
       "      <td>13.44P</td>\n",
       "      <td>15,900P</td>\n",
       "    </tr>\n",
       "    <tr>\n",
       "      <th>2022-03-01 00:20:00-05:00</th>\n",
       "      <td>13.45P</td>\n",
       "      <td>NaN</td>\n",
       "    </tr>\n",
       "    <tr>\n",
       "      <th>...</th>\n",
       "      <td>...</td>\n",
       "      <td>...</td>\n",
       "    </tr>\n",
       "    <tr>\n",
       "      <th>2023-03-28 09:00:00-04:00</th>\n",
       "      <td>13.02P</td>\n",
       "      <td>19,000P</td>\n",
       "    </tr>\n",
       "    <tr>\n",
       "      <th>2023-03-28 09:15:00-04:00</th>\n",
       "      <td>12.99P</td>\n",
       "      <td>19,800P</td>\n",
       "    </tr>\n",
       "    <tr>\n",
       "      <th>2023-03-28 09:30:00-04:00</th>\n",
       "      <td>13.05P</td>\n",
       "      <td>20,200P</td>\n",
       "    </tr>\n",
       "    <tr>\n",
       "      <th>2023-03-28 09:45:00-04:00</th>\n",
       "      <td>13.10P</td>\n",
       "      <td>19,000P</td>\n",
       "    </tr>\n",
       "    <tr>\n",
       "      <th>2023-03-28 10:00:00-04:00</th>\n",
       "      <td>13.12P</td>\n",
       "      <td>19,100P</td>\n",
       "    </tr>\n",
       "  </tbody>\n",
       "</table>\n",
       "<p>90710 rows × 2 columns</p>\n",
       "</div>"
      ],
      "text/plain": [
       "                          Gageheight, feet,  \\\n",
       "Date / Time                                   \n",
       "2022-03-01 00:00:00-05:00            13.42P   \n",
       "2022-03-01 00:05:00-05:00            13.43P   \n",
       "2022-03-01 00:10:00-05:00            13.44P   \n",
       "2022-03-01 00:15:00-05:00            13.44P   \n",
       "2022-03-01 00:20:00-05:00            13.45P   \n",
       "...                                     ...   \n",
       "2023-03-28 09:00:00-04:00            13.02P   \n",
       "2023-03-28 09:15:00-04:00            12.99P   \n",
       "2023-03-28 09:30:00-04:00            13.05P   \n",
       "2023-03-28 09:45:00-04:00            13.10P   \n",
       "2023-03-28 10:00:00-04:00            13.12P   \n",
       "\n",
       "                          Discharge, ft3/s,[DischargefromIndexVelocity]  \n",
       "Date / Time                                                              \n",
       "2022-03-01 00:00:00-05:00                                       15,700P  \n",
       "2022-03-01 00:05:00-05:00                                           NaN  \n",
       "2022-03-01 00:10:00-05:00                                           NaN  \n",
       "2022-03-01 00:15:00-05:00                                       15,900P  \n",
       "2022-03-01 00:20:00-05:00                                           NaN  \n",
       "...                                                                 ...  \n",
       "2023-03-28 09:00:00-04:00                                       19,000P  \n",
       "2023-03-28 09:15:00-04:00                                       19,800P  \n",
       "2023-03-28 09:30:00-04:00                                       20,200P  \n",
       "2023-03-28 09:45:00-04:00                                       19,000P  \n",
       "2023-03-28 10:00:00-04:00                                       19,100P  \n",
       "\n",
       "[90710 rows x 2 columns]"
      ]
     },
     "execution_count": 96,
     "metadata": {},
     "output_type": "execute_result"
    }
   ],
   "source": [
    "data"
   ]
  },
  {
   "cell_type": "markdown",
   "metadata": {
    "slideshow": {
     "slide_type": "subslide"
    }
   },
   "source": [
    "Calculate the mean of each variable\n",
    "\n"
   ]
  },
  {
   "cell_type": "code",
   "execution_count": 98,
   "metadata": {},
   "outputs": [
    {
     "data": {
      "text/plain": [
       "Gageheight, feet,                                object\n",
       "Discharge, ft3/s,[DischargefromIndexVelocity]    object\n",
       "dtype: object"
      ]
     },
     "execution_count": 98,
     "metadata": {},
     "output_type": "execute_result"
    }
   ],
   "source": [
    "data.dtypes"
   ]
  },
  {
   "cell_type": "code",
   "execution_count": 97,
   "metadata": {},
   "outputs": [
    {
     "name": "stderr",
     "output_type": "stream",
     "text": [
      "/var/folders/rf/1h241_b50s3cvb1mz4lcxrx80000gn/T/ipykernel_39985/531903386.py:1: FutureWarning: Dropping of nuisance columns in DataFrame reductions (with 'numeric_only=None') is deprecated; in a future version this will raise TypeError.  Select only valid columns before calling the reduction.\n",
      "  data.mean()\n"
     ]
    },
    {
     "data": {
      "text/plain": [
       "Series([], dtype: float64)"
      ]
     },
     "execution_count": 97,
     "metadata": {},
     "output_type": "execute_result"
    }
   ],
   "source": [
    "data.mean()"
   ]
  },
  {
   "cell_type": "markdown",
   "metadata": {
    "slideshow": {
     "slide_type": "subslide"
    }
   },
   "source": [
    "Did we get the answer that we expected? If not, why?\n",
    "\n",
    "-   Missing data?\n",
    "-   Malformed data values?\n",
    "\n"
   ]
  },
  {
   "cell_type": "markdown",
   "metadata": {
    "slideshow": {
     "slide_type": "subslide"
    }
   },
   "source": [
    "Look at the first element of the `Discharge, ft3/s,[DischargefromIndexVelocity]` column\n",
    "\n"
   ]
  },
  {
   "cell_type": "code",
   "execution_count": 99,
   "metadata": {},
   "outputs": [
    {
     "data": {
      "text/plain": [
       "'15,700P'"
      ]
     },
     "execution_count": 99,
     "metadata": {},
     "output_type": "execute_result"
    }
   ],
   "source": [
    "data['Discharge, ft3/s,[DischargefromIndexVelocity]'][0]"
   ]
  },
  {
   "cell_type": "markdown",
   "metadata": {
    "slideshow": {
     "slide_type": "subslide"
    }
   },
   "source": [
    "What is its type?\n",
    "\n"
   ]
  },
  {
   "cell_type": "code",
   "execution_count": 100,
   "metadata": {},
   "outputs": [
    {
     "data": {
      "text/plain": [
       "str"
      ]
     },
     "execution_count": 100,
     "metadata": {},
     "output_type": "execute_result"
    }
   ],
   "source": [
    "type(data['Discharge, ft3/s,[DischargefromIndexVelocity]'][0])"
   ]
  },
  {
   "cell_type": "markdown",
   "metadata": {
    "slideshow": {
     "slide_type": "subslide"
    }
   },
   "source": [
    "Let's fix that!\n",
    "\n"
   ]
  },
  {
   "cell_type": "code",
   "execution_count": 106,
   "metadata": {},
   "outputs": [],
   "source": [
    "def extract(s):\n",
    "    if type(s) == 'float':\n",
    "        return s\n",
    "    else:\n",
    "        return float(s[:-1].replace(',', ''))"
   ]
  },
  {
   "cell_type": "code",
   "execution_count": 104,
   "metadata": {},
   "outputs": [
    {
     "ename": "TypeError",
     "evalue": "'float' object is not subscriptable",
     "output_type": "error",
     "traceback": [
      "\u001b[0;31m---------------------------------------------------------------------------\u001b[0m",
      "\u001b[0;31mTypeError\u001b[0m                                 Traceback (most recent call last)",
      "Input \u001b[0;32mIn [104]\u001b[0m, in \u001b[0;36m<cell line: 2>\u001b[0;34m()\u001b[0m\n\u001b[1;32m      1\u001b[0m q \u001b[38;5;241m=\u001b[39m data[\u001b[38;5;124m'\u001b[39m\u001b[38;5;124mDischarge, ft3/s,[DischargefromIndexVelocity]\u001b[39m\u001b[38;5;124m'\u001b[39m]\n\u001b[0;32m----> 2\u001b[0m q\u001b[38;5;241m.\u001b[39mmap(\u001b[38;5;28;01mlambda\u001b[39;00m s: \u001b[38;5;28mfloat\u001b[39m(s[:\u001b[38;5;241m-\u001b[39m\u001b[38;5;241m1\u001b[39m]\u001b[38;5;241m.\u001b[39mreplace(\u001b[38;5;124m\"\u001b[39m\u001b[38;5;124m,\u001b[39m\u001b[38;5;124m\"\u001b[39m, \u001b[38;5;124m\"\u001b[39m\u001b[38;5;124m\"\u001b[39m)))\n",
      "File \u001b[0;32m/opt/homebrew/Caskroom/miniforge/base/envs/ce597/lib/python3.10/site-packages/pandas/core/series.py:4234\u001b[0m, in \u001b[0;36mSeries.map\u001b[0;34m(self, arg, na_action)\u001b[0m\n\u001b[1;32m   4159\u001b[0m \u001b[38;5;28;01mdef\u001b[39;00m \u001b[38;5;21mmap\u001b[39m(\u001b[38;5;28mself\u001b[39m, arg, na_action\u001b[38;5;241m=\u001b[39m\u001b[38;5;28;01mNone\u001b[39;00m) \u001b[38;5;241m-\u001b[39m\u001b[38;5;241m>\u001b[39m Series:\n\u001b[1;32m   4160\u001b[0m     \u001b[38;5;124;03m\"\"\"\u001b[39;00m\n\u001b[1;32m   4161\u001b[0m \u001b[38;5;124;03m    Map values of Series according to an input mapping or function.\u001b[39;00m\n\u001b[1;32m   4162\u001b[0m \n\u001b[0;32m   (...)\u001b[0m\n\u001b[1;32m   4232\u001b[0m \u001b[38;5;124;03m    dtype: object\u001b[39;00m\n\u001b[1;32m   4233\u001b[0m \u001b[38;5;124;03m    \"\"\"\u001b[39;00m\n\u001b[0;32m-> 4234\u001b[0m     new_values \u001b[38;5;241m=\u001b[39m \u001b[38;5;28;43mself\u001b[39;49m\u001b[38;5;241;43m.\u001b[39;49m\u001b[43m_map_values\u001b[49m\u001b[43m(\u001b[49m\u001b[43marg\u001b[49m\u001b[43m,\u001b[49m\u001b[43m \u001b[49m\u001b[43mna_action\u001b[49m\u001b[38;5;241;43m=\u001b[39;49m\u001b[43mna_action\u001b[49m\u001b[43m)\u001b[49m\n\u001b[1;32m   4235\u001b[0m     \u001b[38;5;28;01mreturn\u001b[39;00m \u001b[38;5;28mself\u001b[39m\u001b[38;5;241m.\u001b[39m_constructor(new_values, index\u001b[38;5;241m=\u001b[39m\u001b[38;5;28mself\u001b[39m\u001b[38;5;241m.\u001b[39mindex)\u001b[38;5;241m.\u001b[39m__finalize__(\n\u001b[1;32m   4236\u001b[0m         \u001b[38;5;28mself\u001b[39m, method\u001b[38;5;241m=\u001b[39m\u001b[38;5;124m\"\u001b[39m\u001b[38;5;124mmap\u001b[39m\u001b[38;5;124m\"\u001b[39m\n\u001b[1;32m   4237\u001b[0m     )\n",
      "File \u001b[0;32m/opt/homebrew/Caskroom/miniforge/base/envs/ce597/lib/python3.10/site-packages/pandas/core/base.py:880\u001b[0m, in \u001b[0;36mIndexOpsMixin._map_values\u001b[0;34m(self, mapper, na_action)\u001b[0m\n\u001b[1;32m    877\u001b[0m         \u001b[38;5;28;01mraise\u001b[39;00m \u001b[38;5;167;01mValueError\u001b[39;00m(msg)\n\u001b[1;32m    879\u001b[0m \u001b[38;5;66;03m# mapper is a function\u001b[39;00m\n\u001b[0;32m--> 880\u001b[0m new_values \u001b[38;5;241m=\u001b[39m \u001b[43mmap_f\u001b[49m\u001b[43m(\u001b[49m\u001b[43mvalues\u001b[49m\u001b[43m,\u001b[49m\u001b[43m \u001b[49m\u001b[43mmapper\u001b[49m\u001b[43m)\u001b[49m\n\u001b[1;32m    882\u001b[0m \u001b[38;5;28;01mreturn\u001b[39;00m new_values\n",
      "File \u001b[0;32m/opt/homebrew/Caskroom/miniforge/base/envs/ce597/lib/python3.10/site-packages/pandas/_libs/lib.pyx:2870\u001b[0m, in \u001b[0;36mpandas._libs.lib.map_infer\u001b[0;34m()\u001b[0m\n",
      "Input \u001b[0;32mIn [104]\u001b[0m, in \u001b[0;36m<lambda>\u001b[0;34m(s)\u001b[0m\n\u001b[1;32m      1\u001b[0m q \u001b[38;5;241m=\u001b[39m data[\u001b[38;5;124m'\u001b[39m\u001b[38;5;124mDischarge, ft3/s,[DischargefromIndexVelocity]\u001b[39m\u001b[38;5;124m'\u001b[39m]\n\u001b[0;32m----> 2\u001b[0m q\u001b[38;5;241m.\u001b[39mmap(\u001b[38;5;28;01mlambda\u001b[39;00m s: \u001b[38;5;28mfloat\u001b[39m(\u001b[43ms\u001b[49m\u001b[43m[\u001b[49m\u001b[43m:\u001b[49m\u001b[38;5;241;43m-\u001b[39;49m\u001b[38;5;241;43m1\u001b[39;49m\u001b[43m]\u001b[49m\u001b[38;5;241m.\u001b[39mreplace(\u001b[38;5;124m\"\u001b[39m\u001b[38;5;124m,\u001b[39m\u001b[38;5;124m\"\u001b[39m, \u001b[38;5;124m\"\u001b[39m\u001b[38;5;124m\"\u001b[39m)))\n",
      "\u001b[0;31mTypeError\u001b[0m: 'float' object is not subscriptable"
     ]
    }
   ],
   "source": [
    "q = data['Discharge, ft3/s,[DischargefromIndexVelocity]']\n",
    "q.map(lambda s: float(s[:-1].replace(\",\", \"\")))"
   ]
  },
  {
   "cell_type": "code",
   "execution_count": 105,
   "metadata": {},
   "outputs": [
    {
     "data": {
      "text/plain": [
       "Date / Time\n",
       "2022-03-01 00:00:00-05:00    15700.0\n",
       "2022-03-01 00:05:00-05:00        NaN\n",
       "2022-03-01 00:10:00-05:00        NaN\n",
       "2022-03-01 00:15:00-05:00    15900.0\n",
       "2022-03-01 00:20:00-05:00        NaN\n",
       "Name: Discharge, ft3/s,[DischargefromIndexVelocity], dtype: float32"
      ]
     },
     "execution_count": 105,
     "metadata": {},
     "output_type": "execute_result"
    }
   ],
   "source": [
    "# first extract the numeric characters\n",
    "q = data['Discharge, ft3/s,[DischargefromIndexVelocity]'].str.extract('(\\d+\\,\\d+)', expand=False)\n",
    "# then replace the commas and convert to float\n",
    "q = q.str.replace(',', '').astype('float32')\n",
    "q.head()"
   ]
  },
  {
   "cell_type": "code",
   "execution_count": 107,
   "metadata": {},
   "outputs": [
    {
     "data": {
      "text/plain": [
       "Date / Time\n",
       "2022-03-01 00:00:00-05:00    13.42\n",
       "2022-03-01 00:05:00-05:00    13.43\n",
       "2022-03-01 00:10:00-05:00    13.44\n",
       "2022-03-01 00:15:00-05:00    13.44\n",
       "2022-03-01 00:20:00-05:00    13.45\n",
       "Name: Gageheight, feet,, dtype: float32"
      ]
     },
     "execution_count": 107,
     "metadata": {},
     "output_type": "execute_result"
    }
   ],
   "source": [
    "h = data['Gageheight, feet,'].str.extract('(\\d+\\.\\d+)', expand=False)\n",
    "h = h.astype('float32')\n",
    "h.head()"
   ]
  },
  {
   "cell_type": "markdown",
   "metadata": {
    "slideshow": {
     "slide_type": "subslide"
    }
   },
   "source": [
    "Now let's try the mean calculation again\n",
    "\n"
   ]
  },
  {
   "cell_type": "code",
   "execution_count": 108,
   "metadata": {},
   "outputs": [
    {
     "data": {
      "text/plain": [
       "Gageheight, feet,                                   12.464304\n",
       "Discharge, ft3/s,[DischargefromIndexVelocity]    11465.227539\n",
       "dtype: float32"
      ]
     },
     "execution_count": 108,
     "metadata": {},
     "output_type": "execute_result"
    }
   ],
   "source": [
    "data['Discharge, ft3/s,[DischargefromIndexVelocity]'] = q\n",
    "data['Gageheight, feet,'] = h\n",
    "data.mean()"
   ]
  },
  {
   "cell_type": "markdown",
   "metadata": {
    "slideshow": {
     "slide_type": "subslide"
    }
   },
   "source": [
    "Count the days with missing data for each column\n",
    "\n"
   ]
  },
  {
   "cell_type": "code",
   "execution_count": 82,
   "metadata": {},
   "outputs": [
    {
     "data": {
      "text/plain": [
       "Gageheight, feet,                                  507\n",
       "Discharge, ft3/s,[DischargefromIndexVelocity]    54261\n",
       "dtype: int64"
      ]
     },
     "execution_count": 82,
     "metadata": {},
     "output_type": "execute_result"
    }
   ],
   "source": [
    "(~data.notna()).sum()"
   ]
  },
  {
   "cell_type": "markdown",
   "metadata": {
    "slideshow": {
     "slide_type": "subslide"
    }
   },
   "source": [
    "Find the dates when we have missing data for gage height\n"
   ]
  },
  {
   "cell_type": "code",
   "execution_count": 83,
   "metadata": {},
   "outputs": [
    {
     "data": {
      "text/plain": [
       "DatetimeIndex(['2022-03-02 12:14:00-05:00', '2022-03-02 12:16:00-05:00',\n",
       "               '2022-03-02 12:17:00-05:00', '2022-03-02 12:18:00-05:00',\n",
       "               '2022-03-02 12:19:00-05:00', '2022-03-02 12:21:00-05:00',\n",
       "               '2022-03-02 12:22:00-05:00', '2022-03-02 12:23:00-05:00',\n",
       "               '2022-03-02 12:24:00-05:00', '2022-03-02 12:26:00-05:00',\n",
       "               ...\n",
       "               '2022-11-29 13:58:00-05:00', '2022-11-29 13:59:00-05:00',\n",
       "               '2022-11-29 14:01:00-05:00', '2022-11-29 14:02:00-05:00',\n",
       "               '2022-11-29 14:03:00-05:00', '2022-11-29 14:04:00-05:00',\n",
       "               '2022-11-29 14:06:00-05:00', '2022-11-29 14:07:00-05:00',\n",
       "               '2022-11-29 14:08:00-05:00', '2022-11-29 14:09:00-05:00'],\n",
       "              dtype='datetime64[ns, tzlocal()]', name='Date / Time', length=507, freq=None)"
      ]
     },
     "execution_count": 83,
     "metadata": {},
     "output_type": "execute_result"
    }
   ],
   "source": [
    "data.index[~data['Gageheight, feet,'].notna()]"
   ]
  },
  {
   "cell_type": "markdown",
   "metadata": {
    "slideshow": {
     "slide_type": "subslide"
    }
   },
   "source": [
    "Find out if no variable was measured when data are missing for at least one variable\n",
    "\n"
   ]
  },
  {
   "cell_type": "code",
   "execution_count": 86,
   "metadata": {},
   "outputs": [
    {
     "data": {
      "text/plain": [
       "Date / Time\n",
       "2022-03-01 00:00:00-05:00    False\n",
       "2022-03-01 00:05:00-05:00    False\n",
       "2022-03-01 00:10:00-05:00    False\n",
       "2022-03-01 00:15:00-05:00    False\n",
       "2022-03-01 00:20:00-05:00    False\n",
       "                             ...  \n",
       "2023-03-28 08:00:00-04:00    False\n",
       "2023-03-28 08:15:00-04:00    False\n",
       "2023-03-28 08:30:00-04:00    False\n",
       "2023-03-28 08:45:00-04:00    False\n",
       "2023-03-28 09:00:00-04:00    False\n",
       "Length: 90706, dtype: bool"
      ]
     },
     "execution_count": 86,
     "metadata": {},
     "output_type": "execute_result"
    }
   ],
   "source": [
    "(~data.notna()).sum(axis=1) == 2"
   ]
  },
  {
   "cell_type": "markdown",
   "metadata": {
    "slideshow": {
     "slide_type": "subslide"
    }
   },
   "source": [
    "Use the `plot` method of the `DataFrame`\n",
    "\n"
   ]
  },
  {
   "cell_type": "code",
   "execution_count": 75,
   "metadata": {},
   "outputs": [
    {
     "data": {
      "text/plain": [
       "<AxesSubplot:xlabel='Date / Time'>"
      ]
     },
     "execution_count": 75,
     "metadata": {},
     "output_type": "execute_result"
    },
    {
     "data": {
      "image/png": "[encoded data removed]",
      "text/plain": [
       "<Figure size 432x288 with 1 Axes>"
      ]
     },
     "metadata": {
      "needs_background": "light"
     },
     "output_type": "display_data"
    }
   ],
   "source": [
    "data.plot()"
   ]
  },
  {
   "cell_type": "markdown",
   "metadata": {
    "slideshow": {
     "slide_type": "subslide"
    }
   },
   "source": [
    "Calculate the correlation matrix for each variable\n",
    "\n"
   ]
  },
  {
   "cell_type": "code",
   "execution_count": 74,
   "metadata": {},
   "outputs": [
    {
     "data": {
      "text/html": [
       "<div>\n",
       "<style scoped>\n",
       "    .dataframe tbody tr th:only-of-type {\n",
       "        vertical-align: middle;\n",
       "    }\n",
       "\n",
       "    .dataframe tbody tr th {\n",
       "        vertical-align: top;\n",
       "    }\n",
       "\n",
       "    .dataframe thead th {\n",
       "        text-align: right;\n",
       "    }\n",
       "</style>\n",
       "<table border=\"1\" class=\"dataframe\">\n",
       "  <thead>\n",
       "    <tr style=\"text-align: right;\">\n",
       "      <th></th>\n",
       "      <th>Gageheight, feet,</th>\n",
       "      <th>Discharge, ft3/s,[DischargefromIndexVelocity]</th>\n",
       "    </tr>\n",
       "  </thead>\n",
       "  <tbody>\n",
       "    <tr>\n",
       "      <th>Gageheight, feet,</th>\n",
       "      <td>1.00000</td>\n",
       "      <td>0.77769</td>\n",
       "    </tr>\n",
       "    <tr>\n",
       "      <th>Discharge, ft3/s,[DischargefromIndexVelocity]</th>\n",
       "      <td>0.77769</td>\n",
       "      <td>1.00000</td>\n",
       "    </tr>\n",
       "  </tbody>\n",
       "</table>\n",
       "</div>"
      ],
      "text/plain": [
       "                                               Gageheight, feet,  \\\n",
       "Gageheight, feet,                                        1.00000   \n",
       "Discharge, ft3/s,[DischargefromIndexVelocity]            0.77769   \n",
       "\n",
       "                                               Discharge, ft3/s,[DischargefromIndexVelocity]  \n",
       "Gageheight, feet,                                                                    0.77769  \n",
       "Discharge, ft3/s,[DischargefromIndexVelocity]                                        1.00000  "
      ]
     },
     "execution_count": 74,
     "metadata": {},
     "output_type": "execute_result"
    }
   ],
   "source": [
    "data.corr()"
   ]
  }
 ],
 "metadata": {
  "kernelspec": {
   "display_name": "Python 3 (ipykernel)",
   "language": "python",
   "name": "python3"
  },
  "language_info": {
   "codemirror_mode": {
    "name": "ipython",
    "version": 3
   },
   "file_extension": ".py",
   "mimetype": "text/x-python",
   "name": "python",
   "nbconvert_exporter": "python",
   "pygments_lexer": "ipython3",
   "version": "3.10.4"
  },
  "org": null
 },
 "nbformat": 4,
 "nbformat_minor": 1
}
