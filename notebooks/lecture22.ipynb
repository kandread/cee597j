{
 "cells": [
  {
   "cell_type": "markdown",
   "metadata": {
    "slideshow": {
     "slide_type": "slide"
    }
   },
   "source": [
    "<h1 align=\"center\">Computational Methods in Environmental Engineering</h1>\n",
    "<h2 align=\"center\">Lecture #22</h2>\n",
    "<h3 align=\"center\">16 May 2023</h3>\n",
    "\n"
   ]
  },
  {
   "cell_type": "markdown",
   "metadata": {
    "slideshow": {
     "slide_type": "slide"
    }
   },
   "source": [
    "## Machine learning\n",
    "\n"
   ]
  },
  {
   "cell_type": "markdown",
   "metadata": {},
   "source": [
    "-   `scikit-learn` is the most widely used ML library in Python\n",
    "-   standard supervised and unsupervised machine learning methods\n",
    "-   models that can be used for classification, clustering, prediction\n",
    "\n"
   ]
  },
  {
   "cell_type": "markdown",
   "metadata": {
    "slideshow": {
     "slide_type": "subslide"
    }
   },
   "source": [
    "<center><img src=\"https://i.imgur.com/KUqQldg.png\" /></center>\n",
    "\n"
   ]
  },
  {
   "cell_type": "markdown",
   "metadata": {
    "slideshow": {
     "slide_type": "subslide"
    }
   },
   "source": [
    "### Install it!\n",
    "\n"
   ]
  },
  {
   "cell_type": "code",
   "execution_count": null,
   "metadata": {},
   "outputs": [],
   "source": [
    "%conda install scikit-learn"
   ]
  },
  {
   "cell_type": "markdown",
   "metadata": {
    "slideshow": {
     "slide_type": "slide"
    }
   },
   "source": [
    "## Let's download some datasets!\n",
    "\n"
   ]
  },
  {
   "cell_type": "markdown",
   "metadata": {},
   "source": [
    "Go to [https://www.sciencebase.gov/catalog/item/5a58af4fe4b00b291cd6a5fb](https://www.sciencebase.gov/catalog/item/5a58af4fe4b00b291cd6a5fb)and download these files\n",
    "\n",
    "-   `BASIN_CHARACTERISTICS.csv`\n",
    "-   `MON_P_CRU_19012015.csv`\n",
    "-   `MON_T_CRU_19012015.csv`\n",
    "\n"
   ]
  },
  {
   "cell_type": "markdown",
   "metadata": {
    "slideshow": {
     "slide_type": "subslide"
    }
   },
   "source": [
    "and load them up\n",
    "\n"
   ]
  },
  {
   "cell_type": "code",
   "execution_count": 1,
   "metadata": {},
   "outputs": [],
   "source": [
    "import pandas as pd\n",
    "b = pd.read_csv(\"../data/BASIN_CHARACTERISTICS.csv\")\n",
    "p = pd.read_csv(\"../data/MON_P_CRU_19012015.csv\")\n",
    "t = pd.read_csv(\"../data/MON_T_CRU_19012015.csv\")"
   ]
  },
  {
   "cell_type": "code",
   "execution_count": 2,
   "metadata": {},
   "outputs": [
    {
     "data": {
      "text/html": [
       "<div>\n",
       "<style scoped>\n",
       "    .dataframe tbody tr th:only-of-type {\n",
       "        vertical-align: middle;\n",
       "    }\n",
       "\n",
       "    .dataframe tbody tr th {\n",
       "        vertical-align: top;\n",
       "    }\n",
       "\n",
       "    .dataframe thead th {\n",
       "        text-align: right;\n",
       "    }\n",
       "</style>\n",
       "<table border=\"1\" class=\"dataframe\">\n",
       "  <thead>\n",
       "    <tr style=\"text-align: right;\">\n",
       "      <th></th>\n",
       "      <th>station id</th>\n",
       "      <th>lon</th>\n",
       "      <th>lat</th>\n",
       "      <th>area</th>\n",
       "      <th>elev</th>\n",
       "    </tr>\n",
       "  </thead>\n",
       "  <tbody>\n",
       "    <tr>\n",
       "      <th>0</th>\n",
       "      <td>1112200</td>\n",
       "      <td>-11.38</td>\n",
       "      <td>13.23</td>\n",
       "      <td>15000</td>\n",
       "      <td>329.1</td>\n",
       "    </tr>\n",
       "    <tr>\n",
       "      <th>1</th>\n",
       "      <td>1112400</td>\n",
       "      <td>-11.23</td>\n",
       "      <td>12.31</td>\n",
       "      <td>9300</td>\n",
       "      <td>406.8</td>\n",
       "    </tr>\n",
       "    <tr>\n",
       "      <th>2</th>\n",
       "      <td>1134050</td>\n",
       "      <td>-8.17</td>\n",
       "      <td>11.58</td>\n",
       "      <td>34200</td>\n",
       "      <td>494.6</td>\n",
       "    </tr>\n",
       "    <tr>\n",
       "      <th>3</th>\n",
       "      <td>1134200</td>\n",
       "      <td>-6.80</td>\n",
       "      <td>12.52</td>\n",
       "      <td>32500</td>\n",
       "      <td>411.9</td>\n",
       "    </tr>\n",
       "    <tr>\n",
       "      <th>4</th>\n",
       "      <td>1147200</td>\n",
       "      <td>17.38</td>\n",
       "      <td>-3.18</td>\n",
       "      <td>737640</td>\n",
       "      <td>844.5</td>\n",
       "    </tr>\n",
       "  </tbody>\n",
       "</table>\n",
       "</div>"
      ],
      "text/plain": [
       "   station id    lon    lat    area   elev\n",
       "0     1112200 -11.38  13.23   15000  329.1\n",
       "1     1112400 -11.23  12.31    9300  406.8\n",
       "2     1134050  -8.17  11.58   34200  494.6\n",
       "3     1134200  -6.80  12.52   32500  411.9\n",
       "4     1147200  17.38  -3.18  737640  844.5"
      ]
     },
     "execution_count": 2,
     "metadata": {},
     "output_type": "execute_result"
    }
   ],
   "source": [
    "b.head()"
   ]
  },
  {
   "cell_type": "code",
   "execution_count": 3,
   "metadata": {},
   "outputs": [
    {
     "data": {
      "text/html": [
       "<div>\n",
       "<style scoped>\n",
       "    .dataframe tbody tr th:only-of-type {\n",
       "        vertical-align: middle;\n",
       "    }\n",
       "\n",
       "    .dataframe tbody tr th {\n",
       "        vertical-align: top;\n",
       "    }\n",
       "\n",
       "    .dataframe thead th {\n",
       "        text-align: right;\n",
       "    }\n",
       "</style>\n",
       "<table border=\"1\" class=\"dataframe\">\n",
       "  <thead>\n",
       "    <tr style=\"text-align: right;\">\n",
       "      <th></th>\n",
       "      <th>station id</th>\n",
       "      <th>190101</th>\n",
       "      <th>190102</th>\n",
       "      <th>190103</th>\n",
       "      <th>190104</th>\n",
       "      <th>190105</th>\n",
       "      <th>190106</th>\n",
       "      <th>190107</th>\n",
       "      <th>190108</th>\n",
       "      <th>190109</th>\n",
       "      <th>...</th>\n",
       "      <th>201503</th>\n",
       "      <th>201504</th>\n",
       "      <th>201505</th>\n",
       "      <th>201506</th>\n",
       "      <th>201507</th>\n",
       "      <th>201508</th>\n",
       "      <th>201509</th>\n",
       "      <th>201510</th>\n",
       "      <th>201511</th>\n",
       "      <th>201512</th>\n",
       "    </tr>\n",
       "  </thead>\n",
       "  <tbody>\n",
       "    <tr>\n",
       "      <th>0</th>\n",
       "      <td>1112200</td>\n",
       "      <td>0.00000</td>\n",
       "      <td>0.000</td>\n",
       "      <td>0.000</td>\n",
       "      <td>0.478</td>\n",
       "      <td>7.86</td>\n",
       "      <td>5.160</td>\n",
       "      <td>7.180</td>\n",
       "      <td>14.100</td>\n",
       "      <td>9.71</td>\n",
       "      <td>...</td>\n",
       "      <td>0.000</td>\n",
       "      <td>0.597</td>\n",
       "      <td>1.06</td>\n",
       "      <td>2.870</td>\n",
       "      <td>8.770</td>\n",
       "      <td>16.700</td>\n",
       "      <td>6.81</td>\n",
       "      <td>6.15</td>\n",
       "      <td>0.000208</td>\n",
       "      <td>0.0000</td>\n",
       "    </tr>\n",
       "    <tr>\n",
       "      <th>1</th>\n",
       "      <td>1112400</td>\n",
       "      <td>0.00334</td>\n",
       "      <td>0.000</td>\n",
       "      <td>0.000</td>\n",
       "      <td>0.651</td>\n",
       "      <td>9.31</td>\n",
       "      <td>5.550</td>\n",
       "      <td>7.470</td>\n",
       "      <td>14.600</td>\n",
       "      <td>10.30</td>\n",
       "      <td>...</td>\n",
       "      <td>0.000</td>\n",
       "      <td>0.830</td>\n",
       "      <td>1.30</td>\n",
       "      <td>3.260</td>\n",
       "      <td>9.280</td>\n",
       "      <td>17.300</td>\n",
       "      <td>7.52</td>\n",
       "      <td>6.86</td>\n",
       "      <td>0.000000</td>\n",
       "      <td>0.0000</td>\n",
       "    </tr>\n",
       "    <tr>\n",
       "      <th>2</th>\n",
       "      <td>1134050</td>\n",
       "      <td>0.14300</td>\n",
       "      <td>0.528</td>\n",
       "      <td>1.510</td>\n",
       "      <td>3.100</td>\n",
       "      <td>4.76</td>\n",
       "      <td>6.250</td>\n",
       "      <td>8.110</td>\n",
       "      <td>10.600</td>\n",
       "      <td>9.39</td>\n",
       "      <td>...</td>\n",
       "      <td>0.333</td>\n",
       "      <td>1.580</td>\n",
       "      <td>2.75</td>\n",
       "      <td>4.910</td>\n",
       "      <td>8.040</td>\n",
       "      <td>11.900</td>\n",
       "      <td>6.39</td>\n",
       "      <td>7.42</td>\n",
       "      <td>1.020000</td>\n",
       "      <td>0.0992</td>\n",
       "    </tr>\n",
       "    <tr>\n",
       "      <th>3</th>\n",
       "      <td>1134200</td>\n",
       "      <td>0.04860</td>\n",
       "      <td>0.161</td>\n",
       "      <td>0.696</td>\n",
       "      <td>1.770</td>\n",
       "      <td>3.35</td>\n",
       "      <td>4.850</td>\n",
       "      <td>7.430</td>\n",
       "      <td>9.590</td>\n",
       "      <td>7.13</td>\n",
       "      <td>...</td>\n",
       "      <td>0.105</td>\n",
       "      <td>0.571</td>\n",
       "      <td>1.77</td>\n",
       "      <td>4.400</td>\n",
       "      <td>7.590</td>\n",
       "      <td>10.000</td>\n",
       "      <td>4.45</td>\n",
       "      <td>4.42</td>\n",
       "      <td>0.430000</td>\n",
       "      <td>0.0111</td>\n",
       "    </tr>\n",
       "    <tr>\n",
       "      <th>4</th>\n",
       "      <td>1147200</td>\n",
       "      <td>5.61000</td>\n",
       "      <td>5.310</td>\n",
       "      <td>6.000</td>\n",
       "      <td>6.150</td>\n",
       "      <td>2.08</td>\n",
       "      <td>0.252</td>\n",
       "      <td>0.205</td>\n",
       "      <td>0.851</td>\n",
       "      <td>2.61</td>\n",
       "      <td>...</td>\n",
       "      <td>6.950</td>\n",
       "      <td>4.680</td>\n",
       "      <td>2.27</td>\n",
       "      <td>0.182</td>\n",
       "      <td>0.158</td>\n",
       "      <td>0.669</td>\n",
       "      <td>2.74</td>\n",
       "      <td>4.20</td>\n",
       "      <td>7.080000</td>\n",
       "      <td>7.6900</td>\n",
       "    </tr>\n",
       "  </tbody>\n",
       "</table>\n",
       "<p>5 rows × 1381 columns</p>\n",
       "</div>"
      ],
      "text/plain": [
       "   station id   190101  190102  190103  190104  190105  190106  190107   \n",
       "0     1112200  0.00000   0.000   0.000   0.478    7.86   5.160   7.180  \\\n",
       "1     1112400  0.00334   0.000   0.000   0.651    9.31   5.550   7.470   \n",
       "2     1134050  0.14300   0.528   1.510   3.100    4.76   6.250   8.110   \n",
       "3     1134200  0.04860   0.161   0.696   1.770    3.35   4.850   7.430   \n",
       "4     1147200  5.61000   5.310   6.000   6.150    2.08   0.252   0.205   \n",
       "\n",
       "   190108  190109  ...  201503  201504  201505  201506  201507  201508   \n",
       "0  14.100    9.71  ...   0.000   0.597    1.06   2.870   8.770  16.700  \\\n",
       "1  14.600   10.30  ...   0.000   0.830    1.30   3.260   9.280  17.300   \n",
       "2  10.600    9.39  ...   0.333   1.580    2.75   4.910   8.040  11.900   \n",
       "3   9.590    7.13  ...   0.105   0.571    1.77   4.400   7.590  10.000   \n",
       "4   0.851    2.61  ...   6.950   4.680    2.27   0.182   0.158   0.669   \n",
       "\n",
       "   201509  201510    201511  201512  \n",
       "0    6.81    6.15  0.000208  0.0000  \n",
       "1    7.52    6.86  0.000000  0.0000  \n",
       "2    6.39    7.42  1.020000  0.0992  \n",
       "3    4.45    4.42  0.430000  0.0111  \n",
       "4    2.74    4.20  7.080000  7.6900  \n",
       "\n",
       "[5 rows x 1381 columns]"
      ]
     },
     "execution_count": 3,
     "metadata": {},
     "output_type": "execute_result"
    }
   ],
   "source": [
    "p.head()"
   ]
  },
  {
   "cell_type": "markdown",
   "metadata": {
    "slideshow": {
     "slide_type": "slide"
    }
   },
   "source": [
    "## Clustering\n",
    "\n"
   ]
  },
  {
   "cell_type": "markdown",
   "metadata": {},
   "source": [
    "-   One of the simplest unsupervised classification methods\n",
    "-   We will focus on the **k-means** clustering algorithm\n",
    "\n"
   ]
  },
  {
   "cell_type": "code",
   "execution_count": 4,
   "metadata": {
    "slideshow": {
     "slide_type": "fragment"
    }
   },
   "outputs": [],
   "source": [
    "from sklearn.cluster import KMeans"
   ]
  },
  {
   "cell_type": "markdown",
   "metadata": {
    "slideshow": {
     "slide_type": "slide"
    }
   },
   "source": [
    "## K-means clustering\n",
    "\n"
   ]
  },
  {
   "cell_type": "markdown",
   "metadata": {},
   "source": [
    "Clusters data by trying to separate samples in n groups of equal variance\n",
    "\n",
    "$$\\sum_{i=0}^{n} \\min\\limits_{\\mu_{j} \\in C} (||x_{i} - \\mu_{j}||^{2})$$\n",
    "\n",
    "Inertia, or the within-cluster sum of squares criterion is a measure of how internally coherent clusters are. Let's look at an example\n",
    "\n"
   ]
  },
  {
   "cell_type": "code",
   "execution_count": 5,
   "metadata": {
    "slideshow": {
     "slide_type": "subslide"
    }
   },
   "outputs": [],
   "source": [
    "from sklearn.datasets import make_blobs\n",
    "n_samples = 1500\n",
    "random_state = 170\n",
    "X, y = make_blobs(n_samples=n_samples, random_state=random_state)"
   ]
  },
  {
   "cell_type": "code",
   "execution_count": 10,
   "metadata": {},
   "outputs": [
    {
     "data": {
      "text/plain": [
       "<matplotlib.collections.PathCollection at 0x151fd8e10>"
      ]
     },
     "execution_count": 10,
     "metadata": {},
     "output_type": "execute_result"
    },
    {
     "data": {
      "image/png": "[encoded data removed]",
      "text/plain": [
       "<Figure size 640x480 with 1 Axes>"
      ]
     },
     "metadata": {},
     "output_type": "display_data"
    }
   ],
   "source": [
    "import matplotlib.pyplot as plt\n",
    "plt.scatter(X[:,0], X[:,1])"
   ]
  },
  {
   "cell_type": "markdown",
   "metadata": {
    "slideshow": {
     "slide_type": "subslide"
    }
   },
   "source": [
    "Now let's cluster the data and predict their label\n",
    "\n"
   ]
  },
  {
   "cell_type": "code",
   "execution_count": 11,
   "metadata": {},
   "outputs": [],
   "source": [
    "?KMeans"
   ]
  },
  {
   "cell_type": "code",
   "execution_count": null,
   "metadata": {},
   "outputs": [],
   "source": [
    "import matplotlib.pyplot as plt\n",
    "from sklearn.cluster import KMeans\n",
    "model = KMeans(n_clusters=3, n_init='auto', random_state=random_state).fit(X)\n",
    "y_pred = model.predict(X)\n",
    "plt.scatter(X[:, 0], X[:, 1], c=y_pred)"
   ]
  },
  {
   "cell_type": "markdown",
   "metadata": {
    "slideshow": {
     "slide_type": "slide"
    }
   },
   "source": [
    "## ☛ Hands-on exercise\n",
    "\n"
   ]
  },
  {
   "cell_type": "markdown",
   "metadata": {
    "slideshow": {
     "slide_type": "subslide"
    }
   },
   "source": [
    "Let's try to classify the basins according to mean temperature and precipitation!\n",
    "\n",
    "Create the appropriate arrays to be used as inputs to clustering algorithm\n",
    "\n"
   ]
  },
  {
   "cell_type": "code",
   "execution_count": null,
   "metadata": {},
   "outputs": [],
   "source": []
  },
  {
   "cell_type": "markdown",
   "metadata": {
    "slideshow": {
     "slide_type": "subslide"
    }
   },
   "source": [
    "Cluster basins according to temperature and precipitation\n",
    "\n"
   ]
  },
  {
   "cell_type": "code",
   "execution_count": null,
   "metadata": {},
   "outputs": [],
   "source": []
  },
  {
   "cell_type": "markdown",
   "metadata": {
    "slideshow": {
     "slide_type": "subslide"
    }
   },
   "source": [
    "Now plot the results\n",
    "\n"
   ]
  },
  {
   "cell_type": "code",
   "execution_count": null,
   "metadata": {},
   "outputs": [],
   "source": []
  },
  {
   "cell_type": "markdown",
   "metadata": {
    "slideshow": {
     "slide_type": "subslide"
    }
   },
   "source": [
    "Do you need to add any more features?\n",
    "\n"
   ]
  },
  {
   "cell_type": "markdown",
   "metadata": {
    "slideshow": {
     "slide_type": "slide"
    }
   },
   "source": [
    "## How do we select the number of clusters?\n",
    "\n"
   ]
  },
  {
   "cell_type": "markdown",
   "metadata": {},
   "source": [
    "When the true labels are unknown, we can use Silhouette Analysis to evaluate the number of clusters\n",
    "\n"
   ]
  },
  {
   "cell_type": "markdown",
   "metadata": {
    "slideshow": {
     "slide_type": "fragment"
    }
   },
   "source": [
    "Silhouette coefficient is defined as\n",
    "$$s = \\dfrac{b-a}{max(a,b)}$$\n",
    "where $a$ is the mean distance between a sample and all other points in the same class, and $b$ is the mean distance between a sample and all other points in the next nearest cluster.\n",
    "\n"
   ]
  },
  {
   "cell_type": "markdown",
   "metadata": {
    "slideshow": {
     "slide_type": "subslide"
    }
   },
   "source": [
    "### Silhouette analysis example\n",
    "\n"
   ]
  },
  {
   "cell_type": "code",
   "execution_count": null,
   "metadata": {},
   "outputs": [],
   "source": [
    "from sklearn import metrics\n",
    "labels = model.labels_\n",
    "metrics.silhouette_score(X, labels, metric='euclidean')"
   ]
  },
  {
   "cell_type": "markdown",
   "metadata": {
    "slideshow": {
     "slide_type": "subslide"
    }
   },
   "source": [
    "### ☛ Hands-on exercise\n",
    "\n"
   ]
  },
  {
   "cell_type": "markdown",
   "metadata": {},
   "source": [
    "Use Silhouette Analysis to evaluate the number of clusters for the basins\n",
    "\n"
   ]
  },
  {
   "cell_type": "markdown",
   "metadata": {
    "slideshow": {
     "slide_type": "subslide"
    }
   },
   "source": [
    "Perform the clustering on the basins data and calculate the Silhouette coefficient as a function of number of clusters\n",
    "\n"
   ]
  },
  {
   "cell_type": "code",
   "execution_count": null,
   "metadata": {
    "slideshow": {
     "slide_type": "subslide"
    }
   },
   "outputs": [],
   "source": []
  },
  {
   "cell_type": "markdown",
   "metadata": {
    "slideshow": {
     "slide_type": "subslide"
    }
   },
   "source": [
    "Plot the relationship between them.\n",
    "\n"
   ]
  },
  {
   "cell_type": "code",
   "execution_count": null,
   "metadata": {},
   "outputs": [],
   "source": []
  },
  {
   "cell_type": "markdown",
   "metadata": {
    "slideshow": {
     "slide_type": "slide"
    }
   },
   "source": [
    "## Support Vector Machines\n",
    "\n"
   ]
  },
  {
   "cell_type": "markdown",
   "metadata": {},
   "source": [
    "Support vector machines (SVMs) are a set of supervised learning methods used for classification, regression and outliers detection.\n",
    "\n"
   ]
  },
  {
   "cell_type": "markdown",
   "metadata": {
    "slideshow": {
     "slide_type": "fragment"
    }
   },
   "source": [
    "The advantages of support vector machines are:\n",
    "\n",
    "-   Effective in high dimensional spaces\n",
    "-   Still effective in cases where number of dimensions is greater than the number of samples\n",
    "-   Uses a subset of training points in the decision function (called support vectors), so it is also memory efficient\n",
    "\n"
   ]
  },
  {
   "cell_type": "markdown",
   "metadata": {
    "slideshow": {
     "slide_type": "subslide"
    }
   },
   "source": [
    "### We will focus on regression\n",
    "\n"
   ]
  },
  {
   "cell_type": "markdown",
   "metadata": {},
   "source": [
    "Let's try an example\n",
    "\n"
   ]
  },
  {
   "cell_type": "code",
   "execution_count": null,
   "metadata": {},
   "outputs": [],
   "source": [
    "from sklearn import svm\n",
    "X = [[0, 0], [2, 2]]\n",
    "y = [0.5, 2.5]\n",
    "clf = svm.SVR()\n",
    "clf.fit(X, y)"
   ]
  },
  {
   "cell_type": "code",
   "execution_count": null,
   "metadata": {
    "slideshow": {
     "slide_type": "subslide"
    }
   },
   "outputs": [],
   "source": [
    "clf.predict([[1, 1]])"
   ]
  },
  {
   "cell_type": "markdown",
   "metadata": {
    "slideshow": {
     "slide_type": "subslide"
    }
   },
   "source": [
    "### ☛ Hands-on exercise\n",
    "\n"
   ]
  },
  {
   "cell_type": "markdown",
   "metadata": {},
   "source": [
    "Now let's try to use SVMs to predict mean temperature as a function of elevation\n",
    "\n"
   ]
  },
  {
   "cell_type": "markdown",
   "metadata": {
    "slideshow": {
     "slide_type": "subslide"
    }
   },
   "source": [
    "Build a regression using SVMs on the basin data\n",
    "\n"
   ]
  },
  {
   "cell_type": "code",
   "execution_count": null,
   "metadata": {},
   "outputs": [],
   "source": [
    "from sklearn.model_selection import train_test_split"
   ]
  },
  {
   "cell_type": "markdown",
   "metadata": {
    "slideshow": {
     "slide_type": "subslide"
    }
   },
   "source": [
    "Split the dataset into training and validation subsets\n",
    "\n"
   ]
  },
  {
   "cell_type": "code",
   "execution_count": null,
   "metadata": {},
   "outputs": [],
   "source": []
  },
  {
   "cell_type": "code",
   "execution_count": null,
   "metadata": {
    "slideshow": {
     "slide_type": "subslide"
    }
   },
   "outputs": [],
   "source": []
  },
  {
   "cell_type": "markdown",
   "metadata": {
    "slideshow": {
     "slide_type": "subslide"
    }
   },
   "source": [
    "Is the regression model any good?\n",
    "\n"
   ]
  },
  {
   "cell_type": "code",
   "execution_count": null,
   "metadata": {},
   "outputs": [],
   "source": []
  }
 ],
 "metadata": {
  "kernelspec": {
   "display_name": "Python 3 (ipykernel)",
   "language": "python",
   "name": "python3"
  },
  "language_info": {
   "codemirror_mode": {
    "name": "ipython",
    "version": 3
   },
   "file_extension": ".py",
   "mimetype": "text/x-python",
   "name": "python",
   "nbconvert_exporter": "python",
   "pygments_lexer": "ipython3",
   "version": "3.11.3"
  },
  "org": null
 },
 "nbformat": 4,
 "nbformat_minor": 1
}
