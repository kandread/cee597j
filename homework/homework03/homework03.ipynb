{
 "cells": [
  {
   "cell_type": "raw",
   "id": "21c6358b",
   "metadata": {},
   "source": [
    "# ASSIGNMENT CONFIG\n",
    "requirements: requirements.txt\n",
    "solutions_pdf: true\n",
    "show_questions_points: true\n",
    "export_cell:\n",
    "    instructions: \"As the function signature is part of the solution, the tests are hidden from your notebook. However, you will receive feedback on the automated tests when you make your initial submission on Gradescope.\"\n",
    "generate:\n",
    "    pdf: true\n",
    "    filtering: true\n",
    "    pagebreaks: true\n",
    "    zips: false"
   ]
  },
  {
   "cell_type": "code",
   "execution_count": 2,
   "id": "530c7162",
   "metadata": {},
   "outputs": [],
   "source": [
    "from nose.tools import assert_equal, assert_almost_equal\n",
    "import numpy as np"
   ]
  },
  {
   "cell_type": "raw",
   "id": "8a6ee3b7",
   "metadata": {},
   "source": [
    "# BEGIN QUESTION\n",
    "name: q1\n",
    "points: 30"
   ]
  },
  {
   "cell_type": "markdown",
   "id": "52591694",
   "metadata": {},
   "source": [
    "## Problem 1\n",
    "\n",
    "Write a function `genTrig` that generates a 2-column array of the form\n",
    "```\n",
    "cos(x) sin(x)\n",
    "```\n",
    "that takes the range of `x` values as an input. The input argument should either be a `np.arange` object or three arguments: `start`, `stop`, `step`."
   ]
  },
  {
   "cell_type": "raw",
   "id": "80a29534",
   "metadata": {},
   "source": [
    "# BEGIN SOLUTION"
   ]
  },
  {
   "cell_type": "code",
   "execution_count": 3,
   "id": "3da4640a",
   "metadata": {},
   "outputs": [],
   "source": [
    "# BEGIN SOLUTION\n",
    "def genTrig(range_or_start, end=None, step=None):\n",
    "    \"\"\"Generate an array with cosine and sine rows.\"\"\"\n",
    "    if end is None or step is None:\n",
    "        r = range_or_start \n",
    "    else:\n",
    "        r = np.arange(range_or_start, end, step)\n",
    "    n = len(r)\n",
    "    out = np.zeros((n, 2))\n",
    "    out[:, 0] = np.cos(r)\n",
    "    out[:, 1] = np.sin(r)\n",
    "    return out\n",
    "# END SOLUTION"
   ]
  },
  {
   "cell_type": "raw",
   "id": "78acf75b",
   "metadata": {},
   "source": [
    "# END SOLUTION"
   ]
  },
  {
   "cell_type": "raw",
   "id": "9f7c186d",
   "metadata": {},
   "source": [
    "# BEGIN TESTS"
   ]
  },
  {
   "cell_type": "code",
   "execution_count": 4,
   "id": "d8a18462",
   "metadata": {},
   "outputs": [],
   "source": [
    "assert_almost_equal(genTrig(np.arange(0, 1, 0.1))[1, 1], 0.09983342)"
   ]
  },
  {
   "cell_type": "code",
   "execution_count": 5,
   "id": "a94006d2",
   "metadata": {},
   "outputs": [],
   "source": [
    "assert_almost_equal(genTrig(0, 1, 0.1)[1, 1], 0.09983342)"
   ]
  },
  {
   "cell_type": "raw",
   "id": "7e5b9eb8",
   "metadata": {},
   "source": [
    "# END TESTS"
   ]
  },
  {
   "cell_type": "raw",
   "id": "7faa333e",
   "metadata": {},
   "source": [
    "# END QUESTION"
   ]
  },
  {
   "cell_type": "markdown",
   "id": "fcadb180",
   "metadata": {},
   "source": [
    "## Problem 2"
   ]
  },
  {
   "cell_type": "raw",
   "id": "502b386f",
   "metadata": {},
   "source": [
    "# BEGIN QUESTION\n",
    "name: q2a\n",
    "points: 20"
   ]
  },
  {
   "cell_type": "markdown",
   "id": "a348a8ba",
   "metadata": {},
   "source": [
    "Write a function `f` that returns $a^b-c$ and use it to iterate over the sequence `(0, 1, 0.001)` for all three parameters. Then rewrite the function to use `Numpy` math to produce the same result, and benchmark the function. "
   ]
  },
  {
   "cell_type": "raw",
   "id": "ef7bfafe",
   "metadata": {},
   "source": [
    "# BEGIN SOLUTION"
   ]
  },
  {
   "cell_type": "code",
   "execution_count": 6,
   "id": "2127f62e",
   "metadata": {},
   "outputs": [],
   "source": [
    "# Loop-based solution\n",
    "# BEGIN SOLUTION\n",
    "def f(a, b, c):\n",
    "    out = []\n",
    "    for i in range(len(a)):\n",
    "        out.append(a[i]**b[i] - c[i])\n",
    "    return out\n",
    "# END SOLUTION"
   ]
  },
  {
   "cell_type": "raw",
   "id": "8c2f4a25",
   "metadata": {},
   "source": [
    "# END SOLUTION"
   ]
  },
  {
   "cell_type": "code",
   "execution_count": 7,
   "id": "db8196e5",
   "metadata": {},
   "outputs": [],
   "source": [
    "a, b, c = np.arange(0, 1, 0.001), np.arange(0, 1, 0.001), np.arange(0, 1, 0.001)"
   ]
  },
  {
   "cell_type": "raw",
   "id": "e93c0692",
   "metadata": {},
   "source": [
    "# BEGIN TESTS"
   ]
  },
  {
   "cell_type": "code",
   "execution_count": 8,
   "id": "9914c8b5",
   "metadata": {},
   "outputs": [],
   "source": [
    "assert_almost_equal(f(a, b, c)[3], 0.9797235503366797)"
   ]
  },
  {
   "cell_type": "raw",
   "id": "6773d644",
   "metadata": {},
   "source": [
    "# END TESTS"
   ]
  },
  {
   "cell_type": "code",
   "execution_count": 9,
   "id": "d3f1b654",
   "metadata": {},
   "outputs": [],
   "source": [
    "# Numpy-based solution\n",
    "# BEGIN SOLUTION\n",
    "def f(a, b, c):\n",
    "    return a**b - c\n",
    "# END SOLUTION"
   ]
  },
  {
   "cell_type": "raw",
   "id": "73fb73f2",
   "metadata": {},
   "source": [
    "# BEGIN TESTS"
   ]
  },
  {
   "cell_type": "code",
   "execution_count": 10,
   "id": "69253d93",
   "metadata": {},
   "outputs": [],
   "source": [
    "assert_almost_equal(f(a, b, c)[3], 0.9797235503366797)"
   ]
  },
  {
   "cell_type": "raw",
   "id": "5ad064c1",
   "metadata": {},
   "source": [
    "# END TESTS"
   ]
  },
  {
   "cell_type": "raw",
   "id": "fe9f1020",
   "metadata": {},
   "source": [
    "# END QUESTION"
   ]
  },
  {
   "cell_type": "raw",
   "id": "440455aa",
   "metadata": {},
   "source": [
    "# BEGIN QUESTION\n",
    "name: q2b\n",
    "points: 20"
   ]
  },
  {
   "cell_type": "markdown",
   "id": "b0bd194b",
   "metadata": {},
   "source": [
    "Use broadcasting to generate a $24 \\times 12 \\times 6$ array `samples` that contains the value of the `f` function for parameters in the range $[0, 1] \\times [0, 1] \\times [0, 1]$."
   ]
  },
  {
   "cell_type": "raw",
   "id": "87e2ad8f",
   "metadata": {},
   "source": [
    "# BEGIN SOLUTION"
   ]
  },
  {
   "cell_type": "code",
   "execution_count": 12,
   "id": "695e4d31",
   "metadata": {},
   "outputs": [],
   "source": [
    "a = np.linspace(0, 1, 24)\n",
    "b = np.linspace(0, 1, 12)\n",
    "c = np.linspace(0, 1, 6)\n",
    "\n",
    "# BEGIN SOLUTION\n",
    "samples = f(a[:, np.newaxis, np.newaxis],\n",
    "            b[np.newaxis, :, np.newaxis],\n",
    "            c[np.newaxis, np.newaxis, :])\n",
    "# END SOLUTION"
   ]
  },
  {
   "cell_type": "raw",
   "id": "10b9b8e1",
   "metadata": {},
   "source": [
    "# END SOLUTION"
   ]
  },
  {
   "cell_type": "raw",
   "id": "0ac8e5fb",
   "metadata": {},
   "source": [
    "# BEGIN TESTS"
   ]
  },
  {
   "cell_type": "code",
   "execution_count": 13,
   "id": "a43ec9b2",
   "metadata": {},
   "outputs": [],
   "source": [
    "assert(np.all(samples[:3, 0, 1] == np.array([0.8, 0.8, 0.8])))"
   ]
  },
  {
   "cell_type": "raw",
   "id": "9096f4f1",
   "metadata": {},
   "source": [
    "# END TESTS"
   ]
  },
  {
   "cell_type": "raw",
   "id": "711e6640",
   "metadata": {},
   "source": [
    "# END QUESTION"
   ]
  },
  {
   "cell_type": "markdown",
   "id": "6a31ae17",
   "metadata": {},
   "source": [
    "## Problem 3\n",
    "\n",
    "The midpoint rule for approximating an integral can be expressed as \n",
    "$$\\int_{a}^{b} f(x) d(x) \\approx h \\sum_{i=1}^{n}f(a - \\frac{1}{2}h + i h)$$\n",
    "\n",
    "where $h=(b-a)/n$."
   ]
  },
  {
   "cell_type": "raw",
   "id": "2fe4e9ca",
   "metadata": {},
   "source": [
    "# BEGIN QUESTION\n",
    "name: q3a\n",
    "points: 20"
   ]
  },
  {
   "cell_type": "markdown",
   "id": "7c9fe452",
   "metadata": {},
   "source": [
    "Write a function `midpointfor(f, a, b, n)` to compute the above approximation using a plain `for loop`."
   ]
  },
  {
   "cell_type": "raw",
   "id": "a2c0b23e",
   "metadata": {},
   "source": [
    "# BEGIN SOLUTION"
   ]
  },
  {
   "cell_type": "code",
   "execution_count": 16,
   "id": "39801723",
   "metadata": {},
   "outputs": [],
   "source": [
    "def midpointfor(f, a, b, n):\n",
    "    # BEGIN SOLUTION\n",
    "    h = (b - a) / n\n",
    "    s = []\n",
    "    for i in range(1, n+1):\n",
    "        s.append(f(a - 0.5 * h + i * h))\n",
    "    return h * sum(s)\n",
    "    # END SOLUTION"
   ]
  },
  {
   "cell_type": "raw",
   "id": "ffb47051",
   "metadata": {},
   "source": [
    "# END SOLUTION"
   ]
  },
  {
   "cell_type": "raw",
   "id": "9a091d5a",
   "metadata": {},
   "source": [
    "# BEGIN TESTS"
   ]
  },
  {
   "cell_type": "code",
   "execution_count": 19,
   "id": "e44f4ae1",
   "metadata": {},
   "outputs": [],
   "source": [
    "assert_almost_equal(midpointfor(lambda x: x**2 - 2 * x, 1, 4, 10), 5.9775)"
   ]
  },
  {
   "cell_type": "raw",
   "id": "9aa4830e",
   "metadata": {},
   "source": [
    "# END TESTS"
   ]
  },
  {
   "cell_type": "raw",
   "id": "20f2c8ef",
   "metadata": {},
   "source": [
    "# END QUESTION"
   ]
  },
  {
   "cell_type": "raw",
   "id": "d5a857ce",
   "metadata": {},
   "source": [
    "# BEGIN QUESTION\n",
    "name: q3b\n",
    "points: 10"
   ]
  },
  {
   "cell_type": "markdown",
   "id": "9e4d89b9",
   "metadata": {},
   "source": [
    "Write a vectorized midpoint function `midpointsum(f, a, b, n)` using the `numpy` `sum` function."
   ]
  },
  {
   "cell_type": "raw",
   "id": "4e938565",
   "metadata": {},
   "source": [
    "# BEGIN SOLUTION"
   ]
  },
  {
   "cell_type": "code",
   "execution_count": 30,
   "id": "5aa7bb0c",
   "metadata": {},
   "outputs": [],
   "source": [
    "def midpointsum(f, a, b, n):\n",
    "    # BEGIN SOLUTION\n",
    "    h = (b - a) / n\n",
    "    s = f(a - 0.5 * h + np.arange(1, n+1) * h)\n",
    "    return h * np.sum(s)\n",
    "    # END SOLUTION"
   ]
  },
  {
   "cell_type": "raw",
   "id": "331ebe51",
   "metadata": {},
   "source": [
    "# END SOLUTION"
   ]
  },
  {
   "cell_type": "raw",
   "id": "91b64b06",
   "metadata": {},
   "source": [
    "# BEGIN TESTS"
   ]
  },
  {
   "cell_type": "code",
   "execution_count": 32,
   "id": "08a1cc89",
   "metadata": {},
   "outputs": [],
   "source": [
    "assert_almost_equal(midpointsum(lambda x: x**2 - 2 * x, 1, 4, 10), 5.9775)"
   ]
  },
  {
   "cell_type": "raw",
   "id": "b79efbd4",
   "metadata": {},
   "source": [
    "# END TESTS"
   ]
  },
  {
   "cell_type": "raw",
   "id": "357afd31",
   "metadata": {},
   "source": [
    "# END QUESTION"
   ]
  },
  {
   "cell_type": "raw",
   "id": "7342fdd2",
   "metadata": {},
   "source": [
    "# BEGIN QUESTION\n",
    "name: q3c\n",
    "points: 10"
   ]
  },
  {
   "cell_type": "markdown",
   "id": "8eb7590b",
   "metadata": {},
   "source": [
    "Use the `%timeit` command to benchmark your functions with the same limits for $n=1000$."
   ]
  },
  {
   "cell_type": "raw",
   "id": "e6550871",
   "metadata": {},
   "source": [
    "# BEGIN SOLUTION"
   ]
  },
  {
   "cell_type": "code",
   "execution_count": 33,
   "id": "af7a8fd8",
   "metadata": {},
   "outputs": [
    {
     "name": "stdout",
     "output_type": "stream",
     "text": [
      "156 µs ± 5.25 µs per loop (mean ± std. dev. of 7 runs, 10,000 loops each)\n"
     ]
    }
   ],
   "source": [
    "# Benchmark midpointfor\n",
    "# BEGIN SOLUTION\n",
    "%timeit midpointfor(lambda x: x**2 - 2 * x, 1, 4, 1000)\n",
    "# END SOLUTION"
   ]
  },
  {
   "cell_type": "code",
   "execution_count": null,
   "id": "7552dfd0",
   "metadata": {},
   "outputs": [],
   "source": [
    "# Benchmark midpointsum\n",
    "# BEGIN SOLUTION\n",
    "%timeit midpointsum(lambda x: x**2 - 2 * x, 1, 4, 10000)\n",
    "# END SOLUTION"
   ]
  },
  {
   "cell_type": "raw",
   "id": "f8e8b42c",
   "metadata": {},
   "source": [
    "# END SOLUTION"
   ]
  },
  {
   "cell_type": "raw",
   "id": "41bc594b",
   "metadata": {},
   "source": [
    "# END QUESTION"
   ]
  }
 ],
 "metadata": {
  "kernelspec": {
   "display_name": "Python 3 (ipykernel)",
   "language": "python",
   "name": "python3"
  },
  "language_info": {
   "codemirror_mode": {
    "name": "ipython",
    "version": 3
   },
   "file_extension": ".py",
   "mimetype": "text/x-python",
   "name": "python",
   "nbconvert_exporter": "python",
   "pygments_lexer": "ipython3",
   "version": "3.10.9"
  }
 },
 "nbformat": 4,
 "nbformat_minor": 5
}
