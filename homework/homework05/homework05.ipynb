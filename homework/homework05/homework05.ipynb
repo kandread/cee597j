{
 "cells": [
  {
   "cell_type": "raw",
   "id": "21c6358b",
   "metadata": {},
   "source": [
    "# ASSIGNMENT CONFIG\n",
    "requirements: requirements.txt\n",
    "solutions_pdf: true\n",
    "show_questions_points: true\n",
    "export_cell:\n",
    "    instructions: \"As the function signature is part of the solution, the tests are hidden from your notebook. However, you will receive feedback on the automated tests when you make your initial submission on Gradescope.\"\n",
    "generate:\n",
    "    pdf: true\n",
    "    filtering: true\n",
    "    pagebreaks: true\n",
    "    zips: false\n",
    "files:\n",
    "    - API_NY.GDP.MKTP.CD_DS2_en_csv_v2_3840536.csv\n",
    "    - FloodArchive.csv"
   ]
  },
  {
   "cell_type": "code",
   "execution_count": 1,
   "id": "530c7162",
   "metadata": {},
   "outputs": [],
   "source": [
    "from nose.tools import assert_equal, assert_almost_equal\n",
    "import numpy as np\n",
    "import pandas as pd"
   ]
  },
  {
   "cell_type": "markdown",
   "id": "c1a402ef",
   "metadata": {},
   "source": [
    "For this set of problems we will work with historical large [flood events](https://data.amerigeoss.org/dataset/types-of-large-flood-events-1985-2016). Download the CSV file with the flood events (in case the code below does not work)."
   ]
  },
  {
   "cell_type": "code",
   "execution_count": 4,
   "id": "4c9c1dc1",
   "metadata": {},
   "outputs": [
    {
     "data": {
      "text/html": [
       "<div>\n",
       "<style scoped>\n",
       "    .dataframe tbody tr th:only-of-type {\n",
       "        vertical-align: middle;\n",
       "    }\n",
       "\n",
       "    .dataframe tbody tr th {\n",
       "        vertical-align: top;\n",
       "    }\n",
       "\n",
       "    .dataframe thead th {\n",
       "        text-align: right;\n",
       "    }\n",
       "</style>\n",
       "<table border=\"1\" class=\"dataframe\">\n",
       "  <thead>\n",
       "    <tr style=\"text-align: right;\">\n",
       "      <th></th>\n",
       "      <th>ID</th>\n",
       "      <th>GlideNumber</th>\n",
       "      <th>Country</th>\n",
       "      <th>OtherCountry</th>\n",
       "      <th>long</th>\n",
       "      <th>lat</th>\n",
       "      <th>Area</th>\n",
       "      <th>Began</th>\n",
       "      <th>Ended</th>\n",
       "      <th>Validation</th>\n",
       "      <th>Dead</th>\n",
       "      <th>Displaced</th>\n",
       "      <th>MainCause</th>\n",
       "      <th>Severity</th>\n",
       "    </tr>\n",
       "  </thead>\n",
       "  <tbody>\n",
       "    <tr>\n",
       "      <th>0</th>\n",
       "      <td>1</td>\n",
       "      <td>0</td>\n",
       "      <td>Algeria</td>\n",
       "      <td>0</td>\n",
       "      <td>5.23026</td>\n",
       "      <td>35.81420</td>\n",
       "      <td>92615.67</td>\n",
       "      <td>1/1/85</td>\n",
       "      <td>1/5/85</td>\n",
       "      <td>News</td>\n",
       "      <td>26</td>\n",
       "      <td>3000</td>\n",
       "      <td>Heavy rain</td>\n",
       "      <td>1.0</td>\n",
       "    </tr>\n",
       "    <tr>\n",
       "      <th>1</th>\n",
       "      <td>2</td>\n",
       "      <td>0</td>\n",
       "      <td>Brazil</td>\n",
       "      <td>0</td>\n",
       "      <td>-45.34890</td>\n",
       "      <td>-18.71110</td>\n",
       "      <td>678498.82</td>\n",
       "      <td>1/15/85</td>\n",
       "      <td>2/2/85</td>\n",
       "      <td>News</td>\n",
       "      <td>229</td>\n",
       "      <td>80000</td>\n",
       "      <td>Heavy rain</td>\n",
       "      <td>2.0</td>\n",
       "    </tr>\n",
       "    <tr>\n",
       "      <th>2</th>\n",
       "      <td>3</td>\n",
       "      <td>0</td>\n",
       "      <td>Phillipines</td>\n",
       "      <td>0</td>\n",
       "      <td>122.97400</td>\n",
       "      <td>10.02070</td>\n",
       "      <td>12846.03</td>\n",
       "      <td>1/20/85</td>\n",
       "      <td>1/21/85</td>\n",
       "      <td>News</td>\n",
       "      <td>43</td>\n",
       "      <td>444</td>\n",
       "      <td>Torrential rain</td>\n",
       "      <td>1.0</td>\n",
       "    </tr>\n",
       "    <tr>\n",
       "      <th>3</th>\n",
       "      <td>4</td>\n",
       "      <td>0</td>\n",
       "      <td>Indonesia</td>\n",
       "      <td>0</td>\n",
       "      <td>124.60600</td>\n",
       "      <td>1.01489</td>\n",
       "      <td>16542.12</td>\n",
       "      <td>2/4/85</td>\n",
       "      <td>2/18/85</td>\n",
       "      <td>News</td>\n",
       "      <td>21</td>\n",
       "      <td>300</td>\n",
       "      <td>Torrential rain</td>\n",
       "      <td>1.0</td>\n",
       "    </tr>\n",
       "    <tr>\n",
       "      <th>4</th>\n",
       "      <td>5</td>\n",
       "      <td>0</td>\n",
       "      <td>Mozambique</td>\n",
       "      <td>0</td>\n",
       "      <td>32.34910</td>\n",
       "      <td>-25.86930</td>\n",
       "      <td>20082.21</td>\n",
       "      <td>2/9/85</td>\n",
       "      <td>2/11/85</td>\n",
       "      <td>News</td>\n",
       "      <td>19</td>\n",
       "      <td>0</td>\n",
       "      <td>Heavy rain</td>\n",
       "      <td>2.0</td>\n",
       "    </tr>\n",
       "  </tbody>\n",
       "</table>\n",
       "</div>"
      ],
      "text/plain": [
       "   ID GlideNumber      Country OtherCountry       long       lat       Area  \\\n",
       "0   1           0      Algeria            0    5.23026  35.81420   92615.67   \n",
       "1   2           0       Brazil            0  -45.34890 -18.71110  678498.82   \n",
       "2   3           0  Phillipines            0  122.97400  10.02070   12846.03   \n",
       "3   4           0    Indonesia            0  124.60600   1.01489   16542.12   \n",
       "4   5           0   Mozambique            0   32.34910 -25.86930   20082.21   \n",
       "\n",
       "     Began    Ended Validation  Dead  Displaced        MainCause  Severity  \n",
       "0   1/1/85   1/5/85       News    26       3000       Heavy rain       1.0  \n",
       "1  1/15/85   2/2/85       News   229      80000       Heavy rain       2.0  \n",
       "2  1/20/85  1/21/85       News    43        444  Torrential rain       1.0  \n",
       "3   2/4/85  2/18/85       News    21        300  Torrential rain       1.0  \n",
       "4   2/9/85  2/11/85       News    19          0       Heavy rain       2.0  "
      ]
     },
     "execution_count": 4,
     "metadata": {},
     "output_type": "execute_result"
    }
   ],
   "source": [
    "events = pd.read_csv(\"FloodArchive.csv\")\n",
    "events.head()"
   ]
  },
  {
   "cell_type": "raw",
   "id": "8a6ee3b7",
   "metadata": {},
   "source": [
    "# BEGIN QUESTION\n",
    "name: q1\n",
    "points: 10"
   ]
  },
  {
   "cell_type": "markdown",
   "id": "ea5c4b8c",
   "metadata": {},
   "source": [
    "## Problem 1\n",
    "\n",
    "What was the cause for the flood events that had the highest number of fatalities? Save the result as a string into variable `fatal_cause`.\n",
    "\n",
    "*Hint: Make sure you correctly account for duplicate names in flood causes!*"
   ]
  },
  {
   "cell_type": "raw",
   "id": "80a29534",
   "metadata": {},
   "source": [
    "# BEGIN SOLUTION"
   ]
  },
  {
   "cell_type": "code",
   "execution_count": 5,
   "id": "3da4640a",
   "metadata": {},
   "outputs": [],
   "source": [
    "# BEGIN SOLUTION\n",
    "events[\"MainCause\"] = events[\"MainCause\"].str.lower()\n",
    "fatal_cause = events[\"Dead\"].groupby(events[\"MainCause\"]).sum().idxmax()\n",
    "# END SOLUTION"
   ]
  },
  {
   "cell_type": "raw",
   "id": "78acf75b",
   "metadata": {},
   "source": [
    "# END SOLUTION"
   ]
  },
  {
   "cell_type": "raw",
   "id": "9f7c186d",
   "metadata": {},
   "source": [
    "# BEGIN TESTS"
   ]
  },
  {
   "cell_type": "code",
   "execution_count": 6,
   "id": "d8a18462",
   "metadata": {},
   "outputs": [],
   "source": [
    "assert fatal_cause == 'tropical cyclone'"
   ]
  },
  {
   "cell_type": "raw",
   "id": "7e5b9eb8",
   "metadata": {},
   "source": [
    "# END TESTS"
   ]
  },
  {
   "cell_type": "raw",
   "id": "7faa333e",
   "metadata": {},
   "source": [
    "# END QUESTION"
   ]
  },
  {
   "cell_type": "raw",
   "id": "502b386f",
   "metadata": {},
   "source": [
    "# BEGIN QUESTION\n",
    "name: q2\n",
    "points: 10"
   ]
  },
  {
   "cell_type": "markdown",
   "id": "a348a8ba",
   "metadata": {},
   "source": [
    "## Problem 2\n",
    "\n",
    "Create a `Series` that has the geographic information as the index and the area affected by the flood as the values, and save it with `gflood` as the variable name."
   ]
  },
  {
   "cell_type": "raw",
   "id": "ef7bfafe",
   "metadata": {},
   "source": [
    "# BEGIN SOLUTION"
   ]
  },
  {
   "cell_type": "code",
   "execution_count": 7,
   "id": "2127f62e",
   "metadata": {},
   "outputs": [],
   "source": [
    "# BEGIN SOLUTION\n",
    "gflood = events.set_index(['lat', 'long'])['Area']\n",
    "# END SOLUTION"
   ]
  },
  {
   "cell_type": "raw",
   "id": "8c2f4a25",
   "metadata": {},
   "source": [
    "# END SOLUTION"
   ]
  },
  {
   "cell_type": "raw",
   "id": "73fb73f2",
   "metadata": {},
   "source": [
    "# BEGIN TESTS"
   ]
  },
  {
   "cell_type": "code",
   "execution_count": 11,
   "id": "69253d93",
   "metadata": {},
   "outputs": [],
   "source": [
    "assert len(gflood) == 5130"
   ]
  },
  {
   "cell_type": "code",
   "execution_count": 12,
   "id": "35cbe3bb",
   "metadata": {},
   "outputs": [],
   "source": [
    "assert gflood.name == 'Area'"
   ]
  },
  {
   "cell_type": "raw",
   "id": "5ad064c1",
   "metadata": {},
   "source": [
    "# END TESTS"
   ]
  },
  {
   "cell_type": "raw",
   "id": "fe9f1020",
   "metadata": {},
   "source": [
    "# END QUESTION"
   ]
  },
  {
   "cell_type": "raw",
   "id": "2fe4e9ca",
   "metadata": {},
   "source": [
    "# BEGIN QUESTION\n",
    "name: q3\n",
    "points: 10"
   ]
  },
  {
   "cell_type": "markdown",
   "id": "71f5ad9e",
   "metadata": {},
   "source": [
    "## Problem 3\n",
    "\n",
    "How many flood events lasted longer than one week? Save the result into a variable named `events_7days`."
   ]
  },
  {
   "cell_type": "raw",
   "id": "a2c0b23e",
   "metadata": {},
   "source": [
    "# BEGIN SOLUTION"
   ]
  },
  {
   "cell_type": "code",
   "execution_count": 13,
   "id": "feafb5f3",
   "metadata": {},
   "outputs": [],
   "source": [
    "# BEGIN SOLUTION\n",
    "dt = pd.to_datetime(events['Ended'], errors='coerce') - pd.to_datetime(events['Began'], errors='coerce')\n",
    "event_7days = (dt.dt.days > 7).sum()\n",
    "# END SOLUTION"
   ]
  },
  {
   "cell_type": "raw",
   "id": "ffb47051",
   "metadata": {},
   "source": [
    "# END SOLUTION"
   ]
  },
  {
   "cell_type": "raw",
   "id": "9a091d5a",
   "metadata": {},
   "source": [
    "# BEGIN TESTS"
   ]
  },
  {
   "cell_type": "code",
   "execution_count": 16,
   "id": "e44f4ae1",
   "metadata": {},
   "outputs": [],
   "source": [
    "assert_equal(event_7days, 1837)"
   ]
  },
  {
   "cell_type": "raw",
   "id": "9aa4830e",
   "metadata": {},
   "source": [
    "# END TESTS"
   ]
  },
  {
   "cell_type": "raw",
   "id": "20f2c8ef",
   "metadata": {},
   "source": [
    "# END QUESTION"
   ]
  },
  {
   "cell_type": "raw",
   "id": "ad1c7a98",
   "metadata": {},
   "source": [
    "# BEGIN QUESTION\n",
    "name: q4\n",
    "points: 10"
   ]
  },
  {
   "cell_type": "markdown",
   "id": "e8462791",
   "metadata": {},
   "source": [
    "## Problem 4\n",
    "\n",
    "Using the `resample` functionality of `pandas`, can you create a `Series` (named `monthly`) with the number of flood events per month?"
   ]
  },
  {
   "cell_type": "raw",
   "id": "f36e9140",
   "metadata": {},
   "source": [
    "# BEGIN SOLUTION"
   ]
  },
  {
   "cell_type": "code",
   "execution_count": 18,
   "id": "101effe8",
   "metadata": {},
   "outputs": [],
   "source": [
    "# BEGIN SOLUTION\n",
    "monthly = events.set_index(pd.to_datetime(events['Began']))['ID'].resample('MS').count()\n",
    "# END SOLUTION"
   ]
  },
  {
   "cell_type": "raw",
   "id": "410b8d13",
   "metadata": {},
   "source": [
    "# END SOLUTION"
   ]
  },
  {
   "cell_type": "raw",
   "id": "7c86734e",
   "metadata": {},
   "source": [
    "# BEGIN TESTS"
   ]
  },
  {
   "cell_type": "code",
   "execution_count": 19,
   "id": "92656503",
   "metadata": {},
   "outputs": [],
   "source": [
    "assert_equal(monthly['1990-1'].values, 8)"
   ]
  },
  {
   "cell_type": "raw",
   "id": "ac322e64",
   "metadata": {},
   "source": [
    "# END TESTS"
   ]
  },
  {
   "cell_type": "raw",
   "id": "20849400",
   "metadata": {},
   "source": [
    "# END QUESTION"
   ]
  },
  {
   "cell_type": "raw",
   "id": "14934dce",
   "metadata": {},
   "source": [
    "# BEGIN QUESTION\n",
    "name: q5\n",
    "points: 10"
   ]
  },
  {
   "cell_type": "markdown",
   "id": "9066a523",
   "metadata": {},
   "source": [
    "## Problem 5\n",
    "\n",
    "Download the GDP data from the [World Bank site](https://data.worldbank.org/indicator/NY.GDP.MKTP.CD). Can you create a `DataFrame` (named `df`) that has the country as the index, and the GDP and total number of people displaced by floods as the two columns? The two columns should be named `GDP` and `DISPLACED`."
   ]
  },
  {
   "cell_type": "raw",
   "id": "3c4c536e",
   "metadata": {},
   "source": [
    "# BEGIN SOLUTION"
   ]
  },
  {
   "cell_type": "code",
   "execution_count": 20,
   "id": "4b88eaa5",
   "metadata": {},
   "outputs": [],
   "source": [
    "# BEGIN SOLUTION\n",
    "gdp = pd.read_csv(\"API_NY.GDP.MKTP.CD_DS2_en_csv_v2_3840536.csv\", skiprows=3, index_col=0)['2015']\n",
    "events_by_country = events.groupby('Country').sum()['Displaced']\n",
    "df = pd.merge(gdp, events_by_country, left_index=True, right_index=True).rename(columns={'2015': 'GDP'})\n",
    "# END SOLUTION"
   ]
  },
  {
   "cell_type": "raw",
   "id": "63a5aac0",
   "metadata": {},
   "source": [
    "# END SOLUTION"
   ]
  },
  {
   "cell_type": "raw",
   "id": "0ecef3bd",
   "metadata": {},
   "source": [
    "# BEGIN TESTS"
   ]
  },
  {
   "cell_type": "code",
   "execution_count": 21,
   "id": "06be115d",
   "metadata": {},
   "outputs": [],
   "source": [
    "assert_equal(df.loc['Armenia', 'Displaced'], 400)"
   ]
  },
  {
   "cell_type": "raw",
   "id": "88e44f13",
   "metadata": {},
   "source": [
    "# END TESTS"
   ]
  },
  {
   "cell_type": "raw",
   "id": "1a4b40e0",
   "metadata": {},
   "source": [
    "# END QUESTION"
   ]
  }
 ],
 "metadata": {
  "kernelspec": {
   "display_name": "Python 3 (ipykernel)",
   "language": "python",
   "name": "python3"
  },
  "language_info": {
   "codemirror_mode": {
    "name": "ipython",
    "version": 3
   },
   "file_extension": ".py",
   "mimetype": "text/x-python",
   "name": "python",
   "nbconvert_exporter": "python",
   "pygments_lexer": "ipython3",
   "version": "3.10.4"
  }
 },
 "nbformat": 4,
 "nbformat_minor": 5
}
