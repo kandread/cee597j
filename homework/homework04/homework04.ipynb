{
 "cells": [
  {
   "cell_type": "raw",
   "id": "21c6358b",
   "metadata": {},
   "source": [
    "# ASSIGNMENT CONFIG\n",
    "requirements: requirements.txt\n",
    "solutions_pdf: true\n",
    "show_questions_points: true\n",
    "export_cell:\n",
    "    instructions: \"As the function signature is part of the solution, the tests are hidden from your notebook. However, you will receive feedback on the automated tests when you make your initial submission on Gradescope.\"\n",
    "generate:\n",
    "    pdf: true\n",
    "    filtering: true\n",
    "    pagebreaks: true\n",
    "    zips: false\n",
    "files:\n",
    "    - koala.jpg"
   ]
  },
  {
   "cell_type": "code",
   "execution_count": null,
   "id": "530c7162",
   "metadata": {},
   "outputs": [],
   "source": [
    "from nose.tools import assert_equal, assert_almost_equal\n",
    "import numpy as np"
   ]
  },
  {
   "cell_type": "raw",
   "id": "8a6ee3b7",
   "metadata": {},
   "source": [
    "# BEGIN QUESTION\n",
    "name: q1\n",
    "points: 15"
   ]
  },
  {
   "cell_type": "markdown",
   "id": "52591694",
   "metadata": {},
   "source": [
    "## Problem 1\n",
    "\n",
    "Write a function `moving_average` that calculates the moving average of an array with a user-provide window (i.e., number of values to average). If you have an array `x` of length `n` and a window of `w` the output array `y` should have size `n` with each value being the average of the current and the last `w-1` values.\n",
    "```python\n",
    "y[1] = (x[0] + x[1]) / 2\n",
    "y[2] = (x[1] + x[2]) / 2\n",
    "```"
   ]
  },
  {
   "cell_type": "raw",
   "id": "80a29534",
   "metadata": {},
   "source": [
    "# BEGIN SOLUTION"
   ]
  },
  {
   "cell_type": "code",
   "execution_count": null,
   "id": "3da4640a",
   "metadata": {},
   "outputs": [],
   "source": [
    "def moving_average(x, w):\n",
    "# BEGIN SOLUTION\n",
    "    out = np.zeros(len(x))\n",
    "    out[:w-1] = np.nan\n",
    "    for i in range(w-1, len(x)):\n",
    "        out[i] = np.mean(x[max(0, i-w+1):i+1])\n",
    "    return out\n",
    "# END SOLUTION"
   ]
  },
  {
   "cell_type": "raw",
   "id": "78acf75b",
   "metadata": {},
   "source": [
    "# END SOLUTION"
   ]
  },
  {
   "cell_type": "code",
   "execution_count": null,
   "id": "ff657af7",
   "metadata": {},
   "outputs": [],
   "source": [
    "x = np.arange(20, dtype=np.float64)"
   ]
  },
  {
   "cell_type": "code",
   "execution_count": null,
   "id": "0a4c9fd0",
   "metadata": {},
   "outputs": [],
   "source": [
    "# The following should evaluate to True\n",
    "np.all(moving_average(x, 2)[1:] == np.array([ 0.5,  1.5,  2.5,  3.5,  4.5,  5.5,  6.5,  7.5,  8.5,  9.5,\n",
    "       10.5, 11.5, 12.5, 13.5, 14.5, 15.5, 16.5, 17.5, 18.5]))"
   ]
  },
  {
   "cell_type": "raw",
   "id": "9f7c186d",
   "metadata": {},
   "source": [
    "# BEGIN TESTS"
   ]
  },
  {
   "cell_type": "code",
   "execution_count": null,
   "id": "d8a18462",
   "metadata": {},
   "outputs": [],
   "source": [
    "assert np.all(moving_average(x, 2)[1:] == np.array([ 0.5,  1.5,  2.5,  3.5,  4.5,  5.5,  6.5,  7.5,  8.5,  9.5,\n",
    "       10.5, 11.5, 12.5, 13.5, 14.5, 15.5, 16.5, 17.5, 18.5]))"
   ]
  },
  {
   "cell_type": "raw",
   "id": "7e5b9eb8",
   "metadata": {},
   "source": [
    "# END TESTS"
   ]
  },
  {
   "cell_type": "raw",
   "id": "7faa333e",
   "metadata": {},
   "source": [
    "# END QUESTION"
   ]
  },
  {
   "cell_type": "raw",
   "id": "502b386f",
   "metadata": {},
   "source": [
    "# BEGIN QUESTION\n",
    "name: q2\n",
    "points: 15"
   ]
  },
  {
   "cell_type": "markdown",
   "id": "a348a8ba",
   "metadata": {},
   "source": [
    "## Problem 2\n",
    "\n",
    "Now take the function you wrote in Problem 1, and modify its name to `gmoving_average` and its signature (i.e., arguments) so it can be decorated with `numba`. Compare the timings of the two functions"
   ]
  },
  {
   "cell_type": "raw",
   "id": "ef7bfafe",
   "metadata": {},
   "source": [
    "# BEGIN SOLUTION"
   ]
  },
  {
   "cell_type": "code",
   "execution_count": null,
   "id": "2127f62e",
   "metadata": {},
   "outputs": [],
   "source": [
    "# BEGIN SOLUTION\n",
    "from numba import guvectorize\n",
    "\n",
    "@guvectorize(['void(float64[:], intp, float64[:])'],\n",
    "             '(n),()->(n)')\n",
    "def gmoving_average(x, w, out):\n",
    "    out[:w-1] = np.nan\n",
    "    for i in range(w-1, len(x)):\n",
    "        out[i] = np.mean(x[max(0, i-w-1):i+1])\n",
    "# END SOLUTION"
   ]
  },
  {
   "cell_type": "raw",
   "id": "8c2f4a25",
   "metadata": {},
   "source": [
    "# END SOLUTION"
   ]
  },
  {
   "cell_type": "code",
   "execution_count": null,
   "id": "3f780aeb",
   "metadata": {},
   "outputs": [],
   "source": [
    "x = np.arange(20000, dtype=np.float64)"
   ]
  },
  {
   "cell_type": "raw",
   "id": "73fb73f2",
   "metadata": {},
   "source": [
    "# BEGIN TESTS"
   ]
  },
  {
   "cell_type": "code",
   "execution_count": null,
   "id": "69253d93",
   "metadata": {},
   "outputs": [],
   "source": [
    "out = np.zeros(20000, dtype=np.float64)\n",
    "_ = gmoving_average(x, 2, out)\n",
    "assert out[1] == 0.5"
   ]
  },
  {
   "cell_type": "raw",
   "id": "5ad064c1",
   "metadata": {},
   "source": [
    "# END TESTS"
   ]
  },
  {
   "cell_type": "code",
   "execution_count": null,
   "id": "92ca5414",
   "metadata": {},
   "outputs": [],
   "source": [
    "# Time your functions here"
   ]
  },
  {
   "cell_type": "raw",
   "id": "fe9f1020",
   "metadata": {},
   "source": [
    "# END QUESTION"
   ]
  },
  {
   "cell_type": "raw",
   "id": "2fe4e9ca",
   "metadata": {},
   "source": [
    "# BEGIN QUESTION\n",
    "name: q3\n",
    "points: 25"
   ]
  },
  {
   "cell_type": "markdown",
   "id": "71f5ad9e",
   "metadata": {},
   "source": [
    "## Problem 3\n",
    "\n",
    "Convolution is the process of modifying the value of an array by summing its neighbors and weighing them by a kernel. It finds many applications in image processing, e.g. for edge detection.\n",
    "Below you will find a schematic explaining the algorithm\n",
    "\n",
    "![convolution](conv.png)\n",
    "\n",
    "Write a function that takes a 2-D array (image) as an input argument and returns a convolved image with the following kernel\n",
    "\n",
    "```python\n",
    "[0 -1 0\n",
    " -1 4 -1\n",
    " 0 -1 0]\n",
    "```"
   ]
  },
  {
   "cell_type": "raw",
   "id": "a2c0b23e",
   "metadata": {},
   "source": [
    "# BEGIN SOLUTION"
   ]
  },
  {
   "cell_type": "code",
   "execution_count": null,
   "id": "feafb5f3",
   "metadata": {},
   "outputs": [],
   "source": [
    "def convolve(arr, kernel):\n",
    "# BEGIN SOLUTION\n",
    "    k = kernel.shape[0] // 2\n",
    "    m, n = arr.shape\n",
    "    out = np.zeros(arr.shape)\n",
    "    for i in range(arr.shape[0]):\n",
    "        for j in range(arr.shape[1]):\n",
    "            if i >= k and i < m-k and j >= k and j < n-k:\n",
    "                out[i, j] = np.sum(arr[i-k:i+k+1, j-k:j+k+1] * kernel)\n",
    "            else:\n",
    "                out[i, j] = 0.0\n",
    "    return out\n",
    "# END SOLUTION"
   ]
  },
  {
   "cell_type": "raw",
   "id": "ffb47051",
   "metadata": {},
   "source": [
    "# END SOLUTION"
   ]
  },
  {
   "cell_type": "code",
   "execution_count": null,
   "id": "7237a963",
   "metadata": {},
   "outputs": [],
   "source": [
    "from matplotlib import image\n",
    "import matplotlib.pyplot as plt\n",
    "img = image.imread(\"koala.jpg\") / 255\n",
    "img = np.dot(img[...,:3], [0.2989, 0.5870, 0.1140])"
   ]
  },
  {
   "cell_type": "code",
   "execution_count": null,
   "id": "ce01423d",
   "metadata": {},
   "outputs": [],
   "source": [
    "plt.imshow(img)"
   ]
  },
  {
   "cell_type": "code",
   "execution_count": null,
   "id": "d7c32228",
   "metadata": {},
   "outputs": [],
   "source": [
    "kernel = np.array([[0, 1, 0], [-1, 4, -1], [0, -1, 0]])\n",
    "cimg = convolve(img, kernel)"
   ]
  },
  {
   "cell_type": "code",
   "execution_count": null,
   "id": "730ddb29",
   "metadata": {},
   "outputs": [],
   "source": [
    "plt.imshow(cimg)"
   ]
  },
  {
   "cell_type": "markdown",
   "id": "714455fa",
   "metadata": {},
   "source": [
    "Confirm your answer by using the `Scipy` function `convolve`"
   ]
  },
  {
   "cell_type": "code",
   "execution_count": null,
   "id": "0f2dadfc",
   "metadata": {},
   "outputs": [],
   "source": [
    "from scipy.ndimage import convolve as sconvolve\n",
    "simg = sconvolve(img, kernel, mode='constant')"
   ]
  },
  {
   "cell_type": "code",
   "execution_count": null,
   "id": "40374542",
   "metadata": {},
   "outputs": [],
   "source": [
    "plt.imshow(simg)"
   ]
  },
  {
   "cell_type": "markdown",
   "id": "90b3273b",
   "metadata": {},
   "source": [
    "Confirm your answer by using the `Scipy` function"
   ]
  },
  {
   "cell_type": "raw",
   "id": "9a091d5a",
   "metadata": {},
   "source": [
    "# BEGIN TESTS"
   ]
  },
  {
   "cell_type": "code",
   "execution_count": null,
   "id": "e44f4ae1",
   "metadata": {},
   "outputs": [],
   "source": [
    "assert_almost_equal(cimg[2, 1], simg[2, 1])"
   ]
  },
  {
   "cell_type": "raw",
   "id": "9aa4830e",
   "metadata": {},
   "source": [
    "# END TESTS"
   ]
  },
  {
   "cell_type": "raw",
   "id": "20f2c8ef",
   "metadata": {},
   "source": [
    "# END QUESTION"
   ]
  }
 ],
 "metadata": {
  "kernelspec": {
   "display_name": "Python 3 (ipykernel)",
   "language": "python",
   "name": "python3"
  },
  "language_info": {
   "codemirror_mode": {
    "name": "ipython",
    "version": 3
   },
   "file_extension": ".py",
   "mimetype": "text/x-python",
   "name": "python",
   "nbconvert_exporter": "python",
   "pygments_lexer": "ipython3",
   "version": "3.10.4"
  }
 },
 "nbformat": 4,
 "nbformat_minor": 5
}
