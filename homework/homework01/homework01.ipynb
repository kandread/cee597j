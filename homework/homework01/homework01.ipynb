{
 "cells": [
  {
   "cell_type": "raw",
   "id": "4df44233",
   "metadata": {},
   "source": [
    "# ASSIGNMENT CONFIG\n",
    "requirements: requirements.txt\n",
    "solutions_pdf: true\n",
    "export_cell:\n",
    "    instructions: \"These are some submission instructions.\"\n",
    "generate:\n",
    "    pdf: true\n",
    "    filtering: true\n",
    "    pagebreaks: true\n",
    "    zips: false"
   ]
  },
  {
   "cell_type": "code",
   "execution_count": 27,
   "id": "be2cda7c",
   "metadata": {},
   "outputs": [
    {
     "ename": "ModuleNotFoundError",
     "evalue": "No module named 'otter'",
     "output_type": "error",
     "traceback": [
      "\u001b[0;31m---------------------------------------------------------------------------\u001b[0m",
      "\u001b[0;31mModuleNotFoundError\u001b[0m                       Traceback (most recent call last)",
      "Input \u001b[0;32mIn [27]\u001b[0m, in \u001b[0;36m<cell line: 2>\u001b[0;34m()\u001b[0m\n\u001b[1;32m      1\u001b[0m \u001b[38;5;28;01mfrom\u001b[39;00m \u001b[38;5;21;01mmath\u001b[39;00m \u001b[38;5;28;01mimport\u001b[39;00m exp, log\n\u001b[0;32m----> 2\u001b[0m \u001b[38;5;28;01mimport\u001b[39;00m \u001b[38;5;21;01motter\u001b[39;00m\n\u001b[1;32m      3\u001b[0m grader \u001b[38;5;241m=\u001b[39m otter\u001b[38;5;241m.\u001b[39mNotebook()\n",
      "\u001b[0;31mModuleNotFoundError\u001b[0m: No module named 'otter'"
     ]
    }
   ],
   "source": [
    "from math import exp, log\n",
    "import otter\n",
    "grader = otter.Notebook()"
   ]
  },
  {
   "cell_type": "raw",
   "id": "7af806c2",
   "metadata": {},
   "source": [
    "# BEGIN QUESTION\n",
    "name: q1\n",
    "points: 30"
   ]
  },
  {
   "cell_type": "markdown",
   "id": "38e60c35",
   "metadata": {},
   "source": [
    "## Problem 1\n",
    "\n",
    "Write a function named `convert_length` that given a length in meters calculates the corresponding length in inches, feet, yards or miles. The units are specified by the second argument to the function."
   ]
  },
  {
   "cell_type": "raw",
   "id": "acd64c89",
   "metadata": {},
   "source": [
    "# BEGIN SOLUTION"
   ]
  },
  {
   "cell_type": "code",
   "execution_count": 6,
   "id": "92c07cee",
   "metadata": {},
   "outputs": [],
   "source": [
    "def convert_length(length, units):\n",
    "    \"\"\"Convert length from meters to other units.\"\"\"\n",
    "    if units.startswith(\"i\"):\n",
    "        clength = length * 39.3700\n",
    "    elif units.startswith(\"f\"):\n",
    "        clength = length * 3.2808\n",
    "    elif units.startswith(\"y\"):\n",
    "        clength = length * 1.0936\n",
    "    elif units.startswith(\"m\"):\n",
    "        clength = length * 0.0006\n",
    "    else:\n",
    "        print(\"Units not valid!\")\n",
    "    return clength"
   ]
  },
  {
   "cell_type": "raw",
   "id": "25778cac",
   "metadata": {},
   "source": [
    "# END SOLUTION"
   ]
  },
  {
   "cell_type": "raw",
   "id": "8c9d6ae8",
   "metadata": {},
   "source": [
    "# BEGIN TESTS"
   ]
  },
  {
   "cell_type": "code",
   "execution_count": 4,
   "id": "49d5ca0c",
   "metadata": {},
   "outputs": [
    {
     "data": {
      "text/plain": [
       "True"
      ]
     },
     "execution_count": 4,
     "metadata": {},
     "output_type": "execute_result"
    }
   ],
   "source": [
    "convert_length(640, \"inches\") == 640 * 39.3700"
   ]
  },
  {
   "cell_type": "code",
   "execution_count": 7,
   "id": "27a3640c",
   "metadata": {},
   "outputs": [
    {
     "data": {
      "text/plain": [
       "True"
      ]
     },
     "execution_count": 7,
     "metadata": {},
     "output_type": "execute_result"
    }
   ],
   "source": [
    "convert_length(640, \"feet\") == 640 * 3.2808"
   ]
  },
  {
   "cell_type": "code",
   "execution_count": 8,
   "id": "7144785a",
   "metadata": {},
   "outputs": [
    {
     "data": {
      "text/plain": [
       "True"
      ]
     },
     "execution_count": 8,
     "metadata": {},
     "output_type": "execute_result"
    }
   ],
   "source": [
    "convert_length(640, \"yards\") == 640 * 1.0936"
   ]
  },
  {
   "cell_type": "code",
   "execution_count": 9,
   "id": "04e6a574",
   "metadata": {},
   "outputs": [
    {
     "data": {
      "text/plain": [
       "True"
      ]
     },
     "execution_count": 9,
     "metadata": {},
     "output_type": "execute_result"
    }
   ],
   "source": [
    "convert_length(640, \"miles\") == 640 * 0.0006"
   ]
  },
  {
   "cell_type": "raw",
   "id": "3232ce29",
   "metadata": {},
   "source": [
    "# END TESTS"
   ]
  },
  {
   "cell_type": "raw",
   "id": "eaa692d1",
   "metadata": {},
   "source": [
    "# END QUESTION"
   ]
  },
  {
   "cell_type": "markdown",
   "id": "29b06068",
   "metadata": {},
   "source": [
    "## Problem 2\n",
    "\n",
    "Write code that generates a formatted table (use a 3 decimal digits) with $t$ and $y(t)$ values from $y(t) = v_{0} t - \\frac{1}{2}g t^{2}$ where $v_{0}=1.0$ and $g=9.81$ is the gravity acceleration. Each $t$ value should correspond to 12 uniformly spaced intervals $[0, 2v_{0}/g]$. "
   ]
  },
  {
   "cell_type": "raw",
   "id": "6b313e2c",
   "metadata": {},
   "source": [
    "# BEGIN QUESTION\n",
    "name: q2a\n",
    "points: 18"
   ]
  },
  {
   "cell_type": "markdown",
   "id": "880ccf96",
   "metadata": {},
   "source": [
    "Use a `for` loop to produce the table."
   ]
  },
  {
   "cell_type": "raw",
   "id": "73073cfd",
   "metadata": {},
   "source": [
    "# BEGIN SOLUTION"
   ]
  },
  {
   "cell_type": "code",
   "execution_count": 11,
   "id": "7300aead",
   "metadata": {},
   "outputs": [
    {
     "name": "stdout",
     "output_type": "stream",
     "text": [
      "t     y(t) \n",
      "0.000 0.000\n",
      "0.019 0.017\n",
      "0.037 0.030\n",
      "0.056 0.040\n",
      "0.074 0.047\n",
      "0.093 0.051\n",
      "0.111 0.051\n",
      "0.130 0.047\n",
      "0.148 0.040\n",
      "0.167 0.030\n",
      "0.185 0.017\n",
      "0.204 0.000\n"
     ]
    }
   ],
   "source": [
    "v0 = 1\n",
    "g = 9.81\n",
    "n = 12\n",
    "dt = 2 * v0 / g / (n - 1)\n",
    "print(\"{0:5s} {1:5s}\".format(\"t\", \"y(t)\"))\n",
    "for i in range(n):\n",
    "    t = i * dt\n",
    "    y = v0 * t - 0.5 * g * t ** 2\n",
    "    print(\"{0:5.3f} {1:5.3f}\".format(t, y))"
   ]
  },
  {
   "cell_type": "raw",
   "id": "9037210c",
   "metadata": {},
   "source": [
    "# END SOLUTION"
   ]
  },
  {
   "cell_type": "raw",
   "id": "bd76e211",
   "metadata": {},
   "source": [
    "# END QUESTION"
   ]
  },
  {
   "cell_type": "raw",
   "id": "7ff7f046",
   "metadata": {},
   "source": [
    "# BEGIN QUESTION\n",
    "name: q2b\n",
    "points: 17"
   ]
  },
  {
   "cell_type": "markdown",
   "id": "ebc1f187",
   "metadata": {},
   "source": [
    "Use a `while` loop to produce the table. (*Hint: Adjust the upper limit to ensure you get the same answer*)."
   ]
  },
  {
   "cell_type": "raw",
   "id": "0434fd8e",
   "metadata": {},
   "source": [
    "# BEGIN SOLUTION"
   ]
  },
  {
   "cell_type": "code",
   "execution_count": 12,
   "id": "95ece28e",
   "metadata": {},
   "outputs": [
    {
     "name": "stdout",
     "output_type": "stream",
     "text": [
      "t     y(t) \n",
      "0.000 0.000\n",
      "0.019 0.017\n",
      "0.037 0.030\n",
      "0.056 0.040\n",
      "0.074 0.047\n",
      "0.093 0.051\n",
      "0.111 0.051\n",
      "0.130 0.047\n",
      "0.148 0.040\n",
      "0.167 0.030\n",
      "0.185 0.017\n",
      "0.204 -0.000\n"
     ]
    }
   ],
   "source": [
    "v0 = 1\n",
    "g = 9.81\n",
    "t = 0.0\n",
    "dt = 2 * v0 / g / (n - 1)\n",
    "print(\"{0:5s} {1:5s}\".format(\"t\", \"y(t)\"))\n",
    "while t <= (2 * v0 / g + dt):\n",
    "    y = v0 * t - 0.5 * g * t ** 2\n",
    "    print(\"{0:5.3f} {1:5.3f}\".format(t, y))\n",
    "    t += dt    "
   ]
  },
  {
   "cell_type": "raw",
   "id": "1d94b389",
   "metadata": {},
   "source": [
    "# END SOLUTION"
   ]
  },
  {
   "cell_type": "raw",
   "id": "ad0f8b52",
   "metadata": {},
   "source": [
    "# END QUESTION"
   ]
  },
  {
   "cell_type": "markdown",
   "id": "463aff35",
   "metadata": {},
   "source": [
    "## Problem 3\n",
    "\n",
    "The formula $$f'(x) \\approx \\frac{f(x+h) - f(x-h)}{2h}$$ can be used to find an approximate derivative of a mathematical function $f(x)$ if $h$ is small. "
   ]
  },
  {
   "cell_type": "raw",
   "id": "1a303759",
   "metadata": {},
   "source": [
    "# BEGIN QUESTION\n",
    "name: q3a\n",
    "points: 18"
   ]
  },
  {
   "cell_type": "markdown",
   "id": "81d6b291",
   "metadata": {},
   "source": [
    "Write a function `diff(f, x, h)` with a default value for `h=1e-5` that returns the approximate derivative of a function `f`."
   ]
  },
  {
   "cell_type": "raw",
   "id": "9229d823",
   "metadata": {},
   "source": [
    "# BEGIN SOLUTION"
   ]
  },
  {
   "cell_type": "code",
   "execution_count": 13,
   "id": "14fddd1c",
   "metadata": {},
   "outputs": [],
   "source": [
    "def diff(f, x, h=1e-5):\n",
    "    \"\"\"Approximate the derivative of a function.\"\"\"\n",
    "    fp = (f(x+h) - f(x-h)) / (2 * h)\n",
    "    return fp"
   ]
  },
  {
   "cell_type": "raw",
   "id": "4850369f",
   "metadata": {},
   "source": [
    "# END SOLUTION"
   ]
  },
  {
   "cell_type": "raw",
   "id": "83d5d957",
   "metadata": {},
   "source": [
    "# BEGIN TESTS"
   ]
  },
  {
   "cell_type": "code",
   "execution_count": 19,
   "id": "0f275ba8",
   "metadata": {},
   "outputs": [
    {
     "data": {
      "text/plain": [
       "True"
      ]
     },
     "execution_count": 19,
     "metadata": {},
     "output_type": "execute_result"
    }
   ],
   "source": [
    "f = lambda x: 2.3 * x**2 + 1.2 * x - 3.0\n",
    "diff(f, 1.0) == 5.800000000011351"
   ]
  },
  {
   "cell_type": "raw",
   "id": "f73dd5a2",
   "metadata": {},
   "source": [
    "# END TESTS"
   ]
  },
  {
   "cell_type": "raw",
   "id": "9c22d203",
   "metadata": {},
   "source": [
    "# END QUESTION"
   ]
  },
  {
   "cell_type": "raw",
   "id": "7edc8bd8",
   "metadata": {},
   "source": [
    "# BEGIN QUESTION\n",
    "name: q3b\n",
    "points: 17"
   ]
  },
  {
   "cell_type": "markdown",
   "id": "a7b29848",
   "metadata": {},
   "source": [
    " Apply the above formula to differentiate\n",
    "- $f(x) = e^{x}$ at $x=0$\n",
    "- $f(x) = ln x$ at $x=1$\n",
    "\n",
    "Save each of the errors in variables named `error_exp` and `error_ln`, using $h=0.01$. The error for each case is the difference between the exact derivative and the result of the approximate formula."
   ]
  },
  {
   "cell_type": "raw",
   "id": "f7538b8c",
   "metadata": {},
   "source": [
    "# BEGIN SOLUTION"
   ]
  },
  {
   "cell_type": "code",
   "execution_count": 22,
   "id": "9d84a9f8",
   "metadata": {},
   "outputs": [],
   "source": [
    "f = lambda x: exp(x)\n",
    "error_exp = exp(0.0) - diff(f, 0.0, 0.01)\n",
    "\n",
    "f = lambda x: log(x)\n",
    "error_ln = (1.0 / 1.0) - diff(f, 1.0, 0.01)"
   ]
  },
  {
   "cell_type": "raw",
   "id": "bc2d1402",
   "metadata": {},
   "source": [
    "# END SOLUTION"
   ]
  },
  {
   "cell_type": "raw",
   "id": "d4e65ef9",
   "metadata": {},
   "source": [
    "# BEGIN TESTS"
   ]
  },
  {
   "cell_type": "code",
   "execution_count": 25,
   "id": "8e25d839",
   "metadata": {},
   "outputs": [
    {
     "data": {
      "text/plain": [
       "True"
      ]
     },
     "execution_count": 25,
     "metadata": {},
     "output_type": "execute_result"
    }
   ],
   "source": [
    "abs(error_exp) < 1e-4"
   ]
  },
  {
   "cell_type": "code",
   "execution_count": 26,
   "id": "1e1146f8",
   "metadata": {},
   "outputs": [
    {
     "data": {
      "text/plain": [
       "True"
      ]
     },
     "execution_count": 26,
     "metadata": {},
     "output_type": "execute_result"
    }
   ],
   "source": [
    "abs(error_ln) < 1e-4"
   ]
  },
  {
   "cell_type": "raw",
   "id": "09f3c963",
   "metadata": {},
   "source": [
    "# END TESTS"
   ]
  },
  {
   "cell_type": "raw",
   "id": "69dffa5b",
   "metadata": {},
   "source": [
    "# END QUESTION"
   ]
  }
 ],
 "metadata": {
  "kernelspec": {
   "display_name": "Python 3 (ipykernel)",
   "language": "python",
   "name": "python3"
  },
  "language_info": {
   "codemirror_mode": {
    "name": "ipython",
    "version": 3
   },
   "file_extension": ".py",
   "mimetype": "text/x-python",
   "name": "python",
   "nbconvert_exporter": "python",
   "pygments_lexer": "ipython3",
   "version": "3.10.9"
  }
 },
 "nbformat": 4,
 "nbformat_minor": 5
}
