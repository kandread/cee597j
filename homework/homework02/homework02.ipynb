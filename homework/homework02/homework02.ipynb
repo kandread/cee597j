{
 "cells": [
  {
   "cell_type": "raw",
   "id": "bf6b9aea",
   "metadata": {},
   "source": [
    "# ASSIGNMENT CONFIG\n",
    "requirements: requirements.txt\n",
    "solutions_pdf: true\n",
    "export_cell:\n",
    "    instructions: \"These are some submission instructions.\"\n",
    "generate: \n",
    "    pdf: true\n",
    "    filtering: true\n",
    "    pagebreaks: true\n",
    "    zips: false"
   ]
  },
  {
   "cell_type": "markdown",
   "id": "38e60c35",
   "metadata": {},
   "source": [
    "## Problem 1"
   ]
  },
  {
   "cell_type": "raw",
   "id": "ef7bdcee",
   "metadata": {},
   "source": [
    "# BEGIN QUESTION\n",
    "name: q1a\n",
    "points: 20"
   ]
  },
  {
   "cell_type": "markdown",
   "id": "da3857f4",
   "metadata": {},
   "source": [
    "Write a function `findMInOrMaxOfDict` that extracts the minimum or maximum value of a dictionary. The maximum and minimum should be based on the dictionary's values by default, but provide an option to instead find the maximum and minimum of the dictionary's keys instead (in the same function). The function should return the maximum or minimum based on a user-provided option. Example inputs and outputs are given below."
   ]
  },
  {
   "cell_type": "code",
   "execution_count": null,
   "id": "24dd01be",
   "metadata": {},
   "outputs": [],
   "source": [
    "# Input\n",
    "{1: 5, 6: 3, 10: 100, 4: 5}\n",
    "# Minimum value\n",
    "3\n",
    "# Maximum value\n",
    "100\n",
    "# Minimum key\n",
    "1\n",
    "# Maximum key\n",
    "10"
   ]
  },
  {
   "cell_type": "raw",
   "id": "a9bc227d",
   "metadata": {},
   "source": [
    "# BEGIN SOLUTION"
   ]
  },
  {
   "cell_type": "code",
   "execution_count": 4,
   "id": "a61f3458",
   "metadata": {},
   "outputs": [],
   "source": [
    "# BEGIN SOLUTION\n",
    "def findMinOrMaxOfDict(d, compfun, var='value'):\n",
    "    \"\"\"Find the maximum or minimum of a dictionary's values (or optionally keys).\"\"\"\n",
    "    if compfun is min or compfun is max:\n",
    "        if var == 'key':\n",
    "            return compfun(d.keys())\n",
    "        else:\n",
    "            return compfun(d.values())\n",
    "# END SOLUTION"
   ]
  },
  {
   "cell_type": "raw",
   "id": "bc2f889b",
   "metadata": {},
   "source": [
    "# END SOLUTION"
   ]
  },
  {
   "cell_type": "code",
   "execution_count": 1,
   "id": "e167846b",
   "metadata": {},
   "outputs": [],
   "source": [
    "# Test your code from above with the example dictionary\n",
    "data = {1: 5, 6: 3, 10: 100, 4: 5}"
   ]
  },
  {
   "cell_type": "raw",
   "id": "8c9d6ae8",
   "metadata": {},
   "source": [
    "# BEGIN TESTS"
   ]
  },
  {
   "cell_type": "code",
   "execution_count": 6,
   "id": "04e6a574",
   "metadata": {},
   "outputs": [],
   "source": [
    "assert findMinOrMaxOfDict(data, max, 'value') == 100"
   ]
  },
  {
   "cell_type": "raw",
   "id": "3232ce29",
   "metadata": {},
   "source": [
    "# END TESTS"
   ]
  },
  {
   "cell_type": "raw",
   "id": "eaa692d1",
   "metadata": {},
   "source": [
    "# END QUESTION"
   ]
  },
  {
   "cell_type": "raw",
   "id": "f7d0fd39",
   "metadata": {},
   "source": [
    "# BEGIN QUESTION\n",
    "name: q1b\n",
    "points: 20"
   ]
  },
  {
   "cell_type": "markdown",
   "id": "71087f5e",
   "metadata": {},
   "source": [
    "Now modify your function to exit gracefully, i.e. not throw an error, if the input dictionary contains strings. For example, the dictionary {1: 3, 'a': 4, 2: 'bcd'} should return nothing.\n",
    "*Hint: use the* `pass` *operator*."
   ]
  },
  {
   "cell_type": "raw",
   "id": "49d6f876",
   "metadata": {},
   "source": [
    "# BEGIN SOLUTION"
   ]
  },
  {
   "cell_type": "code",
   "execution_count": 8,
   "id": "58b36aa6",
   "metadata": {},
   "outputs": [],
   "source": [
    "# BEGIN SOLUTION\n",
    "def findMinOrMaxOfDict(d, compfun, var='value'):\n",
    "    \"\"\"Find the maximum or minimum of a dictionary's values (or optionally keys).\"\"\"\n",
    "    found_str = False\n",
    "    check_vals = d.values() if var == 'value' else d.keys()\n",
    "    for v in check_vals:\n",
    "        if isinstance(v, str):\n",
    "            found_str = True\n",
    "    if not found_str and (compfun is min or compfun is max):\n",
    "        if var == 'key':\n",
    "            return compfun(d)\n",
    "        else:\n",
    "            return compfun(d.values())\n",
    "    else:\n",
    "        pass\n",
    "# END SOLUTION"
   ]
  },
  {
   "cell_type": "raw",
   "id": "056202ff",
   "metadata": {},
   "source": [
    "# END SOLUTION"
   ]
  },
  {
   "cell_type": "raw",
   "id": "d9260bea",
   "metadata": {},
   "source": [
    "# BEGIN TESTS"
   ]
  },
  {
   "cell_type": "code",
   "execution_count": 3,
   "id": "345188e6",
   "metadata": {},
   "outputs": [
    {
     "data": {
      "text/plain": [
       "True"
      ]
     },
     "execution_count": 3,
     "metadata": {},
     "output_type": "execute_result"
    }
   ],
   "source": [
    "findMinOrMaxOfDict({1: 3, 'a': 4, 2: 'bcd'}, min) is None"
   ]
  },
  {
   "cell_type": "raw",
   "id": "bf9fbda2",
   "metadata": {},
   "source": [
    "# END TESTS"
   ]
  },
  {
   "cell_type": "raw",
   "id": "e6d699de",
   "metadata": {},
   "source": [
    "# END QUESTION"
   ]
  },
  {
   "cell_type": "markdown",
   "id": "29b06068",
   "metadata": {},
   "source": [
    "## Problem 2"
   ]
  },
  {
   "cell_type": "raw",
   "id": "6b313e2c",
   "metadata": {},
   "source": [
    "# BEGIN QUESTION\n",
    "name: q2a\n",
    "points: 20"
   ]
  },
  {
   "cell_type": "markdown",
   "id": "880ccf96",
   "metadata": {},
   "source": [
    "Assume you have a list of tuples representing latitude and longitude pairs. Write a function named `extractLatOrLon` that creates a list of only the latitudes or the longitudes. Example outputs are shown below."
   ]
  },
  {
   "cell_type": "raw",
   "id": "33d2f661",
   "metadata": {},
   "source": [
    "# BEGIN SOLUTION"
   ]
  },
  {
   "cell_type": "code",
   "execution_count": 1,
   "id": "f58be22e",
   "metadata": {},
   "outputs": [],
   "source": [
    "# BEGIN SOLUTION\n",
    "def extractLatOrLon(latlon, lat_or_lon):\n",
    "    \"\"\"Extract latitude or longitude from list of tuples.\"\"\"\n",
    "    if lat_or_lon.lower().startswith(\"lat\"):\n",
    "        pos = 0\n",
    "    elif lat_or_lon.lower().startswith(\"lon\"):\n",
    "        pos = 1\n",
    "    else:\n",
    "        pos = None\n",
    "    if pos is None:\n",
    "        print(\"Invalid option provided.\")\n",
    "    else:\n",
    "        out = [l[pos] for l in latlon]\n",
    "        return out\n",
    "# END SOLUTION"
   ]
  },
  {
   "cell_type": "raw",
   "id": "dfe8dbdf",
   "metadata": {},
   "source": [
    "# END SOLUTION"
   ]
  },
  {
   "cell_type": "code",
   "execution_count": 2,
   "id": "98a50508",
   "metadata": {},
   "outputs": [
    {
     "data": {
      "text/plain": [
       "[23.4, 32.8, 31.1, 28.6, 33.2]"
      ]
     },
     "execution_count": 2,
     "metadata": {},
     "output_type": "execute_result"
    }
   ],
   "source": [
    "geo = [(23.4, -101.3), (32.8, -99.2), (31.1, -110.1), (28.6, -88.2), (33.2, -91.1)]\n",
    "# Answer if latitudes are selected\n",
    "[23.4, 32.8, 31.1, 28.6, 33.2]"
   ]
  },
  {
   "cell_type": "raw",
   "id": "455ede3d",
   "metadata": {},
   "source": [
    "# BEGIN TESTS"
   ]
  },
  {
   "cell_type": "code",
   "execution_count": 3,
   "id": "1221027d",
   "metadata": {},
   "outputs": [],
   "source": [
    "assert extractLatOrLon(geo, 'lon') == [-101.3, -99.2, -110.1, -88.2, -91.1]"
   ]
  },
  {
   "cell_type": "raw",
   "id": "831e4c52",
   "metadata": {},
   "source": [
    "# END TESTS"
   ]
  },
  {
   "cell_type": "raw",
   "id": "bd76e211",
   "metadata": {},
   "source": [
    "# END QUESTION"
   ]
  },
  {
   "cell_type": "raw",
   "id": "7ff7f046",
   "metadata": {},
   "source": [
    "# BEGIN QUESTION\n",
    "name: q2b\n",
    "points: 20"
   ]
  },
  {
   "cell_type": "markdown",
   "id": "ebc1f187",
   "metadata": {},
   "source": [
    "Now write a function (name it `findClosest`) that finds the closest location (use the minimum Euclidian distance and ignore curvature effects) from the list of latitude/longitude pairs to another specific location (26.3, -110.4).\n",
    "\n",
    "$$d = \\sqrt{(\\phi_1 - \\phi_2)^2 + (\\lambda_1 - \\lambda_2)^2}$$"
   ]
  },
  {
   "cell_type": "raw",
   "id": "0deaf01c",
   "metadata": {},
   "source": [
    "# BEGIN SOLUTION"
   ]
  },
  {
   "cell_type": "code",
   "execution_count": 7,
   "id": "e7044022",
   "metadata": {},
   "outputs": [],
   "source": [
    "from math import sqrt\n",
    "\n",
    "# BEGIN SOLUTION\n",
    "def findClosest(geo, loc):\n",
    "    \"\"\"Find closest point from list *geo* to given location *loc*.\"\"\"\n",
    "    d = 9999\n",
    "    closest = (0, 0)\n",
    "    for p in geo:\n",
    "        cdist = sqrt((p[0] - loc[0])**2 + (p[1] - loc[1])**2)\n",
    "        if cdist < d:\n",
    "            d = cdist\n",
    "            closest = p\n",
    "    return closest\n",
    "# END SOLUTION"
   ]
  },
  {
   "cell_type": "raw",
   "id": "b0d09808",
   "metadata": {},
   "source": [
    "# END SOLUTION"
   ]
  },
  {
   "cell_type": "raw",
   "id": "353c9084",
   "metadata": {},
   "source": [
    "# BEGIN TESTS"
   ]
  },
  {
   "cell_type": "code",
   "execution_count": 9,
   "id": "bc84f1dd",
   "metadata": {},
   "outputs": [
    {
     "data": {
      "text/plain": [
       "True"
      ]
     },
     "execution_count": 9,
     "metadata": {},
     "output_type": "execute_result"
    }
   ],
   "source": [
    "findClosest(geo, (26.3, -110.4)) == (31.1, -110.1)"
   ]
  },
  {
   "cell_type": "raw",
   "id": "7e7d53af",
   "metadata": {},
   "source": [
    "# END TESTS"
   ]
  },
  {
   "cell_type": "raw",
   "id": "ad0f8b52",
   "metadata": {},
   "source": [
    "# END QUESTION"
   ]
  },
  {
   "cell_type": "markdown",
   "id": "463aff35",
   "metadata": {},
   "source": [
    "## Problem 3\n",
    "\n",
    "Provide a summary paragraph (and optionally a title) for your class project."
   ]
  },
  {
   "cell_type": "raw",
   "id": "1a303759",
   "metadata": {},
   "source": [
    "# BEGIN QUESTION\n",
    "name: q3\n",
    "points: 20"
   ]
  },
  {
   "cell_type": "markdown",
   "id": "7583d408",
   "metadata": {},
   "source": [
    "Use this [Markdown cheatsheet](https://www.ibm.com/docs/en/db2-event-store/2.0.0?topic=notebooks-markdown-jupyter-cheatsheet) for help with formatting text in a Jupyter notebook."
   ]
  },
  {
   "cell_type": "raw",
   "id": "69dffa5b",
   "metadata": {},
   "source": [
    "# END QUESTION"
   ]
  }
 ],
 "metadata": {
  "kernelspec": {
   "display_name": "Python 3 (ipykernel)",
   "language": "python",
   "name": "python3"
  },
  "language_info": {
   "codemirror_mode": {
    "name": "ipython",
    "version": 3
   },
   "file_extension": ".py",
   "mimetype": "text/x-python",
   "name": "python",
   "nbconvert_exporter": "python",
   "pygments_lexer": "ipython3",
   "version": "3.10.9"
  }
 },
 "nbformat": 4,
 "nbformat_minor": 5
}
